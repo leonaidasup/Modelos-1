{
  "nbformat": 4,
  "nbformat_minor": 0,
  "metadata": {
    "colab": {
      "provenance": []
    },
    "kernelspec": {
      "name": "python3",
      "display_name": "Python 3"
    },
    "language_info": {
      "name": "python"
    }
  },
  "cells": [
    {
      "cell_type": "markdown",
      "source": [
        "#Importe de librerías"
      ],
      "metadata": {
        "id": "Of849Eb827tO"
      }
    },
    {
      "cell_type": "code",
      "source": [
        "!pip install unidecode"
      ],
      "metadata": {
        "colab": {
          "base_uri": "https://localhost:8080/"
        },
        "id": "DeGEGqE-2-w6",
        "outputId": "594f64cb-24ec-4850-90bf-f211c912986a"
      },
      "execution_count": null,
      "outputs": [
        {
          "output_type": "stream",
          "name": "stdout",
          "text": [
            "Requirement already satisfied: unidecode in /usr/local/lib/python3.10/dist-packages (1.3.8)\n"
          ]
        }
      ]
    },
    {
      "cell_type": "code",
      "source": [
        "import pandas as pd\n",
        "import numpy as np\n",
        "import matplotlib.pyplot as plt\n",
        "import seaborn as sns\n",
        "import missingno as msno\n",
        "from sklearn.preprocessing import MinMaxScaler\n",
        "from sklearn import preprocessing\n",
        "from sklearn.preprocessing import OneHotEncoder\n",
        "from sklearn.preprocessing import LabelEncoder\n",
        "from sklearn.preprocessing import OrdinalEncoder\n",
        "from unidecode import unidecode\n",
        "import re"
      ],
      "metadata": {
        "id": "Ify7Z05u28Hc"
      },
      "execution_count": null,
      "outputs": []
    },
    {
      "cell_type": "markdown",
      "source": [
        "#Pre-Procesamiento para train.csv"
      ],
      "metadata": {
        "id": "NnTjQcVc0bb9"
      }
    },
    {
      "cell_type": "code",
      "execution_count": null,
      "metadata": {
        "id": "rb87GRY0j7bu",
        "colab": {
          "base_uri": "https://localhost:8080/",
          "height": 313
        },
        "outputId": "9ad1916e-1a40-451f-abfb-59bc70d43452"
      },
      "outputs": [
        {
          "output_type": "execute_result",
          "data": {
            "text/plain": [
              "       ID  PERIODO         ESTU_PRGM_ACADEMICO ESTU_PRGM_DEPARTAMENTO  \\\n",
              "0  904256    20212                  ENFERMERIA                 BOGOTÁ   \n",
              "1  645256    20212                     DERECHO              ATLANTICO   \n",
              "2  308367    20203       MERCADEO Y PUBLICIDAD                 BOGOTÁ   \n",
              "3  470353    20195  ADMINISTRACION DE EMPRESAS              SANTANDER   \n",
              "4  989032    20212                  PSICOLOGIA              ANTIOQUIA   \n",
              "\n",
              "             ESTU_VALORMATRICULAUNIVERSIDAD ESTU_HORASSEMANATRABAJA  \\\n",
              "0  Entre 5.5 millones y menos de 7 millones       Menos de 10 horas   \n",
              "1  Entre 2.5 millones y menos de 4 millones                       0   \n",
              "2  Entre 2.5 millones y menos de 4 millones         Más de 30 horas   \n",
              "3  Entre 4 millones y menos de 5.5 millones                       0   \n",
              "4  Entre 2.5 millones y menos de 4 millones     Entre 21 y 30 horas   \n",
              "\n",
              "  FAMI_ESTRATOVIVIENDA FAMI_TIENEINTERNET                 FAMI_EDUCACIONPADRE  \\\n",
              "0            Estrato 3                 Si    Técnica o tecnológica incompleta   \n",
              "1            Estrato 3                 No      Técnica o tecnológica completa   \n",
              "2            Estrato 3                 Si  Secundaria (Bachillerato) completa   \n",
              "3            Estrato 4                 Si                             No sabe   \n",
              "4            Estrato 3                 Si                   Primaria completa   \n",
              "\n",
              "                  FAMI_EDUCACIONMADRE ESTU_PAGOMATRICULAPROPIO  \\\n",
              "0                           Postgrado                       No   \n",
              "1    Técnica o tecnológica incompleta                       No   \n",
              "2  Secundaria (Bachillerato) completa                       No   \n",
              "3  Secundaria (Bachillerato) completa                       No   \n",
              "4                   Primaria completa                       No   \n",
              "\n",
              "  RENDIMIENTO_GLOBAL  \n",
              "0         medio-alto  \n",
              "1               bajo  \n",
              "2               bajo  \n",
              "3               alto  \n",
              "4         medio-bajo  "
            ],
            "text/html": [
              "\n",
              "  <div id=\"df-a8dcf456-ccc5-486b-a8de-ea4c2f05999f\" class=\"colab-df-container\">\n",
              "    <div>\n",
              "<style scoped>\n",
              "    .dataframe tbody tr th:only-of-type {\n",
              "        vertical-align: middle;\n",
              "    }\n",
              "\n",
              "    .dataframe tbody tr th {\n",
              "        vertical-align: top;\n",
              "    }\n",
              "\n",
              "    .dataframe thead th {\n",
              "        text-align: right;\n",
              "    }\n",
              "</style>\n",
              "<table border=\"1\" class=\"dataframe\">\n",
              "  <thead>\n",
              "    <tr style=\"text-align: right;\">\n",
              "      <th></th>\n",
              "      <th>ID</th>\n",
              "      <th>PERIODO</th>\n",
              "      <th>ESTU_PRGM_ACADEMICO</th>\n",
              "      <th>ESTU_PRGM_DEPARTAMENTO</th>\n",
              "      <th>ESTU_VALORMATRICULAUNIVERSIDAD</th>\n",
              "      <th>ESTU_HORASSEMANATRABAJA</th>\n",
              "      <th>FAMI_ESTRATOVIVIENDA</th>\n",
              "      <th>FAMI_TIENEINTERNET</th>\n",
              "      <th>FAMI_EDUCACIONPADRE</th>\n",
              "      <th>FAMI_EDUCACIONMADRE</th>\n",
              "      <th>ESTU_PAGOMATRICULAPROPIO</th>\n",
              "      <th>RENDIMIENTO_GLOBAL</th>\n",
              "    </tr>\n",
              "  </thead>\n",
              "  <tbody>\n",
              "    <tr>\n",
              "      <th>0</th>\n",
              "      <td>904256</td>\n",
              "      <td>20212</td>\n",
              "      <td>ENFERMERIA</td>\n",
              "      <td>BOGOTÁ</td>\n",
              "      <td>Entre 5.5 millones y menos de 7 millones</td>\n",
              "      <td>Menos de 10 horas</td>\n",
              "      <td>Estrato 3</td>\n",
              "      <td>Si</td>\n",
              "      <td>Técnica o tecnológica incompleta</td>\n",
              "      <td>Postgrado</td>\n",
              "      <td>No</td>\n",
              "      <td>medio-alto</td>\n",
              "    </tr>\n",
              "    <tr>\n",
              "      <th>1</th>\n",
              "      <td>645256</td>\n",
              "      <td>20212</td>\n",
              "      <td>DERECHO</td>\n",
              "      <td>ATLANTICO</td>\n",
              "      <td>Entre 2.5 millones y menos de 4 millones</td>\n",
              "      <td>0</td>\n",
              "      <td>Estrato 3</td>\n",
              "      <td>No</td>\n",
              "      <td>Técnica o tecnológica completa</td>\n",
              "      <td>Técnica o tecnológica incompleta</td>\n",
              "      <td>No</td>\n",
              "      <td>bajo</td>\n",
              "    </tr>\n",
              "    <tr>\n",
              "      <th>2</th>\n",
              "      <td>308367</td>\n",
              "      <td>20203</td>\n",
              "      <td>MERCADEO Y PUBLICIDAD</td>\n",
              "      <td>BOGOTÁ</td>\n",
              "      <td>Entre 2.5 millones y menos de 4 millones</td>\n",
              "      <td>Más de 30 horas</td>\n",
              "      <td>Estrato 3</td>\n",
              "      <td>Si</td>\n",
              "      <td>Secundaria (Bachillerato) completa</td>\n",
              "      <td>Secundaria (Bachillerato) completa</td>\n",
              "      <td>No</td>\n",
              "      <td>bajo</td>\n",
              "    </tr>\n",
              "    <tr>\n",
              "      <th>3</th>\n",
              "      <td>470353</td>\n",
              "      <td>20195</td>\n",
              "      <td>ADMINISTRACION DE EMPRESAS</td>\n",
              "      <td>SANTANDER</td>\n",
              "      <td>Entre 4 millones y menos de 5.5 millones</td>\n",
              "      <td>0</td>\n",
              "      <td>Estrato 4</td>\n",
              "      <td>Si</td>\n",
              "      <td>No sabe</td>\n",
              "      <td>Secundaria (Bachillerato) completa</td>\n",
              "      <td>No</td>\n",
              "      <td>alto</td>\n",
              "    </tr>\n",
              "    <tr>\n",
              "      <th>4</th>\n",
              "      <td>989032</td>\n",
              "      <td>20212</td>\n",
              "      <td>PSICOLOGIA</td>\n",
              "      <td>ANTIOQUIA</td>\n",
              "      <td>Entre 2.5 millones y menos de 4 millones</td>\n",
              "      <td>Entre 21 y 30 horas</td>\n",
              "      <td>Estrato 3</td>\n",
              "      <td>Si</td>\n",
              "      <td>Primaria completa</td>\n",
              "      <td>Primaria completa</td>\n",
              "      <td>No</td>\n",
              "      <td>medio-bajo</td>\n",
              "    </tr>\n",
              "  </tbody>\n",
              "</table>\n",
              "</div>\n",
              "    <div class=\"colab-df-buttons\">\n",
              "\n",
              "  <div class=\"colab-df-container\">\n",
              "    <button class=\"colab-df-convert\" onclick=\"convertToInteractive('df-a8dcf456-ccc5-486b-a8de-ea4c2f05999f')\"\n",
              "            title=\"Convert this dataframe to an interactive table.\"\n",
              "            style=\"display:none;\">\n",
              "\n",
              "  <svg xmlns=\"http://www.w3.org/2000/svg\" height=\"24px\" viewBox=\"0 -960 960 960\">\n",
              "    <path d=\"M120-120v-720h720v720H120Zm60-500h600v-160H180v160Zm220 220h160v-160H400v160Zm0 220h160v-160H400v160ZM180-400h160v-160H180v160Zm440 0h160v-160H620v160ZM180-180h160v-160H180v160Zm440 0h160v-160H620v160Z\"/>\n",
              "  </svg>\n",
              "    </button>\n",
              "\n",
              "  <style>\n",
              "    .colab-df-container {\n",
              "      display:flex;\n",
              "      gap: 12px;\n",
              "    }\n",
              "\n",
              "    .colab-df-convert {\n",
              "      background-color: #E8F0FE;\n",
              "      border: none;\n",
              "      border-radius: 50%;\n",
              "      cursor: pointer;\n",
              "      display: none;\n",
              "      fill: #1967D2;\n",
              "      height: 32px;\n",
              "      padding: 0 0 0 0;\n",
              "      width: 32px;\n",
              "    }\n",
              "\n",
              "    .colab-df-convert:hover {\n",
              "      background-color: #E2EBFA;\n",
              "      box-shadow: 0px 1px 2px rgba(60, 64, 67, 0.3), 0px 1px 3px 1px rgba(60, 64, 67, 0.15);\n",
              "      fill: #174EA6;\n",
              "    }\n",
              "\n",
              "    .colab-df-buttons div {\n",
              "      margin-bottom: 4px;\n",
              "    }\n",
              "\n",
              "    [theme=dark] .colab-df-convert {\n",
              "      background-color: #3B4455;\n",
              "      fill: #D2E3FC;\n",
              "    }\n",
              "\n",
              "    [theme=dark] .colab-df-convert:hover {\n",
              "      background-color: #434B5C;\n",
              "      box-shadow: 0px 1px 3px 1px rgba(0, 0, 0, 0.15);\n",
              "      filter: drop-shadow(0px 1px 2px rgba(0, 0, 0, 0.3));\n",
              "      fill: #FFFFFF;\n",
              "    }\n",
              "  </style>\n",
              "\n",
              "    <script>\n",
              "      const buttonEl =\n",
              "        document.querySelector('#df-a8dcf456-ccc5-486b-a8de-ea4c2f05999f button.colab-df-convert');\n",
              "      buttonEl.style.display =\n",
              "        google.colab.kernel.accessAllowed ? 'block' : 'none';\n",
              "\n",
              "      async function convertToInteractive(key) {\n",
              "        const element = document.querySelector('#df-a8dcf456-ccc5-486b-a8de-ea4c2f05999f');\n",
              "        const dataTable =\n",
              "          await google.colab.kernel.invokeFunction('convertToInteractive',\n",
              "                                                    [key], {});\n",
              "        if (!dataTable) return;\n",
              "\n",
              "        const docLinkHtml = 'Like what you see? Visit the ' +\n",
              "          '<a target=\"_blank\" href=https://colab.research.google.com/notebooks/data_table.ipynb>data table notebook</a>'\n",
              "          + ' to learn more about interactive tables.';\n",
              "        element.innerHTML = '';\n",
              "        dataTable['output_type'] = 'display_data';\n",
              "        await google.colab.output.renderOutput(dataTable, element);\n",
              "        const docLink = document.createElement('div');\n",
              "        docLink.innerHTML = docLinkHtml;\n",
              "        element.appendChild(docLink);\n",
              "      }\n",
              "    </script>\n",
              "  </div>\n",
              "\n",
              "\n",
              "<div id=\"df-8d793379-dad6-47a4-b2ba-924283f66cc2\">\n",
              "  <button class=\"colab-df-quickchart\" onclick=\"quickchart('df-8d793379-dad6-47a4-b2ba-924283f66cc2')\"\n",
              "            title=\"Suggest charts\"\n",
              "            style=\"display:none;\">\n",
              "\n",
              "<svg xmlns=\"http://www.w3.org/2000/svg\" height=\"24px\"viewBox=\"0 0 24 24\"\n",
              "     width=\"24px\">\n",
              "    <g>\n",
              "        <path d=\"M19 3H5c-1.1 0-2 .9-2 2v14c0 1.1.9 2 2 2h14c1.1 0 2-.9 2-2V5c0-1.1-.9-2-2-2zM9 17H7v-7h2v7zm4 0h-2V7h2v10zm4 0h-2v-4h2v4z\"/>\n",
              "    </g>\n",
              "</svg>\n",
              "  </button>\n",
              "\n",
              "<style>\n",
              "  .colab-df-quickchart {\n",
              "      --bg-color: #E8F0FE;\n",
              "      --fill-color: #1967D2;\n",
              "      --hover-bg-color: #E2EBFA;\n",
              "      --hover-fill-color: #174EA6;\n",
              "      --disabled-fill-color: #AAA;\n",
              "      --disabled-bg-color: #DDD;\n",
              "  }\n",
              "\n",
              "  [theme=dark] .colab-df-quickchart {\n",
              "      --bg-color: #3B4455;\n",
              "      --fill-color: #D2E3FC;\n",
              "      --hover-bg-color: #434B5C;\n",
              "      --hover-fill-color: #FFFFFF;\n",
              "      --disabled-bg-color: #3B4455;\n",
              "      --disabled-fill-color: #666;\n",
              "  }\n",
              "\n",
              "  .colab-df-quickchart {\n",
              "    background-color: var(--bg-color);\n",
              "    border: none;\n",
              "    border-radius: 50%;\n",
              "    cursor: pointer;\n",
              "    display: none;\n",
              "    fill: var(--fill-color);\n",
              "    height: 32px;\n",
              "    padding: 0;\n",
              "    width: 32px;\n",
              "  }\n",
              "\n",
              "  .colab-df-quickchart:hover {\n",
              "    background-color: var(--hover-bg-color);\n",
              "    box-shadow: 0 1px 2px rgba(60, 64, 67, 0.3), 0 1px 3px 1px rgba(60, 64, 67, 0.15);\n",
              "    fill: var(--button-hover-fill-color);\n",
              "  }\n",
              "\n",
              "  .colab-df-quickchart-complete:disabled,\n",
              "  .colab-df-quickchart-complete:disabled:hover {\n",
              "    background-color: var(--disabled-bg-color);\n",
              "    fill: var(--disabled-fill-color);\n",
              "    box-shadow: none;\n",
              "  }\n",
              "\n",
              "  .colab-df-spinner {\n",
              "    border: 2px solid var(--fill-color);\n",
              "    border-color: transparent;\n",
              "    border-bottom-color: var(--fill-color);\n",
              "    animation:\n",
              "      spin 1s steps(1) infinite;\n",
              "  }\n",
              "\n",
              "  @keyframes spin {\n",
              "    0% {\n",
              "      border-color: transparent;\n",
              "      border-bottom-color: var(--fill-color);\n",
              "      border-left-color: var(--fill-color);\n",
              "    }\n",
              "    20% {\n",
              "      border-color: transparent;\n",
              "      border-left-color: var(--fill-color);\n",
              "      border-top-color: var(--fill-color);\n",
              "    }\n",
              "    30% {\n",
              "      border-color: transparent;\n",
              "      border-left-color: var(--fill-color);\n",
              "      border-top-color: var(--fill-color);\n",
              "      border-right-color: var(--fill-color);\n",
              "    }\n",
              "    40% {\n",
              "      border-color: transparent;\n",
              "      border-right-color: var(--fill-color);\n",
              "      border-top-color: var(--fill-color);\n",
              "    }\n",
              "    60% {\n",
              "      border-color: transparent;\n",
              "      border-right-color: var(--fill-color);\n",
              "    }\n",
              "    80% {\n",
              "      border-color: transparent;\n",
              "      border-right-color: var(--fill-color);\n",
              "      border-bottom-color: var(--fill-color);\n",
              "    }\n",
              "    90% {\n",
              "      border-color: transparent;\n",
              "      border-bottom-color: var(--fill-color);\n",
              "    }\n",
              "  }\n",
              "</style>\n",
              "\n",
              "  <script>\n",
              "    async function quickchart(key) {\n",
              "      const quickchartButtonEl =\n",
              "        document.querySelector('#' + key + ' button');\n",
              "      quickchartButtonEl.disabled = true;  // To prevent multiple clicks.\n",
              "      quickchartButtonEl.classList.add('colab-df-spinner');\n",
              "      try {\n",
              "        const charts = await google.colab.kernel.invokeFunction(\n",
              "            'suggestCharts', [key], {});\n",
              "      } catch (error) {\n",
              "        console.error('Error during call to suggestCharts:', error);\n",
              "      }\n",
              "      quickchartButtonEl.classList.remove('colab-df-spinner');\n",
              "      quickchartButtonEl.classList.add('colab-df-quickchart-complete');\n",
              "    }\n",
              "    (() => {\n",
              "      let quickchartButtonEl =\n",
              "        document.querySelector('#df-8d793379-dad6-47a4-b2ba-924283f66cc2 button');\n",
              "      quickchartButtonEl.style.display =\n",
              "        google.colab.kernel.accessAllowed ? 'block' : 'none';\n",
              "    })();\n",
              "  </script>\n",
              "</div>\n",
              "\n",
              "    </div>\n",
              "  </div>\n"
            ],
            "application/vnd.google.colaboratory.intrinsic+json": {
              "type": "dataframe",
              "variable_name": "train"
            }
          },
          "metadata": {},
          "execution_count": 226
        }
      ],
      "source": [
        "train = pd.read_csv('train.csv')\n",
        "train.head()"
      ]
    },
    {
      "cell_type": "code",
      "execution_count": null,
      "metadata": {
        "id": "DX3gYbwAXe98",
        "colab": {
          "base_uri": "https://localhost:8080/",
          "height": 926
        },
        "outputId": "4c675de7-1f4f-4868-fdf0-c07b8ae457d2"
      },
      "outputs": [
        {
          "output_type": "execute_result",
          "data": {
            "text/plain": [
              "ID      PERIODO  ESTU_PRGM_ACADEMICO                                     ESTU_PRGM_DEPARTAMENTO  ESTU_VALORMATRICULAUNIVERSIDAD            ESTU_HORASSEMANATRABAJA  FAMI_ESTRATOVIVIENDA  FAMI_TIENEINTERNET  FAMI_EDUCACIONPADRE                 FAMI_EDUCACIONMADRE                   ESTU_PAGOMATRICULAPROPIO  RENDIMIENTO_GLOBAL\n",
              "1       20183    HOTELERIA Y TURISMO                                     BOGOTÁ                  Entre 2.5 millones y menos de 4 millones  Entre 11 y 20 horas      Estrato 2             Si                  Primaria completa                   Secundaria (Bachillerato) incompleta  No                        medio-alto            1\n",
              "659298  20195    ADMINISTRACION EN FINANZAS Y NEGOCIOS INTERNACIONALES   CORDOBA                 Entre 500 mil y menos de 1 millón         0                        Estrato 1             Si                  Secundaria (Bachillerato) completa  Primaria completa                     No                        medio-alto            1\n",
              "659281  20195    ADMINISTRACION DE EMPRESAS TURISTICAS                   ANTIOQUIA               Entre 1 millón y menos de 2.5 millones    0                        Estrato 3             Si                  Secundaria (Bachillerato) completa  Secundaria (Bachillerato) completa    No                        medio-bajo            1\n",
              "659282  20195    PSICOLOGÍA                                              BOGOTÁ                  Entre 1 millón y menos de 2.5 millones    Menos de 10 horas        Estrato 3             Si                  Postgrado                           Postgrado                             No                        alto                  1\n",
              "659286  20195    PSICOLOGIA                                              SUCRE                   Entre 500 mil y menos de 1 millón         Entre 11 y 20 horas      Estrato 1             Si                  Primaria incompleta                 Técnica o tecnológica completa        Si                        bajo                  1\n",
              "                                                                                                                                                                                                                                                                                                                                       ..\n",
              "329914  20183    DERECHO                                                 ANTIOQUIA               Entre 1 millón y menos de 2.5 millones    Más de 30 horas          Estrato 3             Si                  Primaria completa                   Primaria completa                     Si                        alto                  1\n",
              "329915  20183    LICENCIATURA EN EDUCACION FISICA,RECREACION Y DEPORTES  ANTIOQUIA               Entre 1 millón y menos de 2.5 millones    Entre 11 y 20 horas      Estrato 1             No                  Secundaria (Bachillerato) completa  Secundaria (Bachillerato) completa    No                        bajo                  1\n",
              "329916  20183    ADMINISTRACIÓN EN SALUD OCUPACIONAL                     BOGOTÁ                  Entre 1 millón y menos de 2.5 millones    Entre 11 y 20 horas      Estrato 2             Si                  Primaria incompleta                 Primaria incompleta                   Si                        bajo                  1\n",
              "329917  20183    INGENIERIA DE SISTEMAS                                  BOGOTÁ                  Menos de 500 mil                          Entre 11 y 20 horas      Estrato 2             Si                  Técnica o tecnológica incompleta    Secundaria (Bachillerato) completa    No                        alto                  1\n",
              "989286  20212    MARKETING Y NEGOCIOS INTERNACIONALES                    MAGDALENA               Entre 1 millón y menos de 2.5 millones    Entre 21 y 30 horas      Estrato 3             Si                  Secundaria (Bachillerato) completa  Secundaria (Bachillerato) completa    No                        medio-bajo            1\n",
              "Name: count, Length: 645661, dtype: int64"
            ],
            "text/html": [
              "<div>\n",
              "<style scoped>\n",
              "    .dataframe tbody tr th:only-of-type {\n",
              "        vertical-align: middle;\n",
              "    }\n",
              "\n",
              "    .dataframe tbody tr th {\n",
              "        vertical-align: top;\n",
              "    }\n",
              "\n",
              "    .dataframe thead th {\n",
              "        text-align: right;\n",
              "    }\n",
              "</style>\n",
              "<table border=\"1\" class=\"dataframe\">\n",
              "  <thead>\n",
              "    <tr style=\"text-align: right;\">\n",
              "      <th></th>\n",
              "      <th></th>\n",
              "      <th></th>\n",
              "      <th></th>\n",
              "      <th></th>\n",
              "      <th></th>\n",
              "      <th></th>\n",
              "      <th></th>\n",
              "      <th></th>\n",
              "      <th></th>\n",
              "      <th></th>\n",
              "      <th></th>\n",
              "      <th>count</th>\n",
              "    </tr>\n",
              "    <tr>\n",
              "      <th>ID</th>\n",
              "      <th>PERIODO</th>\n",
              "      <th>ESTU_PRGM_ACADEMICO</th>\n",
              "      <th>ESTU_PRGM_DEPARTAMENTO</th>\n",
              "      <th>ESTU_VALORMATRICULAUNIVERSIDAD</th>\n",
              "      <th>ESTU_HORASSEMANATRABAJA</th>\n",
              "      <th>FAMI_ESTRATOVIVIENDA</th>\n",
              "      <th>FAMI_TIENEINTERNET</th>\n",
              "      <th>FAMI_EDUCACIONPADRE</th>\n",
              "      <th>FAMI_EDUCACIONMADRE</th>\n",
              "      <th>ESTU_PAGOMATRICULAPROPIO</th>\n",
              "      <th>RENDIMIENTO_GLOBAL</th>\n",
              "      <th></th>\n",
              "    </tr>\n",
              "  </thead>\n",
              "  <tbody>\n",
              "    <tr>\n",
              "      <th>1</th>\n",
              "      <th>20183</th>\n",
              "      <th>HOTELERIA Y TURISMO</th>\n",
              "      <th>BOGOTÁ</th>\n",
              "      <th>Entre 2.5 millones y menos de 4 millones</th>\n",
              "      <th>Entre 11 y 20 horas</th>\n",
              "      <th>Estrato 2</th>\n",
              "      <th>Si</th>\n",
              "      <th>Primaria completa</th>\n",
              "      <th>Secundaria (Bachillerato) incompleta</th>\n",
              "      <th>No</th>\n",
              "      <th>medio-alto</th>\n",
              "      <td>1</td>\n",
              "    </tr>\n",
              "    <tr>\n",
              "      <th>659298</th>\n",
              "      <th>20195</th>\n",
              "      <th>ADMINISTRACION EN FINANZAS Y NEGOCIOS INTERNACIONALES</th>\n",
              "      <th>CORDOBA</th>\n",
              "      <th>Entre 500 mil y menos de 1 millón</th>\n",
              "      <th>0</th>\n",
              "      <th>Estrato 1</th>\n",
              "      <th>Si</th>\n",
              "      <th>Secundaria (Bachillerato) completa</th>\n",
              "      <th>Primaria completa</th>\n",
              "      <th>No</th>\n",
              "      <th>medio-alto</th>\n",
              "      <td>1</td>\n",
              "    </tr>\n",
              "    <tr>\n",
              "      <th>659281</th>\n",
              "      <th>20195</th>\n",
              "      <th>ADMINISTRACION DE EMPRESAS TURISTICAS</th>\n",
              "      <th>ANTIOQUIA</th>\n",
              "      <th>Entre 1 millón y menos de 2.5 millones</th>\n",
              "      <th>0</th>\n",
              "      <th>Estrato 3</th>\n",
              "      <th>Si</th>\n",
              "      <th>Secundaria (Bachillerato) completa</th>\n",
              "      <th>Secundaria (Bachillerato) completa</th>\n",
              "      <th>No</th>\n",
              "      <th>medio-bajo</th>\n",
              "      <td>1</td>\n",
              "    </tr>\n",
              "    <tr>\n",
              "      <th>659282</th>\n",
              "      <th>20195</th>\n",
              "      <th>PSICOLOGÍA</th>\n",
              "      <th>BOGOTÁ</th>\n",
              "      <th>Entre 1 millón y menos de 2.5 millones</th>\n",
              "      <th>Menos de 10 horas</th>\n",
              "      <th>Estrato 3</th>\n",
              "      <th>Si</th>\n",
              "      <th>Postgrado</th>\n",
              "      <th>Postgrado</th>\n",
              "      <th>No</th>\n",
              "      <th>alto</th>\n",
              "      <td>1</td>\n",
              "    </tr>\n",
              "    <tr>\n",
              "      <th>659286</th>\n",
              "      <th>20195</th>\n",
              "      <th>PSICOLOGIA</th>\n",
              "      <th>SUCRE</th>\n",
              "      <th>Entre 500 mil y menos de 1 millón</th>\n",
              "      <th>Entre 11 y 20 horas</th>\n",
              "      <th>Estrato 1</th>\n",
              "      <th>Si</th>\n",
              "      <th>Primaria incompleta</th>\n",
              "      <th>Técnica o tecnológica completa</th>\n",
              "      <th>Si</th>\n",
              "      <th>bajo</th>\n",
              "      <td>1</td>\n",
              "    </tr>\n",
              "    <tr>\n",
              "      <th>...</th>\n",
              "      <th>...</th>\n",
              "      <th>...</th>\n",
              "      <th>...</th>\n",
              "      <th>...</th>\n",
              "      <th>...</th>\n",
              "      <th>...</th>\n",
              "      <th>...</th>\n",
              "      <th>...</th>\n",
              "      <th>...</th>\n",
              "      <th>...</th>\n",
              "      <th>...</th>\n",
              "      <td>...</td>\n",
              "    </tr>\n",
              "    <tr>\n",
              "      <th>329914</th>\n",
              "      <th>20183</th>\n",
              "      <th>DERECHO</th>\n",
              "      <th>ANTIOQUIA</th>\n",
              "      <th>Entre 1 millón y menos de 2.5 millones</th>\n",
              "      <th>Más de 30 horas</th>\n",
              "      <th>Estrato 3</th>\n",
              "      <th>Si</th>\n",
              "      <th>Primaria completa</th>\n",
              "      <th>Primaria completa</th>\n",
              "      <th>Si</th>\n",
              "      <th>alto</th>\n",
              "      <td>1</td>\n",
              "    </tr>\n",
              "    <tr>\n",
              "      <th>329915</th>\n",
              "      <th>20183</th>\n",
              "      <th>LICENCIATURA EN EDUCACION FISICA,RECREACION Y DEPORTES</th>\n",
              "      <th>ANTIOQUIA</th>\n",
              "      <th>Entre 1 millón y menos de 2.5 millones</th>\n",
              "      <th>Entre 11 y 20 horas</th>\n",
              "      <th>Estrato 1</th>\n",
              "      <th>No</th>\n",
              "      <th>Secundaria (Bachillerato) completa</th>\n",
              "      <th>Secundaria (Bachillerato) completa</th>\n",
              "      <th>No</th>\n",
              "      <th>bajo</th>\n",
              "      <td>1</td>\n",
              "    </tr>\n",
              "    <tr>\n",
              "      <th>329916</th>\n",
              "      <th>20183</th>\n",
              "      <th>ADMINISTRACIÓN EN SALUD OCUPACIONAL</th>\n",
              "      <th>BOGOTÁ</th>\n",
              "      <th>Entre 1 millón y menos de 2.5 millones</th>\n",
              "      <th>Entre 11 y 20 horas</th>\n",
              "      <th>Estrato 2</th>\n",
              "      <th>Si</th>\n",
              "      <th>Primaria incompleta</th>\n",
              "      <th>Primaria incompleta</th>\n",
              "      <th>Si</th>\n",
              "      <th>bajo</th>\n",
              "      <td>1</td>\n",
              "    </tr>\n",
              "    <tr>\n",
              "      <th>329917</th>\n",
              "      <th>20183</th>\n",
              "      <th>INGENIERIA DE SISTEMAS</th>\n",
              "      <th>BOGOTÁ</th>\n",
              "      <th>Menos de 500 mil</th>\n",
              "      <th>Entre 11 y 20 horas</th>\n",
              "      <th>Estrato 2</th>\n",
              "      <th>Si</th>\n",
              "      <th>Técnica o tecnológica incompleta</th>\n",
              "      <th>Secundaria (Bachillerato) completa</th>\n",
              "      <th>No</th>\n",
              "      <th>alto</th>\n",
              "      <td>1</td>\n",
              "    </tr>\n",
              "    <tr>\n",
              "      <th>989286</th>\n",
              "      <th>20212</th>\n",
              "      <th>MARKETING Y NEGOCIOS INTERNACIONALES</th>\n",
              "      <th>MAGDALENA</th>\n",
              "      <th>Entre 1 millón y menos de 2.5 millones</th>\n",
              "      <th>Entre 21 y 30 horas</th>\n",
              "      <th>Estrato 3</th>\n",
              "      <th>Si</th>\n",
              "      <th>Secundaria (Bachillerato) completa</th>\n",
              "      <th>Secundaria (Bachillerato) completa</th>\n",
              "      <th>No</th>\n",
              "      <th>medio-bajo</th>\n",
              "      <td>1</td>\n",
              "    </tr>\n",
              "  </tbody>\n",
              "</table>\n",
              "<p>645661 rows × 1 columns</p>\n",
              "</div><br><label><b>dtype:</b> int64</label>"
            ]
          },
          "metadata": {},
          "execution_count": 227
        }
      ],
      "source": [
        "train.value_counts()"
      ]
    },
    {
      "cell_type": "markdown",
      "metadata": {
        "id": "P4zg_Ow_oqcK"
      },
      "source": [
        "## Overview\n",
        "\n",
        "\n",
        "Para la limpieza del archivo train.csv, se realizarán las siguientes operaciones:\n",
        "\n",
        "\n",
        "1.   Estandarización de datos:\n",
        "      *   ESTU_PRGM_ACADEMICO\n",
        "\n",
        "2.   Relleno de datos faltantes:\n",
        "      *   **FAMI_ESTRATOVIVIENDA:** se rellenan los vacíos con el estrato que tiene más repeticiones entre todo el dataset, dado que todo estudiante debe pertenecer a uno.\n",
        "      *   **FAMI_TIENEINTERNET:** asumimos un espacio vacío como un \"No\".\n",
        "      *   **FAMI_EDUCACIONPADRE:** asumimos un espacio vacío como un \"No aplica\" y se suma a las filas que tienen \"No sabe\" como entrada.\n",
        "      *   **FAMI_EDUCACIONMADRE:** asumimos un espacio vacío como un \"No aplica\".\n",
        "      *   **ESTU_VALORMATRICULAUNIVERSIDAD:** asumimos un espacio vacío como un \"No pagó matrícula\".\n",
        "      *   **ESTU_HORASSEMANATRABAJA:** asumimos un espacio vacío como un \"No trabaja\"\n",
        "      *   **ESTU_PAGOMATRICULAPROPIO:** asumimos un espacio vacío como un \"No\".\n",
        "\n",
        "\n",
        "3.   Sustituimos los valores \"Sí\" / \"No\" por \"1\" / \"0\" respectivamente:\n",
        "      *   FAMI_TIENEINTERNET\n",
        "      *   ESTU_PAGOMATRICULAPROPIO\n",
        "      *   FAMI_TIENEINTERNET\n",
        "\n",
        "\n",
        "4.   Usamos One Hot para categorizar las siguientes columnas:\n",
        "      *   FAMI_ESTRATOVIVIENDA\n",
        "      *   FAMI_EDUCACIONPADRE\n",
        "      *   ESTU_HORASSEMANATRABAJA\n",
        "      *   ESTU_VALORMATRICULAUNIVERSIDAD\n",
        "      *   ESTU_PRGM_ACADEMICO\n",
        "      *   ESTU_PRGM_DEPARTAMENTO\n",
        "\n",
        "\n",
        "\n",
        "\n",
        "\n",
        "\n",
        "\n",
        "\n",
        "\n",
        "\n",
        "\n",
        "\n",
        "\n",
        "\n",
        "\n",
        "\n",
        "\n",
        "\n",
        "\n",
        "\n",
        "\n",
        "\n",
        "\n",
        "\n",
        "\n",
        "\n",
        "\n",
        "\n",
        "\n",
        "\n",
        "\n",
        "\n",
        "\n"
      ]
    },
    {
      "cell_type": "markdown",
      "metadata": {
        "id": "laY8U27EyDer"
      },
      "source": [
        "## **1. Estandarización de datos**"
      ]
    },
    {
      "cell_type": "markdown",
      "metadata": {
        "id": "pmzI0GBqydvN"
      },
      "source": [
        "*Columna ESTU_PRGM_ACADEMICO*"
      ]
    },
    {
      "cell_type": "code",
      "execution_count": null,
      "metadata": {
        "id": "kGKR3fD8ydVv"
      },
      "outputs": [],
      "source": [
        "train['ESTU_PRGM_ACADEMICO'] = (train['ESTU_PRGM_ACADEMICO']\n",
        "                                 .str.replace(r'^PROFESIONAL EN\\s+', '', regex=True)\n",
        "                                 .str.replace(r'\\s+', ' ', regex=True)\n",
        "                                 .str.upper()\n",
        "                                 .apply(unidecode)\n",
        "                               )\n",
        "\n",
        "reemplazos = {\n",
        "    r'INGENIE?RIA': 'INGENIERIA',\n",
        "    r'EDUCACIO?N\\b': 'EDUCACION',\n",
        "    r'RECREACIO?N\\b': 'RECREACION',\n",
        "    r'FISICA\\b': 'FISICA',\n",
        "    r'ESCENICAS\\b': 'ESCENICAS',\n",
        "    r'MATEMATICAS\\b': 'MATEMATICAS',\n",
        "    r'FILOSOFIA\\b': 'FILOSOFIA',\n",
        "    r'DISEÑO\\b': 'DISEÑO',\n",
        "    r'COMUNICACIO?N\\b': 'COMUNICACION',\n",
        "    r'GRAFICA\\b': 'GRAFICA',\n",
        "    r'ELECTRICA\\b': 'ELECTRICA',\n",
        "    r'QUIMICA\\b': 'QUIMICA',\n",
        "    r'FARMACEUTICA\\b': 'FARMACEUTICA',\n",
        "    r'ADMINISTRACIO?N\\b': 'ADMINISTRACION',\n",
        "    r'PUBLICA\\b': 'PUBLICA',\n",
        "    r'INGLES\\b': 'INGLES',\n",
        "    r'ENFASIS\\b': 'ENFASIS',\n",
        "    r'GESTIO?N\\b': 'GESTION',\n",
        "    r'MUSICA\\b': 'MUSICA',\n",
        "    r'ECONOMIA\\b': 'ECONOMIA',\n",
        "    r'GASTRONOMIA\\b': 'GASTRONOMIA',\n",
        "    r'BASICA\\b': 'BASICA',\n",
        "    r'GEOLOGIA\\b': 'GEOLOGIA',\n",
        "    r'PEDAGOGIA\\b': 'PEDAGOGIA',\n",
        "    r'ARTISTICA\\b': 'ARTISTICA',\n",
        "    r'LOGISTICA\\b': 'LOGISTICA',\n",
        "}\n",
        "\n",
        "for pattern, replacement in reemplazos.items():\n",
        "    train['ESTU_PRGM_ACADEMICO'] = train['ESTU_PRGM_ACADEMICO'].replace(pattern, replacement, regex=True)\n"
      ]
    },
    {
      "cell_type": "code",
      "execution_count": null,
      "metadata": {
        "id": "N_6VIxRW2m5K"
      },
      "outputs": [],
      "source": [
        "reemplazos = {\n",
        "    r'.*INGENIERIA.*': 'INGENIERIA',\n",
        "    r'ADMINISTRACION.*': 'ADMINISTRACION',\n",
        "    r'QUIMICA.*': 'QUIMICA',\n",
        "    r'DISEÑO.*': 'DISEÑO',\n",
        "    r'DISENO.*': 'DISEÑO',\n",
        "    r'.*ARTE.*': 'ARTES',\n",
        "    r'LICENCIATURA.*': 'LICENCIATURA',\n",
        "    r'.*DEPORT.*': 'DEPORTE',\n",
        "    r'CIENCIA.*': 'CIENCIAS',\n",
        "    r'COMUNICACION.*': 'COMUNICACION',\n",
        "    r'GESTION.*': 'GESTION',\n",
        "    r'FILOSOFIA.*': 'FILOSOFIA',\n",
        "    r'NEGOCIOS.*': 'NEGOCIOS',\n",
        "    r'.*MERCAD.*': 'MERCADEO',\n",
        "    r'CINE.*': 'CINE',\n",
        "    r'.*AGRO.*': 'AGRONOMIA',\n",
        "    r'HOTELERIA.*': 'HOTELERIA',\n",
        "    r'GEREN.*': 'GERENCIA',\n",
        "    r'ECONO.*': 'ECONOMIA',\n",
        "    r'.*QUIRURGICA.*': 'MEDICINA',\n",
        "    r'.*LITERA.*': 'LITERATURA',\n",
        "    r'.*PSICOLO.*' : 'PSICOLOGIA',\n",
        "    r'.*BIOLOGIA.*' : 'BIOLOGIA',\n",
        "    r'MATEMATICAS.*': 'MATEMATICAS',\n",
        "    r'ADMIN.*': 'ADMINISTRACION',\n",
        "    r'ESTUDIOS.*': 'ESTUDIOS',\n",
        "    r'FINANZAS.*': 'FINANZAS',\n",
        "    r'CONSTRUCCION.*': 'CONSTRUCCION',\n",
        "    r'DIRECCION.*': 'DIRECCION',\n",
        "    r'RELACIONES.*': 'RELACIONES',\n",
        "    r'.*FILOL.*': 'FILOLOGIA',\n",
        "    r'COMERCIO.*': 'COMERCIO',\n",
        "    r'PUBLICI.*': 'PUBLICIDAD',\n",
        "    r'CONTADURIA.*': 'CONTADURIA',\n",
        "    r'GEO.*': 'GEOGRAFIA',\n",
        "    r'MARK.*': 'MERCADEO',\n",
        "    r'.*MUSICA.*': 'MUSICA',\n",
        "    r'.*GASTR.*': 'GASTRONOMIA',\n",
        "    r'PROFESIONAL.*': 'PROFESIONAL ',\n",
        "    r'LENG.*': 'LENGUAS',\n",
        "    r'.*ZOO.*': 'ZOOLOGIA',\n",
        "    r'.*VETE.*':'VETERINARIA',\n",
        "    r'HISTORIA.*': 'HISTORIA',\n",
        "    r'\\?': '',\n",
        "}\n",
        "\n",
        "for pattern, replacement in reemplazos.items():\n",
        "    train['ESTU_PRGM_ACADEMICO'] = train['ESTU_PRGM_ACADEMICO'].replace(pattern, replacement, regex=True)"
      ]
    },
    {
      "cell_type": "code",
      "execution_count": null,
      "metadata": {
        "id": "XUKQmjSdVbXf"
      },
      "outputs": [],
      "source": [
        "reemplazos = {\n",
        "    'ANTIOQUIA': 'ANDINA',\n",
        "    'BOYACA': 'ANDINA',\n",
        "    'BOGOTÁ': 'ANDINA',\n",
        "    'CALDAS': 'ANDINA',\n",
        "    'CUNDINAMARCA': 'ANDINA',\n",
        "    'HUILA': 'ANDINA',\n",
        "    'NORTE SANTANDER': 'ANDINA',\n",
        "    'QUINDIO': 'ANDINA',\n",
        "    'RISARALDA': 'ANDINA',\n",
        "    'SANTANDER': 'ANDINA',\n",
        "    'TOLIMA': 'ANDINA',\n",
        "    'AMAZONAS': 'AMAZONA',\n",
        "    'CAQUETA': 'AMAZONA',\n",
        "    'VAUPES': 'AMAZONA',\n",
        "    'GUAVIARE': 'AMAZONA',\n",
        "    'PUTUMAYO': 'AMAZONA',\n",
        "    'VALLE': 'PACIFICA',\n",
        "    'CHOCO': 'PACIFICA',\n",
        "    'CAUCA': 'PACIFICA',\n",
        "    'NARIÑO': 'PACIFICA',\n",
        "    'ATLANTICO': 'CARIBE',\n",
        "    'BOLIVAR': 'CARIBE',\n",
        "    'CESAR': 'CARIBE',\n",
        "    'CORDOBA': 'CARIBE',\n",
        "    'LA GUAJIRA': 'CARIBE',\n",
        "    'MAGDALENA': 'CARIBE',\n",
        "    'SUCRE': 'CARIBE',\n",
        "    'SAN ANDRES': 'CARIBE',\n",
        "    'ARAUCA': 'ORINOQUIA',\n",
        "    'CASANARE': 'ORINOQUIA',\n",
        "    'META': 'ORINOQUIA',\n",
        "    'VICHADA': 'ORINOQUIA'\n",
        "}\n",
        "\n",
        "for old_value, new_value in reemplazos.items():\n",
        "    train['ESTU_PRGM_DEPARTAMENTO'] = train['ESTU_PRGM_DEPARTAMENTO'].astype(str).str.replace(old_value, new_value)\n"
      ]
    },
    {
      "cell_type": "markdown",
      "metadata": {
        "id": "XEKDWBfd7wGw"
      },
      "source": [
        "## **2. Relleno de datos faltantes**"
      ]
    },
    {
      "cell_type": "markdown",
      "metadata": {
        "id": "Lv6rjRVDJa4u"
      },
      "source": [
        "Columna *FAMI_ESTRATOVIVIENDA*"
      ]
    },
    {
      "cell_type": "code",
      "execution_count": null,
      "metadata": {
        "id": "GHdcKc8PJzwp",
        "colab": {
          "base_uri": "https://localhost:8080/"
        },
        "outputId": "257338a7-60e9-4936-89f1-a02f865d28df"
      },
      "outputs": [
        {
          "output_type": "execute_result",
          "data": {
            "text/plain": [
              "array(['Estrato 3', 'Estrato 4', 'Estrato 5', 'Estrato 2', 'Estrato 1',\n",
              "       nan, 'Estrato 6', 'Sin Estrato'], dtype=object)"
            ]
          },
          "metadata": {},
          "execution_count": 231
        }
      ],
      "source": [
        "train['FAMI_ESTRATOVIVIENDA'].unique()"
      ]
    },
    {
      "cell_type": "code",
      "execution_count": null,
      "metadata": {
        "id": "ytwpfha172-R",
        "colab": {
          "base_uri": "https://localhost:8080/",
          "height": 372
        },
        "outputId": "6f76bc50-2029-4d49-a909-a569d9674564"
      },
      "outputs": [
        {
          "output_type": "execute_result",
          "data": {
            "text/plain": [
              "FAMI_ESTRATOVIVIENDA\n",
              "Estrato 2      232671\n",
              "Estrato 3      210685\n",
              "Estrato 1      111991\n",
              "Estrato 4       65514\n",
              "Estrato 5       23608\n",
              "Estrato 6       12605\n",
              "Sin Estrato      3289\n",
              "Name: count, dtype: int64"
            ],
            "text/html": [
              "<div>\n",
              "<style scoped>\n",
              "    .dataframe tbody tr th:only-of-type {\n",
              "        vertical-align: middle;\n",
              "    }\n",
              "\n",
              "    .dataframe tbody tr th {\n",
              "        vertical-align: top;\n",
              "    }\n",
              "\n",
              "    .dataframe thead th {\n",
              "        text-align: right;\n",
              "    }\n",
              "</style>\n",
              "<table border=\"1\" class=\"dataframe\">\n",
              "  <thead>\n",
              "    <tr style=\"text-align: right;\">\n",
              "      <th></th>\n",
              "      <th>count</th>\n",
              "    </tr>\n",
              "    <tr>\n",
              "      <th>FAMI_ESTRATOVIVIENDA</th>\n",
              "      <th></th>\n",
              "    </tr>\n",
              "  </thead>\n",
              "  <tbody>\n",
              "    <tr>\n",
              "      <th>Estrato 2</th>\n",
              "      <td>232671</td>\n",
              "    </tr>\n",
              "    <tr>\n",
              "      <th>Estrato 3</th>\n",
              "      <td>210685</td>\n",
              "    </tr>\n",
              "    <tr>\n",
              "      <th>Estrato 1</th>\n",
              "      <td>111991</td>\n",
              "    </tr>\n",
              "    <tr>\n",
              "      <th>Estrato 4</th>\n",
              "      <td>65514</td>\n",
              "    </tr>\n",
              "    <tr>\n",
              "      <th>Estrato 5</th>\n",
              "      <td>23608</td>\n",
              "    </tr>\n",
              "    <tr>\n",
              "      <th>Estrato 6</th>\n",
              "      <td>12605</td>\n",
              "    </tr>\n",
              "    <tr>\n",
              "      <th>Sin Estrato</th>\n",
              "      <td>3289</td>\n",
              "    </tr>\n",
              "  </tbody>\n",
              "</table>\n",
              "</div><br><label><b>dtype:</b> int64</label>"
            ]
          },
          "metadata": {},
          "execution_count": 232
        }
      ],
      "source": [
        "train['FAMI_ESTRATOVIVIENDA'].value_counts()"
      ]
    },
    {
      "cell_type": "code",
      "execution_count": null,
      "metadata": {
        "id": "06hEki5gJ4em"
      },
      "outputs": [],
      "source": [
        "train['FAMI_ESTRATOVIVIENDA'] = train['FAMI_ESTRATOVIVIENDA'].fillna('Estrato 2')"
      ]
    },
    {
      "cell_type": "code",
      "execution_count": null,
      "metadata": {
        "id": "Aongzb-qJ7eS",
        "colab": {
          "base_uri": "https://localhost:8080/"
        },
        "outputId": "c4e9c56d-e1df-4bc6-f529-9a1838e84f67"
      },
      "outputs": [
        {
          "output_type": "execute_result",
          "data": {
            "text/plain": [
              "0"
            ]
          },
          "metadata": {},
          "execution_count": 234
        }
      ],
      "source": [
        "train['FAMI_ESTRATOVIVIENDA'].isna().sum()"
      ]
    },
    {
      "cell_type": "code",
      "execution_count": null,
      "metadata": {
        "id": "T-1tFw0aK0ni",
        "colab": {
          "base_uri": "https://localhost:8080/",
          "height": 372
        },
        "outputId": "5f2f810f-2479-422e-8ae3-9ca50ff8e40d"
      },
      "outputs": [
        {
          "output_type": "execute_result",
          "data": {
            "text/plain": [
              "FAMI_ESTRATOVIVIENDA\n",
              "Estrato 2      264808\n",
              "Estrato 3      210685\n",
              "Estrato 1      111991\n",
              "Estrato 4       65514\n",
              "Estrato 5       23608\n",
              "Estrato 6       12605\n",
              "Sin Estrato      3289\n",
              "Name: count, dtype: int64"
            ],
            "text/html": [
              "<div>\n",
              "<style scoped>\n",
              "    .dataframe tbody tr th:only-of-type {\n",
              "        vertical-align: middle;\n",
              "    }\n",
              "\n",
              "    .dataframe tbody tr th {\n",
              "        vertical-align: top;\n",
              "    }\n",
              "\n",
              "    .dataframe thead th {\n",
              "        text-align: right;\n",
              "    }\n",
              "</style>\n",
              "<table border=\"1\" class=\"dataframe\">\n",
              "  <thead>\n",
              "    <tr style=\"text-align: right;\">\n",
              "      <th></th>\n",
              "      <th>count</th>\n",
              "    </tr>\n",
              "    <tr>\n",
              "      <th>FAMI_ESTRATOVIVIENDA</th>\n",
              "      <th></th>\n",
              "    </tr>\n",
              "  </thead>\n",
              "  <tbody>\n",
              "    <tr>\n",
              "      <th>Estrato 2</th>\n",
              "      <td>264808</td>\n",
              "    </tr>\n",
              "    <tr>\n",
              "      <th>Estrato 3</th>\n",
              "      <td>210685</td>\n",
              "    </tr>\n",
              "    <tr>\n",
              "      <th>Estrato 1</th>\n",
              "      <td>111991</td>\n",
              "    </tr>\n",
              "    <tr>\n",
              "      <th>Estrato 4</th>\n",
              "      <td>65514</td>\n",
              "    </tr>\n",
              "    <tr>\n",
              "      <th>Estrato 5</th>\n",
              "      <td>23608</td>\n",
              "    </tr>\n",
              "    <tr>\n",
              "      <th>Estrato 6</th>\n",
              "      <td>12605</td>\n",
              "    </tr>\n",
              "    <tr>\n",
              "      <th>Sin Estrato</th>\n",
              "      <td>3289</td>\n",
              "    </tr>\n",
              "  </tbody>\n",
              "</table>\n",
              "</div><br><label><b>dtype:</b> int64</label>"
            ]
          },
          "metadata": {},
          "execution_count": 235
        }
      ],
      "source": [
        "train['FAMI_ESTRATOVIVIENDA'].value_counts()"
      ]
    },
    {
      "cell_type": "markdown",
      "metadata": {
        "id": "iBps4krkLZWN"
      },
      "source": [
        "*Columna FAMI_TIENEINTERNET*"
      ]
    },
    {
      "cell_type": "code",
      "execution_count": null,
      "metadata": {
        "id": "5Cy3tMjdLeIJ",
        "colab": {
          "base_uri": "https://localhost:8080/"
        },
        "outputId": "102cb4f3-6b80-4a3f-f5ce-573ab2dcc4c9"
      },
      "outputs": [
        {
          "output_type": "execute_result",
          "data": {
            "text/plain": [
              "array(['Si', 'No', nan], dtype=object)"
            ]
          },
          "metadata": {},
          "execution_count": 236
        }
      ],
      "source": [
        "train['FAMI_TIENEINTERNET'].unique()"
      ]
    },
    {
      "cell_type": "code",
      "execution_count": null,
      "metadata": {
        "id": "1__EKczWLkzq",
        "colab": {
          "base_uri": "https://localhost:8080/",
          "height": 215
        },
        "outputId": "fe9a7582-9a0c-43ec-a423-489d7fa93a62"
      },
      "outputs": [
        {
          "output_type": "execute_result",
          "data": {
            "text/plain": [
              "FAMI_TIENEINTERNET\n",
              "Si    592514\n",
              "No     73357\n",
              "Name: count, dtype: int64"
            ],
            "text/html": [
              "<div>\n",
              "<style scoped>\n",
              "    .dataframe tbody tr th:only-of-type {\n",
              "        vertical-align: middle;\n",
              "    }\n",
              "\n",
              "    .dataframe tbody tr th {\n",
              "        vertical-align: top;\n",
              "    }\n",
              "\n",
              "    .dataframe thead th {\n",
              "        text-align: right;\n",
              "    }\n",
              "</style>\n",
              "<table border=\"1\" class=\"dataframe\">\n",
              "  <thead>\n",
              "    <tr style=\"text-align: right;\">\n",
              "      <th></th>\n",
              "      <th>count</th>\n",
              "    </tr>\n",
              "    <tr>\n",
              "      <th>FAMI_TIENEINTERNET</th>\n",
              "      <th></th>\n",
              "    </tr>\n",
              "  </thead>\n",
              "  <tbody>\n",
              "    <tr>\n",
              "      <th>Si</th>\n",
              "      <td>592514</td>\n",
              "    </tr>\n",
              "    <tr>\n",
              "      <th>No</th>\n",
              "      <td>73357</td>\n",
              "    </tr>\n",
              "  </tbody>\n",
              "</table>\n",
              "</div><br><label><b>dtype:</b> int64</label>"
            ]
          },
          "metadata": {},
          "execution_count": 237
        }
      ],
      "source": [
        "train['FAMI_TIENEINTERNET'].value_counts()"
      ]
    },
    {
      "cell_type": "code",
      "execution_count": null,
      "metadata": {
        "id": "kc_tpppPLllV",
        "colab": {
          "base_uri": "https://localhost:8080/"
        },
        "outputId": "4f803721-2d4f-42bf-d90a-a9e301c12d9d"
      },
      "outputs": [
        {
          "output_type": "execute_result",
          "data": {
            "text/plain": [
              "26629"
            ]
          },
          "metadata": {},
          "execution_count": 238
        }
      ],
      "source": [
        "train['FAMI_TIENEINTERNET'].isna().sum()"
      ]
    },
    {
      "cell_type": "code",
      "execution_count": null,
      "metadata": {
        "id": "XXMThD6aLotA"
      },
      "outputs": [],
      "source": [
        "train['FAMI_TIENEINTERNET'] = train['FAMI_TIENEINTERNET'].fillna(\"No\")"
      ]
    },
    {
      "cell_type": "code",
      "execution_count": null,
      "metadata": {
        "id": "Dw2yj4G2LqH_",
        "colab": {
          "base_uri": "https://localhost:8080/",
          "height": 215
        },
        "outputId": "cd0283c0-bc46-4453-87d2-fabbba695d5a"
      },
      "outputs": [
        {
          "output_type": "execute_result",
          "data": {
            "text/plain": [
              "FAMI_TIENEINTERNET\n",
              "Si    592514\n",
              "No     99986\n",
              "Name: count, dtype: int64"
            ],
            "text/html": [
              "<div>\n",
              "<style scoped>\n",
              "    .dataframe tbody tr th:only-of-type {\n",
              "        vertical-align: middle;\n",
              "    }\n",
              "\n",
              "    .dataframe tbody tr th {\n",
              "        vertical-align: top;\n",
              "    }\n",
              "\n",
              "    .dataframe thead th {\n",
              "        text-align: right;\n",
              "    }\n",
              "</style>\n",
              "<table border=\"1\" class=\"dataframe\">\n",
              "  <thead>\n",
              "    <tr style=\"text-align: right;\">\n",
              "      <th></th>\n",
              "      <th>count</th>\n",
              "    </tr>\n",
              "    <tr>\n",
              "      <th>FAMI_TIENEINTERNET</th>\n",
              "      <th></th>\n",
              "    </tr>\n",
              "  </thead>\n",
              "  <tbody>\n",
              "    <tr>\n",
              "      <th>Si</th>\n",
              "      <td>592514</td>\n",
              "    </tr>\n",
              "    <tr>\n",
              "      <th>No</th>\n",
              "      <td>99986</td>\n",
              "    </tr>\n",
              "  </tbody>\n",
              "</table>\n",
              "</div><br><label><b>dtype:</b> int64</label>"
            ]
          },
          "metadata": {},
          "execution_count": 240
        }
      ],
      "source": [
        "train['FAMI_TIENEINTERNET'].value_counts()"
      ]
    },
    {
      "cell_type": "markdown",
      "metadata": {
        "id": "fMxAYsI8N42o"
      },
      "source": [
        "*Columna FAMI_EDUCACIONPADRE*\n"
      ]
    },
    {
      "cell_type": "code",
      "execution_count": null,
      "metadata": {
        "id": "Co5t1-7QN_Z5",
        "colab": {
          "base_uri": "https://localhost:8080/"
        },
        "outputId": "8d58ef0f-a13b-434b-ea10-f8015e5ad141"
      },
      "outputs": [
        {
          "output_type": "execute_result",
          "data": {
            "text/plain": [
              "array(['Técnica o tecnológica incompleta',\n",
              "       'Técnica o tecnológica completa',\n",
              "       'Secundaria (Bachillerato) completa', 'No sabe',\n",
              "       'Primaria completa', 'Educación profesional completa',\n",
              "       'Educación profesional incompleta', 'Primaria incompleta',\n",
              "       'Postgrado', nan, 'Secundaria (Bachillerato) incompleta',\n",
              "       'Ninguno', 'No Aplica'], dtype=object)"
            ]
          },
          "metadata": {},
          "execution_count": 241
        }
      ],
      "source": [
        "train['FAMI_EDUCACIONPADRE'].unique()"
      ]
    },
    {
      "cell_type": "code",
      "execution_count": null,
      "metadata": {
        "id": "39bzfvHDOVPd",
        "colab": {
          "base_uri": "https://localhost:8080/"
        },
        "outputId": "927d3c78-d275-47a9-e3ec-6e724e3ed6b3"
      },
      "outputs": [
        {
          "output_type": "execute_result",
          "data": {
            "text/plain": [
              "23178"
            ]
          },
          "metadata": {},
          "execution_count": 242
        }
      ],
      "source": [
        "train['FAMI_EDUCACIONPADRE'].isna().sum()"
      ]
    },
    {
      "cell_type": "code",
      "execution_count": null,
      "metadata": {
        "id": "YQonzBhDOX2o"
      },
      "outputs": [],
      "source": [
        "train['FAMI_EDUCACIONPADRE'] = train['FAMI_EDUCACIONPADRE'].replace(r'Ninguno', 'No Aplica')\n",
        "train['FAMI_EDUCACIONPADRE'] = train['FAMI_EDUCACIONPADRE'].replace(r'No sabe', 'No Aplica')"
      ]
    },
    {
      "cell_type": "code",
      "execution_count": null,
      "metadata": {
        "id": "A-qxj530gVfd"
      },
      "outputs": [],
      "source": [
        "train['FAMI_EDUCACIONPADRE'] = train['FAMI_EDUCACIONPADRE'].fillna('No Aplica')"
      ]
    },
    {
      "cell_type": "code",
      "execution_count": null,
      "metadata": {
        "id": "0VTa5NPDPeNT",
        "colab": {
          "base_uri": "https://localhost:8080/",
          "height": 623
        },
        "outputId": "bab08f9b-a34c-4be4-ac6f-4df7f71ed4db"
      },
      "outputs": [
        {
          "output_type": "execute_result",
          "data": {
            "text/plain": [
              "FAMI_EDUCACIONPADRE\n",
              "Secundaria (Bachillerato) completa      128289\n",
              "Primaria incompleta                     125675\n",
              "Educación profesional completa           83117\n",
              "Secundaria (Bachillerato) incompleta     71654\n",
              "No Aplica                                71007\n",
              "Técnica o tecnológica completa           62995\n",
              "Primaria completa                        55958\n",
              "Postgrado                                44169\n",
              "Educación profesional incompleta         27084\n",
              "Técnica o tecnológica incompleta         22552\n",
              "Name: count, dtype: int64"
            ],
            "text/html": [
              "<div>\n",
              "<style scoped>\n",
              "    .dataframe tbody tr th:only-of-type {\n",
              "        vertical-align: middle;\n",
              "    }\n",
              "\n",
              "    .dataframe tbody tr th {\n",
              "        vertical-align: top;\n",
              "    }\n",
              "\n",
              "    .dataframe thead th {\n",
              "        text-align: right;\n",
              "    }\n",
              "</style>\n",
              "<table border=\"1\" class=\"dataframe\">\n",
              "  <thead>\n",
              "    <tr style=\"text-align: right;\">\n",
              "      <th></th>\n",
              "      <th>count</th>\n",
              "    </tr>\n",
              "    <tr>\n",
              "      <th>FAMI_EDUCACIONPADRE</th>\n",
              "      <th></th>\n",
              "    </tr>\n",
              "  </thead>\n",
              "  <tbody>\n",
              "    <tr>\n",
              "      <th>Secundaria (Bachillerato) completa</th>\n",
              "      <td>128289</td>\n",
              "    </tr>\n",
              "    <tr>\n",
              "      <th>Primaria incompleta</th>\n",
              "      <td>125675</td>\n",
              "    </tr>\n",
              "    <tr>\n",
              "      <th>Educación profesional completa</th>\n",
              "      <td>83117</td>\n",
              "    </tr>\n",
              "    <tr>\n",
              "      <th>Secundaria (Bachillerato) incompleta</th>\n",
              "      <td>71654</td>\n",
              "    </tr>\n",
              "    <tr>\n",
              "      <th>No Aplica</th>\n",
              "      <td>71007</td>\n",
              "    </tr>\n",
              "    <tr>\n",
              "      <th>Técnica o tecnológica completa</th>\n",
              "      <td>62995</td>\n",
              "    </tr>\n",
              "    <tr>\n",
              "      <th>Primaria completa</th>\n",
              "      <td>55958</td>\n",
              "    </tr>\n",
              "    <tr>\n",
              "      <th>Postgrado</th>\n",
              "      <td>44169</td>\n",
              "    </tr>\n",
              "    <tr>\n",
              "      <th>Educación profesional incompleta</th>\n",
              "      <td>27084</td>\n",
              "    </tr>\n",
              "    <tr>\n",
              "      <th>Técnica o tecnológica incompleta</th>\n",
              "      <td>22552</td>\n",
              "    </tr>\n",
              "  </tbody>\n",
              "</table>\n",
              "</div><br><label><b>dtype:</b> int64</label>"
            ]
          },
          "metadata": {},
          "execution_count": 245
        }
      ],
      "source": [
        "train['FAMI_EDUCACIONPADRE'].value_counts()"
      ]
    },
    {
      "cell_type": "markdown",
      "metadata": {
        "id": "Ehlbq61ZR6uS"
      },
      "source": [
        "*Columna FAMI_EDUCACIONMADRE*"
      ]
    },
    {
      "cell_type": "code",
      "execution_count": null,
      "metadata": {
        "id": "roAOGONOR8mR",
        "colab": {
          "base_uri": "https://localhost:8080/"
        },
        "outputId": "90f3bb14-d56e-413c-c432-1ede7e779f9c"
      },
      "outputs": [
        {
          "output_type": "execute_result",
          "data": {
            "text/plain": [
              "array(['Postgrado', 'Técnica o tecnológica incompleta',\n",
              "       'Secundaria (Bachillerato) completa', 'Primaria completa',\n",
              "       'Técnica o tecnológica completa',\n",
              "       'Secundaria (Bachillerato) incompleta',\n",
              "       'Educación profesional incompleta',\n",
              "       'Educación profesional completa', 'Primaria incompleta', nan,\n",
              "       'Ninguno', 'No Aplica', 'No sabe'], dtype=object)"
            ]
          },
          "metadata": {},
          "execution_count": 246
        }
      ],
      "source": [
        "train['FAMI_EDUCACIONMADRE'].unique()"
      ]
    },
    {
      "cell_type": "code",
      "execution_count": null,
      "metadata": {
        "id": "zIGoYxUESDNf",
        "colab": {
          "base_uri": "https://localhost:8080/"
        },
        "outputId": "1e4826c8-959e-44ac-8ee9-42db82bd02de"
      },
      "outputs": [
        {
          "output_type": "execute_result",
          "data": {
            "text/plain": [
              "23664"
            ]
          },
          "metadata": {},
          "execution_count": 247
        }
      ],
      "source": [
        "train['FAMI_EDUCACIONMADRE'].isna().sum()"
      ]
    },
    {
      "cell_type": "code",
      "execution_count": null,
      "metadata": {
        "id": "QObG9_yTSGA6"
      },
      "outputs": [],
      "source": [
        "train['FAMI_EDUCACIONMADRE'] = train['FAMI_EDUCACIONMADRE'].replace(r'Ninguno', 'No Aplica')\n",
        "train['FAMI_EDUCACIONMADRE'] = train['FAMI_EDUCACIONMADRE'].replace(r'No sabe', 'No Aplica')"
      ]
    },
    {
      "cell_type": "code",
      "execution_count": null,
      "metadata": {
        "id": "EcAZlpOqfcZ5"
      },
      "outputs": [],
      "source": [
        "train['FAMI_EDUCACIONMADRE'] = train['FAMI_EDUCACIONMADRE'].fillna('No Aplica')"
      ]
    },
    {
      "cell_type": "code",
      "execution_count": null,
      "metadata": {
        "id": "1QNYnkPuSLsZ",
        "colab": {
          "base_uri": "https://localhost:8080/",
          "height": 623
        },
        "outputId": "2e7dcbbe-40e1-45fe-9e7c-38542812fdb4"
      },
      "outputs": [
        {
          "output_type": "execute_result",
          "data": {
            "text/plain": [
              "FAMI_EDUCACIONMADRE\n",
              "Secundaria (Bachillerato) completa      141744\n",
              "Primaria incompleta                      99420\n",
              "Técnica o tecnológica completa           89542\n",
              "Educación profesional completa           85326\n",
              "Secundaria (Bachillerato) incompleta     81012\n",
              "Primaria completa                        56125\n",
              "Postgrado                                46246\n",
              "No Aplica                                43082\n",
              "Técnica o tecnológica incompleta         27533\n",
              "Educación profesional incompleta         22470\n",
              "Name: count, dtype: int64"
            ],
            "text/html": [
              "<div>\n",
              "<style scoped>\n",
              "    .dataframe tbody tr th:only-of-type {\n",
              "        vertical-align: middle;\n",
              "    }\n",
              "\n",
              "    .dataframe tbody tr th {\n",
              "        vertical-align: top;\n",
              "    }\n",
              "\n",
              "    .dataframe thead th {\n",
              "        text-align: right;\n",
              "    }\n",
              "</style>\n",
              "<table border=\"1\" class=\"dataframe\">\n",
              "  <thead>\n",
              "    <tr style=\"text-align: right;\">\n",
              "      <th></th>\n",
              "      <th>count</th>\n",
              "    </tr>\n",
              "    <tr>\n",
              "      <th>FAMI_EDUCACIONMADRE</th>\n",
              "      <th></th>\n",
              "    </tr>\n",
              "  </thead>\n",
              "  <tbody>\n",
              "    <tr>\n",
              "      <th>Secundaria (Bachillerato) completa</th>\n",
              "      <td>141744</td>\n",
              "    </tr>\n",
              "    <tr>\n",
              "      <th>Primaria incompleta</th>\n",
              "      <td>99420</td>\n",
              "    </tr>\n",
              "    <tr>\n",
              "      <th>Técnica o tecnológica completa</th>\n",
              "      <td>89542</td>\n",
              "    </tr>\n",
              "    <tr>\n",
              "      <th>Educación profesional completa</th>\n",
              "      <td>85326</td>\n",
              "    </tr>\n",
              "    <tr>\n",
              "      <th>Secundaria (Bachillerato) incompleta</th>\n",
              "      <td>81012</td>\n",
              "    </tr>\n",
              "    <tr>\n",
              "      <th>Primaria completa</th>\n",
              "      <td>56125</td>\n",
              "    </tr>\n",
              "    <tr>\n",
              "      <th>Postgrado</th>\n",
              "      <td>46246</td>\n",
              "    </tr>\n",
              "    <tr>\n",
              "      <th>No Aplica</th>\n",
              "      <td>43082</td>\n",
              "    </tr>\n",
              "    <tr>\n",
              "      <th>Técnica o tecnológica incompleta</th>\n",
              "      <td>27533</td>\n",
              "    </tr>\n",
              "    <tr>\n",
              "      <th>Educación profesional incompleta</th>\n",
              "      <td>22470</td>\n",
              "    </tr>\n",
              "  </tbody>\n",
              "</table>\n",
              "</div><br><label><b>dtype:</b> int64</label>"
            ]
          },
          "metadata": {},
          "execution_count": 250
        }
      ],
      "source": [
        "train['FAMI_EDUCACIONMADRE'].value_counts()"
      ]
    },
    {
      "cell_type": "markdown",
      "metadata": {
        "id": "ZQMssFo0SZCT"
      },
      "source": [
        "*Columna ESTU_VALORMATRICULAUNIVERSIDAD*"
      ]
    },
    {
      "cell_type": "code",
      "execution_count": null,
      "metadata": {
        "id": "jIVlQFPFSVY1",
        "colab": {
          "base_uri": "https://localhost:8080/"
        },
        "outputId": "b5bc30c0-422e-4c80-ef96-8391dd88aae0"
      },
      "outputs": [
        {
          "output_type": "execute_result",
          "data": {
            "text/plain": [
              "array(['Entre 5.5 millones y menos de 7 millones',\n",
              "       'Entre 2.5 millones y menos de 4 millones',\n",
              "       'Entre 4 millones y menos de 5.5 millones', 'Más de 7 millones',\n",
              "       'Entre 1 millón y menos de 2.5 millones',\n",
              "       'Entre 500 mil y menos de 1 millón', 'Menos de 500 mil',\n",
              "       'No pagó matrícula', nan], dtype=object)"
            ]
          },
          "metadata": {},
          "execution_count": 251
        }
      ],
      "source": [
        "train['ESTU_VALORMATRICULAUNIVERSIDAD'].unique()"
      ]
    },
    {
      "cell_type": "code",
      "execution_count": null,
      "metadata": {
        "id": "5CXQQkf3Sjec",
        "colab": {
          "base_uri": "https://localhost:8080/"
        },
        "outputId": "ae689125-8bdd-481c-d58f-e4e260b2785d"
      },
      "outputs": [
        {
          "output_type": "execute_result",
          "data": {
            "text/plain": [
              "6287"
            ]
          },
          "metadata": {},
          "execution_count": 252
        }
      ],
      "source": [
        "train['ESTU_VALORMATRICULAUNIVERSIDAD'].isna().sum()"
      ]
    },
    {
      "cell_type": "code",
      "execution_count": null,
      "metadata": {
        "id": "f7DHyfkbSnfC"
      },
      "outputs": [],
      "source": [
        "train['ESTU_VALORMATRICULAUNIVERSIDAD'] = train['ESTU_VALORMATRICULAUNIVERSIDAD'].fillna(\"No pagó matrícula\")"
      ]
    },
    {
      "cell_type": "code",
      "execution_count": null,
      "metadata": {
        "id": "rTy1d0GQTZVN",
        "colab": {
          "base_uri": "https://localhost:8080/",
          "height": 473
        },
        "outputId": "7a6b01a5-4bc9-4e61-d96d-4690d6fcf292"
      },
      "outputs": [
        {
          "output_type": "execute_result",
          "data": {
            "text/plain": [
              "ESTU_VALORMATRICULAUNIVERSIDAD\n",
              "Entre 1 millón y menos de 2.5 millones      204048\n",
              "Entre 2.5 millones y menos de 4 millones    127430\n",
              "Menos de 500 mil                             80263\n",
              "Entre 500 mil y menos de 1 millón            78704\n",
              "Entre 4 millones y menos de 5.5 millones     69736\n",
              "Más de 7 millones                            68014\n",
              "Entre 5.5 millones y menos de 7 millones     38490\n",
              "No pagó matrícula                            25815\n",
              "Name: count, dtype: int64"
            ],
            "text/html": [
              "<div>\n",
              "<style scoped>\n",
              "    .dataframe tbody tr th:only-of-type {\n",
              "        vertical-align: middle;\n",
              "    }\n",
              "\n",
              "    .dataframe tbody tr th {\n",
              "        vertical-align: top;\n",
              "    }\n",
              "\n",
              "    .dataframe thead th {\n",
              "        text-align: right;\n",
              "    }\n",
              "</style>\n",
              "<table border=\"1\" class=\"dataframe\">\n",
              "  <thead>\n",
              "    <tr style=\"text-align: right;\">\n",
              "      <th></th>\n",
              "      <th>count</th>\n",
              "    </tr>\n",
              "    <tr>\n",
              "      <th>ESTU_VALORMATRICULAUNIVERSIDAD</th>\n",
              "      <th></th>\n",
              "    </tr>\n",
              "  </thead>\n",
              "  <tbody>\n",
              "    <tr>\n",
              "      <th>Entre 1 millón y menos de 2.5 millones</th>\n",
              "      <td>204048</td>\n",
              "    </tr>\n",
              "    <tr>\n",
              "      <th>Entre 2.5 millones y menos de 4 millones</th>\n",
              "      <td>127430</td>\n",
              "    </tr>\n",
              "    <tr>\n",
              "      <th>Menos de 500 mil</th>\n",
              "      <td>80263</td>\n",
              "    </tr>\n",
              "    <tr>\n",
              "      <th>Entre 500 mil y menos de 1 millón</th>\n",
              "      <td>78704</td>\n",
              "    </tr>\n",
              "    <tr>\n",
              "      <th>Entre 4 millones y menos de 5.5 millones</th>\n",
              "      <td>69736</td>\n",
              "    </tr>\n",
              "    <tr>\n",
              "      <th>Más de 7 millones</th>\n",
              "      <td>68014</td>\n",
              "    </tr>\n",
              "    <tr>\n",
              "      <th>Entre 5.5 millones y menos de 7 millones</th>\n",
              "      <td>38490</td>\n",
              "    </tr>\n",
              "    <tr>\n",
              "      <th>No pagó matrícula</th>\n",
              "      <td>25815</td>\n",
              "    </tr>\n",
              "  </tbody>\n",
              "</table>\n",
              "</div><br><label><b>dtype:</b> int64</label>"
            ]
          },
          "metadata": {},
          "execution_count": 254
        }
      ],
      "source": [
        "train['ESTU_VALORMATRICULAUNIVERSIDAD'].value_counts()"
      ]
    },
    {
      "cell_type": "markdown",
      "metadata": {
        "id": "NeokyArHU2pg"
      },
      "source": [
        "*Columna ESTU_HORASSEMANATRABAJA*"
      ]
    },
    {
      "cell_type": "code",
      "execution_count": null,
      "metadata": {
        "id": "mJ0tmpKGU2T8",
        "colab": {
          "base_uri": "https://localhost:8080/"
        },
        "outputId": "5f7cea7d-add0-4455-a83a-44f13e2a7a3d"
      },
      "outputs": [
        {
          "output_type": "execute_result",
          "data": {
            "text/plain": [
              "array(['Menos de 10 horas', '0', 'Más de 30 horas', 'Entre 21 y 30 horas',\n",
              "       'Entre 11 y 20 horas', nan], dtype=object)"
            ]
          },
          "metadata": {},
          "execution_count": 255
        }
      ],
      "source": [
        "train['ESTU_HORASSEMANATRABAJA'].unique()"
      ]
    },
    {
      "cell_type": "code",
      "execution_count": null,
      "metadata": {
        "id": "7DBYAt9YVJoU",
        "colab": {
          "base_uri": "https://localhost:8080/",
          "height": 309
        },
        "outputId": "e4b52b86-8042-428e-ed66-7c4d91b005cc"
      },
      "outputs": [
        {
          "output_type": "execute_result",
          "data": {
            "text/plain": [
              "ESTU_HORASSEMANATRABAJA\n",
              "Más de 30 horas        249352\n",
              "0                      116550\n",
              "Entre 11 y 20 horas    115857\n",
              "Entre 21 y 30 horas     92693\n",
              "Menos de 10 horas       87191\n",
              "Name: count, dtype: int64"
            ],
            "text/html": [
              "<div>\n",
              "<style scoped>\n",
              "    .dataframe tbody tr th:only-of-type {\n",
              "        vertical-align: middle;\n",
              "    }\n",
              "\n",
              "    .dataframe tbody tr th {\n",
              "        vertical-align: top;\n",
              "    }\n",
              "\n",
              "    .dataframe thead th {\n",
              "        text-align: right;\n",
              "    }\n",
              "</style>\n",
              "<table border=\"1\" class=\"dataframe\">\n",
              "  <thead>\n",
              "    <tr style=\"text-align: right;\">\n",
              "      <th></th>\n",
              "      <th>count</th>\n",
              "    </tr>\n",
              "    <tr>\n",
              "      <th>ESTU_HORASSEMANATRABAJA</th>\n",
              "      <th></th>\n",
              "    </tr>\n",
              "  </thead>\n",
              "  <tbody>\n",
              "    <tr>\n",
              "      <th>Más de 30 horas</th>\n",
              "      <td>249352</td>\n",
              "    </tr>\n",
              "    <tr>\n",
              "      <th>0</th>\n",
              "      <td>116550</td>\n",
              "    </tr>\n",
              "    <tr>\n",
              "      <th>Entre 11 y 20 horas</th>\n",
              "      <td>115857</td>\n",
              "    </tr>\n",
              "    <tr>\n",
              "      <th>Entre 21 y 30 horas</th>\n",
              "      <td>92693</td>\n",
              "    </tr>\n",
              "    <tr>\n",
              "      <th>Menos de 10 horas</th>\n",
              "      <td>87191</td>\n",
              "    </tr>\n",
              "  </tbody>\n",
              "</table>\n",
              "</div><br><label><b>dtype:</b> int64</label>"
            ]
          },
          "metadata": {},
          "execution_count": 256
        }
      ],
      "source": [
        "train['ESTU_HORASSEMANATRABAJA'].value_counts()"
      ]
    },
    {
      "cell_type": "code",
      "execution_count": null,
      "metadata": {
        "id": "qOSMjXsOVVfB",
        "colab": {
          "base_uri": "https://localhost:8080/"
        },
        "outputId": "b0d648b7-927c-4530-c2fb-c4ffea5a003e"
      },
      "outputs": [
        {
          "output_type": "execute_result",
          "data": {
            "text/plain": [
              "30857"
            ]
          },
          "metadata": {},
          "execution_count": 257
        }
      ],
      "source": [
        "train['ESTU_HORASSEMANATRABAJA'].isna().sum()"
      ]
    },
    {
      "cell_type": "code",
      "execution_count": null,
      "metadata": {
        "id": "2-0zWrdpVWMm"
      },
      "outputs": [],
      "source": [
        "train['ESTU_HORASSEMANATRABAJA'] = train['ESTU_HORASSEMANATRABAJA'].fillna('0')"
      ]
    },
    {
      "cell_type": "code",
      "execution_count": null,
      "metadata": {
        "id": "Tqq4NmMvXPNM",
        "colab": {
          "base_uri": "https://localhost:8080/",
          "height": 309
        },
        "outputId": "3d0c621c-bab1-48ff-a6a3-28fb51e41525"
      },
      "outputs": [
        {
          "output_type": "execute_result",
          "data": {
            "text/plain": [
              "ESTU_HORASSEMANATRABAJA\n",
              "Más de 30 horas        249352\n",
              "0                      147407\n",
              "Entre 11 y 20 horas    115857\n",
              "Entre 21 y 30 horas     92693\n",
              "Menos de 10 horas       87191\n",
              "Name: count, dtype: int64"
            ],
            "text/html": [
              "<div>\n",
              "<style scoped>\n",
              "    .dataframe tbody tr th:only-of-type {\n",
              "        vertical-align: middle;\n",
              "    }\n",
              "\n",
              "    .dataframe tbody tr th {\n",
              "        vertical-align: top;\n",
              "    }\n",
              "\n",
              "    .dataframe thead th {\n",
              "        text-align: right;\n",
              "    }\n",
              "</style>\n",
              "<table border=\"1\" class=\"dataframe\">\n",
              "  <thead>\n",
              "    <tr style=\"text-align: right;\">\n",
              "      <th></th>\n",
              "      <th>count</th>\n",
              "    </tr>\n",
              "    <tr>\n",
              "      <th>ESTU_HORASSEMANATRABAJA</th>\n",
              "      <th></th>\n",
              "    </tr>\n",
              "  </thead>\n",
              "  <tbody>\n",
              "    <tr>\n",
              "      <th>Más de 30 horas</th>\n",
              "      <td>249352</td>\n",
              "    </tr>\n",
              "    <tr>\n",
              "      <th>0</th>\n",
              "      <td>147407</td>\n",
              "    </tr>\n",
              "    <tr>\n",
              "      <th>Entre 11 y 20 horas</th>\n",
              "      <td>115857</td>\n",
              "    </tr>\n",
              "    <tr>\n",
              "      <th>Entre 21 y 30 horas</th>\n",
              "      <td>92693</td>\n",
              "    </tr>\n",
              "    <tr>\n",
              "      <th>Menos de 10 horas</th>\n",
              "      <td>87191</td>\n",
              "    </tr>\n",
              "  </tbody>\n",
              "</table>\n",
              "</div><br><label><b>dtype:</b> int64</label>"
            ]
          },
          "metadata": {},
          "execution_count": 259
        }
      ],
      "source": [
        "train['ESTU_HORASSEMANATRABAJA'].value_counts()"
      ]
    },
    {
      "cell_type": "markdown",
      "metadata": {
        "id": "aG4DWIqvXyBU"
      },
      "source": [
        "*Columna ESTU_PAGOMATRICULAPROPIO*"
      ]
    },
    {
      "cell_type": "code",
      "execution_count": null,
      "metadata": {
        "id": "Ed4j4q17X38P",
        "colab": {
          "base_uri": "https://localhost:8080/"
        },
        "outputId": "a10cb631-1b80-4d0c-d9e5-cd116c5a0c5b"
      },
      "outputs": [
        {
          "output_type": "execute_result",
          "data": {
            "text/plain": [
              "array(['No', 'Si', nan], dtype=object)"
            ]
          },
          "metadata": {},
          "execution_count": 260
        }
      ],
      "source": [
        "train['ESTU_PAGOMATRICULAPROPIO'].unique()"
      ]
    },
    {
      "cell_type": "code",
      "execution_count": null,
      "metadata": {
        "id": "vZIndcoWX7tb",
        "colab": {
          "base_uri": "https://localhost:8080/"
        },
        "outputId": "40aa6611-c6ff-4933-8e7a-0de124d6a702"
      },
      "outputs": [
        {
          "output_type": "execute_result",
          "data": {
            "text/plain": [
              "6498"
            ]
          },
          "metadata": {},
          "execution_count": 261
        }
      ],
      "source": [
        "train['ESTU_PAGOMATRICULAPROPIO'].isna().sum()"
      ]
    },
    {
      "cell_type": "code",
      "execution_count": null,
      "metadata": {
        "id": "fgFCsMcQYMt5"
      },
      "outputs": [],
      "source": [
        "train['ESTU_PAGOMATRICULAPROPIO'] = train['ESTU_PAGOMATRICULAPROPIO'].fillna('No')"
      ]
    },
    {
      "cell_type": "code",
      "execution_count": null,
      "metadata": {
        "id": "tgARLDyQYSun",
        "colab": {
          "base_uri": "https://localhost:8080/",
          "height": 215
        },
        "outputId": "c1fad464-e2d4-491b-8ac8-34c5066b7101"
      },
      "outputs": [
        {
          "output_type": "execute_result",
          "data": {
            "text/plain": [
              "ESTU_PAGOMATRICULAPROPIO\n",
              "No    388699\n",
              "Si    303801\n",
              "Name: count, dtype: int64"
            ],
            "text/html": [
              "<div>\n",
              "<style scoped>\n",
              "    .dataframe tbody tr th:only-of-type {\n",
              "        vertical-align: middle;\n",
              "    }\n",
              "\n",
              "    .dataframe tbody tr th {\n",
              "        vertical-align: top;\n",
              "    }\n",
              "\n",
              "    .dataframe thead th {\n",
              "        text-align: right;\n",
              "    }\n",
              "</style>\n",
              "<table border=\"1\" class=\"dataframe\">\n",
              "  <thead>\n",
              "    <tr style=\"text-align: right;\">\n",
              "      <th></th>\n",
              "      <th>count</th>\n",
              "    </tr>\n",
              "    <tr>\n",
              "      <th>ESTU_PAGOMATRICULAPROPIO</th>\n",
              "      <th></th>\n",
              "    </tr>\n",
              "  </thead>\n",
              "  <tbody>\n",
              "    <tr>\n",
              "      <th>No</th>\n",
              "      <td>388699</td>\n",
              "    </tr>\n",
              "    <tr>\n",
              "      <th>Si</th>\n",
              "      <td>303801</td>\n",
              "    </tr>\n",
              "  </tbody>\n",
              "</table>\n",
              "</div><br><label><b>dtype:</b> int64</label>"
            ]
          },
          "metadata": {},
          "execution_count": 263
        }
      ],
      "source": [
        "train['ESTU_PAGOMATRICULAPROPIO'].value_counts()"
      ]
    },
    {
      "cell_type": "markdown",
      "metadata": {
        "id": "LdNGcfe2YZ26"
      },
      "source": [
        "## **3. Sustituimos los valores \"Sí\" / \"No\" por \"1\" / \"0\" respectivamente**"
      ]
    },
    {
      "cell_type": "markdown",
      "metadata": {
        "id": "jGBoe3M1ZTib"
      },
      "source": [
        "*Columna FAMI_TIENEINTERNET*\n",
        "\n"
      ]
    },
    {
      "cell_type": "code",
      "execution_count": null,
      "metadata": {
        "id": "ZFETD0WWZd93",
        "colab": {
          "base_uri": "https://localhost:8080/",
          "height": 250
        },
        "outputId": "ff43f505-3d07-438d-9a85-82bf3f5b4719"
      },
      "outputs": [
        {
          "output_type": "stream",
          "name": "stderr",
          "text": [
            "<ipython-input-264-6371c068c386>:2: FutureWarning: Downcasting behavior in `replace` is deprecated and will be removed in a future version. To retain the old behavior, explicitly call `result.infer_objects(copy=False)`. To opt-in to the future behavior, set `pd.set_option('future.no_silent_downcasting', True)`\n",
            "  train['FAMI_TIENEINTERNET'] = train['FAMI_TIENEINTERNET'].replace(r'No', 0.0)\n"
          ]
        },
        {
          "output_type": "execute_result",
          "data": {
            "text/plain": [
              "FAMI_TIENEINTERNET\n",
              "1.0    592514\n",
              "0.0     99986\n",
              "Name: count, dtype: int64"
            ],
            "text/html": [
              "<div>\n",
              "<style scoped>\n",
              "    .dataframe tbody tr th:only-of-type {\n",
              "        vertical-align: middle;\n",
              "    }\n",
              "\n",
              "    .dataframe tbody tr th {\n",
              "        vertical-align: top;\n",
              "    }\n",
              "\n",
              "    .dataframe thead th {\n",
              "        text-align: right;\n",
              "    }\n",
              "</style>\n",
              "<table border=\"1\" class=\"dataframe\">\n",
              "  <thead>\n",
              "    <tr style=\"text-align: right;\">\n",
              "      <th></th>\n",
              "      <th>count</th>\n",
              "    </tr>\n",
              "    <tr>\n",
              "      <th>FAMI_TIENEINTERNET</th>\n",
              "      <th></th>\n",
              "    </tr>\n",
              "  </thead>\n",
              "  <tbody>\n",
              "    <tr>\n",
              "      <th>1.0</th>\n",
              "      <td>592514</td>\n",
              "    </tr>\n",
              "    <tr>\n",
              "      <th>0.0</th>\n",
              "      <td>99986</td>\n",
              "    </tr>\n",
              "  </tbody>\n",
              "</table>\n",
              "</div><br><label><b>dtype:</b> int64</label>"
            ]
          },
          "metadata": {},
          "execution_count": 264
        }
      ],
      "source": [
        "train['FAMI_TIENEINTERNET'] = train['FAMI_TIENEINTERNET'].replace(r'Si', 1.0)\n",
        "train['FAMI_TIENEINTERNET'] = train['FAMI_TIENEINTERNET'].replace(r'No', 0.0)\n",
        "train['FAMI_TIENEINTERNET'].value_counts()"
      ]
    },
    {
      "cell_type": "markdown",
      "metadata": {
        "id": "-3DZ2u-lZ5wi"
      },
      "source": [
        "*Columna ESTU_PAGOMATRICULAPROPIO*\n"
      ]
    },
    {
      "cell_type": "code",
      "execution_count": null,
      "metadata": {
        "id": "HHthnjFRcByb",
        "colab": {
          "base_uri": "https://localhost:8080/",
          "height": 250
        },
        "outputId": "340832dc-96a5-4dcd-e8a0-9277979e1a99"
      },
      "outputs": [
        {
          "output_type": "stream",
          "name": "stderr",
          "text": [
            "<ipython-input-265-e0ba6fd8b872>:2: FutureWarning: Downcasting behavior in `replace` is deprecated and will be removed in a future version. To retain the old behavior, explicitly call `result.infer_objects(copy=False)`. To opt-in to the future behavior, set `pd.set_option('future.no_silent_downcasting', True)`\n",
            "  train['ESTU_PAGOMATRICULAPROPIO'] = train['ESTU_PAGOMATRICULAPROPIO'].replace(r'No', 0.0)\n"
          ]
        },
        {
          "output_type": "execute_result",
          "data": {
            "text/plain": [
              "ESTU_PAGOMATRICULAPROPIO\n",
              "0.0    388699\n",
              "1.0    303801\n",
              "Name: count, dtype: int64"
            ],
            "text/html": [
              "<div>\n",
              "<style scoped>\n",
              "    .dataframe tbody tr th:only-of-type {\n",
              "        vertical-align: middle;\n",
              "    }\n",
              "\n",
              "    .dataframe tbody tr th {\n",
              "        vertical-align: top;\n",
              "    }\n",
              "\n",
              "    .dataframe thead th {\n",
              "        text-align: right;\n",
              "    }\n",
              "</style>\n",
              "<table border=\"1\" class=\"dataframe\">\n",
              "  <thead>\n",
              "    <tr style=\"text-align: right;\">\n",
              "      <th></th>\n",
              "      <th>count</th>\n",
              "    </tr>\n",
              "    <tr>\n",
              "      <th>ESTU_PAGOMATRICULAPROPIO</th>\n",
              "      <th></th>\n",
              "    </tr>\n",
              "  </thead>\n",
              "  <tbody>\n",
              "    <tr>\n",
              "      <th>0.0</th>\n",
              "      <td>388699</td>\n",
              "    </tr>\n",
              "    <tr>\n",
              "      <th>1.0</th>\n",
              "      <td>303801</td>\n",
              "    </tr>\n",
              "  </tbody>\n",
              "</table>\n",
              "</div><br><label><b>dtype:</b> int64</label>"
            ]
          },
          "metadata": {},
          "execution_count": 265
        }
      ],
      "source": [
        "train['ESTU_PAGOMATRICULAPROPIO'] = train['ESTU_PAGOMATRICULAPROPIO'].replace(r'Si', 1.0)\n",
        "train['ESTU_PAGOMATRICULAPROPIO'] = train['ESTU_PAGOMATRICULAPROPIO'].replace(r'No', 0.0)\n",
        "train['ESTU_PAGOMATRICULAPROPIO'].value_counts()"
      ]
    },
    {
      "cell_type": "markdown",
      "metadata": {
        "id": "MYWvIZLwZ8ZT"
      },
      "source": [
        "*Columna FAMI_TIENEINTERNET*"
      ]
    },
    {
      "cell_type": "code",
      "execution_count": null,
      "metadata": {
        "id": "v7h3sR7VcSzV",
        "colab": {
          "base_uri": "https://localhost:8080/",
          "height": 215
        },
        "outputId": "c31938ff-067a-4058-9cd1-a64ac47ff52a"
      },
      "outputs": [
        {
          "output_type": "execute_result",
          "data": {
            "text/plain": [
              "FAMI_TIENEINTERNET\n",
              "1.0    592514\n",
              "0.0     99986\n",
              "Name: count, dtype: int64"
            ],
            "text/html": [
              "<div>\n",
              "<style scoped>\n",
              "    .dataframe tbody tr th:only-of-type {\n",
              "        vertical-align: middle;\n",
              "    }\n",
              "\n",
              "    .dataframe tbody tr th {\n",
              "        vertical-align: top;\n",
              "    }\n",
              "\n",
              "    .dataframe thead th {\n",
              "        text-align: right;\n",
              "    }\n",
              "</style>\n",
              "<table border=\"1\" class=\"dataframe\">\n",
              "  <thead>\n",
              "    <tr style=\"text-align: right;\">\n",
              "      <th></th>\n",
              "      <th>count</th>\n",
              "    </tr>\n",
              "    <tr>\n",
              "      <th>FAMI_TIENEINTERNET</th>\n",
              "      <th></th>\n",
              "    </tr>\n",
              "  </thead>\n",
              "  <tbody>\n",
              "    <tr>\n",
              "      <th>1.0</th>\n",
              "      <td>592514</td>\n",
              "    </tr>\n",
              "    <tr>\n",
              "      <th>0.0</th>\n",
              "      <td>99986</td>\n",
              "    </tr>\n",
              "  </tbody>\n",
              "</table>\n",
              "</div><br><label><b>dtype:</b> int64</label>"
            ]
          },
          "metadata": {},
          "execution_count": 266
        }
      ],
      "source": [
        "train['FAMI_TIENEINTERNET'] = train['FAMI_TIENEINTERNET'].replace(r'Si', 1.0)\n",
        "train['FAMI_TIENEINTERNET'] = train['FAMI_TIENEINTERNET'].replace(r'No', 0.0)\n",
        "train['FAMI_TIENEINTERNET'].value_counts()"
      ]
    },
    {
      "cell_type": "markdown",
      "metadata": {
        "id": "hTMWMhgOeCPI"
      },
      "source": [
        "##**4. Usamos One Hot para categorizar las columnas**"
      ]
    },
    {
      "cell_type": "markdown",
      "metadata": {
        "id": "uavhHKakeJSu"
      },
      "source": [
        "*Columna FAMI_ESTRATOVIVIENDA*\n"
      ]
    },
    {
      "cell_type": "code",
      "execution_count": null,
      "metadata": {
        "id": "OZDqmdwyeiNv",
        "colab": {
          "base_uri": "https://localhost:8080/"
        },
        "outputId": "c32715fa-95ae-476b-8683-3aa9c5ecc26b"
      },
      "outputs": [
        {
          "output_type": "execute_result",
          "data": {
            "text/plain": [
              "array(['Estrato 3', 'Estrato 4', 'Estrato 5', 'Estrato 2', 'Estrato 1',\n",
              "       'Estrato 6', 'Sin Estrato'], dtype=object)"
            ]
          },
          "metadata": {},
          "execution_count": 267
        }
      ],
      "source": [
        "train['FAMI_ESTRATOVIVIENDA'].unique()"
      ]
    },
    {
      "cell_type": "code",
      "execution_count": null,
      "metadata": {
        "id": "62IbmGbmeesn"
      },
      "outputs": [],
      "source": [
        "estratos = ['Sin Estrato','Estrato 1','Estrato 2',\n",
        "            'Estrato 3', 'Estrato 4', 'Estrato 5',\n",
        "            'Estrato 6']\n",
        "enc = OrdinalEncoder(categories = [estratos])\n",
        "train['FAMI_ESTRATOVIVIENDA'] = enc.fit_transform(train[['FAMI_ESTRATOVIVIENDA']])"
      ]
    },
    {
      "cell_type": "code",
      "execution_count": null,
      "metadata": {
        "id": "7AB0p7ReegSY",
        "colab": {
          "base_uri": "https://localhost:8080/",
          "height": 372
        },
        "outputId": "ce3631b1-fd8a-4102-a1e5-1a14a3d5c6d4"
      },
      "outputs": [
        {
          "output_type": "execute_result",
          "data": {
            "text/plain": [
              "FAMI_ESTRATOVIVIENDA\n",
              "2.0    264808\n",
              "3.0    210685\n",
              "1.0    111991\n",
              "4.0     65514\n",
              "5.0     23608\n",
              "6.0     12605\n",
              "0.0      3289\n",
              "Name: count, dtype: int64"
            ],
            "text/html": [
              "<div>\n",
              "<style scoped>\n",
              "    .dataframe tbody tr th:only-of-type {\n",
              "        vertical-align: middle;\n",
              "    }\n",
              "\n",
              "    .dataframe tbody tr th {\n",
              "        vertical-align: top;\n",
              "    }\n",
              "\n",
              "    .dataframe thead th {\n",
              "        text-align: right;\n",
              "    }\n",
              "</style>\n",
              "<table border=\"1\" class=\"dataframe\">\n",
              "  <thead>\n",
              "    <tr style=\"text-align: right;\">\n",
              "      <th></th>\n",
              "      <th>count</th>\n",
              "    </tr>\n",
              "    <tr>\n",
              "      <th>FAMI_ESTRATOVIVIENDA</th>\n",
              "      <th></th>\n",
              "    </tr>\n",
              "  </thead>\n",
              "  <tbody>\n",
              "    <tr>\n",
              "      <th>2.0</th>\n",
              "      <td>264808</td>\n",
              "    </tr>\n",
              "    <tr>\n",
              "      <th>3.0</th>\n",
              "      <td>210685</td>\n",
              "    </tr>\n",
              "    <tr>\n",
              "      <th>1.0</th>\n",
              "      <td>111991</td>\n",
              "    </tr>\n",
              "    <tr>\n",
              "      <th>4.0</th>\n",
              "      <td>65514</td>\n",
              "    </tr>\n",
              "    <tr>\n",
              "      <th>5.0</th>\n",
              "      <td>23608</td>\n",
              "    </tr>\n",
              "    <tr>\n",
              "      <th>6.0</th>\n",
              "      <td>12605</td>\n",
              "    </tr>\n",
              "    <tr>\n",
              "      <th>0.0</th>\n",
              "      <td>3289</td>\n",
              "    </tr>\n",
              "  </tbody>\n",
              "</table>\n",
              "</div><br><label><b>dtype:</b> int64</label>"
            ]
          },
          "metadata": {},
          "execution_count": 269
        }
      ],
      "source": [
        "train['FAMI_ESTRATOVIVIENDA'].value_counts()"
      ]
    },
    {
      "cell_type": "code",
      "execution_count": null,
      "metadata": {
        "id": "le0VwKOmW1Vh",
        "colab": {
          "base_uri": "https://localhost:8080/",
          "height": 372
        },
        "outputId": "86e18383-3211-4df6-8a3e-c34cdd44af24"
      },
      "outputs": [
        {
          "output_type": "execute_result",
          "data": {
            "text/plain": [
              "FAMI_ESTRATOVIVIENDA\n",
              "0.333333    264808\n",
              "0.500000    210685\n",
              "0.166667    111991\n",
              "0.666667     65514\n",
              "0.833333     23608\n",
              "1.000000     12605\n",
              "0.000000      3289\n",
              "Name: count, dtype: int64"
            ],
            "text/html": [
              "<div>\n",
              "<style scoped>\n",
              "    .dataframe tbody tr th:only-of-type {\n",
              "        vertical-align: middle;\n",
              "    }\n",
              "\n",
              "    .dataframe tbody tr th {\n",
              "        vertical-align: top;\n",
              "    }\n",
              "\n",
              "    .dataframe thead th {\n",
              "        text-align: right;\n",
              "    }\n",
              "</style>\n",
              "<table border=\"1\" class=\"dataframe\">\n",
              "  <thead>\n",
              "    <tr style=\"text-align: right;\">\n",
              "      <th></th>\n",
              "      <th>count</th>\n",
              "    </tr>\n",
              "    <tr>\n",
              "      <th>FAMI_ESTRATOVIVIENDA</th>\n",
              "      <th></th>\n",
              "    </tr>\n",
              "  </thead>\n",
              "  <tbody>\n",
              "    <tr>\n",
              "      <th>0.333333</th>\n",
              "      <td>264808</td>\n",
              "    </tr>\n",
              "    <tr>\n",
              "      <th>0.500000</th>\n",
              "      <td>210685</td>\n",
              "    </tr>\n",
              "    <tr>\n",
              "      <th>0.166667</th>\n",
              "      <td>111991</td>\n",
              "    </tr>\n",
              "    <tr>\n",
              "      <th>0.666667</th>\n",
              "      <td>65514</td>\n",
              "    </tr>\n",
              "    <tr>\n",
              "      <th>0.833333</th>\n",
              "      <td>23608</td>\n",
              "    </tr>\n",
              "    <tr>\n",
              "      <th>1.000000</th>\n",
              "      <td>12605</td>\n",
              "    </tr>\n",
              "    <tr>\n",
              "      <th>0.000000</th>\n",
              "      <td>3289</td>\n",
              "    </tr>\n",
              "  </tbody>\n",
              "</table>\n",
              "</div><br><label><b>dtype:</b> int64</label>"
            ]
          },
          "metadata": {},
          "execution_count": 270
        }
      ],
      "source": [
        "scaler = MinMaxScaler()\n",
        "train['FAMI_ESTRATOVIVIENDA'] = scaler.fit_transform(train[['FAMI_ESTRATOVIVIENDA']])\n",
        "train['FAMI_ESTRATOVIVIENDA'].value_counts()"
      ]
    },
    {
      "cell_type": "markdown",
      "metadata": {
        "id": "P2kdTpCUeTn8"
      },
      "source": [
        "*Columna FAMI_EDUCACIONPADRE*\n"
      ]
    },
    {
      "cell_type": "code",
      "execution_count": null,
      "metadata": {
        "id": "DjEULVFBewDm",
        "colab": {
          "base_uri": "https://localhost:8080/",
          "height": 623
        },
        "outputId": "c47c011a-a132-4829-bd0e-db1e9d79f156"
      },
      "outputs": [
        {
          "output_type": "execute_result",
          "data": {
            "text/plain": [
              "FAMI_EDUCACIONPADRE\n",
              "Secundaria (Bachillerato) completa      128289\n",
              "Primaria incompleta                     125675\n",
              "Educación profesional completa           83117\n",
              "Secundaria (Bachillerato) incompleta     71654\n",
              "No Aplica                                71007\n",
              "Técnica o tecnológica completa           62995\n",
              "Primaria completa                        55958\n",
              "Postgrado                                44169\n",
              "Educación profesional incompleta         27084\n",
              "Técnica o tecnológica incompleta         22552\n",
              "Name: count, dtype: int64"
            ],
            "text/html": [
              "<div>\n",
              "<style scoped>\n",
              "    .dataframe tbody tr th:only-of-type {\n",
              "        vertical-align: middle;\n",
              "    }\n",
              "\n",
              "    .dataframe tbody tr th {\n",
              "        vertical-align: top;\n",
              "    }\n",
              "\n",
              "    .dataframe thead th {\n",
              "        text-align: right;\n",
              "    }\n",
              "</style>\n",
              "<table border=\"1\" class=\"dataframe\">\n",
              "  <thead>\n",
              "    <tr style=\"text-align: right;\">\n",
              "      <th></th>\n",
              "      <th>count</th>\n",
              "    </tr>\n",
              "    <tr>\n",
              "      <th>FAMI_EDUCACIONPADRE</th>\n",
              "      <th></th>\n",
              "    </tr>\n",
              "  </thead>\n",
              "  <tbody>\n",
              "    <tr>\n",
              "      <th>Secundaria (Bachillerato) completa</th>\n",
              "      <td>128289</td>\n",
              "    </tr>\n",
              "    <tr>\n",
              "      <th>Primaria incompleta</th>\n",
              "      <td>125675</td>\n",
              "    </tr>\n",
              "    <tr>\n",
              "      <th>Educación profesional completa</th>\n",
              "      <td>83117</td>\n",
              "    </tr>\n",
              "    <tr>\n",
              "      <th>Secundaria (Bachillerato) incompleta</th>\n",
              "      <td>71654</td>\n",
              "    </tr>\n",
              "    <tr>\n",
              "      <th>No Aplica</th>\n",
              "      <td>71007</td>\n",
              "    </tr>\n",
              "    <tr>\n",
              "      <th>Técnica o tecnológica completa</th>\n",
              "      <td>62995</td>\n",
              "    </tr>\n",
              "    <tr>\n",
              "      <th>Primaria completa</th>\n",
              "      <td>55958</td>\n",
              "    </tr>\n",
              "    <tr>\n",
              "      <th>Postgrado</th>\n",
              "      <td>44169</td>\n",
              "    </tr>\n",
              "    <tr>\n",
              "      <th>Educación profesional incompleta</th>\n",
              "      <td>27084</td>\n",
              "    </tr>\n",
              "    <tr>\n",
              "      <th>Técnica o tecnológica incompleta</th>\n",
              "      <td>22552</td>\n",
              "    </tr>\n",
              "  </tbody>\n",
              "</table>\n",
              "</div><br><label><b>dtype:</b> int64</label>"
            ]
          },
          "metadata": {},
          "execution_count": 271
        }
      ],
      "source": [
        "train['FAMI_EDUCACIONPADRE'].value_counts()"
      ]
    },
    {
      "cell_type": "code",
      "execution_count": null,
      "metadata": {
        "id": "JC4QNzuBe9Oc"
      },
      "outputs": [],
      "source": [
        "educacionPadre = ['No Aplica','Primaria incompleta','Primaria completa',\n",
        "            'Secundaria (Bachillerato) incompleta', 'Secundaria (Bachillerato) completa', 'Técnica o tecnológica incompleta',\n",
        "            'Técnica o tecnológica completa', 'Educación profesional incompleta', 'Educación profesional completa',\n",
        "            'Postgrado']\n",
        "enc = OrdinalEncoder(categories = [educacionPadre])\n",
        "train['FAMI_EDUCACIONPADRE'] = enc.fit_transform(train[['FAMI_EDUCACIONPADRE']])"
      ]
    },
    {
      "cell_type": "code",
      "execution_count": null,
      "metadata": {
        "id": "ZkysJkLyfMbk",
        "colab": {
          "base_uri": "https://localhost:8080/",
          "height": 466
        },
        "outputId": "415549de-8245-4ce0-e79f-ed64c5936e48"
      },
      "outputs": [
        {
          "output_type": "execute_result",
          "data": {
            "text/plain": [
              "FAMI_EDUCACIONPADRE\n",
              "4.0    128289\n",
              "1.0    125675\n",
              "8.0     83117\n",
              "3.0     71654\n",
              "0.0     71007\n",
              "6.0     62995\n",
              "2.0     55958\n",
              "9.0     44169\n",
              "7.0     27084\n",
              "5.0     22552\n",
              "Name: count, dtype: int64"
            ],
            "text/html": [
              "<div>\n",
              "<style scoped>\n",
              "    .dataframe tbody tr th:only-of-type {\n",
              "        vertical-align: middle;\n",
              "    }\n",
              "\n",
              "    .dataframe tbody tr th {\n",
              "        vertical-align: top;\n",
              "    }\n",
              "\n",
              "    .dataframe thead th {\n",
              "        text-align: right;\n",
              "    }\n",
              "</style>\n",
              "<table border=\"1\" class=\"dataframe\">\n",
              "  <thead>\n",
              "    <tr style=\"text-align: right;\">\n",
              "      <th></th>\n",
              "      <th>count</th>\n",
              "    </tr>\n",
              "    <tr>\n",
              "      <th>FAMI_EDUCACIONPADRE</th>\n",
              "      <th></th>\n",
              "    </tr>\n",
              "  </thead>\n",
              "  <tbody>\n",
              "    <tr>\n",
              "      <th>4.0</th>\n",
              "      <td>128289</td>\n",
              "    </tr>\n",
              "    <tr>\n",
              "      <th>1.0</th>\n",
              "      <td>125675</td>\n",
              "    </tr>\n",
              "    <tr>\n",
              "      <th>8.0</th>\n",
              "      <td>83117</td>\n",
              "    </tr>\n",
              "    <tr>\n",
              "      <th>3.0</th>\n",
              "      <td>71654</td>\n",
              "    </tr>\n",
              "    <tr>\n",
              "      <th>0.0</th>\n",
              "      <td>71007</td>\n",
              "    </tr>\n",
              "    <tr>\n",
              "      <th>6.0</th>\n",
              "      <td>62995</td>\n",
              "    </tr>\n",
              "    <tr>\n",
              "      <th>2.0</th>\n",
              "      <td>55958</td>\n",
              "    </tr>\n",
              "    <tr>\n",
              "      <th>9.0</th>\n",
              "      <td>44169</td>\n",
              "    </tr>\n",
              "    <tr>\n",
              "      <th>7.0</th>\n",
              "      <td>27084</td>\n",
              "    </tr>\n",
              "    <tr>\n",
              "      <th>5.0</th>\n",
              "      <td>22552</td>\n",
              "    </tr>\n",
              "  </tbody>\n",
              "</table>\n",
              "</div><br><label><b>dtype:</b> int64</label>"
            ]
          },
          "metadata": {},
          "execution_count": 273
        }
      ],
      "source": [
        "train['FAMI_EDUCACIONPADRE'].value_counts()"
      ]
    },
    {
      "cell_type": "code",
      "execution_count": null,
      "metadata": {
        "id": "oF2A4-v7XDgF",
        "colab": {
          "base_uri": "https://localhost:8080/",
          "height": 466
        },
        "outputId": "4d32ba9e-fd28-4ff3-f5f1-f38563fbdc01"
      },
      "outputs": [
        {
          "output_type": "execute_result",
          "data": {
            "text/plain": [
              "FAMI_EDUCACIONPADRE\n",
              "0.444444    128289\n",
              "0.111111    125675\n",
              "0.888889     83117\n",
              "0.333333     71654\n",
              "0.000000     71007\n",
              "0.666667     62995\n",
              "0.222222     55958\n",
              "1.000000     44169\n",
              "0.777778     27084\n",
              "0.555556     22552\n",
              "Name: count, dtype: int64"
            ],
            "text/html": [
              "<div>\n",
              "<style scoped>\n",
              "    .dataframe tbody tr th:only-of-type {\n",
              "        vertical-align: middle;\n",
              "    }\n",
              "\n",
              "    .dataframe tbody tr th {\n",
              "        vertical-align: top;\n",
              "    }\n",
              "\n",
              "    .dataframe thead th {\n",
              "        text-align: right;\n",
              "    }\n",
              "</style>\n",
              "<table border=\"1\" class=\"dataframe\">\n",
              "  <thead>\n",
              "    <tr style=\"text-align: right;\">\n",
              "      <th></th>\n",
              "      <th>count</th>\n",
              "    </tr>\n",
              "    <tr>\n",
              "      <th>FAMI_EDUCACIONPADRE</th>\n",
              "      <th></th>\n",
              "    </tr>\n",
              "  </thead>\n",
              "  <tbody>\n",
              "    <tr>\n",
              "      <th>0.444444</th>\n",
              "      <td>128289</td>\n",
              "    </tr>\n",
              "    <tr>\n",
              "      <th>0.111111</th>\n",
              "      <td>125675</td>\n",
              "    </tr>\n",
              "    <tr>\n",
              "      <th>0.888889</th>\n",
              "      <td>83117</td>\n",
              "    </tr>\n",
              "    <tr>\n",
              "      <th>0.333333</th>\n",
              "      <td>71654</td>\n",
              "    </tr>\n",
              "    <tr>\n",
              "      <th>0.000000</th>\n",
              "      <td>71007</td>\n",
              "    </tr>\n",
              "    <tr>\n",
              "      <th>0.666667</th>\n",
              "      <td>62995</td>\n",
              "    </tr>\n",
              "    <tr>\n",
              "      <th>0.222222</th>\n",
              "      <td>55958</td>\n",
              "    </tr>\n",
              "    <tr>\n",
              "      <th>1.000000</th>\n",
              "      <td>44169</td>\n",
              "    </tr>\n",
              "    <tr>\n",
              "      <th>0.777778</th>\n",
              "      <td>27084</td>\n",
              "    </tr>\n",
              "    <tr>\n",
              "      <th>0.555556</th>\n",
              "      <td>22552</td>\n",
              "    </tr>\n",
              "  </tbody>\n",
              "</table>\n",
              "</div><br><label><b>dtype:</b> int64</label>"
            ]
          },
          "metadata": {},
          "execution_count": 274
        }
      ],
      "source": [
        "scaler = MinMaxScaler()\n",
        "train['FAMI_EDUCACIONPADRE'] = scaler.fit_transform(train[['FAMI_EDUCACIONPADRE']])\n",
        "train['FAMI_EDUCACIONPADRE'].value_counts()"
      ]
    },
    {
      "cell_type": "code",
      "execution_count": null,
      "metadata": {
        "id": "UZLeQh4dZ1GD",
        "colab": {
          "base_uri": "https://localhost:8080/",
          "height": 466
        },
        "outputId": "57e6c0a5-50d1-4512-bcce-eed59b3f3fb1"
      },
      "outputs": [
        {
          "output_type": "execute_result",
          "data": {
            "text/plain": [
              "FAMI_EDUCACIONMADRE\n",
              "0.444444    141744\n",
              "0.111111     99420\n",
              "0.666667     89542\n",
              "0.888889     85326\n",
              "0.333333     81012\n",
              "0.222222     56125\n",
              "1.000000     46246\n",
              "0.000000     43082\n",
              "0.555556     27533\n",
              "0.777778     22470\n",
              "Name: count, dtype: int64"
            ],
            "text/html": [
              "<div>\n",
              "<style scoped>\n",
              "    .dataframe tbody tr th:only-of-type {\n",
              "        vertical-align: middle;\n",
              "    }\n",
              "\n",
              "    .dataframe tbody tr th {\n",
              "        vertical-align: top;\n",
              "    }\n",
              "\n",
              "    .dataframe thead th {\n",
              "        text-align: right;\n",
              "    }\n",
              "</style>\n",
              "<table border=\"1\" class=\"dataframe\">\n",
              "  <thead>\n",
              "    <tr style=\"text-align: right;\">\n",
              "      <th></th>\n",
              "      <th>count</th>\n",
              "    </tr>\n",
              "    <tr>\n",
              "      <th>FAMI_EDUCACIONMADRE</th>\n",
              "      <th></th>\n",
              "    </tr>\n",
              "  </thead>\n",
              "  <tbody>\n",
              "    <tr>\n",
              "      <th>0.444444</th>\n",
              "      <td>141744</td>\n",
              "    </tr>\n",
              "    <tr>\n",
              "      <th>0.111111</th>\n",
              "      <td>99420</td>\n",
              "    </tr>\n",
              "    <tr>\n",
              "      <th>0.666667</th>\n",
              "      <td>89542</td>\n",
              "    </tr>\n",
              "    <tr>\n",
              "      <th>0.888889</th>\n",
              "      <td>85326</td>\n",
              "    </tr>\n",
              "    <tr>\n",
              "      <th>0.333333</th>\n",
              "      <td>81012</td>\n",
              "    </tr>\n",
              "    <tr>\n",
              "      <th>0.222222</th>\n",
              "      <td>56125</td>\n",
              "    </tr>\n",
              "    <tr>\n",
              "      <th>1.000000</th>\n",
              "      <td>46246</td>\n",
              "    </tr>\n",
              "    <tr>\n",
              "      <th>0.000000</th>\n",
              "      <td>43082</td>\n",
              "    </tr>\n",
              "    <tr>\n",
              "      <th>0.555556</th>\n",
              "      <td>27533</td>\n",
              "    </tr>\n",
              "    <tr>\n",
              "      <th>0.777778</th>\n",
              "      <td>22470</td>\n",
              "    </tr>\n",
              "  </tbody>\n",
              "</table>\n",
              "</div><br><label><b>dtype:</b> int64</label>"
            ]
          },
          "metadata": {},
          "execution_count": 275
        }
      ],
      "source": [
        "educacionPadre = ['No Aplica','Primaria incompleta','Primaria completa',\n",
        "            'Secundaria (Bachillerato) incompleta', 'Secundaria (Bachillerato) completa', 'Técnica o tecnológica incompleta',\n",
        "            'Técnica o tecnológica completa', 'Educación profesional incompleta', 'Educación profesional completa',\n",
        "            'Postgrado']\n",
        "enc = OrdinalEncoder(categories = [educacionPadre])\n",
        "train['FAMI_EDUCACIONMADRE'] = enc.fit_transform(train[['FAMI_EDUCACIONMADRE']])\n",
        "scaler = MinMaxScaler()\n",
        "train['FAMI_EDUCACIONMADRE'] = scaler.fit_transform(train[['FAMI_EDUCACIONMADRE']])\n",
        "train['FAMI_EDUCACIONMADRE'].value_counts()"
      ]
    },
    {
      "cell_type": "markdown",
      "metadata": {
        "id": "SplP7d2_eVfc"
      },
      "source": [
        "*Columna ESTU_HORASSEMANATRABAJA*\n"
      ]
    },
    {
      "cell_type": "code",
      "execution_count": null,
      "metadata": {
        "id": "Oq_VFfybgnHr",
        "colab": {
          "base_uri": "https://localhost:8080/",
          "height": 309
        },
        "outputId": "699fc36d-d0e8-4553-9dfe-1a48a63e50dd"
      },
      "outputs": [
        {
          "output_type": "execute_result",
          "data": {
            "text/plain": [
              "ESTU_HORASSEMANATRABAJA\n",
              "Más de 30 horas        249352\n",
              "0                      147407\n",
              "Entre 11 y 20 horas    115857\n",
              "Entre 21 y 30 horas     92693\n",
              "Menos de 10 horas       87191\n",
              "Name: count, dtype: int64"
            ],
            "text/html": [
              "<div>\n",
              "<style scoped>\n",
              "    .dataframe tbody tr th:only-of-type {\n",
              "        vertical-align: middle;\n",
              "    }\n",
              "\n",
              "    .dataframe tbody tr th {\n",
              "        vertical-align: top;\n",
              "    }\n",
              "\n",
              "    .dataframe thead th {\n",
              "        text-align: right;\n",
              "    }\n",
              "</style>\n",
              "<table border=\"1\" class=\"dataframe\">\n",
              "  <thead>\n",
              "    <tr style=\"text-align: right;\">\n",
              "      <th></th>\n",
              "      <th>count</th>\n",
              "    </tr>\n",
              "    <tr>\n",
              "      <th>ESTU_HORASSEMANATRABAJA</th>\n",
              "      <th></th>\n",
              "    </tr>\n",
              "  </thead>\n",
              "  <tbody>\n",
              "    <tr>\n",
              "      <th>Más de 30 horas</th>\n",
              "      <td>249352</td>\n",
              "    </tr>\n",
              "    <tr>\n",
              "      <th>0</th>\n",
              "      <td>147407</td>\n",
              "    </tr>\n",
              "    <tr>\n",
              "      <th>Entre 11 y 20 horas</th>\n",
              "      <td>115857</td>\n",
              "    </tr>\n",
              "    <tr>\n",
              "      <th>Entre 21 y 30 horas</th>\n",
              "      <td>92693</td>\n",
              "    </tr>\n",
              "    <tr>\n",
              "      <th>Menos de 10 horas</th>\n",
              "      <td>87191</td>\n",
              "    </tr>\n",
              "  </tbody>\n",
              "</table>\n",
              "</div><br><label><b>dtype:</b> int64</label>"
            ]
          },
          "metadata": {},
          "execution_count": 276
        }
      ],
      "source": [
        "train['ESTU_HORASSEMANATRABAJA'].value_counts()"
      ]
    },
    {
      "cell_type": "code",
      "execution_count": null,
      "metadata": {
        "id": "e_D4GlOJgoaZ"
      },
      "outputs": [],
      "source": [
        "horasTrabajo = ['0','Menos de 10 horas','Entre 11 y 20 horas',\n",
        "                'Entre 21 y 30 horas',\n",
        "                'Más de 30 horas']\n",
        "enc = OrdinalEncoder(categories = [horasTrabajo])\n",
        "train['ESTU_HORASSEMANATRABAJA'] = enc.fit_transform(train[['ESTU_HORASSEMANATRABAJA']])"
      ]
    },
    {
      "cell_type": "code",
      "execution_count": null,
      "metadata": {
        "id": "NFk7vZObgr3k",
        "colab": {
          "base_uri": "https://localhost:8080/",
          "height": 309
        },
        "outputId": "c3678802-6d44-4e0d-cb63-4109211f71de"
      },
      "outputs": [
        {
          "output_type": "execute_result",
          "data": {
            "text/plain": [
              "ESTU_HORASSEMANATRABAJA\n",
              "4.0    249352\n",
              "0.0    147407\n",
              "2.0    115857\n",
              "3.0     92693\n",
              "1.0     87191\n",
              "Name: count, dtype: int64"
            ],
            "text/html": [
              "<div>\n",
              "<style scoped>\n",
              "    .dataframe tbody tr th:only-of-type {\n",
              "        vertical-align: middle;\n",
              "    }\n",
              "\n",
              "    .dataframe tbody tr th {\n",
              "        vertical-align: top;\n",
              "    }\n",
              "\n",
              "    .dataframe thead th {\n",
              "        text-align: right;\n",
              "    }\n",
              "</style>\n",
              "<table border=\"1\" class=\"dataframe\">\n",
              "  <thead>\n",
              "    <tr style=\"text-align: right;\">\n",
              "      <th></th>\n",
              "      <th>count</th>\n",
              "    </tr>\n",
              "    <tr>\n",
              "      <th>ESTU_HORASSEMANATRABAJA</th>\n",
              "      <th></th>\n",
              "    </tr>\n",
              "  </thead>\n",
              "  <tbody>\n",
              "    <tr>\n",
              "      <th>4.0</th>\n",
              "      <td>249352</td>\n",
              "    </tr>\n",
              "    <tr>\n",
              "      <th>0.0</th>\n",
              "      <td>147407</td>\n",
              "    </tr>\n",
              "    <tr>\n",
              "      <th>2.0</th>\n",
              "      <td>115857</td>\n",
              "    </tr>\n",
              "    <tr>\n",
              "      <th>3.0</th>\n",
              "      <td>92693</td>\n",
              "    </tr>\n",
              "    <tr>\n",
              "      <th>1.0</th>\n",
              "      <td>87191</td>\n",
              "    </tr>\n",
              "  </tbody>\n",
              "</table>\n",
              "</div><br><label><b>dtype:</b> int64</label>"
            ]
          },
          "metadata": {},
          "execution_count": 278
        }
      ],
      "source": [
        "train['ESTU_HORASSEMANATRABAJA'].value_counts()"
      ]
    },
    {
      "cell_type": "code",
      "execution_count": null,
      "metadata": {
        "id": "MqSpVNxnXGqE",
        "colab": {
          "base_uri": "https://localhost:8080/",
          "height": 309
        },
        "outputId": "e5561b4a-ed98-4a8b-e38c-f7423eb1aea0"
      },
      "outputs": [
        {
          "output_type": "execute_result",
          "data": {
            "text/plain": [
              "ESTU_HORASSEMANATRABAJA\n",
              "1.00    249352\n",
              "0.00    147407\n",
              "0.50    115857\n",
              "0.75     92693\n",
              "0.25     87191\n",
              "Name: count, dtype: int64"
            ],
            "text/html": [
              "<div>\n",
              "<style scoped>\n",
              "    .dataframe tbody tr th:only-of-type {\n",
              "        vertical-align: middle;\n",
              "    }\n",
              "\n",
              "    .dataframe tbody tr th {\n",
              "        vertical-align: top;\n",
              "    }\n",
              "\n",
              "    .dataframe thead th {\n",
              "        text-align: right;\n",
              "    }\n",
              "</style>\n",
              "<table border=\"1\" class=\"dataframe\">\n",
              "  <thead>\n",
              "    <tr style=\"text-align: right;\">\n",
              "      <th></th>\n",
              "      <th>count</th>\n",
              "    </tr>\n",
              "    <tr>\n",
              "      <th>ESTU_HORASSEMANATRABAJA</th>\n",
              "      <th></th>\n",
              "    </tr>\n",
              "  </thead>\n",
              "  <tbody>\n",
              "    <tr>\n",
              "      <th>1.00</th>\n",
              "      <td>249352</td>\n",
              "    </tr>\n",
              "    <tr>\n",
              "      <th>0.00</th>\n",
              "      <td>147407</td>\n",
              "    </tr>\n",
              "    <tr>\n",
              "      <th>0.50</th>\n",
              "      <td>115857</td>\n",
              "    </tr>\n",
              "    <tr>\n",
              "      <th>0.75</th>\n",
              "      <td>92693</td>\n",
              "    </tr>\n",
              "    <tr>\n",
              "      <th>0.25</th>\n",
              "      <td>87191</td>\n",
              "    </tr>\n",
              "  </tbody>\n",
              "</table>\n",
              "</div><br><label><b>dtype:</b> int64</label>"
            ]
          },
          "metadata": {},
          "execution_count": 279
        }
      ],
      "source": [
        "scaler = MinMaxScaler()\n",
        "train['ESTU_HORASSEMANATRABAJA'] = scaler.fit_transform(train[['ESTU_HORASSEMANATRABAJA']])\n",
        "train['ESTU_HORASSEMANATRABAJA'].value_counts()"
      ]
    },
    {
      "cell_type": "markdown",
      "metadata": {
        "id": "i5ajopxmeW5C"
      },
      "source": [
        "*Columna ESTU_VALORMATRICULAUNIVERSIDAD*\n"
      ]
    },
    {
      "cell_type": "code",
      "execution_count": null,
      "metadata": {
        "id": "ylewEbR9g5by",
        "colab": {
          "base_uri": "https://localhost:8080/",
          "height": 473
        },
        "outputId": "6dbdca07-9911-4364-c822-b6359f7f6b9a"
      },
      "outputs": [
        {
          "output_type": "execute_result",
          "data": {
            "text/plain": [
              "ESTU_VALORMATRICULAUNIVERSIDAD\n",
              "Entre 1 millón y menos de 2.5 millones      204048\n",
              "Entre 2.5 millones y menos de 4 millones    127430\n",
              "Menos de 500 mil                             80263\n",
              "Entre 500 mil y menos de 1 millón            78704\n",
              "Entre 4 millones y menos de 5.5 millones     69736\n",
              "Más de 7 millones                            68014\n",
              "Entre 5.5 millones y menos de 7 millones     38490\n",
              "No pagó matrícula                            25815\n",
              "Name: count, dtype: int64"
            ],
            "text/html": [
              "<div>\n",
              "<style scoped>\n",
              "    .dataframe tbody tr th:only-of-type {\n",
              "        vertical-align: middle;\n",
              "    }\n",
              "\n",
              "    .dataframe tbody tr th {\n",
              "        vertical-align: top;\n",
              "    }\n",
              "\n",
              "    .dataframe thead th {\n",
              "        text-align: right;\n",
              "    }\n",
              "</style>\n",
              "<table border=\"1\" class=\"dataframe\">\n",
              "  <thead>\n",
              "    <tr style=\"text-align: right;\">\n",
              "      <th></th>\n",
              "      <th>count</th>\n",
              "    </tr>\n",
              "    <tr>\n",
              "      <th>ESTU_VALORMATRICULAUNIVERSIDAD</th>\n",
              "      <th></th>\n",
              "    </tr>\n",
              "  </thead>\n",
              "  <tbody>\n",
              "    <tr>\n",
              "      <th>Entre 1 millón y menos de 2.5 millones</th>\n",
              "      <td>204048</td>\n",
              "    </tr>\n",
              "    <tr>\n",
              "      <th>Entre 2.5 millones y menos de 4 millones</th>\n",
              "      <td>127430</td>\n",
              "    </tr>\n",
              "    <tr>\n",
              "      <th>Menos de 500 mil</th>\n",
              "      <td>80263</td>\n",
              "    </tr>\n",
              "    <tr>\n",
              "      <th>Entre 500 mil y menos de 1 millón</th>\n",
              "      <td>78704</td>\n",
              "    </tr>\n",
              "    <tr>\n",
              "      <th>Entre 4 millones y menos de 5.5 millones</th>\n",
              "      <td>69736</td>\n",
              "    </tr>\n",
              "    <tr>\n",
              "      <th>Más de 7 millones</th>\n",
              "      <td>68014</td>\n",
              "    </tr>\n",
              "    <tr>\n",
              "      <th>Entre 5.5 millones y menos de 7 millones</th>\n",
              "      <td>38490</td>\n",
              "    </tr>\n",
              "    <tr>\n",
              "      <th>No pagó matrícula</th>\n",
              "      <td>25815</td>\n",
              "    </tr>\n",
              "  </tbody>\n",
              "</table>\n",
              "</div><br><label><b>dtype:</b> int64</label>"
            ]
          },
          "metadata": {},
          "execution_count": 280
        }
      ],
      "source": [
        "train['ESTU_VALORMATRICULAUNIVERSIDAD'].value_counts()"
      ]
    },
    {
      "cell_type": "code",
      "execution_count": null,
      "metadata": {
        "id": "fIWhICWHhKNF"
      },
      "outputs": [],
      "source": [
        "matricula = ['No pagó matrícula','Menos de 500 mil','Entre 500 mil y menos de 1 millón',\n",
        "                     'Entre 1 millón y menos de 2.5 millones',\n",
        "                     'Entre 2.5 millones y menos de 4 millones',\n",
        "                     'Entre 4 millones y menos de 5.5 millones',\n",
        "                     'Entre 5.5 millones y menos de 7 millones','Más de 7 millones']\n",
        "enc = OrdinalEncoder(categories = [matricula])\n",
        "train['ESTU_VALORMATRICULAUNIVERSIDAD'] = enc.fit_transform(train[['ESTU_VALORMATRICULAUNIVERSIDAD']])"
      ]
    },
    {
      "cell_type": "code",
      "execution_count": null,
      "metadata": {
        "id": "wBhr2AOnhWJ9",
        "colab": {
          "base_uri": "https://localhost:8080/",
          "height": 404
        },
        "outputId": "e5140fee-daef-4838-9add-f15ef5f210e7"
      },
      "outputs": [
        {
          "output_type": "execute_result",
          "data": {
            "text/plain": [
              "ESTU_VALORMATRICULAUNIVERSIDAD\n",
              "3.0    204048\n",
              "4.0    127430\n",
              "1.0     80263\n",
              "2.0     78704\n",
              "5.0     69736\n",
              "7.0     68014\n",
              "6.0     38490\n",
              "0.0     25815\n",
              "Name: count, dtype: int64"
            ],
            "text/html": [
              "<div>\n",
              "<style scoped>\n",
              "    .dataframe tbody tr th:only-of-type {\n",
              "        vertical-align: middle;\n",
              "    }\n",
              "\n",
              "    .dataframe tbody tr th {\n",
              "        vertical-align: top;\n",
              "    }\n",
              "\n",
              "    .dataframe thead th {\n",
              "        text-align: right;\n",
              "    }\n",
              "</style>\n",
              "<table border=\"1\" class=\"dataframe\">\n",
              "  <thead>\n",
              "    <tr style=\"text-align: right;\">\n",
              "      <th></th>\n",
              "      <th>count</th>\n",
              "    </tr>\n",
              "    <tr>\n",
              "      <th>ESTU_VALORMATRICULAUNIVERSIDAD</th>\n",
              "      <th></th>\n",
              "    </tr>\n",
              "  </thead>\n",
              "  <tbody>\n",
              "    <tr>\n",
              "      <th>3.0</th>\n",
              "      <td>204048</td>\n",
              "    </tr>\n",
              "    <tr>\n",
              "      <th>4.0</th>\n",
              "      <td>127430</td>\n",
              "    </tr>\n",
              "    <tr>\n",
              "      <th>1.0</th>\n",
              "      <td>80263</td>\n",
              "    </tr>\n",
              "    <tr>\n",
              "      <th>2.0</th>\n",
              "      <td>78704</td>\n",
              "    </tr>\n",
              "    <tr>\n",
              "      <th>5.0</th>\n",
              "      <td>69736</td>\n",
              "    </tr>\n",
              "    <tr>\n",
              "      <th>7.0</th>\n",
              "      <td>68014</td>\n",
              "    </tr>\n",
              "    <tr>\n",
              "      <th>6.0</th>\n",
              "      <td>38490</td>\n",
              "    </tr>\n",
              "    <tr>\n",
              "      <th>0.0</th>\n",
              "      <td>25815</td>\n",
              "    </tr>\n",
              "  </tbody>\n",
              "</table>\n",
              "</div><br><label><b>dtype:</b> int64</label>"
            ]
          },
          "metadata": {},
          "execution_count": 282
        }
      ],
      "source": [
        "train['ESTU_VALORMATRICULAUNIVERSIDAD'].value_counts()"
      ]
    },
    {
      "cell_type": "code",
      "execution_count": null,
      "metadata": {
        "id": "HtbmQWnDXHpv",
        "colab": {
          "base_uri": "https://localhost:8080/",
          "height": 404
        },
        "outputId": "9ca76766-57b3-4893-d31d-b76d7c577a5b"
      },
      "outputs": [
        {
          "output_type": "execute_result",
          "data": {
            "text/plain": [
              "ESTU_VALORMATRICULAUNIVERSIDAD\n",
              "0.428571    204048\n",
              "0.571429    127430\n",
              "0.142857     80263\n",
              "0.285714     78704\n",
              "0.714286     69736\n",
              "1.000000     68014\n",
              "0.857143     38490\n",
              "0.000000     25815\n",
              "Name: count, dtype: int64"
            ],
            "text/html": [
              "<div>\n",
              "<style scoped>\n",
              "    .dataframe tbody tr th:only-of-type {\n",
              "        vertical-align: middle;\n",
              "    }\n",
              "\n",
              "    .dataframe tbody tr th {\n",
              "        vertical-align: top;\n",
              "    }\n",
              "\n",
              "    .dataframe thead th {\n",
              "        text-align: right;\n",
              "    }\n",
              "</style>\n",
              "<table border=\"1\" class=\"dataframe\">\n",
              "  <thead>\n",
              "    <tr style=\"text-align: right;\">\n",
              "      <th></th>\n",
              "      <th>count</th>\n",
              "    </tr>\n",
              "    <tr>\n",
              "      <th>ESTU_VALORMATRICULAUNIVERSIDAD</th>\n",
              "      <th></th>\n",
              "    </tr>\n",
              "  </thead>\n",
              "  <tbody>\n",
              "    <tr>\n",
              "      <th>0.428571</th>\n",
              "      <td>204048</td>\n",
              "    </tr>\n",
              "    <tr>\n",
              "      <th>0.571429</th>\n",
              "      <td>127430</td>\n",
              "    </tr>\n",
              "    <tr>\n",
              "      <th>0.142857</th>\n",
              "      <td>80263</td>\n",
              "    </tr>\n",
              "    <tr>\n",
              "      <th>0.285714</th>\n",
              "      <td>78704</td>\n",
              "    </tr>\n",
              "    <tr>\n",
              "      <th>0.714286</th>\n",
              "      <td>69736</td>\n",
              "    </tr>\n",
              "    <tr>\n",
              "      <th>1.000000</th>\n",
              "      <td>68014</td>\n",
              "    </tr>\n",
              "    <tr>\n",
              "      <th>0.857143</th>\n",
              "      <td>38490</td>\n",
              "    </tr>\n",
              "    <tr>\n",
              "      <th>0.000000</th>\n",
              "      <td>25815</td>\n",
              "    </tr>\n",
              "  </tbody>\n",
              "</table>\n",
              "</div><br><label><b>dtype:</b> int64</label>"
            ]
          },
          "metadata": {},
          "execution_count": 283
        }
      ],
      "source": [
        "scaler = MinMaxScaler()\n",
        "train['ESTU_VALORMATRICULAUNIVERSIDAD'] = scaler.fit_transform(train[['ESTU_VALORMATRICULAUNIVERSIDAD']])\n",
        "train['ESTU_VALORMATRICULAUNIVERSIDAD'].value_counts()"
      ]
    },
    {
      "cell_type": "markdown",
      "metadata": {
        "id": "FsGXGesSeaPY"
      },
      "source": [
        "*Columna ESTU_PRGM_ACADEMICO*\n"
      ]
    },
    {
      "cell_type": "code",
      "execution_count": null,
      "metadata": {
        "id": "6GqLwuijiArc",
        "colab": {
          "base_uri": "https://localhost:8080/",
          "height": 649
        },
        "outputId": "daf2308e-8911-4613-baa2-8689c75228ca"
      },
      "outputs": [
        {
          "output_type": "execute_result",
          "data": {
            "text/plain": [
              "ESTU_PRGM_ACADEMICO\n",
              "INGENIERIA                 148273\n",
              "ADMINISTRACION             127997\n",
              "LICENCIATURA                65084\n",
              "DERECHO                     53244\n",
              "CONTADURIA                  53066\n",
              "                            ...  \n",
              "NARRATIVAS DIGITALES            7\n",
              "COMPUTACION CIENTIFICA          5\n",
              "OCEANOGRAFIA                    4\n",
              "INGENIIERIA DE SOFTWARE         3\n",
              "ANIMACION                       2\n",
              "Name: count, Length: 122, dtype: int64"
            ],
            "text/html": [
              "<div>\n",
              "<style scoped>\n",
              "    .dataframe tbody tr th:only-of-type {\n",
              "        vertical-align: middle;\n",
              "    }\n",
              "\n",
              "    .dataframe tbody tr th {\n",
              "        vertical-align: top;\n",
              "    }\n",
              "\n",
              "    .dataframe thead th {\n",
              "        text-align: right;\n",
              "    }\n",
              "</style>\n",
              "<table border=\"1\" class=\"dataframe\">\n",
              "  <thead>\n",
              "    <tr style=\"text-align: right;\">\n",
              "      <th></th>\n",
              "      <th>count</th>\n",
              "    </tr>\n",
              "    <tr>\n",
              "      <th>ESTU_PRGM_ACADEMICO</th>\n",
              "      <th></th>\n",
              "    </tr>\n",
              "  </thead>\n",
              "  <tbody>\n",
              "    <tr>\n",
              "      <th>INGENIERIA</th>\n",
              "      <td>148273</td>\n",
              "    </tr>\n",
              "    <tr>\n",
              "      <th>ADMINISTRACION</th>\n",
              "      <td>127997</td>\n",
              "    </tr>\n",
              "    <tr>\n",
              "      <th>LICENCIATURA</th>\n",
              "      <td>65084</td>\n",
              "    </tr>\n",
              "    <tr>\n",
              "      <th>DERECHO</th>\n",
              "      <td>53244</td>\n",
              "    </tr>\n",
              "    <tr>\n",
              "      <th>CONTADURIA</th>\n",
              "      <td>53066</td>\n",
              "    </tr>\n",
              "    <tr>\n",
              "      <th>...</th>\n",
              "      <td>...</td>\n",
              "    </tr>\n",
              "    <tr>\n",
              "      <th>NARRATIVAS DIGITALES</th>\n",
              "      <td>7</td>\n",
              "    </tr>\n",
              "    <tr>\n",
              "      <th>COMPUTACION CIENTIFICA</th>\n",
              "      <td>5</td>\n",
              "    </tr>\n",
              "    <tr>\n",
              "      <th>OCEANOGRAFIA</th>\n",
              "      <td>4</td>\n",
              "    </tr>\n",
              "    <tr>\n",
              "      <th>INGENIIERIA DE SOFTWARE</th>\n",
              "      <td>3</td>\n",
              "    </tr>\n",
              "    <tr>\n",
              "      <th>ANIMACION</th>\n",
              "      <td>2</td>\n",
              "    </tr>\n",
              "  </tbody>\n",
              "</table>\n",
              "<p>122 rows × 1 columns</p>\n",
              "</div><br><label><b>dtype:</b> int64</label>"
            ]
          },
          "metadata": {},
          "execution_count": 284
        }
      ],
      "source": [
        "train[\"ESTU_PRGM_ACADEMICO\"].value_counts()"
      ]
    },
    {
      "cell_type": "code",
      "execution_count": null,
      "metadata": {
        "id": "ph5tzBYniCwf"
      },
      "outputs": [],
      "source": [
        "totalProgramas = train[\"ESTU_PRGM_ACADEMICO\"].value_counts().index.tolist()\n",
        "enc = OrdinalEncoder(categories = [totalProgramas])\n",
        "train[\"ESTU_PRGM_ACADEMICO\"] = enc.fit_transform(train[[\"ESTU_PRGM_ACADEMICO\"]])"
      ]
    },
    {
      "cell_type": "code",
      "execution_count": null,
      "metadata": {
        "id": "IVVM71HCjL-P",
        "colab": {
          "base_uri": "https://localhost:8080/",
          "height": 597
        },
        "outputId": "46c12879-08a1-4e93-e0b6-297034ad2b41"
      },
      "outputs": [
        {
          "output_type": "execute_result",
          "data": {
            "text/plain": [
              "ESTU_PRGM_ACADEMICO\n",
              "0.0      148273\n",
              "1.0      127997\n",
              "2.0       65084\n",
              "3.0       53244\n",
              "4.0       53066\n",
              "          ...  \n",
              "117.0         7\n",
              "118.0         5\n",
              "119.0         4\n",
              "120.0         3\n",
              "121.0         2\n",
              "Name: count, Length: 122, dtype: int64"
            ],
            "text/html": [
              "<div>\n",
              "<style scoped>\n",
              "    .dataframe tbody tr th:only-of-type {\n",
              "        vertical-align: middle;\n",
              "    }\n",
              "\n",
              "    .dataframe tbody tr th {\n",
              "        vertical-align: top;\n",
              "    }\n",
              "\n",
              "    .dataframe thead th {\n",
              "        text-align: right;\n",
              "    }\n",
              "</style>\n",
              "<table border=\"1\" class=\"dataframe\">\n",
              "  <thead>\n",
              "    <tr style=\"text-align: right;\">\n",
              "      <th></th>\n",
              "      <th>count</th>\n",
              "    </tr>\n",
              "    <tr>\n",
              "      <th>ESTU_PRGM_ACADEMICO</th>\n",
              "      <th></th>\n",
              "    </tr>\n",
              "  </thead>\n",
              "  <tbody>\n",
              "    <tr>\n",
              "      <th>0.0</th>\n",
              "      <td>148273</td>\n",
              "    </tr>\n",
              "    <tr>\n",
              "      <th>1.0</th>\n",
              "      <td>127997</td>\n",
              "    </tr>\n",
              "    <tr>\n",
              "      <th>2.0</th>\n",
              "      <td>65084</td>\n",
              "    </tr>\n",
              "    <tr>\n",
              "      <th>3.0</th>\n",
              "      <td>53244</td>\n",
              "    </tr>\n",
              "    <tr>\n",
              "      <th>4.0</th>\n",
              "      <td>53066</td>\n",
              "    </tr>\n",
              "    <tr>\n",
              "      <th>...</th>\n",
              "      <td>...</td>\n",
              "    </tr>\n",
              "    <tr>\n",
              "      <th>117.0</th>\n",
              "      <td>7</td>\n",
              "    </tr>\n",
              "    <tr>\n",
              "      <th>118.0</th>\n",
              "      <td>5</td>\n",
              "    </tr>\n",
              "    <tr>\n",
              "      <th>119.0</th>\n",
              "      <td>4</td>\n",
              "    </tr>\n",
              "    <tr>\n",
              "      <th>120.0</th>\n",
              "      <td>3</td>\n",
              "    </tr>\n",
              "    <tr>\n",
              "      <th>121.0</th>\n",
              "      <td>2</td>\n",
              "    </tr>\n",
              "  </tbody>\n",
              "</table>\n",
              "<p>122 rows × 1 columns</p>\n",
              "</div><br><label><b>dtype:</b> int64</label>"
            ]
          },
          "metadata": {},
          "execution_count": 286
        }
      ],
      "source": [
        "train[\"ESTU_PRGM_ACADEMICO\"].value_counts()"
      ]
    },
    {
      "cell_type": "code",
      "execution_count": null,
      "metadata": {
        "id": "BwCUHorFXIyp",
        "colab": {
          "base_uri": "https://localhost:8080/",
          "height": 597
        },
        "outputId": "6bfb71af-64dc-45c2-d3ee-c8094f5a3225"
      },
      "outputs": [
        {
          "output_type": "execute_result",
          "data": {
            "text/plain": [
              "ESTU_PRGM_ACADEMICO\n",
              "0.000000    148273\n",
              "0.008264    127997\n",
              "0.016529     65084\n",
              "0.024793     53244\n",
              "0.033058     53066\n",
              "             ...  \n",
              "0.966942         7\n",
              "0.975207         5\n",
              "0.983471         4\n",
              "0.991736         3\n",
              "1.000000         2\n",
              "Name: count, Length: 122, dtype: int64"
            ],
            "text/html": [
              "<div>\n",
              "<style scoped>\n",
              "    .dataframe tbody tr th:only-of-type {\n",
              "        vertical-align: middle;\n",
              "    }\n",
              "\n",
              "    .dataframe tbody tr th {\n",
              "        vertical-align: top;\n",
              "    }\n",
              "\n",
              "    .dataframe thead th {\n",
              "        text-align: right;\n",
              "    }\n",
              "</style>\n",
              "<table border=\"1\" class=\"dataframe\">\n",
              "  <thead>\n",
              "    <tr style=\"text-align: right;\">\n",
              "      <th></th>\n",
              "      <th>count</th>\n",
              "    </tr>\n",
              "    <tr>\n",
              "      <th>ESTU_PRGM_ACADEMICO</th>\n",
              "      <th></th>\n",
              "    </tr>\n",
              "  </thead>\n",
              "  <tbody>\n",
              "    <tr>\n",
              "      <th>0.000000</th>\n",
              "      <td>148273</td>\n",
              "    </tr>\n",
              "    <tr>\n",
              "      <th>0.008264</th>\n",
              "      <td>127997</td>\n",
              "    </tr>\n",
              "    <tr>\n",
              "      <th>0.016529</th>\n",
              "      <td>65084</td>\n",
              "    </tr>\n",
              "    <tr>\n",
              "      <th>0.024793</th>\n",
              "      <td>53244</td>\n",
              "    </tr>\n",
              "    <tr>\n",
              "      <th>0.033058</th>\n",
              "      <td>53066</td>\n",
              "    </tr>\n",
              "    <tr>\n",
              "      <th>...</th>\n",
              "      <td>...</td>\n",
              "    </tr>\n",
              "    <tr>\n",
              "      <th>0.966942</th>\n",
              "      <td>7</td>\n",
              "    </tr>\n",
              "    <tr>\n",
              "      <th>0.975207</th>\n",
              "      <td>5</td>\n",
              "    </tr>\n",
              "    <tr>\n",
              "      <th>0.983471</th>\n",
              "      <td>4</td>\n",
              "    </tr>\n",
              "    <tr>\n",
              "      <th>0.991736</th>\n",
              "      <td>3</td>\n",
              "    </tr>\n",
              "    <tr>\n",
              "      <th>1.000000</th>\n",
              "      <td>2</td>\n",
              "    </tr>\n",
              "  </tbody>\n",
              "</table>\n",
              "<p>122 rows × 1 columns</p>\n",
              "</div><br><label><b>dtype:</b> int64</label>"
            ]
          },
          "metadata": {},
          "execution_count": 287
        }
      ],
      "source": [
        "scaler = MinMaxScaler()\n",
        "train['ESTU_PRGM_ACADEMICO'] = scaler.fit_transform(train[['ESTU_PRGM_ACADEMICO']])\n",
        "train['ESTU_PRGM_ACADEMICO'].value_counts()"
      ]
    },
    {
      "cell_type": "markdown",
      "metadata": {
        "id": "jPjqsBSLebnu"
      },
      "source": [
        "*Columna ESTU_PRGM_DEPARTAMENTO*"
      ]
    },
    {
      "cell_type": "code",
      "execution_count": null,
      "metadata": {
        "id": "6rVo82F_j0SA",
        "colab": {
          "base_uri": "https://localhost:8080/"
        },
        "outputId": "4b8bb9a2-5cf1-46f1-9096-5833649c8228"
      },
      "outputs": [
        {
          "output_type": "execute_result",
          "data": {
            "text/plain": [
              "array(['ANDINA', 'CARIBE', 'AMAZONA', 'PACIFICA', 'ORINOQUIA'],\n",
              "      dtype=object)"
            ]
          },
          "metadata": {},
          "execution_count": 288
        }
      ],
      "source": [
        "train['ESTU_PRGM_DEPARTAMENTO'].unique()"
      ]
    },
    {
      "cell_type": "code",
      "execution_count": null,
      "metadata": {
        "id": "7ZwFn8w7j1sF",
        "colab": {
          "base_uri": "https://localhost:8080/"
        },
        "outputId": "c5387174-ec1f-4338-87ed-04f7cf3e6732"
      },
      "outputs": [
        {
          "output_type": "execute_result",
          "data": {
            "text/plain": [
              "0"
            ]
          },
          "metadata": {},
          "execution_count": 289
        }
      ],
      "source": [
        "train['ESTU_PRGM_DEPARTAMENTO'].isna().sum()"
      ]
    },
    {
      "cell_type": "code",
      "execution_count": null,
      "metadata": {
        "id": "i02AcWhdj3kF"
      },
      "outputs": [],
      "source": [
        "totalDepartamento = train['ESTU_PRGM_DEPARTAMENTO'].value_counts().index.tolist()\n",
        "enc = OrdinalEncoder(categories = [totalDepartamento])\n",
        "train['ESTU_PRGM_DEPARTAMENTO'] = enc.fit_transform(train[['ESTU_PRGM_DEPARTAMENTO']])"
      ]
    },
    {
      "cell_type": "code",
      "execution_count": null,
      "metadata": {
        "id": "SXOI_h79j-0D",
        "colab": {
          "base_uri": "https://localhost:8080/",
          "height": 309
        },
        "outputId": "8fb1f803-7d47-499c-efd9-1acbaf4f1fcd"
      },
      "outputs": [
        {
          "output_type": "execute_result",
          "data": {
            "text/plain": [
              "ESTU_PRGM_DEPARTAMENTO\n",
              "0.0    499712\n",
              "1.0    105090\n",
              "2.0     73802\n",
              "3.0     10351\n",
              "4.0      3545\n",
              "Name: count, dtype: int64"
            ],
            "text/html": [
              "<div>\n",
              "<style scoped>\n",
              "    .dataframe tbody tr th:only-of-type {\n",
              "        vertical-align: middle;\n",
              "    }\n",
              "\n",
              "    .dataframe tbody tr th {\n",
              "        vertical-align: top;\n",
              "    }\n",
              "\n",
              "    .dataframe thead th {\n",
              "        text-align: right;\n",
              "    }\n",
              "</style>\n",
              "<table border=\"1\" class=\"dataframe\">\n",
              "  <thead>\n",
              "    <tr style=\"text-align: right;\">\n",
              "      <th></th>\n",
              "      <th>count</th>\n",
              "    </tr>\n",
              "    <tr>\n",
              "      <th>ESTU_PRGM_DEPARTAMENTO</th>\n",
              "      <th></th>\n",
              "    </tr>\n",
              "  </thead>\n",
              "  <tbody>\n",
              "    <tr>\n",
              "      <th>0.0</th>\n",
              "      <td>499712</td>\n",
              "    </tr>\n",
              "    <tr>\n",
              "      <th>1.0</th>\n",
              "      <td>105090</td>\n",
              "    </tr>\n",
              "    <tr>\n",
              "      <th>2.0</th>\n",
              "      <td>73802</td>\n",
              "    </tr>\n",
              "    <tr>\n",
              "      <th>3.0</th>\n",
              "      <td>10351</td>\n",
              "    </tr>\n",
              "    <tr>\n",
              "      <th>4.0</th>\n",
              "      <td>3545</td>\n",
              "    </tr>\n",
              "  </tbody>\n",
              "</table>\n",
              "</div><br><label><b>dtype:</b> int64</label>"
            ]
          },
          "metadata": {},
          "execution_count": 291
        }
      ],
      "source": [
        "train['ESTU_PRGM_DEPARTAMENTO'].value_counts()"
      ]
    },
    {
      "cell_type": "code",
      "execution_count": null,
      "metadata": {
        "id": "8ek0IeZEXJ_u",
        "colab": {
          "base_uri": "https://localhost:8080/",
          "height": 309
        },
        "outputId": "283a1696-acc9-4acf-a4f4-c0e6276aeecb"
      },
      "outputs": [
        {
          "output_type": "execute_result",
          "data": {
            "text/plain": [
              "ESTU_PRGM_DEPARTAMENTO\n",
              "0.00    499712\n",
              "0.25    105090\n",
              "0.50     73802\n",
              "0.75     10351\n",
              "1.00      3545\n",
              "Name: count, dtype: int64"
            ],
            "text/html": [
              "<div>\n",
              "<style scoped>\n",
              "    .dataframe tbody tr th:only-of-type {\n",
              "        vertical-align: middle;\n",
              "    }\n",
              "\n",
              "    .dataframe tbody tr th {\n",
              "        vertical-align: top;\n",
              "    }\n",
              "\n",
              "    .dataframe thead th {\n",
              "        text-align: right;\n",
              "    }\n",
              "</style>\n",
              "<table border=\"1\" class=\"dataframe\">\n",
              "  <thead>\n",
              "    <tr style=\"text-align: right;\">\n",
              "      <th></th>\n",
              "      <th>count</th>\n",
              "    </tr>\n",
              "    <tr>\n",
              "      <th>ESTU_PRGM_DEPARTAMENTO</th>\n",
              "      <th></th>\n",
              "    </tr>\n",
              "  </thead>\n",
              "  <tbody>\n",
              "    <tr>\n",
              "      <th>0.00</th>\n",
              "      <td>499712</td>\n",
              "    </tr>\n",
              "    <tr>\n",
              "      <th>0.25</th>\n",
              "      <td>105090</td>\n",
              "    </tr>\n",
              "    <tr>\n",
              "      <th>0.50</th>\n",
              "      <td>73802</td>\n",
              "    </tr>\n",
              "    <tr>\n",
              "      <th>0.75</th>\n",
              "      <td>10351</td>\n",
              "    </tr>\n",
              "    <tr>\n",
              "      <th>1.00</th>\n",
              "      <td>3545</td>\n",
              "    </tr>\n",
              "  </tbody>\n",
              "</table>\n",
              "</div><br><label><b>dtype:</b> int64</label>"
            ]
          },
          "metadata": {},
          "execution_count": 292
        }
      ],
      "source": [
        "scaler = MinMaxScaler()\n",
        "train['ESTU_PRGM_DEPARTAMENTO'] = scaler.fit_transform(train[['ESTU_PRGM_DEPARTAMENTO']])\n",
        "train['ESTU_PRGM_DEPARTAMENTO'].value_counts()"
      ]
    },
    {
      "cell_type": "code",
      "execution_count": null,
      "metadata": {
        "id": "Spswe_IoaGNN"
      },
      "outputs": [],
      "source": [
        "totalDepartamento = train['RENDIMIENTO_GLOBAL'].value_counts().index.tolist()\n",
        "enc = OrdinalEncoder(categories = [totalDepartamento])\n",
        "train['RENDIMIENTO_GLOBAL'] = enc.fit_transform(train[['RENDIMIENTO_GLOBAL']])"
      ]
    },
    {
      "cell_type": "code",
      "execution_count": null,
      "metadata": {
        "id": "_sQOth36aHe-",
        "colab": {
          "base_uri": "https://localhost:8080/",
          "height": 278
        },
        "outputId": "c95ef5bc-d6f3-46f0-eb88-6b0af427edda"
      },
      "outputs": [
        {
          "output_type": "execute_result",
          "data": {
            "text/plain": [
              "RENDIMIENTO_GLOBAL\n",
              "0.000000    175619\n",
              "0.333333    172987\n",
              "0.666667    172275\n",
              "1.000000    171619\n",
              "Name: count, dtype: int64"
            ],
            "text/html": [
              "<div>\n",
              "<style scoped>\n",
              "    .dataframe tbody tr th:only-of-type {\n",
              "        vertical-align: middle;\n",
              "    }\n",
              "\n",
              "    .dataframe tbody tr th {\n",
              "        vertical-align: top;\n",
              "    }\n",
              "\n",
              "    .dataframe thead th {\n",
              "        text-align: right;\n",
              "    }\n",
              "</style>\n",
              "<table border=\"1\" class=\"dataframe\">\n",
              "  <thead>\n",
              "    <tr style=\"text-align: right;\">\n",
              "      <th></th>\n",
              "      <th>count</th>\n",
              "    </tr>\n",
              "    <tr>\n",
              "      <th>RENDIMIENTO_GLOBAL</th>\n",
              "      <th></th>\n",
              "    </tr>\n",
              "  </thead>\n",
              "  <tbody>\n",
              "    <tr>\n",
              "      <th>0.000000</th>\n",
              "      <td>175619</td>\n",
              "    </tr>\n",
              "    <tr>\n",
              "      <th>0.333333</th>\n",
              "      <td>172987</td>\n",
              "    </tr>\n",
              "    <tr>\n",
              "      <th>0.666667</th>\n",
              "      <td>172275</td>\n",
              "    </tr>\n",
              "    <tr>\n",
              "      <th>1.000000</th>\n",
              "      <td>171619</td>\n",
              "    </tr>\n",
              "  </tbody>\n",
              "</table>\n",
              "</div><br><label><b>dtype:</b> int64</label>"
            ]
          },
          "metadata": {},
          "execution_count": 294
        }
      ],
      "source": [
        "scaler = MinMaxScaler()\n",
        "train['RENDIMIENTO_GLOBAL'] = scaler.fit_transform(train[['RENDIMIENTO_GLOBAL']])\n",
        "train['RENDIMIENTO_GLOBAL'].value_counts()"
      ]
    },
    {
      "cell_type": "code",
      "execution_count": null,
      "metadata": {
        "id": "TV79a83_X4rr"
      },
      "outputs": [],
      "source": [
        "train.drop(columns=['ID'], inplace=True)\n",
        "train.drop(columns=['PERIODO'], inplace=True)"
      ]
    },
    {
      "cell_type": "code",
      "execution_count": null,
      "metadata": {
        "id": "Vbdal7G8kE8V",
        "colab": {
          "base_uri": "https://localhost:8080/",
          "height": 226
        },
        "outputId": "491e4cf1-6b60-41b6-f7c1-de38188914f7"
      },
      "outputs": [
        {
          "output_type": "execute_result",
          "data": {
            "text/plain": [
              "   ESTU_PRGM_ACADEMICO  ESTU_PRGM_DEPARTAMENTO  \\\n",
              "0             0.074380                    0.00   \n",
              "1             0.024793                    0.25   \n",
              "2             0.115702                    0.00   \n",
              "3             0.008264                    0.00   \n",
              "4             0.041322                    0.00   \n",
              "\n",
              "   ESTU_VALORMATRICULAUNIVERSIDAD  ESTU_HORASSEMANATRABAJA  \\\n",
              "0                        0.857143                     0.25   \n",
              "1                        0.571429                     0.00   \n",
              "2                        0.571429                     1.00   \n",
              "3                        0.714286                     0.00   \n",
              "4                        0.571429                     0.75   \n",
              "\n",
              "   FAMI_ESTRATOVIVIENDA  FAMI_TIENEINTERNET  FAMI_EDUCACIONPADRE  \\\n",
              "0              0.500000                 1.0             0.555556   \n",
              "1              0.500000                 0.0             0.666667   \n",
              "2              0.500000                 1.0             0.444444   \n",
              "3              0.666667                 1.0             0.000000   \n",
              "4              0.500000                 1.0             0.222222   \n",
              "\n",
              "   FAMI_EDUCACIONMADRE  ESTU_PAGOMATRICULAPROPIO  RENDIMIENTO_GLOBAL  \n",
              "0             1.000000                       0.0            1.000000  \n",
              "1             0.555556                       0.0            0.333333  \n",
              "2             0.444444                       0.0            0.333333  \n",
              "3             0.444444                       0.0            0.000000  \n",
              "4             0.222222                       0.0            0.666667  "
            ],
            "text/html": [
              "\n",
              "  <div id=\"df-b6be2288-1956-48e2-aabf-009deb83e022\" class=\"colab-df-container\">\n",
              "    <div>\n",
              "<style scoped>\n",
              "    .dataframe tbody tr th:only-of-type {\n",
              "        vertical-align: middle;\n",
              "    }\n",
              "\n",
              "    .dataframe tbody tr th {\n",
              "        vertical-align: top;\n",
              "    }\n",
              "\n",
              "    .dataframe thead th {\n",
              "        text-align: right;\n",
              "    }\n",
              "</style>\n",
              "<table border=\"1\" class=\"dataframe\">\n",
              "  <thead>\n",
              "    <tr style=\"text-align: right;\">\n",
              "      <th></th>\n",
              "      <th>ESTU_PRGM_ACADEMICO</th>\n",
              "      <th>ESTU_PRGM_DEPARTAMENTO</th>\n",
              "      <th>ESTU_VALORMATRICULAUNIVERSIDAD</th>\n",
              "      <th>ESTU_HORASSEMANATRABAJA</th>\n",
              "      <th>FAMI_ESTRATOVIVIENDA</th>\n",
              "      <th>FAMI_TIENEINTERNET</th>\n",
              "      <th>FAMI_EDUCACIONPADRE</th>\n",
              "      <th>FAMI_EDUCACIONMADRE</th>\n",
              "      <th>ESTU_PAGOMATRICULAPROPIO</th>\n",
              "      <th>RENDIMIENTO_GLOBAL</th>\n",
              "    </tr>\n",
              "  </thead>\n",
              "  <tbody>\n",
              "    <tr>\n",
              "      <th>0</th>\n",
              "      <td>0.074380</td>\n",
              "      <td>0.00</td>\n",
              "      <td>0.857143</td>\n",
              "      <td>0.25</td>\n",
              "      <td>0.500000</td>\n",
              "      <td>1.0</td>\n",
              "      <td>0.555556</td>\n",
              "      <td>1.000000</td>\n",
              "      <td>0.0</td>\n",
              "      <td>1.000000</td>\n",
              "    </tr>\n",
              "    <tr>\n",
              "      <th>1</th>\n",
              "      <td>0.024793</td>\n",
              "      <td>0.25</td>\n",
              "      <td>0.571429</td>\n",
              "      <td>0.00</td>\n",
              "      <td>0.500000</td>\n",
              "      <td>0.0</td>\n",
              "      <td>0.666667</td>\n",
              "      <td>0.555556</td>\n",
              "      <td>0.0</td>\n",
              "      <td>0.333333</td>\n",
              "    </tr>\n",
              "    <tr>\n",
              "      <th>2</th>\n",
              "      <td>0.115702</td>\n",
              "      <td>0.00</td>\n",
              "      <td>0.571429</td>\n",
              "      <td>1.00</td>\n",
              "      <td>0.500000</td>\n",
              "      <td>1.0</td>\n",
              "      <td>0.444444</td>\n",
              "      <td>0.444444</td>\n",
              "      <td>0.0</td>\n",
              "      <td>0.333333</td>\n",
              "    </tr>\n",
              "    <tr>\n",
              "      <th>3</th>\n",
              "      <td>0.008264</td>\n",
              "      <td>0.00</td>\n",
              "      <td>0.714286</td>\n",
              "      <td>0.00</td>\n",
              "      <td>0.666667</td>\n",
              "      <td>1.0</td>\n",
              "      <td>0.000000</td>\n",
              "      <td>0.444444</td>\n",
              "      <td>0.0</td>\n",
              "      <td>0.000000</td>\n",
              "    </tr>\n",
              "    <tr>\n",
              "      <th>4</th>\n",
              "      <td>0.041322</td>\n",
              "      <td>0.00</td>\n",
              "      <td>0.571429</td>\n",
              "      <td>0.75</td>\n",
              "      <td>0.500000</td>\n",
              "      <td>1.0</td>\n",
              "      <td>0.222222</td>\n",
              "      <td>0.222222</td>\n",
              "      <td>0.0</td>\n",
              "      <td>0.666667</td>\n",
              "    </tr>\n",
              "  </tbody>\n",
              "</table>\n",
              "</div>\n",
              "    <div class=\"colab-df-buttons\">\n",
              "\n",
              "  <div class=\"colab-df-container\">\n",
              "    <button class=\"colab-df-convert\" onclick=\"convertToInteractive('df-b6be2288-1956-48e2-aabf-009deb83e022')\"\n",
              "            title=\"Convert this dataframe to an interactive table.\"\n",
              "            style=\"display:none;\">\n",
              "\n",
              "  <svg xmlns=\"http://www.w3.org/2000/svg\" height=\"24px\" viewBox=\"0 -960 960 960\">\n",
              "    <path d=\"M120-120v-720h720v720H120Zm60-500h600v-160H180v160Zm220 220h160v-160H400v160Zm0 220h160v-160H400v160ZM180-400h160v-160H180v160Zm440 0h160v-160H620v160ZM180-180h160v-160H180v160Zm440 0h160v-160H620v160Z\"/>\n",
              "  </svg>\n",
              "    </button>\n",
              "\n",
              "  <style>\n",
              "    .colab-df-container {\n",
              "      display:flex;\n",
              "      gap: 12px;\n",
              "    }\n",
              "\n",
              "    .colab-df-convert {\n",
              "      background-color: #E8F0FE;\n",
              "      border: none;\n",
              "      border-radius: 50%;\n",
              "      cursor: pointer;\n",
              "      display: none;\n",
              "      fill: #1967D2;\n",
              "      height: 32px;\n",
              "      padding: 0 0 0 0;\n",
              "      width: 32px;\n",
              "    }\n",
              "\n",
              "    .colab-df-convert:hover {\n",
              "      background-color: #E2EBFA;\n",
              "      box-shadow: 0px 1px 2px rgba(60, 64, 67, 0.3), 0px 1px 3px 1px rgba(60, 64, 67, 0.15);\n",
              "      fill: #174EA6;\n",
              "    }\n",
              "\n",
              "    .colab-df-buttons div {\n",
              "      margin-bottom: 4px;\n",
              "    }\n",
              "\n",
              "    [theme=dark] .colab-df-convert {\n",
              "      background-color: #3B4455;\n",
              "      fill: #D2E3FC;\n",
              "    }\n",
              "\n",
              "    [theme=dark] .colab-df-convert:hover {\n",
              "      background-color: #434B5C;\n",
              "      box-shadow: 0px 1px 3px 1px rgba(0, 0, 0, 0.15);\n",
              "      filter: drop-shadow(0px 1px 2px rgba(0, 0, 0, 0.3));\n",
              "      fill: #FFFFFF;\n",
              "    }\n",
              "  </style>\n",
              "\n",
              "    <script>\n",
              "      const buttonEl =\n",
              "        document.querySelector('#df-b6be2288-1956-48e2-aabf-009deb83e022 button.colab-df-convert');\n",
              "      buttonEl.style.display =\n",
              "        google.colab.kernel.accessAllowed ? 'block' : 'none';\n",
              "\n",
              "      async function convertToInteractive(key) {\n",
              "        const element = document.querySelector('#df-b6be2288-1956-48e2-aabf-009deb83e022');\n",
              "        const dataTable =\n",
              "          await google.colab.kernel.invokeFunction('convertToInteractive',\n",
              "                                                    [key], {});\n",
              "        if (!dataTable) return;\n",
              "\n",
              "        const docLinkHtml = 'Like what you see? Visit the ' +\n",
              "          '<a target=\"_blank\" href=https://colab.research.google.com/notebooks/data_table.ipynb>data table notebook</a>'\n",
              "          + ' to learn more about interactive tables.';\n",
              "        element.innerHTML = '';\n",
              "        dataTable['output_type'] = 'display_data';\n",
              "        await google.colab.output.renderOutput(dataTable, element);\n",
              "        const docLink = document.createElement('div');\n",
              "        docLink.innerHTML = docLinkHtml;\n",
              "        element.appendChild(docLink);\n",
              "      }\n",
              "    </script>\n",
              "  </div>\n",
              "\n",
              "\n",
              "<div id=\"df-0434c076-7543-4b00-8b32-d8aba97df64b\">\n",
              "  <button class=\"colab-df-quickchart\" onclick=\"quickchart('df-0434c076-7543-4b00-8b32-d8aba97df64b')\"\n",
              "            title=\"Suggest charts\"\n",
              "            style=\"display:none;\">\n",
              "\n",
              "<svg xmlns=\"http://www.w3.org/2000/svg\" height=\"24px\"viewBox=\"0 0 24 24\"\n",
              "     width=\"24px\">\n",
              "    <g>\n",
              "        <path d=\"M19 3H5c-1.1 0-2 .9-2 2v14c0 1.1.9 2 2 2h14c1.1 0 2-.9 2-2V5c0-1.1-.9-2-2-2zM9 17H7v-7h2v7zm4 0h-2V7h2v10zm4 0h-2v-4h2v4z\"/>\n",
              "    </g>\n",
              "</svg>\n",
              "  </button>\n",
              "\n",
              "<style>\n",
              "  .colab-df-quickchart {\n",
              "      --bg-color: #E8F0FE;\n",
              "      --fill-color: #1967D2;\n",
              "      --hover-bg-color: #E2EBFA;\n",
              "      --hover-fill-color: #174EA6;\n",
              "      --disabled-fill-color: #AAA;\n",
              "      --disabled-bg-color: #DDD;\n",
              "  }\n",
              "\n",
              "  [theme=dark] .colab-df-quickchart {\n",
              "      --bg-color: #3B4455;\n",
              "      --fill-color: #D2E3FC;\n",
              "      --hover-bg-color: #434B5C;\n",
              "      --hover-fill-color: #FFFFFF;\n",
              "      --disabled-bg-color: #3B4455;\n",
              "      --disabled-fill-color: #666;\n",
              "  }\n",
              "\n",
              "  .colab-df-quickchart {\n",
              "    background-color: var(--bg-color);\n",
              "    border: none;\n",
              "    border-radius: 50%;\n",
              "    cursor: pointer;\n",
              "    display: none;\n",
              "    fill: var(--fill-color);\n",
              "    height: 32px;\n",
              "    padding: 0;\n",
              "    width: 32px;\n",
              "  }\n",
              "\n",
              "  .colab-df-quickchart:hover {\n",
              "    background-color: var(--hover-bg-color);\n",
              "    box-shadow: 0 1px 2px rgba(60, 64, 67, 0.3), 0 1px 3px 1px rgba(60, 64, 67, 0.15);\n",
              "    fill: var(--button-hover-fill-color);\n",
              "  }\n",
              "\n",
              "  .colab-df-quickchart-complete:disabled,\n",
              "  .colab-df-quickchart-complete:disabled:hover {\n",
              "    background-color: var(--disabled-bg-color);\n",
              "    fill: var(--disabled-fill-color);\n",
              "    box-shadow: none;\n",
              "  }\n",
              "\n",
              "  .colab-df-spinner {\n",
              "    border: 2px solid var(--fill-color);\n",
              "    border-color: transparent;\n",
              "    border-bottom-color: var(--fill-color);\n",
              "    animation:\n",
              "      spin 1s steps(1) infinite;\n",
              "  }\n",
              "\n",
              "  @keyframes spin {\n",
              "    0% {\n",
              "      border-color: transparent;\n",
              "      border-bottom-color: var(--fill-color);\n",
              "      border-left-color: var(--fill-color);\n",
              "    }\n",
              "    20% {\n",
              "      border-color: transparent;\n",
              "      border-left-color: var(--fill-color);\n",
              "      border-top-color: var(--fill-color);\n",
              "    }\n",
              "    30% {\n",
              "      border-color: transparent;\n",
              "      border-left-color: var(--fill-color);\n",
              "      border-top-color: var(--fill-color);\n",
              "      border-right-color: var(--fill-color);\n",
              "    }\n",
              "    40% {\n",
              "      border-color: transparent;\n",
              "      border-right-color: var(--fill-color);\n",
              "      border-top-color: var(--fill-color);\n",
              "    }\n",
              "    60% {\n",
              "      border-color: transparent;\n",
              "      border-right-color: var(--fill-color);\n",
              "    }\n",
              "    80% {\n",
              "      border-color: transparent;\n",
              "      border-right-color: var(--fill-color);\n",
              "      border-bottom-color: var(--fill-color);\n",
              "    }\n",
              "    90% {\n",
              "      border-color: transparent;\n",
              "      border-bottom-color: var(--fill-color);\n",
              "    }\n",
              "  }\n",
              "</style>\n",
              "\n",
              "  <script>\n",
              "    async function quickchart(key) {\n",
              "      const quickchartButtonEl =\n",
              "        document.querySelector('#' + key + ' button');\n",
              "      quickchartButtonEl.disabled = true;  // To prevent multiple clicks.\n",
              "      quickchartButtonEl.classList.add('colab-df-spinner');\n",
              "      try {\n",
              "        const charts = await google.colab.kernel.invokeFunction(\n",
              "            'suggestCharts', [key], {});\n",
              "      } catch (error) {\n",
              "        console.error('Error during call to suggestCharts:', error);\n",
              "      }\n",
              "      quickchartButtonEl.classList.remove('colab-df-spinner');\n",
              "      quickchartButtonEl.classList.add('colab-df-quickchart-complete');\n",
              "    }\n",
              "    (() => {\n",
              "      let quickchartButtonEl =\n",
              "        document.querySelector('#df-0434c076-7543-4b00-8b32-d8aba97df64b button');\n",
              "      quickchartButtonEl.style.display =\n",
              "        google.colab.kernel.accessAllowed ? 'block' : 'none';\n",
              "    })();\n",
              "  </script>\n",
              "</div>\n",
              "\n",
              "    </div>\n",
              "  </div>\n"
            ],
            "application/vnd.google.colaboratory.intrinsic+json": {
              "type": "dataframe",
              "variable_name": "train"
            }
          },
          "metadata": {},
          "execution_count": 296
        }
      ],
      "source": [
        "train.head()"
      ]
    },
    {
      "cell_type": "code",
      "execution_count": null,
      "metadata": {
        "id": "t09xM4leXkBO"
      },
      "outputs": [],
      "source": [
        "train.to_csv('trainPrepocesado.csv', index=False)\n"
      ]
    },
    {
      "cell_type": "markdown",
      "source": [
        "#Pre-Procesamiento para test.csv\n",
        "\n"
      ],
      "metadata": {
        "id": "98CDin7d1TiT"
      }
    },
    {
      "cell_type": "code",
      "execution_count": null,
      "metadata": {
        "colab": {
          "base_uri": "https://localhost:8080/",
          "height": 365
        },
        "id": "7TStX8Ig1Tie",
        "outputId": "6aca4935-f874-4502-8796-2d27c88e4af6"
      },
      "outputs": [
        {
          "output_type": "execute_result",
          "data": {
            "text/plain": [
              "   Unnamed: 0      ID  PERIODO                     ESTU_PRGM_ACADEMICO  \\\n",
              "0           0  550236    20183                          TRABAJO SOCIAL   \n",
              "1           1   98545    20203  ADMINISTRACION COMERCIAL Y DE MERCADEO   \n",
              "2           2  499179    20212                  INGENIERIA MECATRONICA   \n",
              "3           3  782980    20195                      CONTADURIA PUBLICA   \n",
              "4           4  785185    20212              ADMINISTRACION DE EMPRESAS   \n",
              "\n",
              "  ESTU_PRGM_DEPARTAMENTO            ESTU_VALORMATRICULAUNIVERSIDAD  \\\n",
              "0                BOLIVAR                          Menos de 500 mil   \n",
              "1              ANTIOQUIA  Entre 2.5 millones y menos de 4 millones   \n",
              "2                 BOGOTÁ    Entre 1 millón y menos de 2.5 millones   \n",
              "3                  SUCRE    Entre 1 millón y menos de 2.5 millones   \n",
              "4              ATLANTICO  Entre 2.5 millones y menos de 4 millones   \n",
              "\n",
              "  ESTU_HORASSEMANATRABAJA FAMI_ESTRATOVIVIENDA FAMI_TIENEINTERNET  \\\n",
              "0       Menos de 10 horas            Estrato 3                 Si   \n",
              "1     Entre 21 y 30 horas            Estrato 2                 Si   \n",
              "2                       0            Estrato 3                 Si   \n",
              "3     Entre 21 y 30 horas            Estrato 1                 No   \n",
              "4     Entre 11 y 20 horas            Estrato 2                 Si   \n",
              "\n",
              "                    FAMI_EDUCACIONPADRE                 FAMI_EDUCACIONMADRE  \\\n",
              "0        Técnica o tecnológica completa                   Primaria completa   \n",
              "1    Secundaria (Bachillerato) completa      Técnica o tecnológica completa   \n",
              "2  Secundaria (Bachillerato) incompleta  Secundaria (Bachillerato) completa   \n",
              "3                   Primaria incompleta                 Primaria incompleta   \n",
              "4    Secundaria (Bachillerato) completa  Secundaria (Bachillerato) completa   \n",
              "\n",
              "  ESTU_PAGOMATRICULAPROPIO  \n",
              "0                       Si  \n",
              "1                       No  \n",
              "2                       No  \n",
              "3                       No  \n",
              "4                       No  "
            ],
            "text/html": [
              "\n",
              "  <div id=\"df-217dc5b2-70ac-4caa-a02b-e155285c056f\" class=\"colab-df-container\">\n",
              "    <div>\n",
              "<style scoped>\n",
              "    .dataframe tbody tr th:only-of-type {\n",
              "        vertical-align: middle;\n",
              "    }\n",
              "\n",
              "    .dataframe tbody tr th {\n",
              "        vertical-align: top;\n",
              "    }\n",
              "\n",
              "    .dataframe thead th {\n",
              "        text-align: right;\n",
              "    }\n",
              "</style>\n",
              "<table border=\"1\" class=\"dataframe\">\n",
              "  <thead>\n",
              "    <tr style=\"text-align: right;\">\n",
              "      <th></th>\n",
              "      <th>Unnamed: 0</th>\n",
              "      <th>ID</th>\n",
              "      <th>PERIODO</th>\n",
              "      <th>ESTU_PRGM_ACADEMICO</th>\n",
              "      <th>ESTU_PRGM_DEPARTAMENTO</th>\n",
              "      <th>ESTU_VALORMATRICULAUNIVERSIDAD</th>\n",
              "      <th>ESTU_HORASSEMANATRABAJA</th>\n",
              "      <th>FAMI_ESTRATOVIVIENDA</th>\n",
              "      <th>FAMI_TIENEINTERNET</th>\n",
              "      <th>FAMI_EDUCACIONPADRE</th>\n",
              "      <th>FAMI_EDUCACIONMADRE</th>\n",
              "      <th>ESTU_PAGOMATRICULAPROPIO</th>\n",
              "    </tr>\n",
              "  </thead>\n",
              "  <tbody>\n",
              "    <tr>\n",
              "      <th>0</th>\n",
              "      <td>0</td>\n",
              "      <td>550236</td>\n",
              "      <td>20183</td>\n",
              "      <td>TRABAJO SOCIAL</td>\n",
              "      <td>BOLIVAR</td>\n",
              "      <td>Menos de 500 mil</td>\n",
              "      <td>Menos de 10 horas</td>\n",
              "      <td>Estrato 3</td>\n",
              "      <td>Si</td>\n",
              "      <td>Técnica o tecnológica completa</td>\n",
              "      <td>Primaria completa</td>\n",
              "      <td>Si</td>\n",
              "    </tr>\n",
              "    <tr>\n",
              "      <th>1</th>\n",
              "      <td>1</td>\n",
              "      <td>98545</td>\n",
              "      <td>20203</td>\n",
              "      <td>ADMINISTRACION COMERCIAL Y DE MERCADEO</td>\n",
              "      <td>ANTIOQUIA</td>\n",
              "      <td>Entre 2.5 millones y menos de 4 millones</td>\n",
              "      <td>Entre 21 y 30 horas</td>\n",
              "      <td>Estrato 2</td>\n",
              "      <td>Si</td>\n",
              "      <td>Secundaria (Bachillerato) completa</td>\n",
              "      <td>Técnica o tecnológica completa</td>\n",
              "      <td>No</td>\n",
              "    </tr>\n",
              "    <tr>\n",
              "      <th>2</th>\n",
              "      <td>2</td>\n",
              "      <td>499179</td>\n",
              "      <td>20212</td>\n",
              "      <td>INGENIERIA MECATRONICA</td>\n",
              "      <td>BOGOTÁ</td>\n",
              "      <td>Entre 1 millón y menos de 2.5 millones</td>\n",
              "      <td>0</td>\n",
              "      <td>Estrato 3</td>\n",
              "      <td>Si</td>\n",
              "      <td>Secundaria (Bachillerato) incompleta</td>\n",
              "      <td>Secundaria (Bachillerato) completa</td>\n",
              "      <td>No</td>\n",
              "    </tr>\n",
              "    <tr>\n",
              "      <th>3</th>\n",
              "      <td>3</td>\n",
              "      <td>782980</td>\n",
              "      <td>20195</td>\n",
              "      <td>CONTADURIA PUBLICA</td>\n",
              "      <td>SUCRE</td>\n",
              "      <td>Entre 1 millón y menos de 2.5 millones</td>\n",
              "      <td>Entre 21 y 30 horas</td>\n",
              "      <td>Estrato 1</td>\n",
              "      <td>No</td>\n",
              "      <td>Primaria incompleta</td>\n",
              "      <td>Primaria incompleta</td>\n",
              "      <td>No</td>\n",
              "    </tr>\n",
              "    <tr>\n",
              "      <th>4</th>\n",
              "      <td>4</td>\n",
              "      <td>785185</td>\n",
              "      <td>20212</td>\n",
              "      <td>ADMINISTRACION DE EMPRESAS</td>\n",
              "      <td>ATLANTICO</td>\n",
              "      <td>Entre 2.5 millones y menos de 4 millones</td>\n",
              "      <td>Entre 11 y 20 horas</td>\n",
              "      <td>Estrato 2</td>\n",
              "      <td>Si</td>\n",
              "      <td>Secundaria (Bachillerato) completa</td>\n",
              "      <td>Secundaria (Bachillerato) completa</td>\n",
              "      <td>No</td>\n",
              "    </tr>\n",
              "  </tbody>\n",
              "</table>\n",
              "</div>\n",
              "    <div class=\"colab-df-buttons\">\n",
              "\n",
              "  <div class=\"colab-df-container\">\n",
              "    <button class=\"colab-df-convert\" onclick=\"convertToInteractive('df-217dc5b2-70ac-4caa-a02b-e155285c056f')\"\n",
              "            title=\"Convert this dataframe to an interactive table.\"\n",
              "            style=\"display:none;\">\n",
              "\n",
              "  <svg xmlns=\"http://www.w3.org/2000/svg\" height=\"24px\" viewBox=\"0 -960 960 960\">\n",
              "    <path d=\"M120-120v-720h720v720H120Zm60-500h600v-160H180v160Zm220 220h160v-160H400v160Zm0 220h160v-160H400v160ZM180-400h160v-160H180v160Zm440 0h160v-160H620v160ZM180-180h160v-160H180v160Zm440 0h160v-160H620v160Z\"/>\n",
              "  </svg>\n",
              "    </button>\n",
              "\n",
              "  <style>\n",
              "    .colab-df-container {\n",
              "      display:flex;\n",
              "      gap: 12px;\n",
              "    }\n",
              "\n",
              "    .colab-df-convert {\n",
              "      background-color: #E8F0FE;\n",
              "      border: none;\n",
              "      border-radius: 50%;\n",
              "      cursor: pointer;\n",
              "      display: none;\n",
              "      fill: #1967D2;\n",
              "      height: 32px;\n",
              "      padding: 0 0 0 0;\n",
              "      width: 32px;\n",
              "    }\n",
              "\n",
              "    .colab-df-convert:hover {\n",
              "      background-color: #E2EBFA;\n",
              "      box-shadow: 0px 1px 2px rgba(60, 64, 67, 0.3), 0px 1px 3px 1px rgba(60, 64, 67, 0.15);\n",
              "      fill: #174EA6;\n",
              "    }\n",
              "\n",
              "    .colab-df-buttons div {\n",
              "      margin-bottom: 4px;\n",
              "    }\n",
              "\n",
              "    [theme=dark] .colab-df-convert {\n",
              "      background-color: #3B4455;\n",
              "      fill: #D2E3FC;\n",
              "    }\n",
              "\n",
              "    [theme=dark] .colab-df-convert:hover {\n",
              "      background-color: #434B5C;\n",
              "      box-shadow: 0px 1px 3px 1px rgba(0, 0, 0, 0.15);\n",
              "      filter: drop-shadow(0px 1px 2px rgba(0, 0, 0, 0.3));\n",
              "      fill: #FFFFFF;\n",
              "    }\n",
              "  </style>\n",
              "\n",
              "    <script>\n",
              "      const buttonEl =\n",
              "        document.querySelector('#df-217dc5b2-70ac-4caa-a02b-e155285c056f button.colab-df-convert');\n",
              "      buttonEl.style.display =\n",
              "        google.colab.kernel.accessAllowed ? 'block' : 'none';\n",
              "\n",
              "      async function convertToInteractive(key) {\n",
              "        const element = document.querySelector('#df-217dc5b2-70ac-4caa-a02b-e155285c056f');\n",
              "        const dataTable =\n",
              "          await google.colab.kernel.invokeFunction('convertToInteractive',\n",
              "                                                    [key], {});\n",
              "        if (!dataTable) return;\n",
              "\n",
              "        const docLinkHtml = 'Like what you see? Visit the ' +\n",
              "          '<a target=\"_blank\" href=https://colab.research.google.com/notebooks/data_table.ipynb>data table notebook</a>'\n",
              "          + ' to learn more about interactive tables.';\n",
              "        element.innerHTML = '';\n",
              "        dataTable['output_type'] = 'display_data';\n",
              "        await google.colab.output.renderOutput(dataTable, element);\n",
              "        const docLink = document.createElement('div');\n",
              "        docLink.innerHTML = docLinkHtml;\n",
              "        element.appendChild(docLink);\n",
              "      }\n",
              "    </script>\n",
              "  </div>\n",
              "\n",
              "\n",
              "<div id=\"df-17a6efd5-507f-47d6-8c0f-2901748387c1\">\n",
              "  <button class=\"colab-df-quickchart\" onclick=\"quickchart('df-17a6efd5-507f-47d6-8c0f-2901748387c1')\"\n",
              "            title=\"Suggest charts\"\n",
              "            style=\"display:none;\">\n",
              "\n",
              "<svg xmlns=\"http://www.w3.org/2000/svg\" height=\"24px\"viewBox=\"0 0 24 24\"\n",
              "     width=\"24px\">\n",
              "    <g>\n",
              "        <path d=\"M19 3H5c-1.1 0-2 .9-2 2v14c0 1.1.9 2 2 2h14c1.1 0 2-.9 2-2V5c0-1.1-.9-2-2-2zM9 17H7v-7h2v7zm4 0h-2V7h2v10zm4 0h-2v-4h2v4z\"/>\n",
              "    </g>\n",
              "</svg>\n",
              "  </button>\n",
              "\n",
              "<style>\n",
              "  .colab-df-quickchart {\n",
              "      --bg-color: #E8F0FE;\n",
              "      --fill-color: #1967D2;\n",
              "      --hover-bg-color: #E2EBFA;\n",
              "      --hover-fill-color: #174EA6;\n",
              "      --disabled-fill-color: #AAA;\n",
              "      --disabled-bg-color: #DDD;\n",
              "  }\n",
              "\n",
              "  [theme=dark] .colab-df-quickchart {\n",
              "      --bg-color: #3B4455;\n",
              "      --fill-color: #D2E3FC;\n",
              "      --hover-bg-color: #434B5C;\n",
              "      --hover-fill-color: #FFFFFF;\n",
              "      --disabled-bg-color: #3B4455;\n",
              "      --disabled-fill-color: #666;\n",
              "  }\n",
              "\n",
              "  .colab-df-quickchart {\n",
              "    background-color: var(--bg-color);\n",
              "    border: none;\n",
              "    border-radius: 50%;\n",
              "    cursor: pointer;\n",
              "    display: none;\n",
              "    fill: var(--fill-color);\n",
              "    height: 32px;\n",
              "    padding: 0;\n",
              "    width: 32px;\n",
              "  }\n",
              "\n",
              "  .colab-df-quickchart:hover {\n",
              "    background-color: var(--hover-bg-color);\n",
              "    box-shadow: 0 1px 2px rgba(60, 64, 67, 0.3), 0 1px 3px 1px rgba(60, 64, 67, 0.15);\n",
              "    fill: var(--button-hover-fill-color);\n",
              "  }\n",
              "\n",
              "  .colab-df-quickchart-complete:disabled,\n",
              "  .colab-df-quickchart-complete:disabled:hover {\n",
              "    background-color: var(--disabled-bg-color);\n",
              "    fill: var(--disabled-fill-color);\n",
              "    box-shadow: none;\n",
              "  }\n",
              "\n",
              "  .colab-df-spinner {\n",
              "    border: 2px solid var(--fill-color);\n",
              "    border-color: transparent;\n",
              "    border-bottom-color: var(--fill-color);\n",
              "    animation:\n",
              "      spin 1s steps(1) infinite;\n",
              "  }\n",
              "\n",
              "  @keyframes spin {\n",
              "    0% {\n",
              "      border-color: transparent;\n",
              "      border-bottom-color: var(--fill-color);\n",
              "      border-left-color: var(--fill-color);\n",
              "    }\n",
              "    20% {\n",
              "      border-color: transparent;\n",
              "      border-left-color: var(--fill-color);\n",
              "      border-top-color: var(--fill-color);\n",
              "    }\n",
              "    30% {\n",
              "      border-color: transparent;\n",
              "      border-left-color: var(--fill-color);\n",
              "      border-top-color: var(--fill-color);\n",
              "      border-right-color: var(--fill-color);\n",
              "    }\n",
              "    40% {\n",
              "      border-color: transparent;\n",
              "      border-right-color: var(--fill-color);\n",
              "      border-top-color: var(--fill-color);\n",
              "    }\n",
              "    60% {\n",
              "      border-color: transparent;\n",
              "      border-right-color: var(--fill-color);\n",
              "    }\n",
              "    80% {\n",
              "      border-color: transparent;\n",
              "      border-right-color: var(--fill-color);\n",
              "      border-bottom-color: var(--fill-color);\n",
              "    }\n",
              "    90% {\n",
              "      border-color: transparent;\n",
              "      border-bottom-color: var(--fill-color);\n",
              "    }\n",
              "  }\n",
              "</style>\n",
              "\n",
              "  <script>\n",
              "    async function quickchart(key) {\n",
              "      const quickchartButtonEl =\n",
              "        document.querySelector('#' + key + ' button');\n",
              "      quickchartButtonEl.disabled = true;  // To prevent multiple clicks.\n",
              "      quickchartButtonEl.classList.add('colab-df-spinner');\n",
              "      try {\n",
              "        const charts = await google.colab.kernel.invokeFunction(\n",
              "            'suggestCharts', [key], {});\n",
              "      } catch (error) {\n",
              "        console.error('Error during call to suggestCharts:', error);\n",
              "      }\n",
              "      quickchartButtonEl.classList.remove('colab-df-spinner');\n",
              "      quickchartButtonEl.classList.add('colab-df-quickchart-complete');\n",
              "    }\n",
              "    (() => {\n",
              "      let quickchartButtonEl =\n",
              "        document.querySelector('#df-17a6efd5-507f-47d6-8c0f-2901748387c1 button');\n",
              "      quickchartButtonEl.style.display =\n",
              "        google.colab.kernel.accessAllowed ? 'block' : 'none';\n",
              "    })();\n",
              "  </script>\n",
              "</div>\n",
              "\n",
              "    </div>\n",
              "  </div>\n"
            ],
            "application/vnd.google.colaboratory.intrinsic+json": {
              "type": "dataframe",
              "variable_name": "train"
            }
          },
          "metadata": {},
          "execution_count": 298
        }
      ],
      "source": [
        "train = pd.read_csv('test.csv')\n",
        "train.head()"
      ]
    },
    {
      "cell_type": "code",
      "execution_count": null,
      "metadata": {
        "colab": {
          "base_uri": "https://localhost:8080/",
          "height": 926
        },
        "id": "_W9RiPLs1Tih",
        "outputId": "3cfefaa1-8414-4080-92a4-29e754ce1ae1"
      },
      "outputs": [
        {
          "output_type": "execute_result",
          "data": {
            "text/plain": [
              "Unnamed: 0  ID      PERIODO  ESTU_PRGM_ACADEMICO                             ESTU_PRGM_DEPARTAMENTO  ESTU_VALORMATRICULAUNIVERSIDAD            ESTU_HORASSEMANATRABAJA  FAMI_ESTRATOVIVIENDA  FAMI_TIENEINTERNET  FAMI_EDUCACIONPADRE                   FAMI_EDUCACIONMADRE                 ESTU_PAGOMATRICULAPROPIO\n",
              "0           550236  20183    TRABAJO SOCIAL                                  BOLIVAR                 Menos de 500 mil                          Menos de 10 horas        Estrato 3             Si                  Técnica o tecnológica completa        Primaria completa                   Si                          1\n",
              "197774      146672  20212    NEGOCIOS INTERNACIONALES                        ANTIOQUIA               Entre 2.5 millones y menos de 4 millones  0                        Estrato 2             Si                  No sabe                               Técnica o tecnológica completa      No                          1\n",
              "197760      969385  20212    PROFESIONAL EN ADMINISTRACIÓN DE EMPRESAS       BOGOTÁ                  Entre 2.5 millones y menos de 4 millones  Menos de 10 horas        Estrato 3             Si                  Primaria incompleta                   Primaria incompleta                 Si                          1\n",
              "197761      836442  20195    DERECHO                                         ATLANTICO               Más de 7 millones                         0                        Estrato 3             Si                  Postgrado                             Educación profesional completa      No                          1\n",
              "197762      934993  20212    ADMINISTRACION DE EMPRESAS                      CAUCA                   No pagó matrícula                         Entre 21 y 30 horas      Estrato 2             Si                  Secundaria (Bachillerato) completa    Técnica o tecnológica completa      No                          1\n",
              "                                                                                                                                                                                                                                                                                                                       ..\n",
              "98817       708251  20183    LICENCIATURA EN LENGUA CASTELLANA Y LITERATURA  NARIÑO                  Menos de 500 mil                          Menos de 10 horas        Estrato 2             No                  Secundaria (Bachillerato) incompleta  Secundaria (Bachillerato) completa  No                          1\n",
              "98818       358986  20203    ADMINISTRACIÓN EN SALUD OCUPACIONAL             BOGOTÁ                  Entre 1 millón y menos de 2.5 millones    Entre 21 y 30 horas      Estrato 2             Si                  Ninguno                               Primaria incompleta                 Si                          1\n",
              "98819       447450  20203    INGENIERIA CIVIL                                META                    Entre 2.5 millones y menos de 4 millones  Entre 11 y 20 horas      Estrato 2             Si                  Secundaria (Bachillerato) completa    Secundaria (Bachillerato) completa  Si                          1\n",
              "98820       452153  20203    ADMINISTRACIÓN EN SALUD OCUPACIONAL             BOGOTÁ                  Entre 1 millón y menos de 2.5 millones    Más de 30 horas          Estrato 2             Si                  Secundaria (Bachillerato) completa    Postgrado                           Si                          1\n",
              "296785      792650  20212    INGENIERIA INDUSTRIAL                           BOYACA                  No pagó matrícula                         0                        Estrato 3             Si                  Secundaria (Bachillerato) completa    Secundaria (Bachillerato) completa  No                          1\n",
              "Name: count, Length: 276654, dtype: int64"
            ],
            "text/html": [
              "<div>\n",
              "<style scoped>\n",
              "    .dataframe tbody tr th:only-of-type {\n",
              "        vertical-align: middle;\n",
              "    }\n",
              "\n",
              "    .dataframe tbody tr th {\n",
              "        vertical-align: top;\n",
              "    }\n",
              "\n",
              "    .dataframe thead th {\n",
              "        text-align: right;\n",
              "    }\n",
              "</style>\n",
              "<table border=\"1\" class=\"dataframe\">\n",
              "  <thead>\n",
              "    <tr style=\"text-align: right;\">\n",
              "      <th></th>\n",
              "      <th></th>\n",
              "      <th></th>\n",
              "      <th></th>\n",
              "      <th></th>\n",
              "      <th></th>\n",
              "      <th></th>\n",
              "      <th></th>\n",
              "      <th></th>\n",
              "      <th></th>\n",
              "      <th></th>\n",
              "      <th></th>\n",
              "      <th>count</th>\n",
              "    </tr>\n",
              "    <tr>\n",
              "      <th>Unnamed: 0</th>\n",
              "      <th>ID</th>\n",
              "      <th>PERIODO</th>\n",
              "      <th>ESTU_PRGM_ACADEMICO</th>\n",
              "      <th>ESTU_PRGM_DEPARTAMENTO</th>\n",
              "      <th>ESTU_VALORMATRICULAUNIVERSIDAD</th>\n",
              "      <th>ESTU_HORASSEMANATRABAJA</th>\n",
              "      <th>FAMI_ESTRATOVIVIENDA</th>\n",
              "      <th>FAMI_TIENEINTERNET</th>\n",
              "      <th>FAMI_EDUCACIONPADRE</th>\n",
              "      <th>FAMI_EDUCACIONMADRE</th>\n",
              "      <th>ESTU_PAGOMATRICULAPROPIO</th>\n",
              "      <th></th>\n",
              "    </tr>\n",
              "  </thead>\n",
              "  <tbody>\n",
              "    <tr>\n",
              "      <th>0</th>\n",
              "      <th>550236</th>\n",
              "      <th>20183</th>\n",
              "      <th>TRABAJO SOCIAL</th>\n",
              "      <th>BOLIVAR</th>\n",
              "      <th>Menos de 500 mil</th>\n",
              "      <th>Menos de 10 horas</th>\n",
              "      <th>Estrato 3</th>\n",
              "      <th>Si</th>\n",
              "      <th>Técnica o tecnológica completa</th>\n",
              "      <th>Primaria completa</th>\n",
              "      <th>Si</th>\n",
              "      <td>1</td>\n",
              "    </tr>\n",
              "    <tr>\n",
              "      <th>197774</th>\n",
              "      <th>146672</th>\n",
              "      <th>20212</th>\n",
              "      <th>NEGOCIOS INTERNACIONALES</th>\n",
              "      <th>ANTIOQUIA</th>\n",
              "      <th>Entre 2.5 millones y menos de 4 millones</th>\n",
              "      <th>0</th>\n",
              "      <th>Estrato 2</th>\n",
              "      <th>Si</th>\n",
              "      <th>No sabe</th>\n",
              "      <th>Técnica o tecnológica completa</th>\n",
              "      <th>No</th>\n",
              "      <td>1</td>\n",
              "    </tr>\n",
              "    <tr>\n",
              "      <th>197760</th>\n",
              "      <th>969385</th>\n",
              "      <th>20212</th>\n",
              "      <th>PROFESIONAL EN ADMINISTRACIÓN DE EMPRESAS</th>\n",
              "      <th>BOGOTÁ</th>\n",
              "      <th>Entre 2.5 millones y menos de 4 millones</th>\n",
              "      <th>Menos de 10 horas</th>\n",
              "      <th>Estrato 3</th>\n",
              "      <th>Si</th>\n",
              "      <th>Primaria incompleta</th>\n",
              "      <th>Primaria incompleta</th>\n",
              "      <th>Si</th>\n",
              "      <td>1</td>\n",
              "    </tr>\n",
              "    <tr>\n",
              "      <th>197761</th>\n",
              "      <th>836442</th>\n",
              "      <th>20195</th>\n",
              "      <th>DERECHO</th>\n",
              "      <th>ATLANTICO</th>\n",
              "      <th>Más de 7 millones</th>\n",
              "      <th>0</th>\n",
              "      <th>Estrato 3</th>\n",
              "      <th>Si</th>\n",
              "      <th>Postgrado</th>\n",
              "      <th>Educación profesional completa</th>\n",
              "      <th>No</th>\n",
              "      <td>1</td>\n",
              "    </tr>\n",
              "    <tr>\n",
              "      <th>197762</th>\n",
              "      <th>934993</th>\n",
              "      <th>20212</th>\n",
              "      <th>ADMINISTRACION DE EMPRESAS</th>\n",
              "      <th>CAUCA</th>\n",
              "      <th>No pagó matrícula</th>\n",
              "      <th>Entre 21 y 30 horas</th>\n",
              "      <th>Estrato 2</th>\n",
              "      <th>Si</th>\n",
              "      <th>Secundaria (Bachillerato) completa</th>\n",
              "      <th>Técnica o tecnológica completa</th>\n",
              "      <th>No</th>\n",
              "      <td>1</td>\n",
              "    </tr>\n",
              "    <tr>\n",
              "      <th>...</th>\n",
              "      <th>...</th>\n",
              "      <th>...</th>\n",
              "      <th>...</th>\n",
              "      <th>...</th>\n",
              "      <th>...</th>\n",
              "      <th>...</th>\n",
              "      <th>...</th>\n",
              "      <th>...</th>\n",
              "      <th>...</th>\n",
              "      <th>...</th>\n",
              "      <th>...</th>\n",
              "      <td>...</td>\n",
              "    </tr>\n",
              "    <tr>\n",
              "      <th>98817</th>\n",
              "      <th>708251</th>\n",
              "      <th>20183</th>\n",
              "      <th>LICENCIATURA EN LENGUA CASTELLANA Y LITERATURA</th>\n",
              "      <th>NARIÑO</th>\n",
              "      <th>Menos de 500 mil</th>\n",
              "      <th>Menos de 10 horas</th>\n",
              "      <th>Estrato 2</th>\n",
              "      <th>No</th>\n",
              "      <th>Secundaria (Bachillerato) incompleta</th>\n",
              "      <th>Secundaria (Bachillerato) completa</th>\n",
              "      <th>No</th>\n",
              "      <td>1</td>\n",
              "    </tr>\n",
              "    <tr>\n",
              "      <th>98818</th>\n",
              "      <th>358986</th>\n",
              "      <th>20203</th>\n",
              "      <th>ADMINISTRACIÓN EN SALUD OCUPACIONAL</th>\n",
              "      <th>BOGOTÁ</th>\n",
              "      <th>Entre 1 millón y menos de 2.5 millones</th>\n",
              "      <th>Entre 21 y 30 horas</th>\n",
              "      <th>Estrato 2</th>\n",
              "      <th>Si</th>\n",
              "      <th>Ninguno</th>\n",
              "      <th>Primaria incompleta</th>\n",
              "      <th>Si</th>\n",
              "      <td>1</td>\n",
              "    </tr>\n",
              "    <tr>\n",
              "      <th>98819</th>\n",
              "      <th>447450</th>\n",
              "      <th>20203</th>\n",
              "      <th>INGENIERIA CIVIL</th>\n",
              "      <th>META</th>\n",
              "      <th>Entre 2.5 millones y menos de 4 millones</th>\n",
              "      <th>Entre 11 y 20 horas</th>\n",
              "      <th>Estrato 2</th>\n",
              "      <th>Si</th>\n",
              "      <th>Secundaria (Bachillerato) completa</th>\n",
              "      <th>Secundaria (Bachillerato) completa</th>\n",
              "      <th>Si</th>\n",
              "      <td>1</td>\n",
              "    </tr>\n",
              "    <tr>\n",
              "      <th>98820</th>\n",
              "      <th>452153</th>\n",
              "      <th>20203</th>\n",
              "      <th>ADMINISTRACIÓN EN SALUD OCUPACIONAL</th>\n",
              "      <th>BOGOTÁ</th>\n",
              "      <th>Entre 1 millón y menos de 2.5 millones</th>\n",
              "      <th>Más de 30 horas</th>\n",
              "      <th>Estrato 2</th>\n",
              "      <th>Si</th>\n",
              "      <th>Secundaria (Bachillerato) completa</th>\n",
              "      <th>Postgrado</th>\n",
              "      <th>Si</th>\n",
              "      <td>1</td>\n",
              "    </tr>\n",
              "    <tr>\n",
              "      <th>296785</th>\n",
              "      <th>792650</th>\n",
              "      <th>20212</th>\n",
              "      <th>INGENIERIA INDUSTRIAL</th>\n",
              "      <th>BOYACA</th>\n",
              "      <th>No pagó matrícula</th>\n",
              "      <th>0</th>\n",
              "      <th>Estrato 3</th>\n",
              "      <th>Si</th>\n",
              "      <th>Secundaria (Bachillerato) completa</th>\n",
              "      <th>Secundaria (Bachillerato) completa</th>\n",
              "      <th>No</th>\n",
              "      <td>1</td>\n",
              "    </tr>\n",
              "  </tbody>\n",
              "</table>\n",
              "<p>276654 rows × 1 columns</p>\n",
              "</div><br><label><b>dtype:</b> int64</label>"
            ]
          },
          "metadata": {},
          "execution_count": 299
        }
      ],
      "source": [
        "train.value_counts()"
      ]
    },
    {
      "cell_type": "markdown",
      "metadata": {
        "id": "im6-TL3_1Tij"
      },
      "source": [
        "## Overview\n",
        "\n",
        "\n",
        "Para la limpieza del archivo train.csv, se realizarán las siguientes operaciones:\n",
        "\n",
        "\n",
        "1.   Estandarización de datos:\n",
        "      *   ESTU_PRGM_ACADEMICO\n",
        "\n",
        "2.   Relleno de datos faltantes:\n",
        "      *   **FAMI_ESTRATOVIVIENDA:** se rellenan los vacíos con el estrato que tiene más repeticiones entre todo el dataset, dado que todo estudiante debe pertenecer a uno.\n",
        "      *   **FAMI_TIENEINTERNET:** asumimos un espacio vacío como un \"No\".\n",
        "      *   **FAMI_EDUCACIONPADRE:** asumimos un espacio vacío como un \"No aplica\" y se suma a las filas que tienen \"No sabe\" como entrada.\n",
        "      *   **FAMI_EDUCACIONMADRE:** asumimos un espacio vacío como un \"No aplica\".\n",
        "      *   **ESTU_VALORMATRICULAUNIVERSIDAD:** asumimos un espacio vacío como un \"No pagó matrícula\".\n",
        "      *   **ESTU_HORASSEMANATRABAJA:** asumimos un espacio vacío como un \"No trabaja\"\n",
        "      *   **ESTU_PAGOMATRICULAPROPIO:** asumimos un espacio vacío como un \"No\".\n",
        "\n",
        "\n",
        "3.   Sustituimos los valores \"Sí\" / \"No\" por \"1\" / \"0\" respectivamente:\n",
        "      *   FAMI_TIENEINTERNET\n",
        "      *   ESTU_PAGOMATRICULAPROPIO\n",
        "      *   FAMI_TIENEINTERNET\n",
        "\n",
        "\n",
        "4.   Usamos One Hot para categorizar las siguientes columnas:\n",
        "      *   FAMI_ESTRATOVIVIENDA\n",
        "      *   FAMI_EDUCACIONPADRE\n",
        "      *   ESTU_HORASSEMANATRABAJA\n",
        "      *   ESTU_VALORMATRICULAUNIVERSIDAD\n",
        "      *   ESTU_PRGM_ACADEMICO\n",
        "      *   ESTU_PRGM_DEPARTAMENTO\n",
        "\n",
        "\n",
        "\n",
        "\n",
        "\n",
        "\n",
        "\n",
        "\n",
        "\n",
        "\n",
        "\n",
        "\n",
        "\n",
        "\n",
        "\n",
        "\n",
        "\n",
        "\n",
        "\n",
        "\n",
        "\n",
        "\n",
        "\n",
        "\n",
        "\n",
        "\n",
        "\n",
        "\n",
        "\n",
        "\n",
        "\n",
        "\n",
        "\n"
      ]
    },
    {
      "cell_type": "markdown",
      "metadata": {
        "id": "KHAYP8kp1Tik"
      },
      "source": [
        "## **1. Estandarización de datos**"
      ]
    },
    {
      "cell_type": "markdown",
      "metadata": {
        "id": "OIh2wgj_1Til"
      },
      "source": [
        "*Columna ESTU_PRGM_ACADEMICO*"
      ]
    },
    {
      "cell_type": "code",
      "execution_count": null,
      "metadata": {
        "id": "PFmJU3gk1Tin"
      },
      "outputs": [],
      "source": [
        "train['ESTU_PRGM_ACADEMICO'] = (train['ESTU_PRGM_ACADEMICO']\n",
        "                                 .str.replace(r'^PROFESIONAL EN\\s+', '', regex=True)\n",
        "                                 .str.replace(r'\\s+', ' ', regex=True)\n",
        "                                 .str.upper()\n",
        "                                 .apply(unidecode)\n",
        "                               )\n",
        "\n",
        "reemplazos = {\n",
        "    r'INGENIE?RIA': 'INGENIERIA',\n",
        "    r'EDUCACIO?N\\b': 'EDUCACION',\n",
        "    r'RECREACIO?N\\b': 'RECREACION',\n",
        "    r'FISICA\\b': 'FISICA',\n",
        "    r'ESCENICAS\\b': 'ESCENICAS',\n",
        "    r'MATEMATICAS\\b': 'MATEMATICAS',\n",
        "    r'FILOSOFIA\\b': 'FILOSOFIA',\n",
        "    r'DISEÑO\\b': 'DISEÑO',\n",
        "    r'COMUNICACIO?N\\b': 'COMUNICACION',\n",
        "    r'GRAFICA\\b': 'GRAFICA',\n",
        "    r'ELECTRICA\\b': 'ELECTRICA',\n",
        "    r'QUIMICA\\b': 'QUIMICA',\n",
        "    r'FARMACEUTICA\\b': 'FARMACEUTICA',\n",
        "    r'ADMINISTRACIO?N\\b': 'ADMINISTRACION',\n",
        "    r'PUBLICA\\b': 'PUBLICA',\n",
        "    r'INGLES\\b': 'INGLES',\n",
        "    r'ENFASIS\\b': 'ENFASIS',\n",
        "    r'GESTIO?N\\b': 'GESTION',\n",
        "    r'MUSICA\\b': 'MUSICA',\n",
        "    r'ECONOMIA\\b': 'ECONOMIA',\n",
        "    r'GASTRONOMIA\\b': 'GASTRONOMIA',\n",
        "    r'BASICA\\b': 'BASICA',\n",
        "    r'GEOLOGIA\\b': 'GEOLOGIA',\n",
        "    r'PEDAGOGIA\\b': 'PEDAGOGIA',\n",
        "    r'ARTISTICA\\b': 'ARTISTICA',\n",
        "    r'LOGISTICA\\b': 'LOGISTICA',\n",
        "}\n",
        "\n",
        "for pattern, replacement in reemplazos.items():\n",
        "    train['ESTU_PRGM_ACADEMICO'] = train['ESTU_PRGM_ACADEMICO'].replace(pattern, replacement, regex=True)\n"
      ]
    },
    {
      "cell_type": "code",
      "execution_count": null,
      "metadata": {
        "id": "2KgZQzJA1Tiw"
      },
      "outputs": [],
      "source": [
        "reemplazos = {\n",
        "    r'.*INGENIERIA.*': 'INGENIERIA',\n",
        "    r'ADMINISTRACION.*': 'ADMINISTRACION',\n",
        "    r'QUIMICA.*': 'QUIMICA',\n",
        "    r'DISEÑO.*': 'DISEÑO',\n",
        "    r'DISENO.*': 'DISEÑO',\n",
        "    r'.*ARTE.*': 'ARTES',\n",
        "    r'LICENCIATURA.*': 'LICENCIATURA',\n",
        "    r'.*DEPORT.*': 'DEPORTE',\n",
        "    r'CIENCIA.*': 'CIENCIAS',\n",
        "    r'COMUNICACION.*': 'COMUNICACION',\n",
        "    r'GESTION.*': 'GESTION',\n",
        "    r'FILOSOFIA.*': 'FILOSOFIA',\n",
        "    r'NEGOCIOS.*': 'NEGOCIOS',\n",
        "    r'.*MERCAD.*': 'MERCADEO',\n",
        "    r'CINE.*': 'CINE',\n",
        "    r'.*AGRO.*': 'AGRONOMIA',\n",
        "    r'HOTELERIA.*': 'HOTELERIA',\n",
        "    r'GEREN.*': 'GERENCIA',\n",
        "    r'ECONO.*': 'ECONOMIA',\n",
        "    r'.*QUIRURGICA.*': 'MEDICINA',\n",
        "    r'.*LITERA.*': 'LITERATURA',\n",
        "    r'.*PSICOLO.*' : 'PSICOLOGIA',\n",
        "    r'.*BIOLOGIA.*' : 'BIOLOGIA',\n",
        "    r'MATEMATICAS.*': 'MATEMATICAS',\n",
        "    r'ADMIN.*': 'ADMINISTRACION',\n",
        "    r'ESTUDIOS.*': 'ESTUDIOS',\n",
        "    r'FINANZAS.*': 'FINANZAS',\n",
        "    r'CONSTRUCCION.*': 'CONSTRUCCION',\n",
        "    r'DIRECCION.*': 'DIRECCION',\n",
        "    r'RELACIONES.*': 'RELACIONES',\n",
        "    r'.*FILOL.*': 'FILOLOGIA',\n",
        "    r'COMERCIO.*': 'COMERCIO',\n",
        "    r'PUBLICI.*': 'PUBLICIDAD',\n",
        "    r'CONTADURIA.*': 'CONTADURIA',\n",
        "    r'GEO.*': 'GEOGRAFIA',\n",
        "    r'MARK.*': 'MERCADEO',\n",
        "    r'.*MUSICA.*': 'MUSICA',\n",
        "    r'.*GASTR.*': 'GASTRONOMIA',\n",
        "    r'PROFESIONAL.*': 'PROFESIONAL ',\n",
        "    r'LENG.*': 'LENGUAS',\n",
        "    r'.*ZOO.*': 'ZOOLOGIA',\n",
        "    r'.*VETE.*':'VETERINARIA',\n",
        "    r'HISTORIA.*': 'HISTORIA',\n",
        "    r'\\?': '',\n",
        "}\n",
        "\n",
        "for pattern, replacement in reemplazos.items():\n",
        "    train['ESTU_PRGM_ACADEMICO'] = train['ESTU_PRGM_ACADEMICO'].replace(pattern, replacement, regex=True)"
      ]
    },
    {
      "cell_type": "code",
      "execution_count": null,
      "metadata": {
        "id": "60oc9XYZ1Tiy"
      },
      "outputs": [],
      "source": [
        "reemplazos = {\n",
        "    'ANTIOQUIA': 'ANDINA',\n",
        "    'BOYACA': 'ANDINA',\n",
        "    'BOGOTÁ': 'ANDINA',\n",
        "    'CALDAS': 'ANDINA',\n",
        "    'CUNDINAMARCA': 'ANDINA',\n",
        "    'HUILA': 'ANDINA',\n",
        "    'NORTE SANTANDER': 'ANDINA',\n",
        "    'QUINDIO': 'ANDINA',\n",
        "    'RISARALDA': 'ANDINA',\n",
        "    'SANTANDER': 'ANDINA',\n",
        "    'TOLIMA': 'ANDINA',\n",
        "    'AMAZONAS': 'AMAZONA',\n",
        "    'CAQUETA': 'AMAZONA',\n",
        "    'VAUPES': 'AMAZONA',\n",
        "    'GUAVIARE': 'AMAZONA',\n",
        "    'PUTUMAYO': 'AMAZONA',\n",
        "    'VALLE': 'PACIFICA',\n",
        "    'CHOCO': 'PACIFICA',\n",
        "    'CAUCA': 'PACIFICA',\n",
        "    'NARIÑO': 'PACIFICA',\n",
        "    'ATLANTICO': 'CARIBE',\n",
        "    'BOLIVAR': 'CARIBE',\n",
        "    'CESAR': 'CARIBE',\n",
        "    'CORDOBA': 'CARIBE',\n",
        "    'LA GUAJIRA': 'CARIBE',\n",
        "    'MAGDALENA': 'CARIBE',\n",
        "    'SUCRE': 'CARIBE',\n",
        "    'SAN ANDRES': 'CARIBE',\n",
        "    'ARAUCA': 'ORINOQUIA',\n",
        "    'CASANARE': 'ORINOQUIA',\n",
        "    'META': 'ORINOQUIA',\n",
        "    'VICHADA': 'ORINOQUIA'\n",
        "}\n",
        "\n",
        "for old_value, new_value in reemplazos.items():\n",
        "    train['ESTU_PRGM_DEPARTAMENTO'] = train['ESTU_PRGM_DEPARTAMENTO'].astype(str).str.replace(old_value, new_value)\n"
      ]
    },
    {
      "cell_type": "markdown",
      "metadata": {
        "id": "F0C-1JlM1Ti1"
      },
      "source": [
        "## **2. Relleno de datos faltantes**"
      ]
    },
    {
      "cell_type": "markdown",
      "metadata": {
        "id": "NKeSPw0v1Ti2"
      },
      "source": [
        "Columna *FAMI_ESTRATOVIVIENDA*"
      ]
    },
    {
      "cell_type": "code",
      "execution_count": null,
      "metadata": {
        "colab": {
          "base_uri": "https://localhost:8080/"
        },
        "id": "MscH58Mr1Ti3",
        "outputId": "c0579ff6-76a8-4792-b963-8795dea3495d"
      },
      "outputs": [
        {
          "output_type": "execute_result",
          "data": {
            "text/plain": [
              "array(['Estrato 3', 'Estrato 2', 'Estrato 1', 'Estrato 4', nan,\n",
              "       'Estrato 6', 'Estrato 5', 'Sin Estrato'], dtype=object)"
            ]
          },
          "metadata": {},
          "execution_count": 303
        }
      ],
      "source": [
        "train['FAMI_ESTRATOVIVIENDA'].unique()"
      ]
    },
    {
      "cell_type": "code",
      "execution_count": null,
      "metadata": {
        "colab": {
          "base_uri": "https://localhost:8080/",
          "height": 372
        },
        "id": "N1M5Z_y-1Ti4",
        "outputId": "53b24919-53c7-428e-c06a-51181c9aaa54"
      },
      "outputs": [
        {
          "output_type": "execute_result",
          "data": {
            "text/plain": [
              "FAMI_ESTRATOVIVIENDA\n",
              "Estrato 2      99288\n",
              "Estrato 3      90719\n",
              "Estrato 1      48092\n",
              "Estrato 4      27823\n",
              "Estrato 5      10194\n",
              "Estrato 6       5451\n",
              "Sin Estrato     1424\n",
              "Name: count, dtype: int64"
            ],
            "text/html": [
              "<div>\n",
              "<style scoped>\n",
              "    .dataframe tbody tr th:only-of-type {\n",
              "        vertical-align: middle;\n",
              "    }\n",
              "\n",
              "    .dataframe tbody tr th {\n",
              "        vertical-align: top;\n",
              "    }\n",
              "\n",
              "    .dataframe thead th {\n",
              "        text-align: right;\n",
              "    }\n",
              "</style>\n",
              "<table border=\"1\" class=\"dataframe\">\n",
              "  <thead>\n",
              "    <tr style=\"text-align: right;\">\n",
              "      <th></th>\n",
              "      <th>count</th>\n",
              "    </tr>\n",
              "    <tr>\n",
              "      <th>FAMI_ESTRATOVIVIENDA</th>\n",
              "      <th></th>\n",
              "    </tr>\n",
              "  </thead>\n",
              "  <tbody>\n",
              "    <tr>\n",
              "      <th>Estrato 2</th>\n",
              "      <td>99288</td>\n",
              "    </tr>\n",
              "    <tr>\n",
              "      <th>Estrato 3</th>\n",
              "      <td>90719</td>\n",
              "    </tr>\n",
              "    <tr>\n",
              "      <th>Estrato 1</th>\n",
              "      <td>48092</td>\n",
              "    </tr>\n",
              "    <tr>\n",
              "      <th>Estrato 4</th>\n",
              "      <td>27823</td>\n",
              "    </tr>\n",
              "    <tr>\n",
              "      <th>Estrato 5</th>\n",
              "      <td>10194</td>\n",
              "    </tr>\n",
              "    <tr>\n",
              "      <th>Estrato 6</th>\n",
              "      <td>5451</td>\n",
              "    </tr>\n",
              "    <tr>\n",
              "      <th>Sin Estrato</th>\n",
              "      <td>1424</td>\n",
              "    </tr>\n",
              "  </tbody>\n",
              "</table>\n",
              "</div><br><label><b>dtype:</b> int64</label>"
            ]
          },
          "metadata": {},
          "execution_count": 304
        }
      ],
      "source": [
        "train['FAMI_ESTRATOVIVIENDA'].value_counts()"
      ]
    },
    {
      "cell_type": "code",
      "execution_count": null,
      "metadata": {
        "id": "hf2dBaQs1Ti5"
      },
      "outputs": [],
      "source": [
        "train['FAMI_ESTRATOVIVIENDA'] = train['FAMI_ESTRATOVIVIENDA'].fillna('Estrato 2')"
      ]
    },
    {
      "cell_type": "code",
      "execution_count": null,
      "metadata": {
        "colab": {
          "base_uri": "https://localhost:8080/"
        },
        "id": "F0PcPOaw1Ti6",
        "outputId": "1e9e8126-7e51-4f31-d157-c0351429b4b1"
      },
      "outputs": [
        {
          "output_type": "execute_result",
          "data": {
            "text/plain": [
              "0"
            ]
          },
          "metadata": {},
          "execution_count": 306
        }
      ],
      "source": [
        "train['FAMI_ESTRATOVIVIENDA'].isna().sum()"
      ]
    },
    {
      "cell_type": "code",
      "execution_count": null,
      "metadata": {
        "colab": {
          "base_uri": "https://localhost:8080/",
          "height": 372
        },
        "id": "AuTPtDf_1Ti8",
        "outputId": "6ea28cc2-89fd-41b7-e29b-791749fe72cc"
      },
      "outputs": [
        {
          "output_type": "execute_result",
          "data": {
            "text/plain": [
              "FAMI_ESTRATOVIVIENDA\n",
              "Estrato 2      113083\n",
              "Estrato 3       90719\n",
              "Estrato 1       48092\n",
              "Estrato 4       27823\n",
              "Estrato 5       10194\n",
              "Estrato 6        5451\n",
              "Sin Estrato      1424\n",
              "Name: count, dtype: int64"
            ],
            "text/html": [
              "<div>\n",
              "<style scoped>\n",
              "    .dataframe tbody tr th:only-of-type {\n",
              "        vertical-align: middle;\n",
              "    }\n",
              "\n",
              "    .dataframe tbody tr th {\n",
              "        vertical-align: top;\n",
              "    }\n",
              "\n",
              "    .dataframe thead th {\n",
              "        text-align: right;\n",
              "    }\n",
              "</style>\n",
              "<table border=\"1\" class=\"dataframe\">\n",
              "  <thead>\n",
              "    <tr style=\"text-align: right;\">\n",
              "      <th></th>\n",
              "      <th>count</th>\n",
              "    </tr>\n",
              "    <tr>\n",
              "      <th>FAMI_ESTRATOVIVIENDA</th>\n",
              "      <th></th>\n",
              "    </tr>\n",
              "  </thead>\n",
              "  <tbody>\n",
              "    <tr>\n",
              "      <th>Estrato 2</th>\n",
              "      <td>113083</td>\n",
              "    </tr>\n",
              "    <tr>\n",
              "      <th>Estrato 3</th>\n",
              "      <td>90719</td>\n",
              "    </tr>\n",
              "    <tr>\n",
              "      <th>Estrato 1</th>\n",
              "      <td>48092</td>\n",
              "    </tr>\n",
              "    <tr>\n",
              "      <th>Estrato 4</th>\n",
              "      <td>27823</td>\n",
              "    </tr>\n",
              "    <tr>\n",
              "      <th>Estrato 5</th>\n",
              "      <td>10194</td>\n",
              "    </tr>\n",
              "    <tr>\n",
              "      <th>Estrato 6</th>\n",
              "      <td>5451</td>\n",
              "    </tr>\n",
              "    <tr>\n",
              "      <th>Sin Estrato</th>\n",
              "      <td>1424</td>\n",
              "    </tr>\n",
              "  </tbody>\n",
              "</table>\n",
              "</div><br><label><b>dtype:</b> int64</label>"
            ]
          },
          "metadata": {},
          "execution_count": 307
        }
      ],
      "source": [
        "train['FAMI_ESTRATOVIVIENDA'].value_counts()"
      ]
    },
    {
      "cell_type": "markdown",
      "metadata": {
        "id": "p58O6rsj1TjA"
      },
      "source": [
        "*Columna FAMI_TIENEINTERNET*"
      ]
    },
    {
      "cell_type": "code",
      "execution_count": null,
      "metadata": {
        "colab": {
          "base_uri": "https://localhost:8080/"
        },
        "id": "EWZb9V6U1TjB",
        "outputId": "11b08836-9555-401d-f635-2898f1fe8b13"
      },
      "outputs": [
        {
          "output_type": "execute_result",
          "data": {
            "text/plain": [
              "array(['Si', 'No', nan], dtype=object)"
            ]
          },
          "metadata": {},
          "execution_count": 308
        }
      ],
      "source": [
        "train['FAMI_TIENEINTERNET'].unique()"
      ]
    },
    {
      "cell_type": "code",
      "execution_count": null,
      "metadata": {
        "colab": {
          "base_uri": "https://localhost:8080/",
          "height": 215
        },
        "id": "zA2M325p1TjB",
        "outputId": "ad6d7738-9792-425e-b47a-0065ef2d999f"
      },
      "outputs": [
        {
          "output_type": "execute_result",
          "data": {
            "text/plain": [
              "FAMI_TIENEINTERNET\n",
              "Si    254075\n",
              "No     31172\n",
              "Name: count, dtype: int64"
            ],
            "text/html": [
              "<div>\n",
              "<style scoped>\n",
              "    .dataframe tbody tr th:only-of-type {\n",
              "        vertical-align: middle;\n",
              "    }\n",
              "\n",
              "    .dataframe tbody tr th {\n",
              "        vertical-align: top;\n",
              "    }\n",
              "\n",
              "    .dataframe thead th {\n",
              "        text-align: right;\n",
              "    }\n",
              "</style>\n",
              "<table border=\"1\" class=\"dataframe\">\n",
              "  <thead>\n",
              "    <tr style=\"text-align: right;\">\n",
              "      <th></th>\n",
              "      <th>count</th>\n",
              "    </tr>\n",
              "    <tr>\n",
              "      <th>FAMI_TIENEINTERNET</th>\n",
              "      <th></th>\n",
              "    </tr>\n",
              "  </thead>\n",
              "  <tbody>\n",
              "    <tr>\n",
              "      <th>Si</th>\n",
              "      <td>254075</td>\n",
              "    </tr>\n",
              "    <tr>\n",
              "      <th>No</th>\n",
              "      <td>31172</td>\n",
              "    </tr>\n",
              "  </tbody>\n",
              "</table>\n",
              "</div><br><label><b>dtype:</b> int64</label>"
            ]
          },
          "metadata": {},
          "execution_count": 309
        }
      ],
      "source": [
        "train['FAMI_TIENEINTERNET'].value_counts()"
      ]
    },
    {
      "cell_type": "code",
      "execution_count": null,
      "metadata": {
        "colab": {
          "base_uri": "https://localhost:8080/"
        },
        "id": "5Ftgh9Wa1TjC",
        "outputId": "903b9eef-e4e2-4ea3-99cc-4e7315812c94"
      },
      "outputs": [
        {
          "output_type": "execute_result",
          "data": {
            "text/plain": [
              "11539"
            ]
          },
          "metadata": {},
          "execution_count": 310
        }
      ],
      "source": [
        "train['FAMI_TIENEINTERNET'].isna().sum()"
      ]
    },
    {
      "cell_type": "code",
      "execution_count": null,
      "metadata": {
        "id": "LWkN7Wbh1TjC"
      },
      "outputs": [],
      "source": [
        "train['FAMI_TIENEINTERNET'] = train['FAMI_TIENEINTERNET'].fillna(\"No\")"
      ]
    },
    {
      "cell_type": "code",
      "execution_count": null,
      "metadata": {
        "colab": {
          "base_uri": "https://localhost:8080/",
          "height": 215
        },
        "id": "KVnNBtQb1TjD",
        "outputId": "3d40f708-6b39-4675-8160-2124087119e4"
      },
      "outputs": [
        {
          "output_type": "execute_result",
          "data": {
            "text/plain": [
              "FAMI_TIENEINTERNET\n",
              "Si    254075\n",
              "No     42711\n",
              "Name: count, dtype: int64"
            ],
            "text/html": [
              "<div>\n",
              "<style scoped>\n",
              "    .dataframe tbody tr th:only-of-type {\n",
              "        vertical-align: middle;\n",
              "    }\n",
              "\n",
              "    .dataframe tbody tr th {\n",
              "        vertical-align: top;\n",
              "    }\n",
              "\n",
              "    .dataframe thead th {\n",
              "        text-align: right;\n",
              "    }\n",
              "</style>\n",
              "<table border=\"1\" class=\"dataframe\">\n",
              "  <thead>\n",
              "    <tr style=\"text-align: right;\">\n",
              "      <th></th>\n",
              "      <th>count</th>\n",
              "    </tr>\n",
              "    <tr>\n",
              "      <th>FAMI_TIENEINTERNET</th>\n",
              "      <th></th>\n",
              "    </tr>\n",
              "  </thead>\n",
              "  <tbody>\n",
              "    <tr>\n",
              "      <th>Si</th>\n",
              "      <td>254075</td>\n",
              "    </tr>\n",
              "    <tr>\n",
              "      <th>No</th>\n",
              "      <td>42711</td>\n",
              "    </tr>\n",
              "  </tbody>\n",
              "</table>\n",
              "</div><br><label><b>dtype:</b> int64</label>"
            ]
          },
          "metadata": {},
          "execution_count": 312
        }
      ],
      "source": [
        "train['FAMI_TIENEINTERNET'].value_counts()"
      ]
    },
    {
      "cell_type": "markdown",
      "metadata": {
        "id": "q39BqkGW1TjD"
      },
      "source": [
        "*Columna FAMI_EDUCACIONPADRE*\n"
      ]
    },
    {
      "cell_type": "code",
      "execution_count": null,
      "metadata": {
        "colab": {
          "base_uri": "https://localhost:8080/"
        },
        "id": "xIRiGaAn1TjE",
        "outputId": "fd91e5b6-a7a0-4129-eba2-a89743e26b46"
      },
      "outputs": [
        {
          "output_type": "execute_result",
          "data": {
            "text/plain": [
              "array(['Técnica o tecnológica completa',\n",
              "       'Secundaria (Bachillerato) completa',\n",
              "       'Secundaria (Bachillerato) incompleta', 'Primaria incompleta',\n",
              "       'Ninguno', 'Primaria completa', 'Postgrado', nan,\n",
              "       'Educación profesional completa',\n",
              "       'Técnica o tecnológica incompleta',\n",
              "       'Educación profesional incompleta', 'No sabe', 'No Aplica'],\n",
              "      dtype=object)"
            ]
          },
          "metadata": {},
          "execution_count": 313
        }
      ],
      "source": [
        "train['FAMI_EDUCACIONPADRE'].unique()"
      ]
    },
    {
      "cell_type": "code",
      "execution_count": null,
      "metadata": {
        "colab": {
          "base_uri": "https://localhost:8080/"
        },
        "id": "So0xoBi_1TjE",
        "outputId": "82d45083-f64a-4f2c-9c98-fdd250352af8"
      },
      "outputs": [
        {
          "output_type": "execute_result",
          "data": {
            "text/plain": [
              "9993"
            ]
          },
          "metadata": {},
          "execution_count": 314
        }
      ],
      "source": [
        "train['FAMI_EDUCACIONPADRE'].isna().sum()"
      ]
    },
    {
      "cell_type": "code",
      "execution_count": null,
      "metadata": {
        "id": "gmEuSlXj1TjF"
      },
      "outputs": [],
      "source": [
        "train['FAMI_EDUCACIONPADRE'] = train['FAMI_EDUCACIONPADRE'].replace(r'Ninguno', 'No Aplica')\n",
        "train['FAMI_EDUCACIONPADRE'] = train['FAMI_EDUCACIONPADRE'].replace(r'No sabe', 'No Aplica')"
      ]
    },
    {
      "cell_type": "code",
      "execution_count": null,
      "metadata": {
        "id": "OTjWCHia1TjF"
      },
      "outputs": [],
      "source": [
        "train['FAMI_EDUCACIONPADRE'] = train['FAMI_EDUCACIONPADRE'].fillna('No Aplica')"
      ]
    },
    {
      "cell_type": "code",
      "execution_count": null,
      "metadata": {
        "colab": {
          "base_uri": "https://localhost:8080/",
          "height": 623
        },
        "id": "WdSkF3i91TjF",
        "outputId": "67761fc1-73b8-449a-fa07-c669320ebc40"
      },
      "outputs": [
        {
          "output_type": "execute_result",
          "data": {
            "text/plain": [
              "FAMI_EDUCACIONPADRE\n",
              "Secundaria (Bachillerato) completa      54838\n",
              "Primaria incompleta                     53432\n",
              "Educación profesional completa          35412\n",
              "Secundaria (Bachillerato) incompleta    30641\n",
              "No Aplica                               30579\n",
              "Técnica o tecnológica completa          27045\n",
              "Primaria completa                       24131\n",
              "Postgrado                               19287\n",
              "Educación profesional incompleta        11744\n",
              "Técnica o tecnológica incompleta         9677\n",
              "Name: count, dtype: int64"
            ],
            "text/html": [
              "<div>\n",
              "<style scoped>\n",
              "    .dataframe tbody tr th:only-of-type {\n",
              "        vertical-align: middle;\n",
              "    }\n",
              "\n",
              "    .dataframe tbody tr th {\n",
              "        vertical-align: top;\n",
              "    }\n",
              "\n",
              "    .dataframe thead th {\n",
              "        text-align: right;\n",
              "    }\n",
              "</style>\n",
              "<table border=\"1\" class=\"dataframe\">\n",
              "  <thead>\n",
              "    <tr style=\"text-align: right;\">\n",
              "      <th></th>\n",
              "      <th>count</th>\n",
              "    </tr>\n",
              "    <tr>\n",
              "      <th>FAMI_EDUCACIONPADRE</th>\n",
              "      <th></th>\n",
              "    </tr>\n",
              "  </thead>\n",
              "  <tbody>\n",
              "    <tr>\n",
              "      <th>Secundaria (Bachillerato) completa</th>\n",
              "      <td>54838</td>\n",
              "    </tr>\n",
              "    <tr>\n",
              "      <th>Primaria incompleta</th>\n",
              "      <td>53432</td>\n",
              "    </tr>\n",
              "    <tr>\n",
              "      <th>Educación profesional completa</th>\n",
              "      <td>35412</td>\n",
              "    </tr>\n",
              "    <tr>\n",
              "      <th>Secundaria (Bachillerato) incompleta</th>\n",
              "      <td>30641</td>\n",
              "    </tr>\n",
              "    <tr>\n",
              "      <th>No Aplica</th>\n",
              "      <td>30579</td>\n",
              "    </tr>\n",
              "    <tr>\n",
              "      <th>Técnica o tecnológica completa</th>\n",
              "      <td>27045</td>\n",
              "    </tr>\n",
              "    <tr>\n",
              "      <th>Primaria completa</th>\n",
              "      <td>24131</td>\n",
              "    </tr>\n",
              "    <tr>\n",
              "      <th>Postgrado</th>\n",
              "      <td>19287</td>\n",
              "    </tr>\n",
              "    <tr>\n",
              "      <th>Educación profesional incompleta</th>\n",
              "      <td>11744</td>\n",
              "    </tr>\n",
              "    <tr>\n",
              "      <th>Técnica o tecnológica incompleta</th>\n",
              "      <td>9677</td>\n",
              "    </tr>\n",
              "  </tbody>\n",
              "</table>\n",
              "</div><br><label><b>dtype:</b> int64</label>"
            ]
          },
          "metadata": {},
          "execution_count": 317
        }
      ],
      "source": [
        "train['FAMI_EDUCACIONPADRE'].value_counts()"
      ]
    },
    {
      "cell_type": "markdown",
      "metadata": {
        "id": "JKcnS-MJ1TjG"
      },
      "source": [
        "*Columna FAMI_EDUCACIONMADRE*"
      ]
    },
    {
      "cell_type": "code",
      "execution_count": null,
      "metadata": {
        "colab": {
          "base_uri": "https://localhost:8080/"
        },
        "id": "ojtmb3qq1TjG",
        "outputId": "f6f8e3b2-d58f-4426-b402-73890d4ea100"
      },
      "outputs": [
        {
          "output_type": "execute_result",
          "data": {
            "text/plain": [
              "array(['Primaria completa', 'Técnica o tecnológica completa',\n",
              "       'Secundaria (Bachillerato) completa', 'Primaria incompleta',\n",
              "       'Postgrado', 'Secundaria (Bachillerato) incompleta', nan,\n",
              "       'Ninguno', 'Educación profesional completa',\n",
              "       'Técnica o tecnológica incompleta',\n",
              "       'Educación profesional incompleta', 'No sabe', 'No Aplica'],\n",
              "      dtype=object)"
            ]
          },
          "metadata": {},
          "execution_count": 318
        }
      ],
      "source": [
        "train['FAMI_EDUCACIONMADRE'].unique()"
      ]
    },
    {
      "cell_type": "code",
      "execution_count": null,
      "metadata": {
        "colab": {
          "base_uri": "https://localhost:8080/"
        },
        "id": "GonBMOvx1TjH",
        "outputId": "7188bfe5-6ab1-477e-8dc2-4e4f7b8d5ea3"
      },
      "outputs": [
        {
          "output_type": "execute_result",
          "data": {
            "text/plain": [
              "10223"
            ]
          },
          "metadata": {},
          "execution_count": 319
        }
      ],
      "source": [
        "train['FAMI_EDUCACIONMADRE'].isna().sum()"
      ]
    },
    {
      "cell_type": "code",
      "execution_count": null,
      "metadata": {
        "id": "-_SIGmqK1TjL"
      },
      "outputs": [],
      "source": [
        "train['FAMI_EDUCACIONMADRE'] = train['FAMI_EDUCACIONMADRE'].replace(r'Ninguno', 'No Aplica')\n",
        "train['FAMI_EDUCACIONMADRE'] = train['FAMI_EDUCACIONMADRE'].replace(r'No sabe', 'No Aplica')"
      ]
    },
    {
      "cell_type": "code",
      "execution_count": null,
      "metadata": {
        "id": "HMRop4hI1TjN"
      },
      "outputs": [],
      "source": [
        "train['FAMI_EDUCACIONMADRE'] = train['FAMI_EDUCACIONMADRE'].fillna('No Aplica')"
      ]
    },
    {
      "cell_type": "code",
      "execution_count": null,
      "metadata": {
        "colab": {
          "base_uri": "https://localhost:8080/",
          "height": 623
        },
        "id": "jnEB97Uq1TjP",
        "outputId": "ac79e4a6-02f8-4065-ea8a-d7ca2934855c"
      },
      "outputs": [
        {
          "output_type": "execute_result",
          "data": {
            "text/plain": [
              "FAMI_EDUCACIONMADRE\n",
              "Secundaria (Bachillerato) completa      60649\n",
              "Primaria incompleta                     42149\n",
              "Técnica o tecnológica completa          38571\n",
              "Educación profesional completa          36477\n",
              "Secundaria (Bachillerato) incompleta    34566\n",
              "Primaria completa                       24399\n",
              "Postgrado                               20049\n",
              "No Aplica                               18629\n",
              "Técnica o tecnológica incompleta        11650\n",
              "Educación profesional incompleta         9647\n",
              "Name: count, dtype: int64"
            ],
            "text/html": [
              "<div>\n",
              "<style scoped>\n",
              "    .dataframe tbody tr th:only-of-type {\n",
              "        vertical-align: middle;\n",
              "    }\n",
              "\n",
              "    .dataframe tbody tr th {\n",
              "        vertical-align: top;\n",
              "    }\n",
              "\n",
              "    .dataframe thead th {\n",
              "        text-align: right;\n",
              "    }\n",
              "</style>\n",
              "<table border=\"1\" class=\"dataframe\">\n",
              "  <thead>\n",
              "    <tr style=\"text-align: right;\">\n",
              "      <th></th>\n",
              "      <th>count</th>\n",
              "    </tr>\n",
              "    <tr>\n",
              "      <th>FAMI_EDUCACIONMADRE</th>\n",
              "      <th></th>\n",
              "    </tr>\n",
              "  </thead>\n",
              "  <tbody>\n",
              "    <tr>\n",
              "      <th>Secundaria (Bachillerato) completa</th>\n",
              "      <td>60649</td>\n",
              "    </tr>\n",
              "    <tr>\n",
              "      <th>Primaria incompleta</th>\n",
              "      <td>42149</td>\n",
              "    </tr>\n",
              "    <tr>\n",
              "      <th>Técnica o tecnológica completa</th>\n",
              "      <td>38571</td>\n",
              "    </tr>\n",
              "    <tr>\n",
              "      <th>Educación profesional completa</th>\n",
              "      <td>36477</td>\n",
              "    </tr>\n",
              "    <tr>\n",
              "      <th>Secundaria (Bachillerato) incompleta</th>\n",
              "      <td>34566</td>\n",
              "    </tr>\n",
              "    <tr>\n",
              "      <th>Primaria completa</th>\n",
              "      <td>24399</td>\n",
              "    </tr>\n",
              "    <tr>\n",
              "      <th>Postgrado</th>\n",
              "      <td>20049</td>\n",
              "    </tr>\n",
              "    <tr>\n",
              "      <th>No Aplica</th>\n",
              "      <td>18629</td>\n",
              "    </tr>\n",
              "    <tr>\n",
              "      <th>Técnica o tecnológica incompleta</th>\n",
              "      <td>11650</td>\n",
              "    </tr>\n",
              "    <tr>\n",
              "      <th>Educación profesional incompleta</th>\n",
              "      <td>9647</td>\n",
              "    </tr>\n",
              "  </tbody>\n",
              "</table>\n",
              "</div><br><label><b>dtype:</b> int64</label>"
            ]
          },
          "metadata": {},
          "execution_count": 322
        }
      ],
      "source": [
        "train['FAMI_EDUCACIONMADRE'].value_counts()"
      ]
    },
    {
      "cell_type": "markdown",
      "metadata": {
        "id": "I2oDFWID1TjQ"
      },
      "source": [
        "*Columna ESTU_VALORMATRICULAUNIVERSIDAD*"
      ]
    },
    {
      "cell_type": "code",
      "execution_count": null,
      "metadata": {
        "colab": {
          "base_uri": "https://localhost:8080/"
        },
        "id": "6s9mpscH1TjR",
        "outputId": "e10a2ac9-e779-4654-a5a5-300810abd111"
      },
      "outputs": [
        {
          "output_type": "execute_result",
          "data": {
            "text/plain": [
              "array(['Menos de 500 mil', 'Entre 2.5 millones y menos de 4 millones',\n",
              "       'Entre 1 millón y menos de 2.5 millones',\n",
              "       'Entre 500 mil y menos de 1 millón', 'Más de 7 millones',\n",
              "       'Entre 4 millones y menos de 5.5 millones',\n",
              "       'Entre 5.5 millones y menos de 7 millones', 'No pagó matrícula',\n",
              "       nan], dtype=object)"
            ]
          },
          "metadata": {},
          "execution_count": 323
        }
      ],
      "source": [
        "train['ESTU_VALORMATRICULAUNIVERSIDAD'].unique()"
      ]
    },
    {
      "cell_type": "code",
      "execution_count": null,
      "metadata": {
        "colab": {
          "base_uri": "https://localhost:8080/"
        },
        "id": "_6i45MZN1TjS",
        "outputId": "6ff5126a-051e-4b71-fab4-9d36e8a27583"
      },
      "outputs": [
        {
          "output_type": "execute_result",
          "data": {
            "text/plain": [
              "2723"
            ]
          },
          "metadata": {},
          "execution_count": 324
        }
      ],
      "source": [
        "train['ESTU_VALORMATRICULAUNIVERSIDAD'].isna().sum()"
      ]
    },
    {
      "cell_type": "code",
      "execution_count": null,
      "metadata": {
        "id": "xMpPTZ7i1TjS"
      },
      "outputs": [],
      "source": [
        "train['ESTU_VALORMATRICULAUNIVERSIDAD'] = train['ESTU_VALORMATRICULAUNIVERSIDAD'].fillna(\"No pagó matrícula\")"
      ]
    },
    {
      "cell_type": "code",
      "execution_count": null,
      "metadata": {
        "colab": {
          "base_uri": "https://localhost:8080/",
          "height": 473
        },
        "id": "X_dqOVRW1TjS",
        "outputId": "fdc78238-6b3c-480d-e46e-4dd448dbb1e0"
      },
      "outputs": [
        {
          "output_type": "execute_result",
          "data": {
            "text/plain": [
              "ESTU_VALORMATRICULAUNIVERSIDAD\n",
              "Entre 1 millón y menos de 2.5 millones      86923\n",
              "Entre 2.5 millones y menos de 4 millones    55193\n",
              "Menos de 500 mil                            34589\n",
              "Entre 500 mil y menos de 1 millón           33564\n",
              "Entre 4 millones y menos de 5.5 millones    29855\n",
              "Más de 7 millones                           29061\n",
              "Entre 5.5 millones y menos de 7 millones    16558\n",
              "No pagó matrícula                           11043\n",
              "Name: count, dtype: int64"
            ],
            "text/html": [
              "<div>\n",
              "<style scoped>\n",
              "    .dataframe tbody tr th:only-of-type {\n",
              "        vertical-align: middle;\n",
              "    }\n",
              "\n",
              "    .dataframe tbody tr th {\n",
              "        vertical-align: top;\n",
              "    }\n",
              "\n",
              "    .dataframe thead th {\n",
              "        text-align: right;\n",
              "    }\n",
              "</style>\n",
              "<table border=\"1\" class=\"dataframe\">\n",
              "  <thead>\n",
              "    <tr style=\"text-align: right;\">\n",
              "      <th></th>\n",
              "      <th>count</th>\n",
              "    </tr>\n",
              "    <tr>\n",
              "      <th>ESTU_VALORMATRICULAUNIVERSIDAD</th>\n",
              "      <th></th>\n",
              "    </tr>\n",
              "  </thead>\n",
              "  <tbody>\n",
              "    <tr>\n",
              "      <th>Entre 1 millón y menos de 2.5 millones</th>\n",
              "      <td>86923</td>\n",
              "    </tr>\n",
              "    <tr>\n",
              "      <th>Entre 2.5 millones y menos de 4 millones</th>\n",
              "      <td>55193</td>\n",
              "    </tr>\n",
              "    <tr>\n",
              "      <th>Menos de 500 mil</th>\n",
              "      <td>34589</td>\n",
              "    </tr>\n",
              "    <tr>\n",
              "      <th>Entre 500 mil y menos de 1 millón</th>\n",
              "      <td>33564</td>\n",
              "    </tr>\n",
              "    <tr>\n",
              "      <th>Entre 4 millones y menos de 5.5 millones</th>\n",
              "      <td>29855</td>\n",
              "    </tr>\n",
              "    <tr>\n",
              "      <th>Más de 7 millones</th>\n",
              "      <td>29061</td>\n",
              "    </tr>\n",
              "    <tr>\n",
              "      <th>Entre 5.5 millones y menos de 7 millones</th>\n",
              "      <td>16558</td>\n",
              "    </tr>\n",
              "    <tr>\n",
              "      <th>No pagó matrícula</th>\n",
              "      <td>11043</td>\n",
              "    </tr>\n",
              "  </tbody>\n",
              "</table>\n",
              "</div><br><label><b>dtype:</b> int64</label>"
            ]
          },
          "metadata": {},
          "execution_count": 326
        }
      ],
      "source": [
        "train['ESTU_VALORMATRICULAUNIVERSIDAD'].value_counts()"
      ]
    },
    {
      "cell_type": "markdown",
      "metadata": {
        "id": "_uUdBK2J1TjT"
      },
      "source": [
        "*Columna ESTU_HORASSEMANATRABAJA*"
      ]
    },
    {
      "cell_type": "code",
      "execution_count": null,
      "metadata": {
        "colab": {
          "base_uri": "https://localhost:8080/"
        },
        "id": "96k4lTmW1TjT",
        "outputId": "437a936a-c937-4b45-aa55-be69afb7172d"
      },
      "outputs": [
        {
          "output_type": "execute_result",
          "data": {
            "text/plain": [
              "array(['Menos de 10 horas', 'Entre 21 y 30 horas', '0',\n",
              "       'Entre 11 y 20 horas', 'Más de 30 horas', nan], dtype=object)"
            ]
          },
          "metadata": {},
          "execution_count": 327
        }
      ],
      "source": [
        "train['ESTU_HORASSEMANATRABAJA'].unique()"
      ]
    },
    {
      "cell_type": "code",
      "execution_count": null,
      "metadata": {
        "colab": {
          "base_uri": "https://localhost:8080/",
          "height": 309
        },
        "id": "7_TdR4j_1TjU",
        "outputId": "2565e747-a5e1-4181-d61b-1a62ecc59973"
      },
      "outputs": [
        {
          "output_type": "execute_result",
          "data": {
            "text/plain": [
              "ESTU_HORASSEMANATRABAJA\n",
              "Más de 30 horas        106189\n",
              "0                       50422\n",
              "Entre 11 y 20 horas     49386\n",
              "Entre 21 y 30 horas     39931\n",
              "Menos de 10 horas       37479\n",
              "Name: count, dtype: int64"
            ],
            "text/html": [
              "<div>\n",
              "<style scoped>\n",
              "    .dataframe tbody tr th:only-of-type {\n",
              "        vertical-align: middle;\n",
              "    }\n",
              "\n",
              "    .dataframe tbody tr th {\n",
              "        vertical-align: top;\n",
              "    }\n",
              "\n",
              "    .dataframe thead th {\n",
              "        text-align: right;\n",
              "    }\n",
              "</style>\n",
              "<table border=\"1\" class=\"dataframe\">\n",
              "  <thead>\n",
              "    <tr style=\"text-align: right;\">\n",
              "      <th></th>\n",
              "      <th>count</th>\n",
              "    </tr>\n",
              "    <tr>\n",
              "      <th>ESTU_HORASSEMANATRABAJA</th>\n",
              "      <th></th>\n",
              "    </tr>\n",
              "  </thead>\n",
              "  <tbody>\n",
              "    <tr>\n",
              "      <th>Más de 30 horas</th>\n",
              "      <td>106189</td>\n",
              "    </tr>\n",
              "    <tr>\n",
              "      <th>0</th>\n",
              "      <td>50422</td>\n",
              "    </tr>\n",
              "    <tr>\n",
              "      <th>Entre 11 y 20 horas</th>\n",
              "      <td>49386</td>\n",
              "    </tr>\n",
              "    <tr>\n",
              "      <th>Entre 21 y 30 horas</th>\n",
              "      <td>39931</td>\n",
              "    </tr>\n",
              "    <tr>\n",
              "      <th>Menos de 10 horas</th>\n",
              "      <td>37479</td>\n",
              "    </tr>\n",
              "  </tbody>\n",
              "</table>\n",
              "</div><br><label><b>dtype:</b> int64</label>"
            ]
          },
          "metadata": {},
          "execution_count": 328
        }
      ],
      "source": [
        "train['ESTU_HORASSEMANATRABAJA'].value_counts()"
      ]
    },
    {
      "cell_type": "code",
      "execution_count": null,
      "metadata": {
        "colab": {
          "base_uri": "https://localhost:8080/"
        },
        "id": "dL9Pdn-M1TjU",
        "outputId": "53788b88-815b-4000-c6ec-bc50757ca63a"
      },
      "outputs": [
        {
          "output_type": "execute_result",
          "data": {
            "text/plain": [
              "13379"
            ]
          },
          "metadata": {},
          "execution_count": 329
        }
      ],
      "source": [
        "train['ESTU_HORASSEMANATRABAJA'].isna().sum()"
      ]
    },
    {
      "cell_type": "code",
      "execution_count": null,
      "metadata": {
        "id": "4oYwU7z41TjU"
      },
      "outputs": [],
      "source": [
        "train['ESTU_HORASSEMANATRABAJA'] = train['ESTU_HORASSEMANATRABAJA'].fillna('0')"
      ]
    },
    {
      "cell_type": "code",
      "execution_count": null,
      "metadata": {
        "colab": {
          "base_uri": "https://localhost:8080/",
          "height": 309
        },
        "id": "5Ak10h541TjV",
        "outputId": "1e78de5a-ce7d-44a3-ce46-6c93af03b034"
      },
      "outputs": [
        {
          "output_type": "execute_result",
          "data": {
            "text/plain": [
              "ESTU_HORASSEMANATRABAJA\n",
              "Más de 30 horas        106189\n",
              "0                       63801\n",
              "Entre 11 y 20 horas     49386\n",
              "Entre 21 y 30 horas     39931\n",
              "Menos de 10 horas       37479\n",
              "Name: count, dtype: int64"
            ],
            "text/html": [
              "<div>\n",
              "<style scoped>\n",
              "    .dataframe tbody tr th:only-of-type {\n",
              "        vertical-align: middle;\n",
              "    }\n",
              "\n",
              "    .dataframe tbody tr th {\n",
              "        vertical-align: top;\n",
              "    }\n",
              "\n",
              "    .dataframe thead th {\n",
              "        text-align: right;\n",
              "    }\n",
              "</style>\n",
              "<table border=\"1\" class=\"dataframe\">\n",
              "  <thead>\n",
              "    <tr style=\"text-align: right;\">\n",
              "      <th></th>\n",
              "      <th>count</th>\n",
              "    </tr>\n",
              "    <tr>\n",
              "      <th>ESTU_HORASSEMANATRABAJA</th>\n",
              "      <th></th>\n",
              "    </tr>\n",
              "  </thead>\n",
              "  <tbody>\n",
              "    <tr>\n",
              "      <th>Más de 30 horas</th>\n",
              "      <td>106189</td>\n",
              "    </tr>\n",
              "    <tr>\n",
              "      <th>0</th>\n",
              "      <td>63801</td>\n",
              "    </tr>\n",
              "    <tr>\n",
              "      <th>Entre 11 y 20 horas</th>\n",
              "      <td>49386</td>\n",
              "    </tr>\n",
              "    <tr>\n",
              "      <th>Entre 21 y 30 horas</th>\n",
              "      <td>39931</td>\n",
              "    </tr>\n",
              "    <tr>\n",
              "      <th>Menos de 10 horas</th>\n",
              "      <td>37479</td>\n",
              "    </tr>\n",
              "  </tbody>\n",
              "</table>\n",
              "</div><br><label><b>dtype:</b> int64</label>"
            ]
          },
          "metadata": {},
          "execution_count": 331
        }
      ],
      "source": [
        "train['ESTU_HORASSEMANATRABAJA'].value_counts()"
      ]
    },
    {
      "cell_type": "markdown",
      "metadata": {
        "id": "pflu24jc1TjV"
      },
      "source": [
        "*Columna ESTU_PAGOMATRICULAPROPIO*"
      ]
    },
    {
      "cell_type": "code",
      "execution_count": null,
      "metadata": {
        "colab": {
          "base_uri": "https://localhost:8080/"
        },
        "id": "woZfRXKw1TjW",
        "outputId": "34a47bcf-9881-4fae-fd7a-57b69c13ecda"
      },
      "outputs": [
        {
          "output_type": "execute_result",
          "data": {
            "text/plain": [
              "array(['Si', 'No', nan], dtype=object)"
            ]
          },
          "metadata": {},
          "execution_count": 332
        }
      ],
      "source": [
        "train['ESTU_PAGOMATRICULAPROPIO'].unique()"
      ]
    },
    {
      "cell_type": "code",
      "execution_count": null,
      "metadata": {
        "colab": {
          "base_uri": "https://localhost:8080/"
        },
        "id": "bfvkagJt1TjX",
        "outputId": "c66d8dde-99ae-43aa-8e46-d1532eb84911"
      },
      "outputs": [
        {
          "output_type": "execute_result",
          "data": {
            "text/plain": [
              "2807"
            ]
          },
          "metadata": {},
          "execution_count": 333
        }
      ],
      "source": [
        "train['ESTU_PAGOMATRICULAPROPIO'].isna().sum()"
      ]
    },
    {
      "cell_type": "code",
      "execution_count": null,
      "metadata": {
        "id": "oS2Ay54g1TjX"
      },
      "outputs": [],
      "source": [
        "train['ESTU_PAGOMATRICULAPROPIO'] = train['ESTU_PAGOMATRICULAPROPIO'].fillna('No')"
      ]
    },
    {
      "cell_type": "code",
      "execution_count": null,
      "metadata": {
        "colab": {
          "base_uri": "https://localhost:8080/",
          "height": 215
        },
        "id": "iDU2BRX81TjY",
        "outputId": "bb57b359-aebd-42a1-beef-21dff4f320a7"
      },
      "outputs": [
        {
          "output_type": "execute_result",
          "data": {
            "text/plain": [
              "ESTU_PAGOMATRICULAPROPIO\n",
              "No    166676\n",
              "Si    130110\n",
              "Name: count, dtype: int64"
            ],
            "text/html": [
              "<div>\n",
              "<style scoped>\n",
              "    .dataframe tbody tr th:only-of-type {\n",
              "        vertical-align: middle;\n",
              "    }\n",
              "\n",
              "    .dataframe tbody tr th {\n",
              "        vertical-align: top;\n",
              "    }\n",
              "\n",
              "    .dataframe thead th {\n",
              "        text-align: right;\n",
              "    }\n",
              "</style>\n",
              "<table border=\"1\" class=\"dataframe\">\n",
              "  <thead>\n",
              "    <tr style=\"text-align: right;\">\n",
              "      <th></th>\n",
              "      <th>count</th>\n",
              "    </tr>\n",
              "    <tr>\n",
              "      <th>ESTU_PAGOMATRICULAPROPIO</th>\n",
              "      <th></th>\n",
              "    </tr>\n",
              "  </thead>\n",
              "  <tbody>\n",
              "    <tr>\n",
              "      <th>No</th>\n",
              "      <td>166676</td>\n",
              "    </tr>\n",
              "    <tr>\n",
              "      <th>Si</th>\n",
              "      <td>130110</td>\n",
              "    </tr>\n",
              "  </tbody>\n",
              "</table>\n",
              "</div><br><label><b>dtype:</b> int64</label>"
            ]
          },
          "metadata": {},
          "execution_count": 335
        }
      ],
      "source": [
        "train['ESTU_PAGOMATRICULAPROPIO'].value_counts()"
      ]
    },
    {
      "cell_type": "markdown",
      "metadata": {
        "id": "LJCmKmly1TjY"
      },
      "source": [
        "## **3. Sustituimos los valores \"Sí\" / \"No\" por \"1\" / \"0\" respectivamente**"
      ]
    },
    {
      "cell_type": "markdown",
      "metadata": {
        "id": "3RgRnThN1TjZ"
      },
      "source": [
        "*Columna FAMI_TIENEINTERNET*\n",
        "\n"
      ]
    },
    {
      "cell_type": "code",
      "execution_count": null,
      "metadata": {
        "colab": {
          "base_uri": "https://localhost:8080/",
          "height": 250
        },
        "id": "lwq06Yts1TjZ",
        "outputId": "5e3d3248-ad98-4273-94ec-9deb7ce8ff58"
      },
      "outputs": [
        {
          "output_type": "stream",
          "name": "stderr",
          "text": [
            "<ipython-input-336-6371c068c386>:2: FutureWarning: Downcasting behavior in `replace` is deprecated and will be removed in a future version. To retain the old behavior, explicitly call `result.infer_objects(copy=False)`. To opt-in to the future behavior, set `pd.set_option('future.no_silent_downcasting', True)`\n",
            "  train['FAMI_TIENEINTERNET'] = train['FAMI_TIENEINTERNET'].replace(r'No', 0.0)\n"
          ]
        },
        {
          "output_type": "execute_result",
          "data": {
            "text/plain": [
              "FAMI_TIENEINTERNET\n",
              "1.0    254075\n",
              "0.0     42711\n",
              "Name: count, dtype: int64"
            ],
            "text/html": [
              "<div>\n",
              "<style scoped>\n",
              "    .dataframe tbody tr th:only-of-type {\n",
              "        vertical-align: middle;\n",
              "    }\n",
              "\n",
              "    .dataframe tbody tr th {\n",
              "        vertical-align: top;\n",
              "    }\n",
              "\n",
              "    .dataframe thead th {\n",
              "        text-align: right;\n",
              "    }\n",
              "</style>\n",
              "<table border=\"1\" class=\"dataframe\">\n",
              "  <thead>\n",
              "    <tr style=\"text-align: right;\">\n",
              "      <th></th>\n",
              "      <th>count</th>\n",
              "    </tr>\n",
              "    <tr>\n",
              "      <th>FAMI_TIENEINTERNET</th>\n",
              "      <th></th>\n",
              "    </tr>\n",
              "  </thead>\n",
              "  <tbody>\n",
              "    <tr>\n",
              "      <th>1.0</th>\n",
              "      <td>254075</td>\n",
              "    </tr>\n",
              "    <tr>\n",
              "      <th>0.0</th>\n",
              "      <td>42711</td>\n",
              "    </tr>\n",
              "  </tbody>\n",
              "</table>\n",
              "</div><br><label><b>dtype:</b> int64</label>"
            ]
          },
          "metadata": {},
          "execution_count": 336
        }
      ],
      "source": [
        "train['FAMI_TIENEINTERNET'] = train['FAMI_TIENEINTERNET'].replace(r'Si', 1.0)\n",
        "train['FAMI_TIENEINTERNET'] = train['FAMI_TIENEINTERNET'].replace(r'No', 0.0)\n",
        "train['FAMI_TIENEINTERNET'].value_counts()"
      ]
    },
    {
      "cell_type": "markdown",
      "metadata": {
        "id": "DokYmx4o1Tja"
      },
      "source": [
        "*Columna ESTU_PAGOMATRICULAPROPIO*\n"
      ]
    },
    {
      "cell_type": "code",
      "execution_count": null,
      "metadata": {
        "colab": {
          "base_uri": "https://localhost:8080/",
          "height": 250
        },
        "id": "5ZU8WWAf1Tja",
        "outputId": "673d3f96-2f61-4b59-90a6-f0e0f5054da7"
      },
      "outputs": [
        {
          "output_type": "stream",
          "name": "stderr",
          "text": [
            "<ipython-input-337-e0ba6fd8b872>:2: FutureWarning: Downcasting behavior in `replace` is deprecated and will be removed in a future version. To retain the old behavior, explicitly call `result.infer_objects(copy=False)`. To opt-in to the future behavior, set `pd.set_option('future.no_silent_downcasting', True)`\n",
            "  train['ESTU_PAGOMATRICULAPROPIO'] = train['ESTU_PAGOMATRICULAPROPIO'].replace(r'No', 0.0)\n"
          ]
        },
        {
          "output_type": "execute_result",
          "data": {
            "text/plain": [
              "ESTU_PAGOMATRICULAPROPIO\n",
              "0.0    166676\n",
              "1.0    130110\n",
              "Name: count, dtype: int64"
            ],
            "text/html": [
              "<div>\n",
              "<style scoped>\n",
              "    .dataframe tbody tr th:only-of-type {\n",
              "        vertical-align: middle;\n",
              "    }\n",
              "\n",
              "    .dataframe tbody tr th {\n",
              "        vertical-align: top;\n",
              "    }\n",
              "\n",
              "    .dataframe thead th {\n",
              "        text-align: right;\n",
              "    }\n",
              "</style>\n",
              "<table border=\"1\" class=\"dataframe\">\n",
              "  <thead>\n",
              "    <tr style=\"text-align: right;\">\n",
              "      <th></th>\n",
              "      <th>count</th>\n",
              "    </tr>\n",
              "    <tr>\n",
              "      <th>ESTU_PAGOMATRICULAPROPIO</th>\n",
              "      <th></th>\n",
              "    </tr>\n",
              "  </thead>\n",
              "  <tbody>\n",
              "    <tr>\n",
              "      <th>0.0</th>\n",
              "      <td>166676</td>\n",
              "    </tr>\n",
              "    <tr>\n",
              "      <th>1.0</th>\n",
              "      <td>130110</td>\n",
              "    </tr>\n",
              "  </tbody>\n",
              "</table>\n",
              "</div><br><label><b>dtype:</b> int64</label>"
            ]
          },
          "metadata": {},
          "execution_count": 337
        }
      ],
      "source": [
        "train['ESTU_PAGOMATRICULAPROPIO'] = train['ESTU_PAGOMATRICULAPROPIO'].replace(r'Si', 1.0)\n",
        "train['ESTU_PAGOMATRICULAPROPIO'] = train['ESTU_PAGOMATRICULAPROPIO'].replace(r'No', 0.0)\n",
        "train['ESTU_PAGOMATRICULAPROPIO'].value_counts()"
      ]
    },
    {
      "cell_type": "markdown",
      "metadata": {
        "id": "Oe2-e4k21Tjb"
      },
      "source": [
        "*Columna FAMI_TIENEINTERNET*"
      ]
    },
    {
      "cell_type": "code",
      "execution_count": null,
      "metadata": {
        "colab": {
          "base_uri": "https://localhost:8080/",
          "height": 215
        },
        "id": "TaxQE6Od1Tjc",
        "outputId": "45b9c98c-3fc7-49f7-fc4b-c4c97fe59239"
      },
      "outputs": [
        {
          "output_type": "execute_result",
          "data": {
            "text/plain": [
              "FAMI_TIENEINTERNET\n",
              "1.0    254075\n",
              "0.0     42711\n",
              "Name: count, dtype: int64"
            ],
            "text/html": [
              "<div>\n",
              "<style scoped>\n",
              "    .dataframe tbody tr th:only-of-type {\n",
              "        vertical-align: middle;\n",
              "    }\n",
              "\n",
              "    .dataframe tbody tr th {\n",
              "        vertical-align: top;\n",
              "    }\n",
              "\n",
              "    .dataframe thead th {\n",
              "        text-align: right;\n",
              "    }\n",
              "</style>\n",
              "<table border=\"1\" class=\"dataframe\">\n",
              "  <thead>\n",
              "    <tr style=\"text-align: right;\">\n",
              "      <th></th>\n",
              "      <th>count</th>\n",
              "    </tr>\n",
              "    <tr>\n",
              "      <th>FAMI_TIENEINTERNET</th>\n",
              "      <th></th>\n",
              "    </tr>\n",
              "  </thead>\n",
              "  <tbody>\n",
              "    <tr>\n",
              "      <th>1.0</th>\n",
              "      <td>254075</td>\n",
              "    </tr>\n",
              "    <tr>\n",
              "      <th>0.0</th>\n",
              "      <td>42711</td>\n",
              "    </tr>\n",
              "  </tbody>\n",
              "</table>\n",
              "</div><br><label><b>dtype:</b> int64</label>"
            ]
          },
          "metadata": {},
          "execution_count": 338
        }
      ],
      "source": [
        "train['FAMI_TIENEINTERNET'] = train['FAMI_TIENEINTERNET'].replace(r'Si', 1.0)\n",
        "train['FAMI_TIENEINTERNET'] = train['FAMI_TIENEINTERNET'].replace(r'No', 0.0)\n",
        "train['FAMI_TIENEINTERNET'].value_counts()"
      ]
    },
    {
      "cell_type": "markdown",
      "metadata": {
        "id": "HI8VV13L1Tjd"
      },
      "source": [
        "##**4. Usamos One Hot para categorizar las columnas**"
      ]
    },
    {
      "cell_type": "markdown",
      "metadata": {
        "id": "P9sVYIgF1Tje"
      },
      "source": [
        "*Columna FAMI_ESTRATOVIVIENDA*\n"
      ]
    },
    {
      "cell_type": "code",
      "execution_count": null,
      "metadata": {
        "colab": {
          "base_uri": "https://localhost:8080/"
        },
        "id": "dekcFmFL1Tjh",
        "outputId": "27ae610f-b3bb-4a72-9fd2-75f9b9c43769"
      },
      "outputs": [
        {
          "output_type": "execute_result",
          "data": {
            "text/plain": [
              "array(['Estrato 3', 'Estrato 2', 'Estrato 1', 'Estrato 4', 'Estrato 6',\n",
              "       'Estrato 5', 'Sin Estrato'], dtype=object)"
            ]
          },
          "metadata": {},
          "execution_count": 339
        }
      ],
      "source": [
        "train['FAMI_ESTRATOVIVIENDA'].unique()"
      ]
    },
    {
      "cell_type": "code",
      "execution_count": null,
      "metadata": {
        "id": "gdYhlvKM1Tji"
      },
      "outputs": [],
      "source": [
        "estratos = ['Sin Estrato','Estrato 1','Estrato 2',\n",
        "            'Estrato 3', 'Estrato 4', 'Estrato 5',\n",
        "            'Estrato 6']\n",
        "enc = OrdinalEncoder(categories = [estratos])\n",
        "train['FAMI_ESTRATOVIVIENDA'] = enc.fit_transform(train[['FAMI_ESTRATOVIVIENDA']])"
      ]
    },
    {
      "cell_type": "code",
      "execution_count": null,
      "metadata": {
        "colab": {
          "base_uri": "https://localhost:8080/",
          "height": 372
        },
        "id": "IMUiPO7B1Tjj",
        "outputId": "d625d501-b08e-467c-c5c9-f96f76f41d05"
      },
      "outputs": [
        {
          "output_type": "execute_result",
          "data": {
            "text/plain": [
              "FAMI_ESTRATOVIVIENDA\n",
              "2.0    113083\n",
              "3.0     90719\n",
              "1.0     48092\n",
              "4.0     27823\n",
              "5.0     10194\n",
              "6.0      5451\n",
              "0.0      1424\n",
              "Name: count, dtype: int64"
            ],
            "text/html": [
              "<div>\n",
              "<style scoped>\n",
              "    .dataframe tbody tr th:only-of-type {\n",
              "        vertical-align: middle;\n",
              "    }\n",
              "\n",
              "    .dataframe tbody tr th {\n",
              "        vertical-align: top;\n",
              "    }\n",
              "\n",
              "    .dataframe thead th {\n",
              "        text-align: right;\n",
              "    }\n",
              "</style>\n",
              "<table border=\"1\" class=\"dataframe\">\n",
              "  <thead>\n",
              "    <tr style=\"text-align: right;\">\n",
              "      <th></th>\n",
              "      <th>count</th>\n",
              "    </tr>\n",
              "    <tr>\n",
              "      <th>FAMI_ESTRATOVIVIENDA</th>\n",
              "      <th></th>\n",
              "    </tr>\n",
              "  </thead>\n",
              "  <tbody>\n",
              "    <tr>\n",
              "      <th>2.0</th>\n",
              "      <td>113083</td>\n",
              "    </tr>\n",
              "    <tr>\n",
              "      <th>3.0</th>\n",
              "      <td>90719</td>\n",
              "    </tr>\n",
              "    <tr>\n",
              "      <th>1.0</th>\n",
              "      <td>48092</td>\n",
              "    </tr>\n",
              "    <tr>\n",
              "      <th>4.0</th>\n",
              "      <td>27823</td>\n",
              "    </tr>\n",
              "    <tr>\n",
              "      <th>5.0</th>\n",
              "      <td>10194</td>\n",
              "    </tr>\n",
              "    <tr>\n",
              "      <th>6.0</th>\n",
              "      <td>5451</td>\n",
              "    </tr>\n",
              "    <tr>\n",
              "      <th>0.0</th>\n",
              "      <td>1424</td>\n",
              "    </tr>\n",
              "  </tbody>\n",
              "</table>\n",
              "</div><br><label><b>dtype:</b> int64</label>"
            ]
          },
          "metadata": {},
          "execution_count": 341
        }
      ],
      "source": [
        "train['FAMI_ESTRATOVIVIENDA'].value_counts()"
      ]
    },
    {
      "cell_type": "code",
      "execution_count": null,
      "metadata": {
        "colab": {
          "base_uri": "https://localhost:8080/",
          "height": 372
        },
        "id": "ZnMwtzdF1Tjk",
        "outputId": "79ee0443-83f5-465e-df2f-94996aa4266a"
      },
      "outputs": [
        {
          "output_type": "execute_result",
          "data": {
            "text/plain": [
              "FAMI_ESTRATOVIVIENDA\n",
              "0.333333    113083\n",
              "0.500000     90719\n",
              "0.166667     48092\n",
              "0.666667     27823\n",
              "0.833333     10194\n",
              "1.000000      5451\n",
              "0.000000      1424\n",
              "Name: count, dtype: int64"
            ],
            "text/html": [
              "<div>\n",
              "<style scoped>\n",
              "    .dataframe tbody tr th:only-of-type {\n",
              "        vertical-align: middle;\n",
              "    }\n",
              "\n",
              "    .dataframe tbody tr th {\n",
              "        vertical-align: top;\n",
              "    }\n",
              "\n",
              "    .dataframe thead th {\n",
              "        text-align: right;\n",
              "    }\n",
              "</style>\n",
              "<table border=\"1\" class=\"dataframe\">\n",
              "  <thead>\n",
              "    <tr style=\"text-align: right;\">\n",
              "      <th></th>\n",
              "      <th>count</th>\n",
              "    </tr>\n",
              "    <tr>\n",
              "      <th>FAMI_ESTRATOVIVIENDA</th>\n",
              "      <th></th>\n",
              "    </tr>\n",
              "  </thead>\n",
              "  <tbody>\n",
              "    <tr>\n",
              "      <th>0.333333</th>\n",
              "      <td>113083</td>\n",
              "    </tr>\n",
              "    <tr>\n",
              "      <th>0.500000</th>\n",
              "      <td>90719</td>\n",
              "    </tr>\n",
              "    <tr>\n",
              "      <th>0.166667</th>\n",
              "      <td>48092</td>\n",
              "    </tr>\n",
              "    <tr>\n",
              "      <th>0.666667</th>\n",
              "      <td>27823</td>\n",
              "    </tr>\n",
              "    <tr>\n",
              "      <th>0.833333</th>\n",
              "      <td>10194</td>\n",
              "    </tr>\n",
              "    <tr>\n",
              "      <th>1.000000</th>\n",
              "      <td>5451</td>\n",
              "    </tr>\n",
              "    <tr>\n",
              "      <th>0.000000</th>\n",
              "      <td>1424</td>\n",
              "    </tr>\n",
              "  </tbody>\n",
              "</table>\n",
              "</div><br><label><b>dtype:</b> int64</label>"
            ]
          },
          "metadata": {},
          "execution_count": 342
        }
      ],
      "source": [
        "scaler = MinMaxScaler()\n",
        "train['FAMI_ESTRATOVIVIENDA'] = scaler.fit_transform(train[['FAMI_ESTRATOVIVIENDA']])\n",
        "train['FAMI_ESTRATOVIVIENDA'].value_counts()"
      ]
    },
    {
      "cell_type": "markdown",
      "metadata": {
        "id": "45J-NkSJ1Tjk"
      },
      "source": [
        "*Columna FAMI_EDUCACIONPADRE*\n"
      ]
    },
    {
      "cell_type": "code",
      "execution_count": null,
      "metadata": {
        "colab": {
          "base_uri": "https://localhost:8080/",
          "height": 623
        },
        "id": "o58y9tXW1Tjl",
        "outputId": "094e2779-5cb7-40fd-9160-49efa80e8464"
      },
      "outputs": [
        {
          "output_type": "execute_result",
          "data": {
            "text/plain": [
              "FAMI_EDUCACIONPADRE\n",
              "Secundaria (Bachillerato) completa      54838\n",
              "Primaria incompleta                     53432\n",
              "Educación profesional completa          35412\n",
              "Secundaria (Bachillerato) incompleta    30641\n",
              "No Aplica                               30579\n",
              "Técnica o tecnológica completa          27045\n",
              "Primaria completa                       24131\n",
              "Postgrado                               19287\n",
              "Educación profesional incompleta        11744\n",
              "Técnica o tecnológica incompleta         9677\n",
              "Name: count, dtype: int64"
            ],
            "text/html": [
              "<div>\n",
              "<style scoped>\n",
              "    .dataframe tbody tr th:only-of-type {\n",
              "        vertical-align: middle;\n",
              "    }\n",
              "\n",
              "    .dataframe tbody tr th {\n",
              "        vertical-align: top;\n",
              "    }\n",
              "\n",
              "    .dataframe thead th {\n",
              "        text-align: right;\n",
              "    }\n",
              "</style>\n",
              "<table border=\"1\" class=\"dataframe\">\n",
              "  <thead>\n",
              "    <tr style=\"text-align: right;\">\n",
              "      <th></th>\n",
              "      <th>count</th>\n",
              "    </tr>\n",
              "    <tr>\n",
              "      <th>FAMI_EDUCACIONPADRE</th>\n",
              "      <th></th>\n",
              "    </tr>\n",
              "  </thead>\n",
              "  <tbody>\n",
              "    <tr>\n",
              "      <th>Secundaria (Bachillerato) completa</th>\n",
              "      <td>54838</td>\n",
              "    </tr>\n",
              "    <tr>\n",
              "      <th>Primaria incompleta</th>\n",
              "      <td>53432</td>\n",
              "    </tr>\n",
              "    <tr>\n",
              "      <th>Educación profesional completa</th>\n",
              "      <td>35412</td>\n",
              "    </tr>\n",
              "    <tr>\n",
              "      <th>Secundaria (Bachillerato) incompleta</th>\n",
              "      <td>30641</td>\n",
              "    </tr>\n",
              "    <tr>\n",
              "      <th>No Aplica</th>\n",
              "      <td>30579</td>\n",
              "    </tr>\n",
              "    <tr>\n",
              "      <th>Técnica o tecnológica completa</th>\n",
              "      <td>27045</td>\n",
              "    </tr>\n",
              "    <tr>\n",
              "      <th>Primaria completa</th>\n",
              "      <td>24131</td>\n",
              "    </tr>\n",
              "    <tr>\n",
              "      <th>Postgrado</th>\n",
              "      <td>19287</td>\n",
              "    </tr>\n",
              "    <tr>\n",
              "      <th>Educación profesional incompleta</th>\n",
              "      <td>11744</td>\n",
              "    </tr>\n",
              "    <tr>\n",
              "      <th>Técnica o tecnológica incompleta</th>\n",
              "      <td>9677</td>\n",
              "    </tr>\n",
              "  </tbody>\n",
              "</table>\n",
              "</div><br><label><b>dtype:</b> int64</label>"
            ]
          },
          "metadata": {},
          "execution_count": 343
        }
      ],
      "source": [
        "train['FAMI_EDUCACIONPADRE'].value_counts()"
      ]
    },
    {
      "cell_type": "code",
      "execution_count": null,
      "metadata": {
        "id": "DXYxf6i-1Tjl"
      },
      "outputs": [],
      "source": [
        "educacionPadre = ['No Aplica','Primaria incompleta','Primaria completa',\n",
        "            'Secundaria (Bachillerato) incompleta', 'Secundaria (Bachillerato) completa', 'Técnica o tecnológica incompleta',\n",
        "            'Técnica o tecnológica completa', 'Educación profesional incompleta', 'Educación profesional completa',\n",
        "            'Postgrado']\n",
        "enc = OrdinalEncoder(categories = [educacionPadre])\n",
        "train['FAMI_EDUCACIONPADRE'] = enc.fit_transform(train[['FAMI_EDUCACIONPADRE']])"
      ]
    },
    {
      "cell_type": "code",
      "execution_count": null,
      "metadata": {
        "colab": {
          "base_uri": "https://localhost:8080/",
          "height": 466
        },
        "id": "lv4CeHkM1Tjm",
        "outputId": "92edfca8-b135-4a29-be03-6a884f1052c8"
      },
      "outputs": [
        {
          "output_type": "execute_result",
          "data": {
            "text/plain": [
              "FAMI_EDUCACIONPADRE\n",
              "4.0    54838\n",
              "1.0    53432\n",
              "8.0    35412\n",
              "3.0    30641\n",
              "0.0    30579\n",
              "6.0    27045\n",
              "2.0    24131\n",
              "9.0    19287\n",
              "7.0    11744\n",
              "5.0     9677\n",
              "Name: count, dtype: int64"
            ],
            "text/html": [
              "<div>\n",
              "<style scoped>\n",
              "    .dataframe tbody tr th:only-of-type {\n",
              "        vertical-align: middle;\n",
              "    }\n",
              "\n",
              "    .dataframe tbody tr th {\n",
              "        vertical-align: top;\n",
              "    }\n",
              "\n",
              "    .dataframe thead th {\n",
              "        text-align: right;\n",
              "    }\n",
              "</style>\n",
              "<table border=\"1\" class=\"dataframe\">\n",
              "  <thead>\n",
              "    <tr style=\"text-align: right;\">\n",
              "      <th></th>\n",
              "      <th>count</th>\n",
              "    </tr>\n",
              "    <tr>\n",
              "      <th>FAMI_EDUCACIONPADRE</th>\n",
              "      <th></th>\n",
              "    </tr>\n",
              "  </thead>\n",
              "  <tbody>\n",
              "    <tr>\n",
              "      <th>4.0</th>\n",
              "      <td>54838</td>\n",
              "    </tr>\n",
              "    <tr>\n",
              "      <th>1.0</th>\n",
              "      <td>53432</td>\n",
              "    </tr>\n",
              "    <tr>\n",
              "      <th>8.0</th>\n",
              "      <td>35412</td>\n",
              "    </tr>\n",
              "    <tr>\n",
              "      <th>3.0</th>\n",
              "      <td>30641</td>\n",
              "    </tr>\n",
              "    <tr>\n",
              "      <th>0.0</th>\n",
              "      <td>30579</td>\n",
              "    </tr>\n",
              "    <tr>\n",
              "      <th>6.0</th>\n",
              "      <td>27045</td>\n",
              "    </tr>\n",
              "    <tr>\n",
              "      <th>2.0</th>\n",
              "      <td>24131</td>\n",
              "    </tr>\n",
              "    <tr>\n",
              "      <th>9.0</th>\n",
              "      <td>19287</td>\n",
              "    </tr>\n",
              "    <tr>\n",
              "      <th>7.0</th>\n",
              "      <td>11744</td>\n",
              "    </tr>\n",
              "    <tr>\n",
              "      <th>5.0</th>\n",
              "      <td>9677</td>\n",
              "    </tr>\n",
              "  </tbody>\n",
              "</table>\n",
              "</div><br><label><b>dtype:</b> int64</label>"
            ]
          },
          "metadata": {},
          "execution_count": 345
        }
      ],
      "source": [
        "train['FAMI_EDUCACIONPADRE'].value_counts()"
      ]
    },
    {
      "cell_type": "code",
      "execution_count": null,
      "metadata": {
        "colab": {
          "base_uri": "https://localhost:8080/",
          "height": 466
        },
        "id": "3GJojU021Tjn",
        "outputId": "7adf5281-534e-4731-d772-270b312a7163"
      },
      "outputs": [
        {
          "output_type": "execute_result",
          "data": {
            "text/plain": [
              "FAMI_EDUCACIONPADRE\n",
              "0.444444    54838\n",
              "0.111111    53432\n",
              "0.888889    35412\n",
              "0.333333    30641\n",
              "0.000000    30579\n",
              "0.666667    27045\n",
              "0.222222    24131\n",
              "1.000000    19287\n",
              "0.777778    11744\n",
              "0.555556     9677\n",
              "Name: count, dtype: int64"
            ],
            "text/html": [
              "<div>\n",
              "<style scoped>\n",
              "    .dataframe tbody tr th:only-of-type {\n",
              "        vertical-align: middle;\n",
              "    }\n",
              "\n",
              "    .dataframe tbody tr th {\n",
              "        vertical-align: top;\n",
              "    }\n",
              "\n",
              "    .dataframe thead th {\n",
              "        text-align: right;\n",
              "    }\n",
              "</style>\n",
              "<table border=\"1\" class=\"dataframe\">\n",
              "  <thead>\n",
              "    <tr style=\"text-align: right;\">\n",
              "      <th></th>\n",
              "      <th>count</th>\n",
              "    </tr>\n",
              "    <tr>\n",
              "      <th>FAMI_EDUCACIONPADRE</th>\n",
              "      <th></th>\n",
              "    </tr>\n",
              "  </thead>\n",
              "  <tbody>\n",
              "    <tr>\n",
              "      <th>0.444444</th>\n",
              "      <td>54838</td>\n",
              "    </tr>\n",
              "    <tr>\n",
              "      <th>0.111111</th>\n",
              "      <td>53432</td>\n",
              "    </tr>\n",
              "    <tr>\n",
              "      <th>0.888889</th>\n",
              "      <td>35412</td>\n",
              "    </tr>\n",
              "    <tr>\n",
              "      <th>0.333333</th>\n",
              "      <td>30641</td>\n",
              "    </tr>\n",
              "    <tr>\n",
              "      <th>0.000000</th>\n",
              "      <td>30579</td>\n",
              "    </tr>\n",
              "    <tr>\n",
              "      <th>0.666667</th>\n",
              "      <td>27045</td>\n",
              "    </tr>\n",
              "    <tr>\n",
              "      <th>0.222222</th>\n",
              "      <td>24131</td>\n",
              "    </tr>\n",
              "    <tr>\n",
              "      <th>1.000000</th>\n",
              "      <td>19287</td>\n",
              "    </tr>\n",
              "    <tr>\n",
              "      <th>0.777778</th>\n",
              "      <td>11744</td>\n",
              "    </tr>\n",
              "    <tr>\n",
              "      <th>0.555556</th>\n",
              "      <td>9677</td>\n",
              "    </tr>\n",
              "  </tbody>\n",
              "</table>\n",
              "</div><br><label><b>dtype:</b> int64</label>"
            ]
          },
          "metadata": {},
          "execution_count": 346
        }
      ],
      "source": [
        "scaler = MinMaxScaler()\n",
        "train['FAMI_EDUCACIONPADRE'] = scaler.fit_transform(train[['FAMI_EDUCACIONPADRE']])\n",
        "train['FAMI_EDUCACIONPADRE'].value_counts()"
      ]
    },
    {
      "cell_type": "code",
      "execution_count": null,
      "metadata": {
        "colab": {
          "base_uri": "https://localhost:8080/",
          "height": 466
        },
        "id": "mNJHMXcD1Tjo",
        "outputId": "929343b6-24e3-4cb0-a99e-a77fd145ffff"
      },
      "outputs": [
        {
          "output_type": "execute_result",
          "data": {
            "text/plain": [
              "FAMI_EDUCACIONMADRE\n",
              "0.444444    60649\n",
              "0.111111    42149\n",
              "0.666667    38571\n",
              "0.888889    36477\n",
              "0.333333    34566\n",
              "0.222222    24399\n",
              "1.000000    20049\n",
              "0.000000    18629\n",
              "0.555556    11650\n",
              "0.777778     9647\n",
              "Name: count, dtype: int64"
            ],
            "text/html": [
              "<div>\n",
              "<style scoped>\n",
              "    .dataframe tbody tr th:only-of-type {\n",
              "        vertical-align: middle;\n",
              "    }\n",
              "\n",
              "    .dataframe tbody tr th {\n",
              "        vertical-align: top;\n",
              "    }\n",
              "\n",
              "    .dataframe thead th {\n",
              "        text-align: right;\n",
              "    }\n",
              "</style>\n",
              "<table border=\"1\" class=\"dataframe\">\n",
              "  <thead>\n",
              "    <tr style=\"text-align: right;\">\n",
              "      <th></th>\n",
              "      <th>count</th>\n",
              "    </tr>\n",
              "    <tr>\n",
              "      <th>FAMI_EDUCACIONMADRE</th>\n",
              "      <th></th>\n",
              "    </tr>\n",
              "  </thead>\n",
              "  <tbody>\n",
              "    <tr>\n",
              "      <th>0.444444</th>\n",
              "      <td>60649</td>\n",
              "    </tr>\n",
              "    <tr>\n",
              "      <th>0.111111</th>\n",
              "      <td>42149</td>\n",
              "    </tr>\n",
              "    <tr>\n",
              "      <th>0.666667</th>\n",
              "      <td>38571</td>\n",
              "    </tr>\n",
              "    <tr>\n",
              "      <th>0.888889</th>\n",
              "      <td>36477</td>\n",
              "    </tr>\n",
              "    <tr>\n",
              "      <th>0.333333</th>\n",
              "      <td>34566</td>\n",
              "    </tr>\n",
              "    <tr>\n",
              "      <th>0.222222</th>\n",
              "      <td>24399</td>\n",
              "    </tr>\n",
              "    <tr>\n",
              "      <th>1.000000</th>\n",
              "      <td>20049</td>\n",
              "    </tr>\n",
              "    <tr>\n",
              "      <th>0.000000</th>\n",
              "      <td>18629</td>\n",
              "    </tr>\n",
              "    <tr>\n",
              "      <th>0.555556</th>\n",
              "      <td>11650</td>\n",
              "    </tr>\n",
              "    <tr>\n",
              "      <th>0.777778</th>\n",
              "      <td>9647</td>\n",
              "    </tr>\n",
              "  </tbody>\n",
              "</table>\n",
              "</div><br><label><b>dtype:</b> int64</label>"
            ]
          },
          "metadata": {},
          "execution_count": 347
        }
      ],
      "source": [
        "educacionPadre = ['No Aplica','Primaria incompleta','Primaria completa',\n",
        "            'Secundaria (Bachillerato) incompleta', 'Secundaria (Bachillerato) completa', 'Técnica o tecnológica incompleta',\n",
        "            'Técnica o tecnológica completa', 'Educación profesional incompleta', 'Educación profesional completa',\n",
        "            'Postgrado']\n",
        "enc = OrdinalEncoder(categories = [educacionPadre])\n",
        "train['FAMI_EDUCACIONMADRE'] = enc.fit_transform(train[['FAMI_EDUCACIONMADRE']])\n",
        "scaler = MinMaxScaler()\n",
        "train['FAMI_EDUCACIONMADRE'] = scaler.fit_transform(train[['FAMI_EDUCACIONMADRE']])\n",
        "train['FAMI_EDUCACIONMADRE'].value_counts()"
      ]
    },
    {
      "cell_type": "markdown",
      "metadata": {
        "id": "KFkzgvcN1Tjp"
      },
      "source": [
        "*Columna ESTU_HORASSEMANATRABAJA*\n"
      ]
    },
    {
      "cell_type": "code",
      "execution_count": null,
      "metadata": {
        "colab": {
          "base_uri": "https://localhost:8080/",
          "height": 309
        },
        "id": "AY9mVvan1Tjp",
        "outputId": "dfaaa6a5-a82d-48d8-ded6-423321751a28"
      },
      "outputs": [
        {
          "output_type": "execute_result",
          "data": {
            "text/plain": [
              "ESTU_HORASSEMANATRABAJA\n",
              "Más de 30 horas        106189\n",
              "0                       63801\n",
              "Entre 11 y 20 horas     49386\n",
              "Entre 21 y 30 horas     39931\n",
              "Menos de 10 horas       37479\n",
              "Name: count, dtype: int64"
            ],
            "text/html": [
              "<div>\n",
              "<style scoped>\n",
              "    .dataframe tbody tr th:only-of-type {\n",
              "        vertical-align: middle;\n",
              "    }\n",
              "\n",
              "    .dataframe tbody tr th {\n",
              "        vertical-align: top;\n",
              "    }\n",
              "\n",
              "    .dataframe thead th {\n",
              "        text-align: right;\n",
              "    }\n",
              "</style>\n",
              "<table border=\"1\" class=\"dataframe\">\n",
              "  <thead>\n",
              "    <tr style=\"text-align: right;\">\n",
              "      <th></th>\n",
              "      <th>count</th>\n",
              "    </tr>\n",
              "    <tr>\n",
              "      <th>ESTU_HORASSEMANATRABAJA</th>\n",
              "      <th></th>\n",
              "    </tr>\n",
              "  </thead>\n",
              "  <tbody>\n",
              "    <tr>\n",
              "      <th>Más de 30 horas</th>\n",
              "      <td>106189</td>\n",
              "    </tr>\n",
              "    <tr>\n",
              "      <th>0</th>\n",
              "      <td>63801</td>\n",
              "    </tr>\n",
              "    <tr>\n",
              "      <th>Entre 11 y 20 horas</th>\n",
              "      <td>49386</td>\n",
              "    </tr>\n",
              "    <tr>\n",
              "      <th>Entre 21 y 30 horas</th>\n",
              "      <td>39931</td>\n",
              "    </tr>\n",
              "    <tr>\n",
              "      <th>Menos de 10 horas</th>\n",
              "      <td>37479</td>\n",
              "    </tr>\n",
              "  </tbody>\n",
              "</table>\n",
              "</div><br><label><b>dtype:</b> int64</label>"
            ]
          },
          "metadata": {},
          "execution_count": 348
        }
      ],
      "source": [
        "train['ESTU_HORASSEMANATRABAJA'].value_counts()"
      ]
    },
    {
      "cell_type": "code",
      "execution_count": null,
      "metadata": {
        "id": "3acl0ZbY1Tjq"
      },
      "outputs": [],
      "source": [
        "horasTrabajo = ['0','Menos de 10 horas','Entre 11 y 20 horas',\n",
        "                'Entre 21 y 30 horas',\n",
        "                'Más de 30 horas']\n",
        "enc = OrdinalEncoder(categories = [horasTrabajo])\n",
        "train['ESTU_HORASSEMANATRABAJA'] = enc.fit_transform(train[['ESTU_HORASSEMANATRABAJA']])"
      ]
    },
    {
      "cell_type": "code",
      "execution_count": null,
      "metadata": {
        "colab": {
          "base_uri": "https://localhost:8080/",
          "height": 309
        },
        "id": "9YefxPgQ1Tjq",
        "outputId": "c448bfc7-b191-4612-a0c6-2f3330192ccb"
      },
      "outputs": [
        {
          "output_type": "execute_result",
          "data": {
            "text/plain": [
              "ESTU_HORASSEMANATRABAJA\n",
              "4.0    106189\n",
              "0.0     63801\n",
              "2.0     49386\n",
              "3.0     39931\n",
              "1.0     37479\n",
              "Name: count, dtype: int64"
            ],
            "text/html": [
              "<div>\n",
              "<style scoped>\n",
              "    .dataframe tbody tr th:only-of-type {\n",
              "        vertical-align: middle;\n",
              "    }\n",
              "\n",
              "    .dataframe tbody tr th {\n",
              "        vertical-align: top;\n",
              "    }\n",
              "\n",
              "    .dataframe thead th {\n",
              "        text-align: right;\n",
              "    }\n",
              "</style>\n",
              "<table border=\"1\" class=\"dataframe\">\n",
              "  <thead>\n",
              "    <tr style=\"text-align: right;\">\n",
              "      <th></th>\n",
              "      <th>count</th>\n",
              "    </tr>\n",
              "    <tr>\n",
              "      <th>ESTU_HORASSEMANATRABAJA</th>\n",
              "      <th></th>\n",
              "    </tr>\n",
              "  </thead>\n",
              "  <tbody>\n",
              "    <tr>\n",
              "      <th>4.0</th>\n",
              "      <td>106189</td>\n",
              "    </tr>\n",
              "    <tr>\n",
              "      <th>0.0</th>\n",
              "      <td>63801</td>\n",
              "    </tr>\n",
              "    <tr>\n",
              "      <th>2.0</th>\n",
              "      <td>49386</td>\n",
              "    </tr>\n",
              "    <tr>\n",
              "      <th>3.0</th>\n",
              "      <td>39931</td>\n",
              "    </tr>\n",
              "    <tr>\n",
              "      <th>1.0</th>\n",
              "      <td>37479</td>\n",
              "    </tr>\n",
              "  </tbody>\n",
              "</table>\n",
              "</div><br><label><b>dtype:</b> int64</label>"
            ]
          },
          "metadata": {},
          "execution_count": 350
        }
      ],
      "source": [
        "train['ESTU_HORASSEMANATRABAJA'].value_counts()"
      ]
    },
    {
      "cell_type": "code",
      "execution_count": null,
      "metadata": {
        "colab": {
          "base_uri": "https://localhost:8080/",
          "height": 309
        },
        "id": "hPHz5EhL1Tjr",
        "outputId": "d5b6c31d-c8be-4ad0-deb6-f5b7fb6b1fa0"
      },
      "outputs": [
        {
          "output_type": "execute_result",
          "data": {
            "text/plain": [
              "ESTU_HORASSEMANATRABAJA\n",
              "1.00    106189\n",
              "0.00     63801\n",
              "0.50     49386\n",
              "0.75     39931\n",
              "0.25     37479\n",
              "Name: count, dtype: int64"
            ],
            "text/html": [
              "<div>\n",
              "<style scoped>\n",
              "    .dataframe tbody tr th:only-of-type {\n",
              "        vertical-align: middle;\n",
              "    }\n",
              "\n",
              "    .dataframe tbody tr th {\n",
              "        vertical-align: top;\n",
              "    }\n",
              "\n",
              "    .dataframe thead th {\n",
              "        text-align: right;\n",
              "    }\n",
              "</style>\n",
              "<table border=\"1\" class=\"dataframe\">\n",
              "  <thead>\n",
              "    <tr style=\"text-align: right;\">\n",
              "      <th></th>\n",
              "      <th>count</th>\n",
              "    </tr>\n",
              "    <tr>\n",
              "      <th>ESTU_HORASSEMANATRABAJA</th>\n",
              "      <th></th>\n",
              "    </tr>\n",
              "  </thead>\n",
              "  <tbody>\n",
              "    <tr>\n",
              "      <th>1.00</th>\n",
              "      <td>106189</td>\n",
              "    </tr>\n",
              "    <tr>\n",
              "      <th>0.00</th>\n",
              "      <td>63801</td>\n",
              "    </tr>\n",
              "    <tr>\n",
              "      <th>0.50</th>\n",
              "      <td>49386</td>\n",
              "    </tr>\n",
              "    <tr>\n",
              "      <th>0.75</th>\n",
              "      <td>39931</td>\n",
              "    </tr>\n",
              "    <tr>\n",
              "      <th>0.25</th>\n",
              "      <td>37479</td>\n",
              "    </tr>\n",
              "  </tbody>\n",
              "</table>\n",
              "</div><br><label><b>dtype:</b> int64</label>"
            ]
          },
          "metadata": {},
          "execution_count": 351
        }
      ],
      "source": [
        "scaler = MinMaxScaler()\n",
        "train['ESTU_HORASSEMANATRABAJA'] = scaler.fit_transform(train[['ESTU_HORASSEMANATRABAJA']])\n",
        "train['ESTU_HORASSEMANATRABAJA'].value_counts()"
      ]
    },
    {
      "cell_type": "markdown",
      "metadata": {
        "id": "pBRiHDq21Tjr"
      },
      "source": [
        "*Columna ESTU_VALORMATRICULAUNIVERSIDAD*\n"
      ]
    },
    {
      "cell_type": "code",
      "execution_count": null,
      "metadata": {
        "colab": {
          "base_uri": "https://localhost:8080/",
          "height": 473
        },
        "id": "Pi4K4Kyy1Tjs",
        "outputId": "968f06d4-a505-48ae-d994-769d8fc8237b"
      },
      "outputs": [
        {
          "output_type": "execute_result",
          "data": {
            "text/plain": [
              "ESTU_VALORMATRICULAUNIVERSIDAD\n",
              "Entre 1 millón y menos de 2.5 millones      86923\n",
              "Entre 2.5 millones y menos de 4 millones    55193\n",
              "Menos de 500 mil                            34589\n",
              "Entre 500 mil y menos de 1 millón           33564\n",
              "Entre 4 millones y menos de 5.5 millones    29855\n",
              "Más de 7 millones                           29061\n",
              "Entre 5.5 millones y menos de 7 millones    16558\n",
              "No pagó matrícula                           11043\n",
              "Name: count, dtype: int64"
            ],
            "text/html": [
              "<div>\n",
              "<style scoped>\n",
              "    .dataframe tbody tr th:only-of-type {\n",
              "        vertical-align: middle;\n",
              "    }\n",
              "\n",
              "    .dataframe tbody tr th {\n",
              "        vertical-align: top;\n",
              "    }\n",
              "\n",
              "    .dataframe thead th {\n",
              "        text-align: right;\n",
              "    }\n",
              "</style>\n",
              "<table border=\"1\" class=\"dataframe\">\n",
              "  <thead>\n",
              "    <tr style=\"text-align: right;\">\n",
              "      <th></th>\n",
              "      <th>count</th>\n",
              "    </tr>\n",
              "    <tr>\n",
              "      <th>ESTU_VALORMATRICULAUNIVERSIDAD</th>\n",
              "      <th></th>\n",
              "    </tr>\n",
              "  </thead>\n",
              "  <tbody>\n",
              "    <tr>\n",
              "      <th>Entre 1 millón y menos de 2.5 millones</th>\n",
              "      <td>86923</td>\n",
              "    </tr>\n",
              "    <tr>\n",
              "      <th>Entre 2.5 millones y menos de 4 millones</th>\n",
              "      <td>55193</td>\n",
              "    </tr>\n",
              "    <tr>\n",
              "      <th>Menos de 500 mil</th>\n",
              "      <td>34589</td>\n",
              "    </tr>\n",
              "    <tr>\n",
              "      <th>Entre 500 mil y menos de 1 millón</th>\n",
              "      <td>33564</td>\n",
              "    </tr>\n",
              "    <tr>\n",
              "      <th>Entre 4 millones y menos de 5.5 millones</th>\n",
              "      <td>29855</td>\n",
              "    </tr>\n",
              "    <tr>\n",
              "      <th>Más de 7 millones</th>\n",
              "      <td>29061</td>\n",
              "    </tr>\n",
              "    <tr>\n",
              "      <th>Entre 5.5 millones y menos de 7 millones</th>\n",
              "      <td>16558</td>\n",
              "    </tr>\n",
              "    <tr>\n",
              "      <th>No pagó matrícula</th>\n",
              "      <td>11043</td>\n",
              "    </tr>\n",
              "  </tbody>\n",
              "</table>\n",
              "</div><br><label><b>dtype:</b> int64</label>"
            ]
          },
          "metadata": {},
          "execution_count": 352
        }
      ],
      "source": [
        "train['ESTU_VALORMATRICULAUNIVERSIDAD'].value_counts()"
      ]
    },
    {
      "cell_type": "code",
      "execution_count": null,
      "metadata": {
        "id": "JF9kp1fY1Tjs"
      },
      "outputs": [],
      "source": [
        "matricula = ['No pagó matrícula','Menos de 500 mil','Entre 500 mil y menos de 1 millón',\n",
        "                     'Entre 1 millón y menos de 2.5 millones',\n",
        "                     'Entre 2.5 millones y menos de 4 millones',\n",
        "                     'Entre 4 millones y menos de 5.5 millones',\n",
        "                     'Entre 5.5 millones y menos de 7 millones','Más de 7 millones']\n",
        "enc = OrdinalEncoder(categories = [matricula])\n",
        "train['ESTU_VALORMATRICULAUNIVERSIDAD'] = enc.fit_transform(train[['ESTU_VALORMATRICULAUNIVERSIDAD']])"
      ]
    },
    {
      "cell_type": "code",
      "execution_count": null,
      "metadata": {
        "colab": {
          "base_uri": "https://localhost:8080/",
          "height": 404
        },
        "id": "QdnVNX8Z1Tjt",
        "outputId": "d9028314-fec3-4e54-d47e-f1931877ca42"
      },
      "outputs": [
        {
          "output_type": "execute_result",
          "data": {
            "text/plain": [
              "ESTU_VALORMATRICULAUNIVERSIDAD\n",
              "3.0    86923\n",
              "4.0    55193\n",
              "1.0    34589\n",
              "2.0    33564\n",
              "5.0    29855\n",
              "7.0    29061\n",
              "6.0    16558\n",
              "0.0    11043\n",
              "Name: count, dtype: int64"
            ],
            "text/html": [
              "<div>\n",
              "<style scoped>\n",
              "    .dataframe tbody tr th:only-of-type {\n",
              "        vertical-align: middle;\n",
              "    }\n",
              "\n",
              "    .dataframe tbody tr th {\n",
              "        vertical-align: top;\n",
              "    }\n",
              "\n",
              "    .dataframe thead th {\n",
              "        text-align: right;\n",
              "    }\n",
              "</style>\n",
              "<table border=\"1\" class=\"dataframe\">\n",
              "  <thead>\n",
              "    <tr style=\"text-align: right;\">\n",
              "      <th></th>\n",
              "      <th>count</th>\n",
              "    </tr>\n",
              "    <tr>\n",
              "      <th>ESTU_VALORMATRICULAUNIVERSIDAD</th>\n",
              "      <th></th>\n",
              "    </tr>\n",
              "  </thead>\n",
              "  <tbody>\n",
              "    <tr>\n",
              "      <th>3.0</th>\n",
              "      <td>86923</td>\n",
              "    </tr>\n",
              "    <tr>\n",
              "      <th>4.0</th>\n",
              "      <td>55193</td>\n",
              "    </tr>\n",
              "    <tr>\n",
              "      <th>1.0</th>\n",
              "      <td>34589</td>\n",
              "    </tr>\n",
              "    <tr>\n",
              "      <th>2.0</th>\n",
              "      <td>33564</td>\n",
              "    </tr>\n",
              "    <tr>\n",
              "      <th>5.0</th>\n",
              "      <td>29855</td>\n",
              "    </tr>\n",
              "    <tr>\n",
              "      <th>7.0</th>\n",
              "      <td>29061</td>\n",
              "    </tr>\n",
              "    <tr>\n",
              "      <th>6.0</th>\n",
              "      <td>16558</td>\n",
              "    </tr>\n",
              "    <tr>\n",
              "      <th>0.0</th>\n",
              "      <td>11043</td>\n",
              "    </tr>\n",
              "  </tbody>\n",
              "</table>\n",
              "</div><br><label><b>dtype:</b> int64</label>"
            ]
          },
          "metadata": {},
          "execution_count": 354
        }
      ],
      "source": [
        "train['ESTU_VALORMATRICULAUNIVERSIDAD'].value_counts()"
      ]
    },
    {
      "cell_type": "code",
      "execution_count": null,
      "metadata": {
        "colab": {
          "base_uri": "https://localhost:8080/",
          "height": 404
        },
        "id": "Yb1Lz--O1Tjt",
        "outputId": "bc2722c7-2c8b-488f-d243-11078faa5cd8"
      },
      "outputs": [
        {
          "output_type": "execute_result",
          "data": {
            "text/plain": [
              "ESTU_VALORMATRICULAUNIVERSIDAD\n",
              "0.428571    86923\n",
              "0.571429    55193\n",
              "0.142857    34589\n",
              "0.285714    33564\n",
              "0.714286    29855\n",
              "1.000000    29061\n",
              "0.857143    16558\n",
              "0.000000    11043\n",
              "Name: count, dtype: int64"
            ],
            "text/html": [
              "<div>\n",
              "<style scoped>\n",
              "    .dataframe tbody tr th:only-of-type {\n",
              "        vertical-align: middle;\n",
              "    }\n",
              "\n",
              "    .dataframe tbody tr th {\n",
              "        vertical-align: top;\n",
              "    }\n",
              "\n",
              "    .dataframe thead th {\n",
              "        text-align: right;\n",
              "    }\n",
              "</style>\n",
              "<table border=\"1\" class=\"dataframe\">\n",
              "  <thead>\n",
              "    <tr style=\"text-align: right;\">\n",
              "      <th></th>\n",
              "      <th>count</th>\n",
              "    </tr>\n",
              "    <tr>\n",
              "      <th>ESTU_VALORMATRICULAUNIVERSIDAD</th>\n",
              "      <th></th>\n",
              "    </tr>\n",
              "  </thead>\n",
              "  <tbody>\n",
              "    <tr>\n",
              "      <th>0.428571</th>\n",
              "      <td>86923</td>\n",
              "    </tr>\n",
              "    <tr>\n",
              "      <th>0.571429</th>\n",
              "      <td>55193</td>\n",
              "    </tr>\n",
              "    <tr>\n",
              "      <th>0.142857</th>\n",
              "      <td>34589</td>\n",
              "    </tr>\n",
              "    <tr>\n",
              "      <th>0.285714</th>\n",
              "      <td>33564</td>\n",
              "    </tr>\n",
              "    <tr>\n",
              "      <th>0.714286</th>\n",
              "      <td>29855</td>\n",
              "    </tr>\n",
              "    <tr>\n",
              "      <th>1.000000</th>\n",
              "      <td>29061</td>\n",
              "    </tr>\n",
              "    <tr>\n",
              "      <th>0.857143</th>\n",
              "      <td>16558</td>\n",
              "    </tr>\n",
              "    <tr>\n",
              "      <th>0.000000</th>\n",
              "      <td>11043</td>\n",
              "    </tr>\n",
              "  </tbody>\n",
              "</table>\n",
              "</div><br><label><b>dtype:</b> int64</label>"
            ]
          },
          "metadata": {},
          "execution_count": 355
        }
      ],
      "source": [
        "scaler = MinMaxScaler()\n",
        "train['ESTU_VALORMATRICULAUNIVERSIDAD'] = scaler.fit_transform(train[['ESTU_VALORMATRICULAUNIVERSIDAD']])\n",
        "train['ESTU_VALORMATRICULAUNIVERSIDAD'].value_counts()"
      ]
    },
    {
      "cell_type": "markdown",
      "metadata": {
        "id": "Q9AxGgy-1Tju"
      },
      "source": [
        "*Columna ESTU_PRGM_ACADEMICO*\n"
      ]
    },
    {
      "cell_type": "code",
      "execution_count": null,
      "metadata": {
        "colab": {
          "base_uri": "https://localhost:8080/",
          "height": 701
        },
        "id": "UVbSg6QC1Tju",
        "outputId": "1474c18e-c8be-4ea8-941e-cc13f589b250"
      },
      "outputs": [
        {
          "output_type": "execute_result",
          "data": {
            "text/plain": [
              "ESTU_PRGM_ACADEMICO\n",
              "INGENIERIA                                             63893\n",
              "ADMINISTRACION                                         55028\n",
              "LICENCIATURA                                           27492\n",
              "DERECHO                                                22984\n",
              "CONTADURIA                                             22668\n",
              "                                                       ...  \n",
              "CONSERVACION Y RESTAURACION DE BIENES MUEBLES              4\n",
              "URBANISMO                                                  4\n",
              "OCEANOGRAFIA                                               2\n",
              "COMPUTACION CIENTIFICA                                     1\n",
              "LICENC.EN EDUCACION BASICA PRIMARIA ENF.EN CIENCIAS        1\n",
              "Name: count, Length: 122, dtype: int64"
            ],
            "text/html": [
              "<div>\n",
              "<style scoped>\n",
              "    .dataframe tbody tr th:only-of-type {\n",
              "        vertical-align: middle;\n",
              "    }\n",
              "\n",
              "    .dataframe tbody tr th {\n",
              "        vertical-align: top;\n",
              "    }\n",
              "\n",
              "    .dataframe thead th {\n",
              "        text-align: right;\n",
              "    }\n",
              "</style>\n",
              "<table border=\"1\" class=\"dataframe\">\n",
              "  <thead>\n",
              "    <tr style=\"text-align: right;\">\n",
              "      <th></th>\n",
              "      <th>count</th>\n",
              "    </tr>\n",
              "    <tr>\n",
              "      <th>ESTU_PRGM_ACADEMICO</th>\n",
              "      <th></th>\n",
              "    </tr>\n",
              "  </thead>\n",
              "  <tbody>\n",
              "    <tr>\n",
              "      <th>INGENIERIA</th>\n",
              "      <td>63893</td>\n",
              "    </tr>\n",
              "    <tr>\n",
              "      <th>ADMINISTRACION</th>\n",
              "      <td>55028</td>\n",
              "    </tr>\n",
              "    <tr>\n",
              "      <th>LICENCIATURA</th>\n",
              "      <td>27492</td>\n",
              "    </tr>\n",
              "    <tr>\n",
              "      <th>DERECHO</th>\n",
              "      <td>22984</td>\n",
              "    </tr>\n",
              "    <tr>\n",
              "      <th>CONTADURIA</th>\n",
              "      <td>22668</td>\n",
              "    </tr>\n",
              "    <tr>\n",
              "      <th>...</th>\n",
              "      <td>...</td>\n",
              "    </tr>\n",
              "    <tr>\n",
              "      <th>CONSERVACION Y RESTAURACION DE BIENES MUEBLES</th>\n",
              "      <td>4</td>\n",
              "    </tr>\n",
              "    <tr>\n",
              "      <th>URBANISMO</th>\n",
              "      <td>4</td>\n",
              "    </tr>\n",
              "    <tr>\n",
              "      <th>OCEANOGRAFIA</th>\n",
              "      <td>2</td>\n",
              "    </tr>\n",
              "    <tr>\n",
              "      <th>COMPUTACION CIENTIFICA</th>\n",
              "      <td>1</td>\n",
              "    </tr>\n",
              "    <tr>\n",
              "      <th>LICENC.EN EDUCACION BASICA PRIMARIA ENF.EN CIENCIAS</th>\n",
              "      <td>1</td>\n",
              "    </tr>\n",
              "  </tbody>\n",
              "</table>\n",
              "<p>122 rows × 1 columns</p>\n",
              "</div><br><label><b>dtype:</b> int64</label>"
            ]
          },
          "metadata": {},
          "execution_count": 356
        }
      ],
      "source": [
        "train[\"ESTU_PRGM_ACADEMICO\"].value_counts()"
      ]
    },
    {
      "cell_type": "code",
      "execution_count": null,
      "metadata": {
        "id": "ZmtRo7c_1Tjx"
      },
      "outputs": [],
      "source": [
        "totalProgramas = train[\"ESTU_PRGM_ACADEMICO\"].value_counts().index.tolist()\n",
        "enc = OrdinalEncoder(categories = [totalProgramas])\n",
        "train[\"ESTU_PRGM_ACADEMICO\"] = enc.fit_transform(train[[\"ESTU_PRGM_ACADEMICO\"]])"
      ]
    },
    {
      "cell_type": "code",
      "execution_count": null,
      "metadata": {
        "colab": {
          "base_uri": "https://localhost:8080/",
          "height": 597
        },
        "id": "3ZlGrGJb1Tjz",
        "outputId": "644c074c-614c-4a83-ea56-276605884bf8"
      },
      "outputs": [
        {
          "output_type": "execute_result",
          "data": {
            "text/plain": [
              "ESTU_PRGM_ACADEMICO\n",
              "0.0      63893\n",
              "1.0      55028\n",
              "2.0      27492\n",
              "3.0      22984\n",
              "4.0      22668\n",
              "         ...  \n",
              "117.0        4\n",
              "118.0        4\n",
              "119.0        2\n",
              "120.0        1\n",
              "121.0        1\n",
              "Name: count, Length: 122, dtype: int64"
            ],
            "text/html": [
              "<div>\n",
              "<style scoped>\n",
              "    .dataframe tbody tr th:only-of-type {\n",
              "        vertical-align: middle;\n",
              "    }\n",
              "\n",
              "    .dataframe tbody tr th {\n",
              "        vertical-align: top;\n",
              "    }\n",
              "\n",
              "    .dataframe thead th {\n",
              "        text-align: right;\n",
              "    }\n",
              "</style>\n",
              "<table border=\"1\" class=\"dataframe\">\n",
              "  <thead>\n",
              "    <tr style=\"text-align: right;\">\n",
              "      <th></th>\n",
              "      <th>count</th>\n",
              "    </tr>\n",
              "    <tr>\n",
              "      <th>ESTU_PRGM_ACADEMICO</th>\n",
              "      <th></th>\n",
              "    </tr>\n",
              "  </thead>\n",
              "  <tbody>\n",
              "    <tr>\n",
              "      <th>0.0</th>\n",
              "      <td>63893</td>\n",
              "    </tr>\n",
              "    <tr>\n",
              "      <th>1.0</th>\n",
              "      <td>55028</td>\n",
              "    </tr>\n",
              "    <tr>\n",
              "      <th>2.0</th>\n",
              "      <td>27492</td>\n",
              "    </tr>\n",
              "    <tr>\n",
              "      <th>3.0</th>\n",
              "      <td>22984</td>\n",
              "    </tr>\n",
              "    <tr>\n",
              "      <th>4.0</th>\n",
              "      <td>22668</td>\n",
              "    </tr>\n",
              "    <tr>\n",
              "      <th>...</th>\n",
              "      <td>...</td>\n",
              "    </tr>\n",
              "    <tr>\n",
              "      <th>117.0</th>\n",
              "      <td>4</td>\n",
              "    </tr>\n",
              "    <tr>\n",
              "      <th>118.0</th>\n",
              "      <td>4</td>\n",
              "    </tr>\n",
              "    <tr>\n",
              "      <th>119.0</th>\n",
              "      <td>2</td>\n",
              "    </tr>\n",
              "    <tr>\n",
              "      <th>120.0</th>\n",
              "      <td>1</td>\n",
              "    </tr>\n",
              "    <tr>\n",
              "      <th>121.0</th>\n",
              "      <td>1</td>\n",
              "    </tr>\n",
              "  </tbody>\n",
              "</table>\n",
              "<p>122 rows × 1 columns</p>\n",
              "</div><br><label><b>dtype:</b> int64</label>"
            ]
          },
          "metadata": {},
          "execution_count": 358
        }
      ],
      "source": [
        "train[\"ESTU_PRGM_ACADEMICO\"].value_counts()"
      ]
    },
    {
      "cell_type": "code",
      "execution_count": null,
      "metadata": {
        "colab": {
          "base_uri": "https://localhost:8080/",
          "height": 597
        },
        "id": "dblhSpVN1Tj0",
        "outputId": "7c9965ae-63ed-4e23-b2ab-a1cf9730c3a0"
      },
      "outputs": [
        {
          "output_type": "execute_result",
          "data": {
            "text/plain": [
              "ESTU_PRGM_ACADEMICO\n",
              "0.000000    63893\n",
              "0.008264    55028\n",
              "0.016529    27492\n",
              "0.024793    22984\n",
              "0.033058    22668\n",
              "            ...  \n",
              "0.966942        4\n",
              "0.975207        4\n",
              "0.983471        2\n",
              "0.991736        1\n",
              "1.000000        1\n",
              "Name: count, Length: 122, dtype: int64"
            ],
            "text/html": [
              "<div>\n",
              "<style scoped>\n",
              "    .dataframe tbody tr th:only-of-type {\n",
              "        vertical-align: middle;\n",
              "    }\n",
              "\n",
              "    .dataframe tbody tr th {\n",
              "        vertical-align: top;\n",
              "    }\n",
              "\n",
              "    .dataframe thead th {\n",
              "        text-align: right;\n",
              "    }\n",
              "</style>\n",
              "<table border=\"1\" class=\"dataframe\">\n",
              "  <thead>\n",
              "    <tr style=\"text-align: right;\">\n",
              "      <th></th>\n",
              "      <th>count</th>\n",
              "    </tr>\n",
              "    <tr>\n",
              "      <th>ESTU_PRGM_ACADEMICO</th>\n",
              "      <th></th>\n",
              "    </tr>\n",
              "  </thead>\n",
              "  <tbody>\n",
              "    <tr>\n",
              "      <th>0.000000</th>\n",
              "      <td>63893</td>\n",
              "    </tr>\n",
              "    <tr>\n",
              "      <th>0.008264</th>\n",
              "      <td>55028</td>\n",
              "    </tr>\n",
              "    <tr>\n",
              "      <th>0.016529</th>\n",
              "      <td>27492</td>\n",
              "    </tr>\n",
              "    <tr>\n",
              "      <th>0.024793</th>\n",
              "      <td>22984</td>\n",
              "    </tr>\n",
              "    <tr>\n",
              "      <th>0.033058</th>\n",
              "      <td>22668</td>\n",
              "    </tr>\n",
              "    <tr>\n",
              "      <th>...</th>\n",
              "      <td>...</td>\n",
              "    </tr>\n",
              "    <tr>\n",
              "      <th>0.966942</th>\n",
              "      <td>4</td>\n",
              "    </tr>\n",
              "    <tr>\n",
              "      <th>0.975207</th>\n",
              "      <td>4</td>\n",
              "    </tr>\n",
              "    <tr>\n",
              "      <th>0.983471</th>\n",
              "      <td>2</td>\n",
              "    </tr>\n",
              "    <tr>\n",
              "      <th>0.991736</th>\n",
              "      <td>1</td>\n",
              "    </tr>\n",
              "    <tr>\n",
              "      <th>1.000000</th>\n",
              "      <td>1</td>\n",
              "    </tr>\n",
              "  </tbody>\n",
              "</table>\n",
              "<p>122 rows × 1 columns</p>\n",
              "</div><br><label><b>dtype:</b> int64</label>"
            ]
          },
          "metadata": {},
          "execution_count": 359
        }
      ],
      "source": [
        "scaler = MinMaxScaler()\n",
        "train['ESTU_PRGM_ACADEMICO'] = scaler.fit_transform(train[['ESTU_PRGM_ACADEMICO']])\n",
        "train['ESTU_PRGM_ACADEMICO'].value_counts()"
      ]
    },
    {
      "cell_type": "markdown",
      "metadata": {
        "id": "NlXO48FY1Tj1"
      },
      "source": [
        "*Columna ESTU_PRGM_DEPARTAMENTO*"
      ]
    },
    {
      "cell_type": "code",
      "execution_count": null,
      "metadata": {
        "colab": {
          "base_uri": "https://localhost:8080/"
        },
        "id": "2IsirMHw1Tj1",
        "outputId": "f317368d-4442-4f03-cd67-b6a08284384b"
      },
      "outputs": [
        {
          "output_type": "execute_result",
          "data": {
            "text/plain": [
              "array(['CARIBE', 'ANDINA', 'PACIFICA', 'ORINOQUIA', 'AMAZONA'],\n",
              "      dtype=object)"
            ]
          },
          "metadata": {},
          "execution_count": 360
        }
      ],
      "source": [
        "train['ESTU_PRGM_DEPARTAMENTO'].unique()"
      ]
    },
    {
      "cell_type": "code",
      "execution_count": null,
      "metadata": {
        "colab": {
          "base_uri": "https://localhost:8080/"
        },
        "id": "i7BH0E811Tj2",
        "outputId": "616dda38-540b-47f2-fde3-7e6e14e9136a"
      },
      "outputs": [
        {
          "output_type": "execute_result",
          "data": {
            "text/plain": [
              "0"
            ]
          },
          "metadata": {},
          "execution_count": 361
        }
      ],
      "source": [
        "train['ESTU_PRGM_DEPARTAMENTO'].isna().sum()"
      ]
    },
    {
      "cell_type": "code",
      "execution_count": null,
      "metadata": {
        "id": "cJQXkx6o1Tj3"
      },
      "outputs": [],
      "source": [
        "totalDepartamento = train['ESTU_PRGM_DEPARTAMENTO'].value_counts().index.tolist()\n",
        "enc = OrdinalEncoder(categories = [totalDepartamento])\n",
        "train['ESTU_PRGM_DEPARTAMENTO'] = enc.fit_transform(train[['ESTU_PRGM_DEPARTAMENTO']])"
      ]
    },
    {
      "cell_type": "code",
      "execution_count": null,
      "metadata": {
        "colab": {
          "base_uri": "https://localhost:8080/",
          "height": 309
        },
        "id": "4LGKNw9Y1Tj4",
        "outputId": "f06dae37-2148-4a0b-ecfb-61ac9f18f77f"
      },
      "outputs": [
        {
          "output_type": "execute_result",
          "data": {
            "text/plain": [
              "ESTU_PRGM_DEPARTAMENTO\n",
              "0.0    213954\n",
              "1.0     45228\n",
              "2.0     31586\n",
              "3.0      4490\n",
              "4.0      1528\n",
              "Name: count, dtype: int64"
            ],
            "text/html": [
              "<div>\n",
              "<style scoped>\n",
              "    .dataframe tbody tr th:only-of-type {\n",
              "        vertical-align: middle;\n",
              "    }\n",
              "\n",
              "    .dataframe tbody tr th {\n",
              "        vertical-align: top;\n",
              "    }\n",
              "\n",
              "    .dataframe thead th {\n",
              "        text-align: right;\n",
              "    }\n",
              "</style>\n",
              "<table border=\"1\" class=\"dataframe\">\n",
              "  <thead>\n",
              "    <tr style=\"text-align: right;\">\n",
              "      <th></th>\n",
              "      <th>count</th>\n",
              "    </tr>\n",
              "    <tr>\n",
              "      <th>ESTU_PRGM_DEPARTAMENTO</th>\n",
              "      <th></th>\n",
              "    </tr>\n",
              "  </thead>\n",
              "  <tbody>\n",
              "    <tr>\n",
              "      <th>0.0</th>\n",
              "      <td>213954</td>\n",
              "    </tr>\n",
              "    <tr>\n",
              "      <th>1.0</th>\n",
              "      <td>45228</td>\n",
              "    </tr>\n",
              "    <tr>\n",
              "      <th>2.0</th>\n",
              "      <td>31586</td>\n",
              "    </tr>\n",
              "    <tr>\n",
              "      <th>3.0</th>\n",
              "      <td>4490</td>\n",
              "    </tr>\n",
              "    <tr>\n",
              "      <th>4.0</th>\n",
              "      <td>1528</td>\n",
              "    </tr>\n",
              "  </tbody>\n",
              "</table>\n",
              "</div><br><label><b>dtype:</b> int64</label>"
            ]
          },
          "metadata": {},
          "execution_count": 363
        }
      ],
      "source": [
        "train['ESTU_PRGM_DEPARTAMENTO'].value_counts()"
      ]
    },
    {
      "cell_type": "code",
      "execution_count": null,
      "metadata": {
        "colab": {
          "base_uri": "https://localhost:8080/",
          "height": 309
        },
        "id": "b14P7X2b1Tj5",
        "outputId": "630a2a13-e6b4-4368-be1c-33a6aa76875b"
      },
      "outputs": [
        {
          "output_type": "execute_result",
          "data": {
            "text/plain": [
              "ESTU_PRGM_DEPARTAMENTO\n",
              "0.00    213954\n",
              "0.25     45228\n",
              "0.50     31586\n",
              "0.75      4490\n",
              "1.00      1528\n",
              "Name: count, dtype: int64"
            ],
            "text/html": [
              "<div>\n",
              "<style scoped>\n",
              "    .dataframe tbody tr th:only-of-type {\n",
              "        vertical-align: middle;\n",
              "    }\n",
              "\n",
              "    .dataframe tbody tr th {\n",
              "        vertical-align: top;\n",
              "    }\n",
              "\n",
              "    .dataframe thead th {\n",
              "        text-align: right;\n",
              "    }\n",
              "</style>\n",
              "<table border=\"1\" class=\"dataframe\">\n",
              "  <thead>\n",
              "    <tr style=\"text-align: right;\">\n",
              "      <th></th>\n",
              "      <th>count</th>\n",
              "    </tr>\n",
              "    <tr>\n",
              "      <th>ESTU_PRGM_DEPARTAMENTO</th>\n",
              "      <th></th>\n",
              "    </tr>\n",
              "  </thead>\n",
              "  <tbody>\n",
              "    <tr>\n",
              "      <th>0.00</th>\n",
              "      <td>213954</td>\n",
              "    </tr>\n",
              "    <tr>\n",
              "      <th>0.25</th>\n",
              "      <td>45228</td>\n",
              "    </tr>\n",
              "    <tr>\n",
              "      <th>0.50</th>\n",
              "      <td>31586</td>\n",
              "    </tr>\n",
              "    <tr>\n",
              "      <th>0.75</th>\n",
              "      <td>4490</td>\n",
              "    </tr>\n",
              "    <tr>\n",
              "      <th>1.00</th>\n",
              "      <td>1528</td>\n",
              "    </tr>\n",
              "  </tbody>\n",
              "</table>\n",
              "</div><br><label><b>dtype:</b> int64</label>"
            ]
          },
          "metadata": {},
          "execution_count": 364
        }
      ],
      "source": [
        "scaler = MinMaxScaler()\n",
        "train['ESTU_PRGM_DEPARTAMENTO'] = scaler.fit_transform(train[['ESTU_PRGM_DEPARTAMENTO']])\n",
        "train['ESTU_PRGM_DEPARTAMENTO'].value_counts()"
      ]
    },
    {
      "cell_type": "code",
      "execution_count": null,
      "metadata": {
        "id": "SPTByTjU1Tj7"
      },
      "outputs": [],
      "source": [
        "train.drop(columns=['ID'], inplace=True)\n",
        "train.drop(columns=['PERIODO'], inplace=True)"
      ]
    },
    {
      "cell_type": "code",
      "execution_count": null,
      "metadata": {
        "colab": {
          "base_uri": "https://localhost:8080/",
          "height": 243
        },
        "id": "pTt_Wajk1Tj8",
        "outputId": "29ff87fe-c41c-42ad-9ccc-e393f182ca84"
      },
      "outputs": [
        {
          "output_type": "execute_result",
          "data": {
            "text/plain": [
              "   Unnamed: 0  ESTU_PRGM_ACADEMICO  ESTU_PRGM_DEPARTAMENTO  \\\n",
              "0           0             0.066116                    0.25   \n",
              "1           1             0.008264                    0.00   \n",
              "2           2             0.000000                    0.00   \n",
              "3           3             0.033058                    0.25   \n",
              "4           4             0.008264                    0.25   \n",
              "\n",
              "   ESTU_VALORMATRICULAUNIVERSIDAD  ESTU_HORASSEMANATRABAJA  \\\n",
              "0                        0.142857                     0.25   \n",
              "1                        0.571429                     0.75   \n",
              "2                        0.428571                     0.00   \n",
              "3                        0.428571                     0.75   \n",
              "4                        0.571429                     0.50   \n",
              "\n",
              "   FAMI_ESTRATOVIVIENDA  FAMI_TIENEINTERNET  FAMI_EDUCACIONPADRE  \\\n",
              "0              0.500000                 1.0             0.666667   \n",
              "1              0.333333                 1.0             0.444444   \n",
              "2              0.500000                 1.0             0.333333   \n",
              "3              0.166667                 0.0             0.111111   \n",
              "4              0.333333                 1.0             0.444444   \n",
              "\n",
              "   FAMI_EDUCACIONMADRE  ESTU_PAGOMATRICULAPROPIO  \n",
              "0             0.222222                       1.0  \n",
              "1             0.666667                       0.0  \n",
              "2             0.444444                       0.0  \n",
              "3             0.111111                       0.0  \n",
              "4             0.444444                       0.0  "
            ],
            "text/html": [
              "\n",
              "  <div id=\"df-00b38650-84b1-492e-9445-4352b36a5235\" class=\"colab-df-container\">\n",
              "    <div>\n",
              "<style scoped>\n",
              "    .dataframe tbody tr th:only-of-type {\n",
              "        vertical-align: middle;\n",
              "    }\n",
              "\n",
              "    .dataframe tbody tr th {\n",
              "        vertical-align: top;\n",
              "    }\n",
              "\n",
              "    .dataframe thead th {\n",
              "        text-align: right;\n",
              "    }\n",
              "</style>\n",
              "<table border=\"1\" class=\"dataframe\">\n",
              "  <thead>\n",
              "    <tr style=\"text-align: right;\">\n",
              "      <th></th>\n",
              "      <th>Unnamed: 0</th>\n",
              "      <th>ESTU_PRGM_ACADEMICO</th>\n",
              "      <th>ESTU_PRGM_DEPARTAMENTO</th>\n",
              "      <th>ESTU_VALORMATRICULAUNIVERSIDAD</th>\n",
              "      <th>ESTU_HORASSEMANATRABAJA</th>\n",
              "      <th>FAMI_ESTRATOVIVIENDA</th>\n",
              "      <th>FAMI_TIENEINTERNET</th>\n",
              "      <th>FAMI_EDUCACIONPADRE</th>\n",
              "      <th>FAMI_EDUCACIONMADRE</th>\n",
              "      <th>ESTU_PAGOMATRICULAPROPIO</th>\n",
              "    </tr>\n",
              "  </thead>\n",
              "  <tbody>\n",
              "    <tr>\n",
              "      <th>0</th>\n",
              "      <td>0</td>\n",
              "      <td>0.066116</td>\n",
              "      <td>0.25</td>\n",
              "      <td>0.142857</td>\n",
              "      <td>0.25</td>\n",
              "      <td>0.500000</td>\n",
              "      <td>1.0</td>\n",
              "      <td>0.666667</td>\n",
              "      <td>0.222222</td>\n",
              "      <td>1.0</td>\n",
              "    </tr>\n",
              "    <tr>\n",
              "      <th>1</th>\n",
              "      <td>1</td>\n",
              "      <td>0.008264</td>\n",
              "      <td>0.00</td>\n",
              "      <td>0.571429</td>\n",
              "      <td>0.75</td>\n",
              "      <td>0.333333</td>\n",
              "      <td>1.0</td>\n",
              "      <td>0.444444</td>\n",
              "      <td>0.666667</td>\n",
              "      <td>0.0</td>\n",
              "    </tr>\n",
              "    <tr>\n",
              "      <th>2</th>\n",
              "      <td>2</td>\n",
              "      <td>0.000000</td>\n",
              "      <td>0.00</td>\n",
              "      <td>0.428571</td>\n",
              "      <td>0.00</td>\n",
              "      <td>0.500000</td>\n",
              "      <td>1.0</td>\n",
              "      <td>0.333333</td>\n",
              "      <td>0.444444</td>\n",
              "      <td>0.0</td>\n",
              "    </tr>\n",
              "    <tr>\n",
              "      <th>3</th>\n",
              "      <td>3</td>\n",
              "      <td>0.033058</td>\n",
              "      <td>0.25</td>\n",
              "      <td>0.428571</td>\n",
              "      <td>0.75</td>\n",
              "      <td>0.166667</td>\n",
              "      <td>0.0</td>\n",
              "      <td>0.111111</td>\n",
              "      <td>0.111111</td>\n",
              "      <td>0.0</td>\n",
              "    </tr>\n",
              "    <tr>\n",
              "      <th>4</th>\n",
              "      <td>4</td>\n",
              "      <td>0.008264</td>\n",
              "      <td>0.25</td>\n",
              "      <td>0.571429</td>\n",
              "      <td>0.50</td>\n",
              "      <td>0.333333</td>\n",
              "      <td>1.0</td>\n",
              "      <td>0.444444</td>\n",
              "      <td>0.444444</td>\n",
              "      <td>0.0</td>\n",
              "    </tr>\n",
              "  </tbody>\n",
              "</table>\n",
              "</div>\n",
              "    <div class=\"colab-df-buttons\">\n",
              "\n",
              "  <div class=\"colab-df-container\">\n",
              "    <button class=\"colab-df-convert\" onclick=\"convertToInteractive('df-00b38650-84b1-492e-9445-4352b36a5235')\"\n",
              "            title=\"Convert this dataframe to an interactive table.\"\n",
              "            style=\"display:none;\">\n",
              "\n",
              "  <svg xmlns=\"http://www.w3.org/2000/svg\" height=\"24px\" viewBox=\"0 -960 960 960\">\n",
              "    <path d=\"M120-120v-720h720v720H120Zm60-500h600v-160H180v160Zm220 220h160v-160H400v160Zm0 220h160v-160H400v160ZM180-400h160v-160H180v160Zm440 0h160v-160H620v160ZM180-180h160v-160H180v160Zm440 0h160v-160H620v160Z\"/>\n",
              "  </svg>\n",
              "    </button>\n",
              "\n",
              "  <style>\n",
              "    .colab-df-container {\n",
              "      display:flex;\n",
              "      gap: 12px;\n",
              "    }\n",
              "\n",
              "    .colab-df-convert {\n",
              "      background-color: #E8F0FE;\n",
              "      border: none;\n",
              "      border-radius: 50%;\n",
              "      cursor: pointer;\n",
              "      display: none;\n",
              "      fill: #1967D2;\n",
              "      height: 32px;\n",
              "      padding: 0 0 0 0;\n",
              "      width: 32px;\n",
              "    }\n",
              "\n",
              "    .colab-df-convert:hover {\n",
              "      background-color: #E2EBFA;\n",
              "      box-shadow: 0px 1px 2px rgba(60, 64, 67, 0.3), 0px 1px 3px 1px rgba(60, 64, 67, 0.15);\n",
              "      fill: #174EA6;\n",
              "    }\n",
              "\n",
              "    .colab-df-buttons div {\n",
              "      margin-bottom: 4px;\n",
              "    }\n",
              "\n",
              "    [theme=dark] .colab-df-convert {\n",
              "      background-color: #3B4455;\n",
              "      fill: #D2E3FC;\n",
              "    }\n",
              "\n",
              "    [theme=dark] .colab-df-convert:hover {\n",
              "      background-color: #434B5C;\n",
              "      box-shadow: 0px 1px 3px 1px rgba(0, 0, 0, 0.15);\n",
              "      filter: drop-shadow(0px 1px 2px rgba(0, 0, 0, 0.3));\n",
              "      fill: #FFFFFF;\n",
              "    }\n",
              "  </style>\n",
              "\n",
              "    <script>\n",
              "      const buttonEl =\n",
              "        document.querySelector('#df-00b38650-84b1-492e-9445-4352b36a5235 button.colab-df-convert');\n",
              "      buttonEl.style.display =\n",
              "        google.colab.kernel.accessAllowed ? 'block' : 'none';\n",
              "\n",
              "      async function convertToInteractive(key) {\n",
              "        const element = document.querySelector('#df-00b38650-84b1-492e-9445-4352b36a5235');\n",
              "        const dataTable =\n",
              "          await google.colab.kernel.invokeFunction('convertToInteractive',\n",
              "                                                    [key], {});\n",
              "        if (!dataTable) return;\n",
              "\n",
              "        const docLinkHtml = 'Like what you see? Visit the ' +\n",
              "          '<a target=\"_blank\" href=https://colab.research.google.com/notebooks/data_table.ipynb>data table notebook</a>'\n",
              "          + ' to learn more about interactive tables.';\n",
              "        element.innerHTML = '';\n",
              "        dataTable['output_type'] = 'display_data';\n",
              "        await google.colab.output.renderOutput(dataTable, element);\n",
              "        const docLink = document.createElement('div');\n",
              "        docLink.innerHTML = docLinkHtml;\n",
              "        element.appendChild(docLink);\n",
              "      }\n",
              "    </script>\n",
              "  </div>\n",
              "\n",
              "\n",
              "<div id=\"df-4385ccce-080e-4f62-9ed9-745963498bb8\">\n",
              "  <button class=\"colab-df-quickchart\" onclick=\"quickchart('df-4385ccce-080e-4f62-9ed9-745963498bb8')\"\n",
              "            title=\"Suggest charts\"\n",
              "            style=\"display:none;\">\n",
              "\n",
              "<svg xmlns=\"http://www.w3.org/2000/svg\" height=\"24px\"viewBox=\"0 0 24 24\"\n",
              "     width=\"24px\">\n",
              "    <g>\n",
              "        <path d=\"M19 3H5c-1.1 0-2 .9-2 2v14c0 1.1.9 2 2 2h14c1.1 0 2-.9 2-2V5c0-1.1-.9-2-2-2zM9 17H7v-7h2v7zm4 0h-2V7h2v10zm4 0h-2v-4h2v4z\"/>\n",
              "    </g>\n",
              "</svg>\n",
              "  </button>\n",
              "\n",
              "<style>\n",
              "  .colab-df-quickchart {\n",
              "      --bg-color: #E8F0FE;\n",
              "      --fill-color: #1967D2;\n",
              "      --hover-bg-color: #E2EBFA;\n",
              "      --hover-fill-color: #174EA6;\n",
              "      --disabled-fill-color: #AAA;\n",
              "      --disabled-bg-color: #DDD;\n",
              "  }\n",
              "\n",
              "  [theme=dark] .colab-df-quickchart {\n",
              "      --bg-color: #3B4455;\n",
              "      --fill-color: #D2E3FC;\n",
              "      --hover-bg-color: #434B5C;\n",
              "      --hover-fill-color: #FFFFFF;\n",
              "      --disabled-bg-color: #3B4455;\n",
              "      --disabled-fill-color: #666;\n",
              "  }\n",
              "\n",
              "  .colab-df-quickchart {\n",
              "    background-color: var(--bg-color);\n",
              "    border: none;\n",
              "    border-radius: 50%;\n",
              "    cursor: pointer;\n",
              "    display: none;\n",
              "    fill: var(--fill-color);\n",
              "    height: 32px;\n",
              "    padding: 0;\n",
              "    width: 32px;\n",
              "  }\n",
              "\n",
              "  .colab-df-quickchart:hover {\n",
              "    background-color: var(--hover-bg-color);\n",
              "    box-shadow: 0 1px 2px rgba(60, 64, 67, 0.3), 0 1px 3px 1px rgba(60, 64, 67, 0.15);\n",
              "    fill: var(--button-hover-fill-color);\n",
              "  }\n",
              "\n",
              "  .colab-df-quickchart-complete:disabled,\n",
              "  .colab-df-quickchart-complete:disabled:hover {\n",
              "    background-color: var(--disabled-bg-color);\n",
              "    fill: var(--disabled-fill-color);\n",
              "    box-shadow: none;\n",
              "  }\n",
              "\n",
              "  .colab-df-spinner {\n",
              "    border: 2px solid var(--fill-color);\n",
              "    border-color: transparent;\n",
              "    border-bottom-color: var(--fill-color);\n",
              "    animation:\n",
              "      spin 1s steps(1) infinite;\n",
              "  }\n",
              "\n",
              "  @keyframes spin {\n",
              "    0% {\n",
              "      border-color: transparent;\n",
              "      border-bottom-color: var(--fill-color);\n",
              "      border-left-color: var(--fill-color);\n",
              "    }\n",
              "    20% {\n",
              "      border-color: transparent;\n",
              "      border-left-color: var(--fill-color);\n",
              "      border-top-color: var(--fill-color);\n",
              "    }\n",
              "    30% {\n",
              "      border-color: transparent;\n",
              "      border-left-color: var(--fill-color);\n",
              "      border-top-color: var(--fill-color);\n",
              "      border-right-color: var(--fill-color);\n",
              "    }\n",
              "    40% {\n",
              "      border-color: transparent;\n",
              "      border-right-color: var(--fill-color);\n",
              "      border-top-color: var(--fill-color);\n",
              "    }\n",
              "    60% {\n",
              "      border-color: transparent;\n",
              "      border-right-color: var(--fill-color);\n",
              "    }\n",
              "    80% {\n",
              "      border-color: transparent;\n",
              "      border-right-color: var(--fill-color);\n",
              "      border-bottom-color: var(--fill-color);\n",
              "    }\n",
              "    90% {\n",
              "      border-color: transparent;\n",
              "      border-bottom-color: var(--fill-color);\n",
              "    }\n",
              "  }\n",
              "</style>\n",
              "\n",
              "  <script>\n",
              "    async function quickchart(key) {\n",
              "      const quickchartButtonEl =\n",
              "        document.querySelector('#' + key + ' button');\n",
              "      quickchartButtonEl.disabled = true;  // To prevent multiple clicks.\n",
              "      quickchartButtonEl.classList.add('colab-df-spinner');\n",
              "      try {\n",
              "        const charts = await google.colab.kernel.invokeFunction(\n",
              "            'suggestCharts', [key], {});\n",
              "      } catch (error) {\n",
              "        console.error('Error during call to suggestCharts:', error);\n",
              "      }\n",
              "      quickchartButtonEl.classList.remove('colab-df-spinner');\n",
              "      quickchartButtonEl.classList.add('colab-df-quickchart-complete');\n",
              "    }\n",
              "    (() => {\n",
              "      let quickchartButtonEl =\n",
              "        document.querySelector('#df-4385ccce-080e-4f62-9ed9-745963498bb8 button');\n",
              "      quickchartButtonEl.style.display =\n",
              "        google.colab.kernel.accessAllowed ? 'block' : 'none';\n",
              "    })();\n",
              "  </script>\n",
              "</div>\n",
              "\n",
              "    </div>\n",
              "  </div>\n"
            ],
            "application/vnd.google.colaboratory.intrinsic+json": {
              "type": "dataframe",
              "variable_name": "train"
            }
          },
          "metadata": {},
          "execution_count": 366
        }
      ],
      "source": [
        "train.head()"
      ]
    },
    {
      "cell_type": "code",
      "execution_count": null,
      "metadata": {
        "id": "0MHr8mfT1Tj9"
      },
      "outputs": [],
      "source": [
        "train.to_csv('testPrepocesado.csv', index=False)"
      ]
    },
    {
      "cell_type": "markdown",
      "source": [
        "#Pre-procesamiento para"
      ],
      "metadata": {
        "id": "IisFZkAx2skM"
      }
    },
    {
      "cell_type": "code",
      "source": [
        "train = pd.read_csv('submission_example.csv')\n",
        "train.head()"
      ],
      "metadata": {
        "colab": {
          "base_uri": "https://localhost:8080/",
          "height": 226
        },
        "id": "ifOYbTDC2ycs",
        "outputId": "f98660f9-bac2-44bb-e55d-636f26b1f63e"
      },
      "execution_count": null,
      "outputs": [
        {
          "output_type": "execute_result",
          "data": {
            "text/plain": [
              "       ID RENDIMIENTO_GLOBAL\n",
              "0  550236         medio-bajo\n",
              "1   98545         medio-bajo\n",
              "2  499179         medio-alto\n",
              "3  782980               alto\n",
              "4  785185         medio-bajo"
            ],
            "text/html": [
              "\n",
              "  <div id=\"df-61f842f5-7671-4f79-8775-6157db29b0dc\" class=\"colab-df-container\">\n",
              "    <div>\n",
              "<style scoped>\n",
              "    .dataframe tbody tr th:only-of-type {\n",
              "        vertical-align: middle;\n",
              "    }\n",
              "\n",
              "    .dataframe tbody tr th {\n",
              "        vertical-align: top;\n",
              "    }\n",
              "\n",
              "    .dataframe thead th {\n",
              "        text-align: right;\n",
              "    }\n",
              "</style>\n",
              "<table border=\"1\" class=\"dataframe\">\n",
              "  <thead>\n",
              "    <tr style=\"text-align: right;\">\n",
              "      <th></th>\n",
              "      <th>ID</th>\n",
              "      <th>RENDIMIENTO_GLOBAL</th>\n",
              "    </tr>\n",
              "  </thead>\n",
              "  <tbody>\n",
              "    <tr>\n",
              "      <th>0</th>\n",
              "      <td>550236</td>\n",
              "      <td>medio-bajo</td>\n",
              "    </tr>\n",
              "    <tr>\n",
              "      <th>1</th>\n",
              "      <td>98545</td>\n",
              "      <td>medio-bajo</td>\n",
              "    </tr>\n",
              "    <tr>\n",
              "      <th>2</th>\n",
              "      <td>499179</td>\n",
              "      <td>medio-alto</td>\n",
              "    </tr>\n",
              "    <tr>\n",
              "      <th>3</th>\n",
              "      <td>782980</td>\n",
              "      <td>alto</td>\n",
              "    </tr>\n",
              "    <tr>\n",
              "      <th>4</th>\n",
              "      <td>785185</td>\n",
              "      <td>medio-bajo</td>\n",
              "    </tr>\n",
              "  </tbody>\n",
              "</table>\n",
              "</div>\n",
              "    <div class=\"colab-df-buttons\">\n",
              "\n",
              "  <div class=\"colab-df-container\">\n",
              "    <button class=\"colab-df-convert\" onclick=\"convertToInteractive('df-61f842f5-7671-4f79-8775-6157db29b0dc')\"\n",
              "            title=\"Convert this dataframe to an interactive table.\"\n",
              "            style=\"display:none;\">\n",
              "\n",
              "  <svg xmlns=\"http://www.w3.org/2000/svg\" height=\"24px\" viewBox=\"0 -960 960 960\">\n",
              "    <path d=\"M120-120v-720h720v720H120Zm60-500h600v-160H180v160Zm220 220h160v-160H400v160Zm0 220h160v-160H400v160ZM180-400h160v-160H180v160Zm440 0h160v-160H620v160ZM180-180h160v-160H180v160Zm440 0h160v-160H620v160Z\"/>\n",
              "  </svg>\n",
              "    </button>\n",
              "\n",
              "  <style>\n",
              "    .colab-df-container {\n",
              "      display:flex;\n",
              "      gap: 12px;\n",
              "    }\n",
              "\n",
              "    .colab-df-convert {\n",
              "      background-color: #E8F0FE;\n",
              "      border: none;\n",
              "      border-radius: 50%;\n",
              "      cursor: pointer;\n",
              "      display: none;\n",
              "      fill: #1967D2;\n",
              "      height: 32px;\n",
              "      padding: 0 0 0 0;\n",
              "      width: 32px;\n",
              "    }\n",
              "\n",
              "    .colab-df-convert:hover {\n",
              "      background-color: #E2EBFA;\n",
              "      box-shadow: 0px 1px 2px rgba(60, 64, 67, 0.3), 0px 1px 3px 1px rgba(60, 64, 67, 0.15);\n",
              "      fill: #174EA6;\n",
              "    }\n",
              "\n",
              "    .colab-df-buttons div {\n",
              "      margin-bottom: 4px;\n",
              "    }\n",
              "\n",
              "    [theme=dark] .colab-df-convert {\n",
              "      background-color: #3B4455;\n",
              "      fill: #D2E3FC;\n",
              "    }\n",
              "\n",
              "    [theme=dark] .colab-df-convert:hover {\n",
              "      background-color: #434B5C;\n",
              "      box-shadow: 0px 1px 3px 1px rgba(0, 0, 0, 0.15);\n",
              "      filter: drop-shadow(0px 1px 2px rgba(0, 0, 0, 0.3));\n",
              "      fill: #FFFFFF;\n",
              "    }\n",
              "  </style>\n",
              "\n",
              "    <script>\n",
              "      const buttonEl =\n",
              "        document.querySelector('#df-61f842f5-7671-4f79-8775-6157db29b0dc button.colab-df-convert');\n",
              "      buttonEl.style.display =\n",
              "        google.colab.kernel.accessAllowed ? 'block' : 'none';\n",
              "\n",
              "      async function convertToInteractive(key) {\n",
              "        const element = document.querySelector('#df-61f842f5-7671-4f79-8775-6157db29b0dc');\n",
              "        const dataTable =\n",
              "          await google.colab.kernel.invokeFunction('convertToInteractive',\n",
              "                                                    [key], {});\n",
              "        if (!dataTable) return;\n",
              "\n",
              "        const docLinkHtml = 'Like what you see? Visit the ' +\n",
              "          '<a target=\"_blank\" href=https://colab.research.google.com/notebooks/data_table.ipynb>data table notebook</a>'\n",
              "          + ' to learn more about interactive tables.';\n",
              "        element.innerHTML = '';\n",
              "        dataTable['output_type'] = 'display_data';\n",
              "        await google.colab.output.renderOutput(dataTable, element);\n",
              "        const docLink = document.createElement('div');\n",
              "        docLink.innerHTML = docLinkHtml;\n",
              "        element.appendChild(docLink);\n",
              "      }\n",
              "    </script>\n",
              "  </div>\n",
              "\n",
              "\n",
              "<div id=\"df-be63039d-e23f-4f59-84bb-dabc093cb35e\">\n",
              "  <button class=\"colab-df-quickchart\" onclick=\"quickchart('df-be63039d-e23f-4f59-84bb-dabc093cb35e')\"\n",
              "            title=\"Suggest charts\"\n",
              "            style=\"display:none;\">\n",
              "\n",
              "<svg xmlns=\"http://www.w3.org/2000/svg\" height=\"24px\"viewBox=\"0 0 24 24\"\n",
              "     width=\"24px\">\n",
              "    <g>\n",
              "        <path d=\"M19 3H5c-1.1 0-2 .9-2 2v14c0 1.1.9 2 2 2h14c1.1 0 2-.9 2-2V5c0-1.1-.9-2-2-2zM9 17H7v-7h2v7zm4 0h-2V7h2v10zm4 0h-2v-4h2v4z\"/>\n",
              "    </g>\n",
              "</svg>\n",
              "  </button>\n",
              "\n",
              "<style>\n",
              "  .colab-df-quickchart {\n",
              "      --bg-color: #E8F0FE;\n",
              "      --fill-color: #1967D2;\n",
              "      --hover-bg-color: #E2EBFA;\n",
              "      --hover-fill-color: #174EA6;\n",
              "      --disabled-fill-color: #AAA;\n",
              "      --disabled-bg-color: #DDD;\n",
              "  }\n",
              "\n",
              "  [theme=dark] .colab-df-quickchart {\n",
              "      --bg-color: #3B4455;\n",
              "      --fill-color: #D2E3FC;\n",
              "      --hover-bg-color: #434B5C;\n",
              "      --hover-fill-color: #FFFFFF;\n",
              "      --disabled-bg-color: #3B4455;\n",
              "      --disabled-fill-color: #666;\n",
              "  }\n",
              "\n",
              "  .colab-df-quickchart {\n",
              "    background-color: var(--bg-color);\n",
              "    border: none;\n",
              "    border-radius: 50%;\n",
              "    cursor: pointer;\n",
              "    display: none;\n",
              "    fill: var(--fill-color);\n",
              "    height: 32px;\n",
              "    padding: 0;\n",
              "    width: 32px;\n",
              "  }\n",
              "\n",
              "  .colab-df-quickchart:hover {\n",
              "    background-color: var(--hover-bg-color);\n",
              "    box-shadow: 0 1px 2px rgba(60, 64, 67, 0.3), 0 1px 3px 1px rgba(60, 64, 67, 0.15);\n",
              "    fill: var(--button-hover-fill-color);\n",
              "  }\n",
              "\n",
              "  .colab-df-quickchart-complete:disabled,\n",
              "  .colab-df-quickchart-complete:disabled:hover {\n",
              "    background-color: var(--disabled-bg-color);\n",
              "    fill: var(--disabled-fill-color);\n",
              "    box-shadow: none;\n",
              "  }\n",
              "\n",
              "  .colab-df-spinner {\n",
              "    border: 2px solid var(--fill-color);\n",
              "    border-color: transparent;\n",
              "    border-bottom-color: var(--fill-color);\n",
              "    animation:\n",
              "      spin 1s steps(1) infinite;\n",
              "  }\n",
              "\n",
              "  @keyframes spin {\n",
              "    0% {\n",
              "      border-color: transparent;\n",
              "      border-bottom-color: var(--fill-color);\n",
              "      border-left-color: var(--fill-color);\n",
              "    }\n",
              "    20% {\n",
              "      border-color: transparent;\n",
              "      border-left-color: var(--fill-color);\n",
              "      border-top-color: var(--fill-color);\n",
              "    }\n",
              "    30% {\n",
              "      border-color: transparent;\n",
              "      border-left-color: var(--fill-color);\n",
              "      border-top-color: var(--fill-color);\n",
              "      border-right-color: var(--fill-color);\n",
              "    }\n",
              "    40% {\n",
              "      border-color: transparent;\n",
              "      border-right-color: var(--fill-color);\n",
              "      border-top-color: var(--fill-color);\n",
              "    }\n",
              "    60% {\n",
              "      border-color: transparent;\n",
              "      border-right-color: var(--fill-color);\n",
              "    }\n",
              "    80% {\n",
              "      border-color: transparent;\n",
              "      border-right-color: var(--fill-color);\n",
              "      border-bottom-color: var(--fill-color);\n",
              "    }\n",
              "    90% {\n",
              "      border-color: transparent;\n",
              "      border-bottom-color: var(--fill-color);\n",
              "    }\n",
              "  }\n",
              "</style>\n",
              "\n",
              "  <script>\n",
              "    async function quickchart(key) {\n",
              "      const quickchartButtonEl =\n",
              "        document.querySelector('#' + key + ' button');\n",
              "      quickchartButtonEl.disabled = true;  // To prevent multiple clicks.\n",
              "      quickchartButtonEl.classList.add('colab-df-spinner');\n",
              "      try {\n",
              "        const charts = await google.colab.kernel.invokeFunction(\n",
              "            'suggestCharts', [key], {});\n",
              "      } catch (error) {\n",
              "        console.error('Error during call to suggestCharts:', error);\n",
              "      }\n",
              "      quickchartButtonEl.classList.remove('colab-df-spinner');\n",
              "      quickchartButtonEl.classList.add('colab-df-quickchart-complete');\n",
              "    }\n",
              "    (() => {\n",
              "      let quickchartButtonEl =\n",
              "        document.querySelector('#df-be63039d-e23f-4f59-84bb-dabc093cb35e button');\n",
              "      quickchartButtonEl.style.display =\n",
              "        google.colab.kernel.accessAllowed ? 'block' : 'none';\n",
              "    })();\n",
              "  </script>\n",
              "</div>\n",
              "\n",
              "    </div>\n",
              "  </div>\n"
            ],
            "application/vnd.google.colaboratory.intrinsic+json": {
              "type": "dataframe",
              "variable_name": "train"
            }
          },
          "metadata": {},
          "execution_count": 368
        }
      ]
    },
    {
      "cell_type": "code",
      "source": [
        "totalDepartamento = train['RENDIMIENTO_GLOBAL'].value_counts().index.tolist()\n",
        "enc = OrdinalEncoder(categories = [totalDepartamento])\n",
        "train['RENDIMIENTO_GLOBAL'] = enc.fit_transform(train[['RENDIMIENTO_GLOBAL']])"
      ],
      "metadata": {
        "id": "FMZlP-df3Lbn"
      },
      "execution_count": null,
      "outputs": []
    },
    {
      "cell_type": "code",
      "source": [
        "scaler = MinMaxScaler()\n",
        "train['RENDIMIENTO_GLOBAL'] = scaler.fit_transform(train[['RENDIMIENTO_GLOBAL']])\n",
        "train['RENDIMIENTO_GLOBAL'].value_counts()"
      ],
      "metadata": {
        "colab": {
          "base_uri": "https://localhost:8080/",
          "height": 278
        },
        "id": "UWBdJT6Z3NP0",
        "outputId": "fe6da421-1feb-4c72-ef91-c364d314f9ab"
      },
      "execution_count": null,
      "outputs": [
        {
          "output_type": "execute_result",
          "data": {
            "text/plain": [
              "RENDIMIENTO_GLOBAL\n",
              "0.000000    74539\n",
              "0.333333    74176\n",
              "0.666667    74084\n",
              "1.000000    73987\n",
              "Name: count, dtype: int64"
            ],
            "text/html": [
              "<div>\n",
              "<style scoped>\n",
              "    .dataframe tbody tr th:only-of-type {\n",
              "        vertical-align: middle;\n",
              "    }\n",
              "\n",
              "    .dataframe tbody tr th {\n",
              "        vertical-align: top;\n",
              "    }\n",
              "\n",
              "    .dataframe thead th {\n",
              "        text-align: right;\n",
              "    }\n",
              "</style>\n",
              "<table border=\"1\" class=\"dataframe\">\n",
              "  <thead>\n",
              "    <tr style=\"text-align: right;\">\n",
              "      <th></th>\n",
              "      <th>count</th>\n",
              "    </tr>\n",
              "    <tr>\n",
              "      <th>RENDIMIENTO_GLOBAL</th>\n",
              "      <th></th>\n",
              "    </tr>\n",
              "  </thead>\n",
              "  <tbody>\n",
              "    <tr>\n",
              "      <th>0.000000</th>\n",
              "      <td>74539</td>\n",
              "    </tr>\n",
              "    <tr>\n",
              "      <th>0.333333</th>\n",
              "      <td>74176</td>\n",
              "    </tr>\n",
              "    <tr>\n",
              "      <th>0.666667</th>\n",
              "      <td>74084</td>\n",
              "    </tr>\n",
              "    <tr>\n",
              "      <th>1.000000</th>\n",
              "      <td>73987</td>\n",
              "    </tr>\n",
              "  </tbody>\n",
              "</table>\n",
              "</div><br><label><b>dtype:</b> int64</label>"
            ]
          },
          "metadata": {},
          "execution_count": 370
        }
      ]
    },
    {
      "cell_type": "code",
      "source": [
        "train.to_csv('submission_examplePrepocesado.csv', index=False)"
      ],
      "metadata": {
        "id": "FeJwNDXa3yaP"
      },
      "execution_count": null,
      "outputs": []
    },
    {
      "cell_type": "markdown",
      "source": [
        "#Importar archivos y librerías"
      ],
      "metadata": {
        "id": "JsID4RTX6wtQ"
      }
    },
    {
      "cell_type": "markdown",
      "source": [
        "Importe de librerías necesarias para la descompresion de archivos y extracion de datos preProcesados para todos los que recibieron un tratamiento incial para su posterior implementacion dentro del googleColab."
      ],
      "metadata": {
        "id": "pZPiCJc0yFxX"
      }
    },
    {
      "cell_type": "code",
      "source": [
        "import pandas as pd"
      ],
      "metadata": {
        "id": "5hLruoZNvz22"
      },
      "execution_count": null,
      "outputs": []
    },
    {
      "cell_type": "code",
      "source": [
        "train = pd.read_csv('/content/trainPrepocesado.csv')\n",
        "y_train = train['RENDIMIENTO_GLOBAL']\n",
        "x_train = train.drop(columns=['RENDIMIENTO_GLOBAL'])\n",
        "train.head()"
      ],
      "metadata": {
        "id": "xPCCBJZlv4FP",
        "colab": {
          "base_uri": "https://localhost:8080/",
          "height": 226
        },
        "outputId": "65d1c474-29d9-4a96-a3fa-3f4ac142fbdf"
      },
      "execution_count": null,
      "outputs": [
        {
          "output_type": "execute_result",
          "data": {
            "text/plain": [
              "   ESTU_PRGM_ACADEMICO  ESTU_PRGM_DEPARTAMENTO  \\\n",
              "0             0.074380                    0.00   \n",
              "1             0.024793                    0.25   \n",
              "2             0.115702                    0.00   \n",
              "3             0.008264                    0.00   \n",
              "4             0.041322                    0.00   \n",
              "\n",
              "   ESTU_VALORMATRICULAUNIVERSIDAD  ESTU_HORASSEMANATRABAJA  \\\n",
              "0                        0.857143                     0.25   \n",
              "1                        0.571429                     0.00   \n",
              "2                        0.571429                     1.00   \n",
              "3                        0.714286                     0.00   \n",
              "4                        0.571429                     0.75   \n",
              "\n",
              "   FAMI_ESTRATOVIVIENDA  FAMI_TIENEINTERNET  FAMI_EDUCACIONPADRE  \\\n",
              "0              0.500000                 1.0             0.555556   \n",
              "1              0.500000                 0.0             0.666667   \n",
              "2              0.500000                 1.0             0.444444   \n",
              "3              0.666667                 1.0             0.000000   \n",
              "4              0.500000                 1.0             0.222222   \n",
              "\n",
              "   FAMI_EDUCACIONMADRE  ESTU_PAGOMATRICULAPROPIO  RENDIMIENTO_GLOBAL  \n",
              "0             1.000000                       0.0            1.000000  \n",
              "1             0.555556                       0.0            0.333333  \n",
              "2             0.444444                       0.0            0.333333  \n",
              "3             0.444444                       0.0            0.000000  \n",
              "4             0.222222                       0.0            0.666667  "
            ],
            "text/html": [
              "\n",
              "  <div id=\"df-c669c8b2-9e55-4614-bfbd-1da7b6bb1b0b\" class=\"colab-df-container\">\n",
              "    <div>\n",
              "<style scoped>\n",
              "    .dataframe tbody tr th:only-of-type {\n",
              "        vertical-align: middle;\n",
              "    }\n",
              "\n",
              "    .dataframe tbody tr th {\n",
              "        vertical-align: top;\n",
              "    }\n",
              "\n",
              "    .dataframe thead th {\n",
              "        text-align: right;\n",
              "    }\n",
              "</style>\n",
              "<table border=\"1\" class=\"dataframe\">\n",
              "  <thead>\n",
              "    <tr style=\"text-align: right;\">\n",
              "      <th></th>\n",
              "      <th>ESTU_PRGM_ACADEMICO</th>\n",
              "      <th>ESTU_PRGM_DEPARTAMENTO</th>\n",
              "      <th>ESTU_VALORMATRICULAUNIVERSIDAD</th>\n",
              "      <th>ESTU_HORASSEMANATRABAJA</th>\n",
              "      <th>FAMI_ESTRATOVIVIENDA</th>\n",
              "      <th>FAMI_TIENEINTERNET</th>\n",
              "      <th>FAMI_EDUCACIONPADRE</th>\n",
              "      <th>FAMI_EDUCACIONMADRE</th>\n",
              "      <th>ESTU_PAGOMATRICULAPROPIO</th>\n",
              "      <th>RENDIMIENTO_GLOBAL</th>\n",
              "    </tr>\n",
              "  </thead>\n",
              "  <tbody>\n",
              "    <tr>\n",
              "      <th>0</th>\n",
              "      <td>0.074380</td>\n",
              "      <td>0.00</td>\n",
              "      <td>0.857143</td>\n",
              "      <td>0.25</td>\n",
              "      <td>0.500000</td>\n",
              "      <td>1.0</td>\n",
              "      <td>0.555556</td>\n",
              "      <td>1.000000</td>\n",
              "      <td>0.0</td>\n",
              "      <td>1.000000</td>\n",
              "    </tr>\n",
              "    <tr>\n",
              "      <th>1</th>\n",
              "      <td>0.024793</td>\n",
              "      <td>0.25</td>\n",
              "      <td>0.571429</td>\n",
              "      <td>0.00</td>\n",
              "      <td>0.500000</td>\n",
              "      <td>0.0</td>\n",
              "      <td>0.666667</td>\n",
              "      <td>0.555556</td>\n",
              "      <td>0.0</td>\n",
              "      <td>0.333333</td>\n",
              "    </tr>\n",
              "    <tr>\n",
              "      <th>2</th>\n",
              "      <td>0.115702</td>\n",
              "      <td>0.00</td>\n",
              "      <td>0.571429</td>\n",
              "      <td>1.00</td>\n",
              "      <td>0.500000</td>\n",
              "      <td>1.0</td>\n",
              "      <td>0.444444</td>\n",
              "      <td>0.444444</td>\n",
              "      <td>0.0</td>\n",
              "      <td>0.333333</td>\n",
              "    </tr>\n",
              "    <tr>\n",
              "      <th>3</th>\n",
              "      <td>0.008264</td>\n",
              "      <td>0.00</td>\n",
              "      <td>0.714286</td>\n",
              "      <td>0.00</td>\n",
              "      <td>0.666667</td>\n",
              "      <td>1.0</td>\n",
              "      <td>0.000000</td>\n",
              "      <td>0.444444</td>\n",
              "      <td>0.0</td>\n",
              "      <td>0.000000</td>\n",
              "    </tr>\n",
              "    <tr>\n",
              "      <th>4</th>\n",
              "      <td>0.041322</td>\n",
              "      <td>0.00</td>\n",
              "      <td>0.571429</td>\n",
              "      <td>0.75</td>\n",
              "      <td>0.500000</td>\n",
              "      <td>1.0</td>\n",
              "      <td>0.222222</td>\n",
              "      <td>0.222222</td>\n",
              "      <td>0.0</td>\n",
              "      <td>0.666667</td>\n",
              "    </tr>\n",
              "  </tbody>\n",
              "</table>\n",
              "</div>\n",
              "    <div class=\"colab-df-buttons\">\n",
              "\n",
              "  <div class=\"colab-df-container\">\n",
              "    <button class=\"colab-df-convert\" onclick=\"convertToInteractive('df-c669c8b2-9e55-4614-bfbd-1da7b6bb1b0b')\"\n",
              "            title=\"Convert this dataframe to an interactive table.\"\n",
              "            style=\"display:none;\">\n",
              "\n",
              "  <svg xmlns=\"http://www.w3.org/2000/svg\" height=\"24px\" viewBox=\"0 -960 960 960\">\n",
              "    <path d=\"M120-120v-720h720v720H120Zm60-500h600v-160H180v160Zm220 220h160v-160H400v160Zm0 220h160v-160H400v160ZM180-400h160v-160H180v160Zm440 0h160v-160H620v160ZM180-180h160v-160H180v160Zm440 0h160v-160H620v160Z\"/>\n",
              "  </svg>\n",
              "    </button>\n",
              "\n",
              "  <style>\n",
              "    .colab-df-container {\n",
              "      display:flex;\n",
              "      gap: 12px;\n",
              "    }\n",
              "\n",
              "    .colab-df-convert {\n",
              "      background-color: #E8F0FE;\n",
              "      border: none;\n",
              "      border-radius: 50%;\n",
              "      cursor: pointer;\n",
              "      display: none;\n",
              "      fill: #1967D2;\n",
              "      height: 32px;\n",
              "      padding: 0 0 0 0;\n",
              "      width: 32px;\n",
              "    }\n",
              "\n",
              "    .colab-df-convert:hover {\n",
              "      background-color: #E2EBFA;\n",
              "      box-shadow: 0px 1px 2px rgba(60, 64, 67, 0.3), 0px 1px 3px 1px rgba(60, 64, 67, 0.15);\n",
              "      fill: #174EA6;\n",
              "    }\n",
              "\n",
              "    .colab-df-buttons div {\n",
              "      margin-bottom: 4px;\n",
              "    }\n",
              "\n",
              "    [theme=dark] .colab-df-convert {\n",
              "      background-color: #3B4455;\n",
              "      fill: #D2E3FC;\n",
              "    }\n",
              "\n",
              "    [theme=dark] .colab-df-convert:hover {\n",
              "      background-color: #434B5C;\n",
              "      box-shadow: 0px 1px 3px 1px rgba(0, 0, 0, 0.15);\n",
              "      filter: drop-shadow(0px 1px 2px rgba(0, 0, 0, 0.3));\n",
              "      fill: #FFFFFF;\n",
              "    }\n",
              "  </style>\n",
              "\n",
              "    <script>\n",
              "      const buttonEl =\n",
              "        document.querySelector('#df-c669c8b2-9e55-4614-bfbd-1da7b6bb1b0b button.colab-df-convert');\n",
              "      buttonEl.style.display =\n",
              "        google.colab.kernel.accessAllowed ? 'block' : 'none';\n",
              "\n",
              "      async function convertToInteractive(key) {\n",
              "        const element = document.querySelector('#df-c669c8b2-9e55-4614-bfbd-1da7b6bb1b0b');\n",
              "        const dataTable =\n",
              "          await google.colab.kernel.invokeFunction('convertToInteractive',\n",
              "                                                    [key], {});\n",
              "        if (!dataTable) return;\n",
              "\n",
              "        const docLinkHtml = 'Like what you see? Visit the ' +\n",
              "          '<a target=\"_blank\" href=https://colab.research.google.com/notebooks/data_table.ipynb>data table notebook</a>'\n",
              "          + ' to learn more about interactive tables.';\n",
              "        element.innerHTML = '';\n",
              "        dataTable['output_type'] = 'display_data';\n",
              "        await google.colab.output.renderOutput(dataTable, element);\n",
              "        const docLink = document.createElement('div');\n",
              "        docLink.innerHTML = docLinkHtml;\n",
              "        element.appendChild(docLink);\n",
              "      }\n",
              "    </script>\n",
              "  </div>\n",
              "\n",
              "\n",
              "<div id=\"df-32e63a75-ff69-43e2-9c3f-d054265da1b3\">\n",
              "  <button class=\"colab-df-quickchart\" onclick=\"quickchart('df-32e63a75-ff69-43e2-9c3f-d054265da1b3')\"\n",
              "            title=\"Suggest charts\"\n",
              "            style=\"display:none;\">\n",
              "\n",
              "<svg xmlns=\"http://www.w3.org/2000/svg\" height=\"24px\"viewBox=\"0 0 24 24\"\n",
              "     width=\"24px\">\n",
              "    <g>\n",
              "        <path d=\"M19 3H5c-1.1 0-2 .9-2 2v14c0 1.1.9 2 2 2h14c1.1 0 2-.9 2-2V5c0-1.1-.9-2-2-2zM9 17H7v-7h2v7zm4 0h-2V7h2v10zm4 0h-2v-4h2v4z\"/>\n",
              "    </g>\n",
              "</svg>\n",
              "  </button>\n",
              "\n",
              "<style>\n",
              "  .colab-df-quickchart {\n",
              "      --bg-color: #E8F0FE;\n",
              "      --fill-color: #1967D2;\n",
              "      --hover-bg-color: #E2EBFA;\n",
              "      --hover-fill-color: #174EA6;\n",
              "      --disabled-fill-color: #AAA;\n",
              "      --disabled-bg-color: #DDD;\n",
              "  }\n",
              "\n",
              "  [theme=dark] .colab-df-quickchart {\n",
              "      --bg-color: #3B4455;\n",
              "      --fill-color: #D2E3FC;\n",
              "      --hover-bg-color: #434B5C;\n",
              "      --hover-fill-color: #FFFFFF;\n",
              "      --disabled-bg-color: #3B4455;\n",
              "      --disabled-fill-color: #666;\n",
              "  }\n",
              "\n",
              "  .colab-df-quickchart {\n",
              "    background-color: var(--bg-color);\n",
              "    border: none;\n",
              "    border-radius: 50%;\n",
              "    cursor: pointer;\n",
              "    display: none;\n",
              "    fill: var(--fill-color);\n",
              "    height: 32px;\n",
              "    padding: 0;\n",
              "    width: 32px;\n",
              "  }\n",
              "\n",
              "  .colab-df-quickchart:hover {\n",
              "    background-color: var(--hover-bg-color);\n",
              "    box-shadow: 0 1px 2px rgba(60, 64, 67, 0.3), 0 1px 3px 1px rgba(60, 64, 67, 0.15);\n",
              "    fill: var(--button-hover-fill-color);\n",
              "  }\n",
              "\n",
              "  .colab-df-quickchart-complete:disabled,\n",
              "  .colab-df-quickchart-complete:disabled:hover {\n",
              "    background-color: var(--disabled-bg-color);\n",
              "    fill: var(--disabled-fill-color);\n",
              "    box-shadow: none;\n",
              "  }\n",
              "\n",
              "  .colab-df-spinner {\n",
              "    border: 2px solid var(--fill-color);\n",
              "    border-color: transparent;\n",
              "    border-bottom-color: var(--fill-color);\n",
              "    animation:\n",
              "      spin 1s steps(1) infinite;\n",
              "  }\n",
              "\n",
              "  @keyframes spin {\n",
              "    0% {\n",
              "      border-color: transparent;\n",
              "      border-bottom-color: var(--fill-color);\n",
              "      border-left-color: var(--fill-color);\n",
              "    }\n",
              "    20% {\n",
              "      border-color: transparent;\n",
              "      border-left-color: var(--fill-color);\n",
              "      border-top-color: var(--fill-color);\n",
              "    }\n",
              "    30% {\n",
              "      border-color: transparent;\n",
              "      border-left-color: var(--fill-color);\n",
              "      border-top-color: var(--fill-color);\n",
              "      border-right-color: var(--fill-color);\n",
              "    }\n",
              "    40% {\n",
              "      border-color: transparent;\n",
              "      border-right-color: var(--fill-color);\n",
              "      border-top-color: var(--fill-color);\n",
              "    }\n",
              "    60% {\n",
              "      border-color: transparent;\n",
              "      border-right-color: var(--fill-color);\n",
              "    }\n",
              "    80% {\n",
              "      border-color: transparent;\n",
              "      border-right-color: var(--fill-color);\n",
              "      border-bottom-color: var(--fill-color);\n",
              "    }\n",
              "    90% {\n",
              "      border-color: transparent;\n",
              "      border-bottom-color: var(--fill-color);\n",
              "    }\n",
              "  }\n",
              "</style>\n",
              "\n",
              "  <script>\n",
              "    async function quickchart(key) {\n",
              "      const quickchartButtonEl =\n",
              "        document.querySelector('#' + key + ' button');\n",
              "      quickchartButtonEl.disabled = true;  // To prevent multiple clicks.\n",
              "      quickchartButtonEl.classList.add('colab-df-spinner');\n",
              "      try {\n",
              "        const charts = await google.colab.kernel.invokeFunction(\n",
              "            'suggestCharts', [key], {});\n",
              "      } catch (error) {\n",
              "        console.error('Error during call to suggestCharts:', error);\n",
              "      }\n",
              "      quickchartButtonEl.classList.remove('colab-df-spinner');\n",
              "      quickchartButtonEl.classList.add('colab-df-quickchart-complete');\n",
              "    }\n",
              "    (() => {\n",
              "      let quickchartButtonEl =\n",
              "        document.querySelector('#df-32e63a75-ff69-43e2-9c3f-d054265da1b3 button');\n",
              "      quickchartButtonEl.style.display =\n",
              "        google.colab.kernel.accessAllowed ? 'block' : 'none';\n",
              "    })();\n",
              "  </script>\n",
              "</div>\n",
              "\n",
              "    </div>\n",
              "  </div>\n"
            ],
            "application/vnd.google.colaboratory.intrinsic+json": {
              "type": "dataframe",
              "variable_name": "train"
            }
          },
          "metadata": {},
          "execution_count": 2
        }
      ]
    },
    {
      "cell_type": "code",
      "source": [
        "y_train.head()"
      ],
      "metadata": {
        "colab": {
          "base_uri": "https://localhost:8080/",
          "height": 261
        },
        "id": "mb87HJ_D8vNw",
        "outputId": "b50efd29-634d-46bd-a04e-46ed475e1110"
      },
      "execution_count": null,
      "outputs": [
        {
          "output_type": "execute_result",
          "data": {
            "text/plain": [
              "0    1.000000\n",
              "1    0.333333\n",
              "2    0.333333\n",
              "3    0.000000\n",
              "4    0.666667\n",
              "Name: RENDIMIENTO_GLOBAL, dtype: float64"
            ],
            "text/html": [
              "<div>\n",
              "<style scoped>\n",
              "    .dataframe tbody tr th:only-of-type {\n",
              "        vertical-align: middle;\n",
              "    }\n",
              "\n",
              "    .dataframe tbody tr th {\n",
              "        vertical-align: top;\n",
              "    }\n",
              "\n",
              "    .dataframe thead th {\n",
              "        text-align: right;\n",
              "    }\n",
              "</style>\n",
              "<table border=\"1\" class=\"dataframe\">\n",
              "  <thead>\n",
              "    <tr style=\"text-align: right;\">\n",
              "      <th></th>\n",
              "      <th>RENDIMIENTO_GLOBAL</th>\n",
              "    </tr>\n",
              "  </thead>\n",
              "  <tbody>\n",
              "    <tr>\n",
              "      <th>0</th>\n",
              "      <td>1.000000</td>\n",
              "    </tr>\n",
              "    <tr>\n",
              "      <th>1</th>\n",
              "      <td>0.333333</td>\n",
              "    </tr>\n",
              "    <tr>\n",
              "      <th>2</th>\n",
              "      <td>0.333333</td>\n",
              "    </tr>\n",
              "    <tr>\n",
              "      <th>3</th>\n",
              "      <td>0.000000</td>\n",
              "    </tr>\n",
              "    <tr>\n",
              "      <th>4</th>\n",
              "      <td>0.666667</td>\n",
              "    </tr>\n",
              "  </tbody>\n",
              "</table>\n",
              "</div><br><label><b>dtype:</b> float64</label>"
            ]
          },
          "metadata": {},
          "execution_count": 3
        }
      ]
    },
    {
      "cell_type": "code",
      "source": [
        "x_test = pd.read_csv('/content/testPrepocesado.csv')\n",
        "x_test.drop(columns=['Unnamed: 0'], inplace=True)\n",
        "x_test.head()"
      ],
      "metadata": {
        "colab": {
          "base_uri": "https://localhost:8080/",
          "height": 226
        },
        "id": "xiXSsIjB6J43",
        "outputId": "9e4c65ee-c627-49af-ad64-a4080b3e8ac0"
      },
      "execution_count": null,
      "outputs": [
        {
          "output_type": "execute_result",
          "data": {
            "text/plain": [
              "   ESTU_PRGM_ACADEMICO  ESTU_PRGM_DEPARTAMENTO  \\\n",
              "0             0.066116                    0.25   \n",
              "1             0.008264                    0.00   \n",
              "2             0.000000                    0.00   \n",
              "3             0.033058                    0.25   \n",
              "4             0.008264                    0.25   \n",
              "\n",
              "   ESTU_VALORMATRICULAUNIVERSIDAD  ESTU_HORASSEMANATRABAJA  \\\n",
              "0                        0.142857                     0.25   \n",
              "1                        0.571429                     0.75   \n",
              "2                        0.428571                     0.00   \n",
              "3                        0.428571                     0.75   \n",
              "4                        0.571429                     0.50   \n",
              "\n",
              "   FAMI_ESTRATOVIVIENDA  FAMI_TIENEINTERNET  FAMI_EDUCACIONPADRE  \\\n",
              "0              0.500000                 1.0             0.666667   \n",
              "1              0.333333                 1.0             0.444444   \n",
              "2              0.500000                 1.0             0.333333   \n",
              "3              0.166667                 0.0             0.111111   \n",
              "4              0.333333                 1.0             0.444444   \n",
              "\n",
              "   FAMI_EDUCACIONMADRE  ESTU_PAGOMATRICULAPROPIO  \n",
              "0             0.222222                       1.0  \n",
              "1             0.666667                       0.0  \n",
              "2             0.444444                       0.0  \n",
              "3             0.111111                       0.0  \n",
              "4             0.444444                       0.0  "
            ],
            "text/html": [
              "\n",
              "  <div id=\"df-d8aa1221-2ad0-4093-82b1-a4a5f7dd5906\" class=\"colab-df-container\">\n",
              "    <div>\n",
              "<style scoped>\n",
              "    .dataframe tbody tr th:only-of-type {\n",
              "        vertical-align: middle;\n",
              "    }\n",
              "\n",
              "    .dataframe tbody tr th {\n",
              "        vertical-align: top;\n",
              "    }\n",
              "\n",
              "    .dataframe thead th {\n",
              "        text-align: right;\n",
              "    }\n",
              "</style>\n",
              "<table border=\"1\" class=\"dataframe\">\n",
              "  <thead>\n",
              "    <tr style=\"text-align: right;\">\n",
              "      <th></th>\n",
              "      <th>ESTU_PRGM_ACADEMICO</th>\n",
              "      <th>ESTU_PRGM_DEPARTAMENTO</th>\n",
              "      <th>ESTU_VALORMATRICULAUNIVERSIDAD</th>\n",
              "      <th>ESTU_HORASSEMANATRABAJA</th>\n",
              "      <th>FAMI_ESTRATOVIVIENDA</th>\n",
              "      <th>FAMI_TIENEINTERNET</th>\n",
              "      <th>FAMI_EDUCACIONPADRE</th>\n",
              "      <th>FAMI_EDUCACIONMADRE</th>\n",
              "      <th>ESTU_PAGOMATRICULAPROPIO</th>\n",
              "    </tr>\n",
              "  </thead>\n",
              "  <tbody>\n",
              "    <tr>\n",
              "      <th>0</th>\n",
              "      <td>0.066116</td>\n",
              "      <td>0.25</td>\n",
              "      <td>0.142857</td>\n",
              "      <td>0.25</td>\n",
              "      <td>0.500000</td>\n",
              "      <td>1.0</td>\n",
              "      <td>0.666667</td>\n",
              "      <td>0.222222</td>\n",
              "      <td>1.0</td>\n",
              "    </tr>\n",
              "    <tr>\n",
              "      <th>1</th>\n",
              "      <td>0.008264</td>\n",
              "      <td>0.00</td>\n",
              "      <td>0.571429</td>\n",
              "      <td>0.75</td>\n",
              "      <td>0.333333</td>\n",
              "      <td>1.0</td>\n",
              "      <td>0.444444</td>\n",
              "      <td>0.666667</td>\n",
              "      <td>0.0</td>\n",
              "    </tr>\n",
              "    <tr>\n",
              "      <th>2</th>\n",
              "      <td>0.000000</td>\n",
              "      <td>0.00</td>\n",
              "      <td>0.428571</td>\n",
              "      <td>0.00</td>\n",
              "      <td>0.500000</td>\n",
              "      <td>1.0</td>\n",
              "      <td>0.333333</td>\n",
              "      <td>0.444444</td>\n",
              "      <td>0.0</td>\n",
              "    </tr>\n",
              "    <tr>\n",
              "      <th>3</th>\n",
              "      <td>0.033058</td>\n",
              "      <td>0.25</td>\n",
              "      <td>0.428571</td>\n",
              "      <td>0.75</td>\n",
              "      <td>0.166667</td>\n",
              "      <td>0.0</td>\n",
              "      <td>0.111111</td>\n",
              "      <td>0.111111</td>\n",
              "      <td>0.0</td>\n",
              "    </tr>\n",
              "    <tr>\n",
              "      <th>4</th>\n",
              "      <td>0.008264</td>\n",
              "      <td>0.25</td>\n",
              "      <td>0.571429</td>\n",
              "      <td>0.50</td>\n",
              "      <td>0.333333</td>\n",
              "      <td>1.0</td>\n",
              "      <td>0.444444</td>\n",
              "      <td>0.444444</td>\n",
              "      <td>0.0</td>\n",
              "    </tr>\n",
              "  </tbody>\n",
              "</table>\n",
              "</div>\n",
              "    <div class=\"colab-df-buttons\">\n",
              "\n",
              "  <div class=\"colab-df-container\">\n",
              "    <button class=\"colab-df-convert\" onclick=\"convertToInteractive('df-d8aa1221-2ad0-4093-82b1-a4a5f7dd5906')\"\n",
              "            title=\"Convert this dataframe to an interactive table.\"\n",
              "            style=\"display:none;\">\n",
              "\n",
              "  <svg xmlns=\"http://www.w3.org/2000/svg\" height=\"24px\" viewBox=\"0 -960 960 960\">\n",
              "    <path d=\"M120-120v-720h720v720H120Zm60-500h600v-160H180v160Zm220 220h160v-160H400v160Zm0 220h160v-160H400v160ZM180-400h160v-160H180v160Zm440 0h160v-160H620v160ZM180-180h160v-160H180v160Zm440 0h160v-160H620v160Z\"/>\n",
              "  </svg>\n",
              "    </button>\n",
              "\n",
              "  <style>\n",
              "    .colab-df-container {\n",
              "      display:flex;\n",
              "      gap: 12px;\n",
              "    }\n",
              "\n",
              "    .colab-df-convert {\n",
              "      background-color: #E8F0FE;\n",
              "      border: none;\n",
              "      border-radius: 50%;\n",
              "      cursor: pointer;\n",
              "      display: none;\n",
              "      fill: #1967D2;\n",
              "      height: 32px;\n",
              "      padding: 0 0 0 0;\n",
              "      width: 32px;\n",
              "    }\n",
              "\n",
              "    .colab-df-convert:hover {\n",
              "      background-color: #E2EBFA;\n",
              "      box-shadow: 0px 1px 2px rgba(60, 64, 67, 0.3), 0px 1px 3px 1px rgba(60, 64, 67, 0.15);\n",
              "      fill: #174EA6;\n",
              "    }\n",
              "\n",
              "    .colab-df-buttons div {\n",
              "      margin-bottom: 4px;\n",
              "    }\n",
              "\n",
              "    [theme=dark] .colab-df-convert {\n",
              "      background-color: #3B4455;\n",
              "      fill: #D2E3FC;\n",
              "    }\n",
              "\n",
              "    [theme=dark] .colab-df-convert:hover {\n",
              "      background-color: #434B5C;\n",
              "      box-shadow: 0px 1px 3px 1px rgba(0, 0, 0, 0.15);\n",
              "      filter: drop-shadow(0px 1px 2px rgba(0, 0, 0, 0.3));\n",
              "      fill: #FFFFFF;\n",
              "    }\n",
              "  </style>\n",
              "\n",
              "    <script>\n",
              "      const buttonEl =\n",
              "        document.querySelector('#df-d8aa1221-2ad0-4093-82b1-a4a5f7dd5906 button.colab-df-convert');\n",
              "      buttonEl.style.display =\n",
              "        google.colab.kernel.accessAllowed ? 'block' : 'none';\n",
              "\n",
              "      async function convertToInteractive(key) {\n",
              "        const element = document.querySelector('#df-d8aa1221-2ad0-4093-82b1-a4a5f7dd5906');\n",
              "        const dataTable =\n",
              "          await google.colab.kernel.invokeFunction('convertToInteractive',\n",
              "                                                    [key], {});\n",
              "        if (!dataTable) return;\n",
              "\n",
              "        const docLinkHtml = 'Like what you see? Visit the ' +\n",
              "          '<a target=\"_blank\" href=https://colab.research.google.com/notebooks/data_table.ipynb>data table notebook</a>'\n",
              "          + ' to learn more about interactive tables.';\n",
              "        element.innerHTML = '';\n",
              "        dataTable['output_type'] = 'display_data';\n",
              "        await google.colab.output.renderOutput(dataTable, element);\n",
              "        const docLink = document.createElement('div');\n",
              "        docLink.innerHTML = docLinkHtml;\n",
              "        element.appendChild(docLink);\n",
              "      }\n",
              "    </script>\n",
              "  </div>\n",
              "\n",
              "\n",
              "<div id=\"df-dca7ecae-f1ab-47af-8487-03f971eb4872\">\n",
              "  <button class=\"colab-df-quickchart\" onclick=\"quickchart('df-dca7ecae-f1ab-47af-8487-03f971eb4872')\"\n",
              "            title=\"Suggest charts\"\n",
              "            style=\"display:none;\">\n",
              "\n",
              "<svg xmlns=\"http://www.w3.org/2000/svg\" height=\"24px\"viewBox=\"0 0 24 24\"\n",
              "     width=\"24px\">\n",
              "    <g>\n",
              "        <path d=\"M19 3H5c-1.1 0-2 .9-2 2v14c0 1.1.9 2 2 2h14c1.1 0 2-.9 2-2V5c0-1.1-.9-2-2-2zM9 17H7v-7h2v7zm4 0h-2V7h2v10zm4 0h-2v-4h2v4z\"/>\n",
              "    </g>\n",
              "</svg>\n",
              "  </button>\n",
              "\n",
              "<style>\n",
              "  .colab-df-quickchart {\n",
              "      --bg-color: #E8F0FE;\n",
              "      --fill-color: #1967D2;\n",
              "      --hover-bg-color: #E2EBFA;\n",
              "      --hover-fill-color: #174EA6;\n",
              "      --disabled-fill-color: #AAA;\n",
              "      --disabled-bg-color: #DDD;\n",
              "  }\n",
              "\n",
              "  [theme=dark] .colab-df-quickchart {\n",
              "      --bg-color: #3B4455;\n",
              "      --fill-color: #D2E3FC;\n",
              "      --hover-bg-color: #434B5C;\n",
              "      --hover-fill-color: #FFFFFF;\n",
              "      --disabled-bg-color: #3B4455;\n",
              "      --disabled-fill-color: #666;\n",
              "  }\n",
              "\n",
              "  .colab-df-quickchart {\n",
              "    background-color: var(--bg-color);\n",
              "    border: none;\n",
              "    border-radius: 50%;\n",
              "    cursor: pointer;\n",
              "    display: none;\n",
              "    fill: var(--fill-color);\n",
              "    height: 32px;\n",
              "    padding: 0;\n",
              "    width: 32px;\n",
              "  }\n",
              "\n",
              "  .colab-df-quickchart:hover {\n",
              "    background-color: var(--hover-bg-color);\n",
              "    box-shadow: 0 1px 2px rgba(60, 64, 67, 0.3), 0 1px 3px 1px rgba(60, 64, 67, 0.15);\n",
              "    fill: var(--button-hover-fill-color);\n",
              "  }\n",
              "\n",
              "  .colab-df-quickchart-complete:disabled,\n",
              "  .colab-df-quickchart-complete:disabled:hover {\n",
              "    background-color: var(--disabled-bg-color);\n",
              "    fill: var(--disabled-fill-color);\n",
              "    box-shadow: none;\n",
              "  }\n",
              "\n",
              "  .colab-df-spinner {\n",
              "    border: 2px solid var(--fill-color);\n",
              "    border-color: transparent;\n",
              "    border-bottom-color: var(--fill-color);\n",
              "    animation:\n",
              "      spin 1s steps(1) infinite;\n",
              "  }\n",
              "\n",
              "  @keyframes spin {\n",
              "    0% {\n",
              "      border-color: transparent;\n",
              "      border-bottom-color: var(--fill-color);\n",
              "      border-left-color: var(--fill-color);\n",
              "    }\n",
              "    20% {\n",
              "      border-color: transparent;\n",
              "      border-left-color: var(--fill-color);\n",
              "      border-top-color: var(--fill-color);\n",
              "    }\n",
              "    30% {\n",
              "      border-color: transparent;\n",
              "      border-left-color: var(--fill-color);\n",
              "      border-top-color: var(--fill-color);\n",
              "      border-right-color: var(--fill-color);\n",
              "    }\n",
              "    40% {\n",
              "      border-color: transparent;\n",
              "      border-right-color: var(--fill-color);\n",
              "      border-top-color: var(--fill-color);\n",
              "    }\n",
              "    60% {\n",
              "      border-color: transparent;\n",
              "      border-right-color: var(--fill-color);\n",
              "    }\n",
              "    80% {\n",
              "      border-color: transparent;\n",
              "      border-right-color: var(--fill-color);\n",
              "      border-bottom-color: var(--fill-color);\n",
              "    }\n",
              "    90% {\n",
              "      border-color: transparent;\n",
              "      border-bottom-color: var(--fill-color);\n",
              "    }\n",
              "  }\n",
              "</style>\n",
              "\n",
              "  <script>\n",
              "    async function quickchart(key) {\n",
              "      const quickchartButtonEl =\n",
              "        document.querySelector('#' + key + ' button');\n",
              "      quickchartButtonEl.disabled = true;  // To prevent multiple clicks.\n",
              "      quickchartButtonEl.classList.add('colab-df-spinner');\n",
              "      try {\n",
              "        const charts = await google.colab.kernel.invokeFunction(\n",
              "            'suggestCharts', [key], {});\n",
              "      } catch (error) {\n",
              "        console.error('Error during call to suggestCharts:', error);\n",
              "      }\n",
              "      quickchartButtonEl.classList.remove('colab-df-spinner');\n",
              "      quickchartButtonEl.classList.add('colab-df-quickchart-complete');\n",
              "    }\n",
              "    (() => {\n",
              "      let quickchartButtonEl =\n",
              "        document.querySelector('#df-dca7ecae-f1ab-47af-8487-03f971eb4872 button');\n",
              "      quickchartButtonEl.style.display =\n",
              "        google.colab.kernel.accessAllowed ? 'block' : 'none';\n",
              "    })();\n",
              "  </script>\n",
              "</div>\n",
              "\n",
              "    </div>\n",
              "  </div>\n"
            ],
            "application/vnd.google.colaboratory.intrinsic+json": {
              "type": "dataframe",
              "variable_name": "x_test"
            }
          },
          "metadata": {},
          "execution_count": 4
        }
      ]
    },
    {
      "cell_type": "code",
      "source": [
        "y_test = pd.read_csv('/content/submission_examplePrepocesado.csv')\n",
        "y_test.drop(columns=['ID'], inplace=True)\n",
        "y_test.head()"
      ],
      "metadata": {
        "colab": {
          "base_uri": "https://localhost:8080/",
          "height": 226
        },
        "id": "g1AKe_bI6KU9",
        "outputId": "6d4188e1-b8de-4142-d842-bc7922df47f0"
      },
      "execution_count": null,
      "outputs": [
        {
          "output_type": "execute_result",
          "data": {
            "text/plain": [
              "   RENDIMIENTO_GLOBAL\n",
              "0            0.666667\n",
              "1            0.666667\n",
              "2            0.000000\n",
              "3            0.333333\n",
              "4            0.666667"
            ],
            "text/html": [
              "\n",
              "  <div id=\"df-e08e10d6-486f-429b-8260-b37dc6b53583\" class=\"colab-df-container\">\n",
              "    <div>\n",
              "<style scoped>\n",
              "    .dataframe tbody tr th:only-of-type {\n",
              "        vertical-align: middle;\n",
              "    }\n",
              "\n",
              "    .dataframe tbody tr th {\n",
              "        vertical-align: top;\n",
              "    }\n",
              "\n",
              "    .dataframe thead th {\n",
              "        text-align: right;\n",
              "    }\n",
              "</style>\n",
              "<table border=\"1\" class=\"dataframe\">\n",
              "  <thead>\n",
              "    <tr style=\"text-align: right;\">\n",
              "      <th></th>\n",
              "      <th>RENDIMIENTO_GLOBAL</th>\n",
              "    </tr>\n",
              "  </thead>\n",
              "  <tbody>\n",
              "    <tr>\n",
              "      <th>0</th>\n",
              "      <td>0.666667</td>\n",
              "    </tr>\n",
              "    <tr>\n",
              "      <th>1</th>\n",
              "      <td>0.666667</td>\n",
              "    </tr>\n",
              "    <tr>\n",
              "      <th>2</th>\n",
              "      <td>0.000000</td>\n",
              "    </tr>\n",
              "    <tr>\n",
              "      <th>3</th>\n",
              "      <td>0.333333</td>\n",
              "    </tr>\n",
              "    <tr>\n",
              "      <th>4</th>\n",
              "      <td>0.666667</td>\n",
              "    </tr>\n",
              "  </tbody>\n",
              "</table>\n",
              "</div>\n",
              "    <div class=\"colab-df-buttons\">\n",
              "\n",
              "  <div class=\"colab-df-container\">\n",
              "    <button class=\"colab-df-convert\" onclick=\"convertToInteractive('df-e08e10d6-486f-429b-8260-b37dc6b53583')\"\n",
              "            title=\"Convert this dataframe to an interactive table.\"\n",
              "            style=\"display:none;\">\n",
              "\n",
              "  <svg xmlns=\"http://www.w3.org/2000/svg\" height=\"24px\" viewBox=\"0 -960 960 960\">\n",
              "    <path d=\"M120-120v-720h720v720H120Zm60-500h600v-160H180v160Zm220 220h160v-160H400v160Zm0 220h160v-160H400v160ZM180-400h160v-160H180v160Zm440 0h160v-160H620v160ZM180-180h160v-160H180v160Zm440 0h160v-160H620v160Z\"/>\n",
              "  </svg>\n",
              "    </button>\n",
              "\n",
              "  <style>\n",
              "    .colab-df-container {\n",
              "      display:flex;\n",
              "      gap: 12px;\n",
              "    }\n",
              "\n",
              "    .colab-df-convert {\n",
              "      background-color: #E8F0FE;\n",
              "      border: none;\n",
              "      border-radius: 50%;\n",
              "      cursor: pointer;\n",
              "      display: none;\n",
              "      fill: #1967D2;\n",
              "      height: 32px;\n",
              "      padding: 0 0 0 0;\n",
              "      width: 32px;\n",
              "    }\n",
              "\n",
              "    .colab-df-convert:hover {\n",
              "      background-color: #E2EBFA;\n",
              "      box-shadow: 0px 1px 2px rgba(60, 64, 67, 0.3), 0px 1px 3px 1px rgba(60, 64, 67, 0.15);\n",
              "      fill: #174EA6;\n",
              "    }\n",
              "\n",
              "    .colab-df-buttons div {\n",
              "      margin-bottom: 4px;\n",
              "    }\n",
              "\n",
              "    [theme=dark] .colab-df-convert {\n",
              "      background-color: #3B4455;\n",
              "      fill: #D2E3FC;\n",
              "    }\n",
              "\n",
              "    [theme=dark] .colab-df-convert:hover {\n",
              "      background-color: #434B5C;\n",
              "      box-shadow: 0px 1px 3px 1px rgba(0, 0, 0, 0.15);\n",
              "      filter: drop-shadow(0px 1px 2px rgba(0, 0, 0, 0.3));\n",
              "      fill: #FFFFFF;\n",
              "    }\n",
              "  </style>\n",
              "\n",
              "    <script>\n",
              "      const buttonEl =\n",
              "        document.querySelector('#df-e08e10d6-486f-429b-8260-b37dc6b53583 button.colab-df-convert');\n",
              "      buttonEl.style.display =\n",
              "        google.colab.kernel.accessAllowed ? 'block' : 'none';\n",
              "\n",
              "      async function convertToInteractive(key) {\n",
              "        const element = document.querySelector('#df-e08e10d6-486f-429b-8260-b37dc6b53583');\n",
              "        const dataTable =\n",
              "          await google.colab.kernel.invokeFunction('convertToInteractive',\n",
              "                                                    [key], {});\n",
              "        if (!dataTable) return;\n",
              "\n",
              "        const docLinkHtml = 'Like what you see? Visit the ' +\n",
              "          '<a target=\"_blank\" href=https://colab.research.google.com/notebooks/data_table.ipynb>data table notebook</a>'\n",
              "          + ' to learn more about interactive tables.';\n",
              "        element.innerHTML = '';\n",
              "        dataTable['output_type'] = 'display_data';\n",
              "        await google.colab.output.renderOutput(dataTable, element);\n",
              "        const docLink = document.createElement('div');\n",
              "        docLink.innerHTML = docLinkHtml;\n",
              "        element.appendChild(docLink);\n",
              "      }\n",
              "    </script>\n",
              "  </div>\n",
              "\n",
              "\n",
              "<div id=\"df-ed2039a5-d74e-4109-ae65-a255c7a9d00a\">\n",
              "  <button class=\"colab-df-quickchart\" onclick=\"quickchart('df-ed2039a5-d74e-4109-ae65-a255c7a9d00a')\"\n",
              "            title=\"Suggest charts\"\n",
              "            style=\"display:none;\">\n",
              "\n",
              "<svg xmlns=\"http://www.w3.org/2000/svg\" height=\"24px\"viewBox=\"0 0 24 24\"\n",
              "     width=\"24px\">\n",
              "    <g>\n",
              "        <path d=\"M19 3H5c-1.1 0-2 .9-2 2v14c0 1.1.9 2 2 2h14c1.1 0 2-.9 2-2V5c0-1.1-.9-2-2-2zM9 17H7v-7h2v7zm4 0h-2V7h2v10zm4 0h-2v-4h2v4z\"/>\n",
              "    </g>\n",
              "</svg>\n",
              "  </button>\n",
              "\n",
              "<style>\n",
              "  .colab-df-quickchart {\n",
              "      --bg-color: #E8F0FE;\n",
              "      --fill-color: #1967D2;\n",
              "      --hover-bg-color: #E2EBFA;\n",
              "      --hover-fill-color: #174EA6;\n",
              "      --disabled-fill-color: #AAA;\n",
              "      --disabled-bg-color: #DDD;\n",
              "  }\n",
              "\n",
              "  [theme=dark] .colab-df-quickchart {\n",
              "      --bg-color: #3B4455;\n",
              "      --fill-color: #D2E3FC;\n",
              "      --hover-bg-color: #434B5C;\n",
              "      --hover-fill-color: #FFFFFF;\n",
              "      --disabled-bg-color: #3B4455;\n",
              "      --disabled-fill-color: #666;\n",
              "  }\n",
              "\n",
              "  .colab-df-quickchart {\n",
              "    background-color: var(--bg-color);\n",
              "    border: none;\n",
              "    border-radius: 50%;\n",
              "    cursor: pointer;\n",
              "    display: none;\n",
              "    fill: var(--fill-color);\n",
              "    height: 32px;\n",
              "    padding: 0;\n",
              "    width: 32px;\n",
              "  }\n",
              "\n",
              "  .colab-df-quickchart:hover {\n",
              "    background-color: var(--hover-bg-color);\n",
              "    box-shadow: 0 1px 2px rgba(60, 64, 67, 0.3), 0 1px 3px 1px rgba(60, 64, 67, 0.15);\n",
              "    fill: var(--button-hover-fill-color);\n",
              "  }\n",
              "\n",
              "  .colab-df-quickchart-complete:disabled,\n",
              "  .colab-df-quickchart-complete:disabled:hover {\n",
              "    background-color: var(--disabled-bg-color);\n",
              "    fill: var(--disabled-fill-color);\n",
              "    box-shadow: none;\n",
              "  }\n",
              "\n",
              "  .colab-df-spinner {\n",
              "    border: 2px solid var(--fill-color);\n",
              "    border-color: transparent;\n",
              "    border-bottom-color: var(--fill-color);\n",
              "    animation:\n",
              "      spin 1s steps(1) infinite;\n",
              "  }\n",
              "\n",
              "  @keyframes spin {\n",
              "    0% {\n",
              "      border-color: transparent;\n",
              "      border-bottom-color: var(--fill-color);\n",
              "      border-left-color: var(--fill-color);\n",
              "    }\n",
              "    20% {\n",
              "      border-color: transparent;\n",
              "      border-left-color: var(--fill-color);\n",
              "      border-top-color: var(--fill-color);\n",
              "    }\n",
              "    30% {\n",
              "      border-color: transparent;\n",
              "      border-left-color: var(--fill-color);\n",
              "      border-top-color: var(--fill-color);\n",
              "      border-right-color: var(--fill-color);\n",
              "    }\n",
              "    40% {\n",
              "      border-color: transparent;\n",
              "      border-right-color: var(--fill-color);\n",
              "      border-top-color: var(--fill-color);\n",
              "    }\n",
              "    60% {\n",
              "      border-color: transparent;\n",
              "      border-right-color: var(--fill-color);\n",
              "    }\n",
              "    80% {\n",
              "      border-color: transparent;\n",
              "      border-right-color: var(--fill-color);\n",
              "      border-bottom-color: var(--fill-color);\n",
              "    }\n",
              "    90% {\n",
              "      border-color: transparent;\n",
              "      border-bottom-color: var(--fill-color);\n",
              "    }\n",
              "  }\n",
              "</style>\n",
              "\n",
              "  <script>\n",
              "    async function quickchart(key) {\n",
              "      const quickchartButtonEl =\n",
              "        document.querySelector('#' + key + ' button');\n",
              "      quickchartButtonEl.disabled = true;  // To prevent multiple clicks.\n",
              "      quickchartButtonEl.classList.add('colab-df-spinner');\n",
              "      try {\n",
              "        const charts = await google.colab.kernel.invokeFunction(\n",
              "            'suggestCharts', [key], {});\n",
              "      } catch (error) {\n",
              "        console.error('Error during call to suggestCharts:', error);\n",
              "      }\n",
              "      quickchartButtonEl.classList.remove('colab-df-spinner');\n",
              "      quickchartButtonEl.classList.add('colab-df-quickchart-complete');\n",
              "    }\n",
              "    (() => {\n",
              "      let quickchartButtonEl =\n",
              "        document.querySelector('#df-ed2039a5-d74e-4109-ae65-a255c7a9d00a button');\n",
              "      quickchartButtonEl.style.display =\n",
              "        google.colab.kernel.accessAllowed ? 'block' : 'none';\n",
              "    })();\n",
              "  </script>\n",
              "</div>\n",
              "\n",
              "    </div>\n",
              "  </div>\n"
            ],
            "application/vnd.google.colaboratory.intrinsic+json": {
              "type": "dataframe",
              "variable_name": "y_test"
            }
          },
          "metadata": {},
          "execution_count": 5
        }
      ]
    },
    {
      "cell_type": "markdown",
      "source": [
        "#Sobremuestreo y modelo KNeighborsClassifier"
      ],
      "metadata": {
        "id": "7TEf90uj8NZ_"
      }
    },
    {
      "cell_type": "markdown",
      "source": [
        "Se importa las librerías responsable del modelo y desde el modelo hasta los preprocesamiento de los datos antes de incluirlos dentro del modelo."
      ],
      "metadata": {
        "id": "-eXTIqM3qYAS"
      }
    },
    {
      "cell_type": "code",
      "source": [
        "import pandas as pd\n",
        "from sklearn.model_selection import train_test_split\n",
        "from sklearn.neighbors import KNeighborsClassifier\n",
        "from sklearn.metrics import classification_report, accuracy_score\n",
        "from imblearn.over_sampling import SMOTE"
      ],
      "metadata": {
        "id": "54BQaVq4-Izi"
      },
      "execution_count": null,
      "outputs": []
    },
    {
      "cell_type": "markdown",
      "source": [
        "# Se usa los metodo de sobremuestreo (SMOTE) para emparejar equilibrar las clases o etiquetas del dataset con el fin de obtener un mayor conjunto de datos y equilibrados, aunque se presentar un sobreentrenamiento por este algoritmo."
      ],
      "metadata": {
        "id": "JmeVjx4BqdiH"
      }
    },
    {
      "cell_type": "code",
      "source": [
        "y_train = y_train.astype(str)\n",
        "y_test = y_test.astype(str)\n",
        "smote = SMOTE(random_state=42)\n",
        "x_train_resampled, y_train_resampled = smote.fit_resample(x_train, y_train)"
      ],
      "metadata": {
        "id": "JFjjZv-_6Odj"
      },
      "execution_count": null,
      "outputs": []
    },
    {
      "cell_type": "markdown",
      "source": [
        "Despues de entrenar el modelo, se ejecuta con los datos de prueba para verifica la validez de los anteriores procesos."
      ],
      "metadata": {
        "id": "jB3Ex8AgyytQ"
      }
    },
    {
      "cell_type": "code",
      "source": [
        "model = KNeighborsClassifier(n_neighbors=5)\n",
        "model.fit(x_train, y_train)"
      ],
      "metadata": {
        "colab": {
          "base_uri": "https://localhost:8080/",
          "height": 135
        },
        "id": "QISaAgt6NDuO",
        "outputId": "6e2f16c5-e7e0-4781-9070-129bd8f187a8"
      },
      "execution_count": null,
      "outputs": [
        {
          "output_type": "stream",
          "name": "stderr",
          "text": [
            "/usr/local/lib/python3.10/dist-packages/sklearn/neighbors/_classification.py:238: DataConversionWarning: A column-vector y was passed when a 1d array was expected. Please change the shape of y to (n_samples,), for example using ravel().\n",
            "  return self._fit(X, y)\n"
          ]
        },
        {
          "output_type": "execute_result",
          "data": {
            "text/plain": [
              "KNeighborsClassifier()"
            ],
            "text/html": [
              "<style>#sk-container-id-3 {\n",
              "  /* Definition of color scheme common for light and dark mode */\n",
              "  --sklearn-color-text: black;\n",
              "  --sklearn-color-line: gray;\n",
              "  /* Definition of color scheme for unfitted estimators */\n",
              "  --sklearn-color-unfitted-level-0: #fff5e6;\n",
              "  --sklearn-color-unfitted-level-1: #f6e4d2;\n",
              "  --sklearn-color-unfitted-level-2: #ffe0b3;\n",
              "  --sklearn-color-unfitted-level-3: chocolate;\n",
              "  /* Definition of color scheme for fitted estimators */\n",
              "  --sklearn-color-fitted-level-0: #f0f8ff;\n",
              "  --sklearn-color-fitted-level-1: #d4ebff;\n",
              "  --sklearn-color-fitted-level-2: #b3dbfd;\n",
              "  --sklearn-color-fitted-level-3: cornflowerblue;\n",
              "\n",
              "  /* Specific color for light theme */\n",
              "  --sklearn-color-text-on-default-background: var(--sg-text-color, var(--theme-code-foreground, var(--jp-content-font-color1, black)));\n",
              "  --sklearn-color-background: var(--sg-background-color, var(--theme-background, var(--jp-layout-color0, white)));\n",
              "  --sklearn-color-border-box: var(--sg-text-color, var(--theme-code-foreground, var(--jp-content-font-color1, black)));\n",
              "  --sklearn-color-icon: #696969;\n",
              "\n",
              "  @media (prefers-color-scheme: dark) {\n",
              "    /* Redefinition of color scheme for dark theme */\n",
              "    --sklearn-color-text-on-default-background: var(--sg-text-color, var(--theme-code-foreground, var(--jp-content-font-color1, white)));\n",
              "    --sklearn-color-background: var(--sg-background-color, var(--theme-background, var(--jp-layout-color0, #111)));\n",
              "    --sklearn-color-border-box: var(--sg-text-color, var(--theme-code-foreground, var(--jp-content-font-color1, white)));\n",
              "    --sklearn-color-icon: #878787;\n",
              "  }\n",
              "}\n",
              "\n",
              "#sk-container-id-3 {\n",
              "  color: var(--sklearn-color-text);\n",
              "}\n",
              "\n",
              "#sk-container-id-3 pre {\n",
              "  padding: 0;\n",
              "}\n",
              "\n",
              "#sk-container-id-3 input.sk-hidden--visually {\n",
              "  border: 0;\n",
              "  clip: rect(1px 1px 1px 1px);\n",
              "  clip: rect(1px, 1px, 1px, 1px);\n",
              "  height: 1px;\n",
              "  margin: -1px;\n",
              "  overflow: hidden;\n",
              "  padding: 0;\n",
              "  position: absolute;\n",
              "  width: 1px;\n",
              "}\n",
              "\n",
              "#sk-container-id-3 div.sk-dashed-wrapped {\n",
              "  border: 1px dashed var(--sklearn-color-line);\n",
              "  margin: 0 0.4em 0.5em 0.4em;\n",
              "  box-sizing: border-box;\n",
              "  padding-bottom: 0.4em;\n",
              "  background-color: var(--sklearn-color-background);\n",
              "}\n",
              "\n",
              "#sk-container-id-3 div.sk-container {\n",
              "  /* jupyter's `normalize.less` sets `[hidden] { display: none; }`\n",
              "     but bootstrap.min.css set `[hidden] { display: none !important; }`\n",
              "     so we also need the `!important` here to be able to override the\n",
              "     default hidden behavior on the sphinx rendered scikit-learn.org.\n",
              "     See: https://github.com/scikit-learn/scikit-learn/issues/21755 */\n",
              "  display: inline-block !important;\n",
              "  position: relative;\n",
              "}\n",
              "\n",
              "#sk-container-id-3 div.sk-text-repr-fallback {\n",
              "  display: none;\n",
              "}\n",
              "\n",
              "div.sk-parallel-item,\n",
              "div.sk-serial,\n",
              "div.sk-item {\n",
              "  /* draw centered vertical line to link estimators */\n",
              "  background-image: linear-gradient(var(--sklearn-color-text-on-default-background), var(--sklearn-color-text-on-default-background));\n",
              "  background-size: 2px 100%;\n",
              "  background-repeat: no-repeat;\n",
              "  background-position: center center;\n",
              "}\n",
              "\n",
              "/* Parallel-specific style estimator block */\n",
              "\n",
              "#sk-container-id-3 div.sk-parallel-item::after {\n",
              "  content: \"\";\n",
              "  width: 100%;\n",
              "  border-bottom: 2px solid var(--sklearn-color-text-on-default-background);\n",
              "  flex-grow: 1;\n",
              "}\n",
              "\n",
              "#sk-container-id-3 div.sk-parallel {\n",
              "  display: flex;\n",
              "  align-items: stretch;\n",
              "  justify-content: center;\n",
              "  background-color: var(--sklearn-color-background);\n",
              "  position: relative;\n",
              "}\n",
              "\n",
              "#sk-container-id-3 div.sk-parallel-item {\n",
              "  display: flex;\n",
              "  flex-direction: column;\n",
              "}\n",
              "\n",
              "#sk-container-id-3 div.sk-parallel-item:first-child::after {\n",
              "  align-self: flex-end;\n",
              "  width: 50%;\n",
              "}\n",
              "\n",
              "#sk-container-id-3 div.sk-parallel-item:last-child::after {\n",
              "  align-self: flex-start;\n",
              "  width: 50%;\n",
              "}\n",
              "\n",
              "#sk-container-id-3 div.sk-parallel-item:only-child::after {\n",
              "  width: 0;\n",
              "}\n",
              "\n",
              "/* Serial-specific style estimator block */\n",
              "\n",
              "#sk-container-id-3 div.sk-serial {\n",
              "  display: flex;\n",
              "  flex-direction: column;\n",
              "  align-items: center;\n",
              "  background-color: var(--sklearn-color-background);\n",
              "  padding-right: 1em;\n",
              "  padding-left: 1em;\n",
              "}\n",
              "\n",
              "\n",
              "/* Toggleable style: style used for estimator/Pipeline/ColumnTransformer box that is\n",
              "clickable and can be expanded/collapsed.\n",
              "- Pipeline and ColumnTransformer use this feature and define the default style\n",
              "- Estimators will overwrite some part of the style using the `sk-estimator` class\n",
              "*/\n",
              "\n",
              "/* Pipeline and ColumnTransformer style (default) */\n",
              "\n",
              "#sk-container-id-3 div.sk-toggleable {\n",
              "  /* Default theme specific background. It is overwritten whether we have a\n",
              "  specific estimator or a Pipeline/ColumnTransformer */\n",
              "  background-color: var(--sklearn-color-background);\n",
              "}\n",
              "\n",
              "/* Toggleable label */\n",
              "#sk-container-id-3 label.sk-toggleable__label {\n",
              "  cursor: pointer;\n",
              "  display: block;\n",
              "  width: 100%;\n",
              "  margin-bottom: 0;\n",
              "  padding: 0.5em;\n",
              "  box-sizing: border-box;\n",
              "  text-align: center;\n",
              "}\n",
              "\n",
              "#sk-container-id-3 label.sk-toggleable__label-arrow:before {\n",
              "  /* Arrow on the left of the label */\n",
              "  content: \"▸\";\n",
              "  float: left;\n",
              "  margin-right: 0.25em;\n",
              "  color: var(--sklearn-color-icon);\n",
              "}\n",
              "\n",
              "#sk-container-id-3 label.sk-toggleable__label-arrow:hover:before {\n",
              "  color: var(--sklearn-color-text);\n",
              "}\n",
              "\n",
              "/* Toggleable content - dropdown */\n",
              "\n",
              "#sk-container-id-3 div.sk-toggleable__content {\n",
              "  max-height: 0;\n",
              "  max-width: 0;\n",
              "  overflow: hidden;\n",
              "  text-align: left;\n",
              "  /* unfitted */\n",
              "  background-color: var(--sklearn-color-unfitted-level-0);\n",
              "}\n",
              "\n",
              "#sk-container-id-3 div.sk-toggleable__content.fitted {\n",
              "  /* fitted */\n",
              "  background-color: var(--sklearn-color-fitted-level-0);\n",
              "}\n",
              "\n",
              "#sk-container-id-3 div.sk-toggleable__content pre {\n",
              "  margin: 0.2em;\n",
              "  border-radius: 0.25em;\n",
              "  color: var(--sklearn-color-text);\n",
              "  /* unfitted */\n",
              "  background-color: var(--sklearn-color-unfitted-level-0);\n",
              "}\n",
              "\n",
              "#sk-container-id-3 div.sk-toggleable__content.fitted pre {\n",
              "  /* unfitted */\n",
              "  background-color: var(--sklearn-color-fitted-level-0);\n",
              "}\n",
              "\n",
              "#sk-container-id-3 input.sk-toggleable__control:checked~div.sk-toggleable__content {\n",
              "  /* Expand drop-down */\n",
              "  max-height: 200px;\n",
              "  max-width: 100%;\n",
              "  overflow: auto;\n",
              "}\n",
              "\n",
              "#sk-container-id-3 input.sk-toggleable__control:checked~label.sk-toggleable__label-arrow:before {\n",
              "  content: \"▾\";\n",
              "}\n",
              "\n",
              "/* Pipeline/ColumnTransformer-specific style */\n",
              "\n",
              "#sk-container-id-3 div.sk-label input.sk-toggleable__control:checked~label.sk-toggleable__label {\n",
              "  color: var(--sklearn-color-text);\n",
              "  background-color: var(--sklearn-color-unfitted-level-2);\n",
              "}\n",
              "\n",
              "#sk-container-id-3 div.sk-label.fitted input.sk-toggleable__control:checked~label.sk-toggleable__label {\n",
              "  background-color: var(--sklearn-color-fitted-level-2);\n",
              "}\n",
              "\n",
              "/* Estimator-specific style */\n",
              "\n",
              "/* Colorize estimator box */\n",
              "#sk-container-id-3 div.sk-estimator input.sk-toggleable__control:checked~label.sk-toggleable__label {\n",
              "  /* unfitted */\n",
              "  background-color: var(--sklearn-color-unfitted-level-2);\n",
              "}\n",
              "\n",
              "#sk-container-id-3 div.sk-estimator.fitted input.sk-toggleable__control:checked~label.sk-toggleable__label {\n",
              "  /* fitted */\n",
              "  background-color: var(--sklearn-color-fitted-level-2);\n",
              "}\n",
              "\n",
              "#sk-container-id-3 div.sk-label label.sk-toggleable__label,\n",
              "#sk-container-id-3 div.sk-label label {\n",
              "  /* The background is the default theme color */\n",
              "  color: var(--sklearn-color-text-on-default-background);\n",
              "}\n",
              "\n",
              "/* On hover, darken the color of the background */\n",
              "#sk-container-id-3 div.sk-label:hover label.sk-toggleable__label {\n",
              "  color: var(--sklearn-color-text);\n",
              "  background-color: var(--sklearn-color-unfitted-level-2);\n",
              "}\n",
              "\n",
              "/* Label box, darken color on hover, fitted */\n",
              "#sk-container-id-3 div.sk-label.fitted:hover label.sk-toggleable__label.fitted {\n",
              "  color: var(--sklearn-color-text);\n",
              "  background-color: var(--sklearn-color-fitted-level-2);\n",
              "}\n",
              "\n",
              "/* Estimator label */\n",
              "\n",
              "#sk-container-id-3 div.sk-label label {\n",
              "  font-family: monospace;\n",
              "  font-weight: bold;\n",
              "  display: inline-block;\n",
              "  line-height: 1.2em;\n",
              "}\n",
              "\n",
              "#sk-container-id-3 div.sk-label-container {\n",
              "  text-align: center;\n",
              "}\n",
              "\n",
              "/* Estimator-specific */\n",
              "#sk-container-id-3 div.sk-estimator {\n",
              "  font-family: monospace;\n",
              "  border: 1px dotted var(--sklearn-color-border-box);\n",
              "  border-radius: 0.25em;\n",
              "  box-sizing: border-box;\n",
              "  margin-bottom: 0.5em;\n",
              "  /* unfitted */\n",
              "  background-color: var(--sklearn-color-unfitted-level-0);\n",
              "}\n",
              "\n",
              "#sk-container-id-3 div.sk-estimator.fitted {\n",
              "  /* fitted */\n",
              "  background-color: var(--sklearn-color-fitted-level-0);\n",
              "}\n",
              "\n",
              "/* on hover */\n",
              "#sk-container-id-3 div.sk-estimator:hover {\n",
              "  /* unfitted */\n",
              "  background-color: var(--sklearn-color-unfitted-level-2);\n",
              "}\n",
              "\n",
              "#sk-container-id-3 div.sk-estimator.fitted:hover {\n",
              "  /* fitted */\n",
              "  background-color: var(--sklearn-color-fitted-level-2);\n",
              "}\n",
              "\n",
              "/* Specification for estimator info (e.g. \"i\" and \"?\") */\n",
              "\n",
              "/* Common style for \"i\" and \"?\" */\n",
              "\n",
              ".sk-estimator-doc-link,\n",
              "a:link.sk-estimator-doc-link,\n",
              "a:visited.sk-estimator-doc-link {\n",
              "  float: right;\n",
              "  font-size: smaller;\n",
              "  line-height: 1em;\n",
              "  font-family: monospace;\n",
              "  background-color: var(--sklearn-color-background);\n",
              "  border-radius: 1em;\n",
              "  height: 1em;\n",
              "  width: 1em;\n",
              "  text-decoration: none !important;\n",
              "  margin-left: 1ex;\n",
              "  /* unfitted */\n",
              "  border: var(--sklearn-color-unfitted-level-1) 1pt solid;\n",
              "  color: var(--sklearn-color-unfitted-level-1);\n",
              "}\n",
              "\n",
              ".sk-estimator-doc-link.fitted,\n",
              "a:link.sk-estimator-doc-link.fitted,\n",
              "a:visited.sk-estimator-doc-link.fitted {\n",
              "  /* fitted */\n",
              "  border: var(--sklearn-color-fitted-level-1) 1pt solid;\n",
              "  color: var(--sklearn-color-fitted-level-1);\n",
              "}\n",
              "\n",
              "/* On hover */\n",
              "div.sk-estimator:hover .sk-estimator-doc-link:hover,\n",
              ".sk-estimator-doc-link:hover,\n",
              "div.sk-label-container:hover .sk-estimator-doc-link:hover,\n",
              ".sk-estimator-doc-link:hover {\n",
              "  /* unfitted */\n",
              "  background-color: var(--sklearn-color-unfitted-level-3);\n",
              "  color: var(--sklearn-color-background);\n",
              "  text-decoration: none;\n",
              "}\n",
              "\n",
              "div.sk-estimator.fitted:hover .sk-estimator-doc-link.fitted:hover,\n",
              ".sk-estimator-doc-link.fitted:hover,\n",
              "div.sk-label-container:hover .sk-estimator-doc-link.fitted:hover,\n",
              ".sk-estimator-doc-link.fitted:hover {\n",
              "  /* fitted */\n",
              "  background-color: var(--sklearn-color-fitted-level-3);\n",
              "  color: var(--sklearn-color-background);\n",
              "  text-decoration: none;\n",
              "}\n",
              "\n",
              "/* Span, style for the box shown on hovering the info icon */\n",
              ".sk-estimator-doc-link span {\n",
              "  display: none;\n",
              "  z-index: 9999;\n",
              "  position: relative;\n",
              "  font-weight: normal;\n",
              "  right: .2ex;\n",
              "  padding: .5ex;\n",
              "  margin: .5ex;\n",
              "  width: min-content;\n",
              "  min-width: 20ex;\n",
              "  max-width: 50ex;\n",
              "  color: var(--sklearn-color-text);\n",
              "  box-shadow: 2pt 2pt 4pt #999;\n",
              "  /* unfitted */\n",
              "  background: var(--sklearn-color-unfitted-level-0);\n",
              "  border: .5pt solid var(--sklearn-color-unfitted-level-3);\n",
              "}\n",
              "\n",
              ".sk-estimator-doc-link.fitted span {\n",
              "  /* fitted */\n",
              "  background: var(--sklearn-color-fitted-level-0);\n",
              "  border: var(--sklearn-color-fitted-level-3);\n",
              "}\n",
              "\n",
              ".sk-estimator-doc-link:hover span {\n",
              "  display: block;\n",
              "}\n",
              "\n",
              "/* \"?\"-specific style due to the `<a>` HTML tag */\n",
              "\n",
              "#sk-container-id-3 a.estimator_doc_link {\n",
              "  float: right;\n",
              "  font-size: 1rem;\n",
              "  line-height: 1em;\n",
              "  font-family: monospace;\n",
              "  background-color: var(--sklearn-color-background);\n",
              "  border-radius: 1rem;\n",
              "  height: 1rem;\n",
              "  width: 1rem;\n",
              "  text-decoration: none;\n",
              "  /* unfitted */\n",
              "  color: var(--sklearn-color-unfitted-level-1);\n",
              "  border: var(--sklearn-color-unfitted-level-1) 1pt solid;\n",
              "}\n",
              "\n",
              "#sk-container-id-3 a.estimator_doc_link.fitted {\n",
              "  /* fitted */\n",
              "  border: var(--sklearn-color-fitted-level-1) 1pt solid;\n",
              "  color: var(--sklearn-color-fitted-level-1);\n",
              "}\n",
              "\n",
              "/* On hover */\n",
              "#sk-container-id-3 a.estimator_doc_link:hover {\n",
              "  /* unfitted */\n",
              "  background-color: var(--sklearn-color-unfitted-level-3);\n",
              "  color: var(--sklearn-color-background);\n",
              "  text-decoration: none;\n",
              "}\n",
              "\n",
              "#sk-container-id-3 a.estimator_doc_link.fitted:hover {\n",
              "  /* fitted */\n",
              "  background-color: var(--sklearn-color-fitted-level-3);\n",
              "}\n",
              "</style><div id=\"sk-container-id-3\" class=\"sk-top-container\"><div class=\"sk-text-repr-fallback\"><pre>KNeighborsClassifier()</pre><b>In a Jupyter environment, please rerun this cell to show the HTML representation or trust the notebook. <br />On GitHub, the HTML representation is unable to render, please try loading this page with nbviewer.org.</b></div><div class=\"sk-container\" hidden><div class=\"sk-item\"><div class=\"sk-estimator fitted sk-toggleable\"><input class=\"sk-toggleable__control sk-hidden--visually\" id=\"sk-estimator-id-3\" type=\"checkbox\" checked><label for=\"sk-estimator-id-3\" class=\"sk-toggleable__label fitted sk-toggleable__label-arrow fitted\">&nbsp;&nbsp;KNeighborsClassifier<a class=\"sk-estimator-doc-link fitted\" rel=\"noreferrer\" target=\"_blank\" href=\"https://scikit-learn.org/1.5/modules/generated/sklearn.neighbors.KNeighborsClassifier.html\">?<span>Documentation for KNeighborsClassifier</span></a><span class=\"sk-estimator-doc-link fitted\">i<span>Fitted</span></span></label><div class=\"sk-toggleable__content fitted\"><pre>KNeighborsClassifier()</pre></div> </div></div></div></div>"
            ]
          },
          "metadata": {},
          "execution_count": 18
        }
      ]
    },
    {
      "cell_type": "code",
      "source": [
        "y_pred = model.predict(x_test)\n",
        "accuracy = accuracy_score(y_test, y_pred)\n",
        "print(f\"Accuracy: {accuracy}\")"
      ],
      "metadata": {
        "colab": {
          "base_uri": "https://localhost:8080/"
        },
        "id": "kwrlduszHBxc",
        "outputId": "d9b8f768-4238-48b5-836a-50e29c9ff66c"
      },
      "execution_count": null,
      "outputs": [
        {
          "output_type": "stream",
          "name": "stdout",
          "text": [
            "Accuracy: 0.250385918513\n",
            "\n"
          ]
        }
      ]
    },
    {
      "cell_type": "markdown",
      "source": [
        "Se implementa una modificaion dentro de los datos de prediccion entregados por el algoritmo para que sea legibles para el cliente y la pagina Kaggle y así evitar problemas de lectura de datos."
      ],
      "metadata": {
        "id": "dXQ904fArPVO"
      }
    },
    {
      "cell_type": "code",
      "source": [
        "y_pred_df = pd.DataFrame(y_pred, columns=['RENDIMIENTO_GLOBAL'])\n",
        "mapa = {\n",
        "    '0.0': 'bajo',\n",
        "    '0.3333333333333333': 'medio-bajo',\n",
        "    '0.6666666666666666': 'medio-alto',\n",
        "    '1.0': 'alto'\n",
        "}\n",
        "y_pred_df['RENDIMIENTO_GLOBAL'] = y_pred_df['RENDIMIENTO_GLOBAL'].map(mapa)\n",
        "y_pred_df =  pd.concat([pd.read_csv('/content/submission_examplePrepocesado.csv')['ID'], y_pred_df], axis=1)\n",
        "y_pred_df.to_csv('sln.csv', index=False)"
      ],
      "metadata": {
        "id": "9lvtAHfMdtdg"
      },
      "execution_count": null,
      "outputs": []
    }
  ]
}